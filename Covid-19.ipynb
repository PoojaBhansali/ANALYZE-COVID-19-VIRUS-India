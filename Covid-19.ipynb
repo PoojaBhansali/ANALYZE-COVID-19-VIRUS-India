{
 "cells": [
  {
   "cell_type": "markdown",
   "metadata": {},
   "source": [
    "# ANALYZE COVID-19 VIRUS"
   ]
  },
  {
   "cell_type": "markdown",
   "metadata": {},
   "source": [
    "Covid-19 is 2019 Detected virus, spreading all over the world.\n",
    "Range of case fatality ratio estimates have been produced that differ substantially in magnitude.\n",
    "I aimed to provide robust estimates, accounting for censoring and ascertainment biases."
   ]
  },
  {
   "cell_type": "code",
   "execution_count": null,
   "metadata": {},
   "outputs": [],
   "source": [
    "import pandas as pd\n",
    "import numpy as np\n",
    "import datetime\n",
    "from datetime import date \n",
    "from datetime import timedelta \n",
    "from datetime import datetime, timedelta,date\n",
    "from plotly.offline import plot, iplot, init_notebook_mode\n",
    "init_notebook_mode(connected=True)\n",
    "import matplotlib.pyplot as plt\n",
    "import seaborn as sns\n",
    "import plotly.express as px\n",
    "import plotly.graph_objs as go\n",
    "import plotly.figure_factory as ff\n",
    "from plotly.subplots import make_subplots\n",
    "import calmap\n",
    "from pywaffle import Waffle\n",
    "# import folium\n",
    "# !pip install plotly_express\n",
    "# ! pip uninstall plotly\n",
    "# ! conda uninstall plotly\n",
    "# ! conda install -c plotly plotly\n",
    "# pip install calmap\n",
    "# pip install pywaffle"
   ]
  },
  {
   "cell_type": "markdown",
   "metadata": {},
   "source": [
    "The number of new cases are increasing day by day around the world.\n",
    "This dataset has information from the states and union territories of India at daily level.\n",
    "\n",
    "DATASETS\n",
    "\n",
    "COVID-19 cases at daily level is present in covid_19_india.csv file\n",
    "Individual level details are present in IndividualDetails.csv file and is obtained from this link\n",
    "Population at state level is present in population_india_census2011.csv file\n",
    "Number of COVID-19 tests at daily level in ICMRTestingDetails.csv file\n",
    "Number of hospital beds in each state in present in HospitalBedsIndia.csv file and is extracted from this link"
   ]
  },
  {
   "cell_type": "markdown",
   "metadata": {},
   "source": [
    "COVID-19 has infected more than 5,000 people in India.\n",
    "Local governments announces the information of COVID-19 quickly and transparently.\n",
    "I analyze and visualize the data using various data mining or visualization techniques.\n",
    "I also analyze to run model to chheck accuracy."
   ]
  },
  {
   "cell_type": "code",
   "execution_count": 88,
   "metadata": {},
   "outputs": [
    {
     "data": {
      "text/plain": [
       "(708, 9)"
      ]
     },
     "execution_count": 88,
     "metadata": {},
     "output_type": "execute_result"
    }
   ],
   "source": [
    "covid_19_india.shape"
   ]
  },
  {
   "cell_type": "code",
   "execution_count": 18,
   "metadata": {},
   "outputs": [],
   "source": [
    "Age_Group_Details = pd.read_csv('/Users/poojapatel/Downloads/covid19-in-india/AgeGroupDetails.csv')\n",
    "covid_19_india = pd.read_csv('/Users/poojapatel/Downloads/covid19-in-india/covid_19_india.csv')\n",
    "HospitalBedsIndia = pd.read_csv('/Users/poojapatel/Downloads/covid19-in-india/HospitalBedsIndia.csv')\n",
    "ICMRTestingDetails = pd.read_csv('/Users/poojapatel/Downloads/covid19-in-india/ICMRTestingDetails.csv')\n",
    "IndividualDetails = pd.read_csv('/Users/poojapatel/Downloads/covid19-in-india/IndividualDetails.csv')\n",
    "Population_india_census2011 = pd.read_csv('/Users/poojapatel/Downloads/covid19-in-india/Population_india_census2011.csv')"
   ]
  },
  {
   "cell_type": "code",
   "execution_count": 19,
   "metadata": {},
   "outputs": [
    {
     "data": {
      "text/html": [
       "<div>\n",
       "<style scoped>\n",
       "    .dataframe tbody tr th:only-of-type {\n",
       "        vertical-align: middle;\n",
       "    }\n",
       "\n",
       "    .dataframe tbody tr th {\n",
       "        vertical-align: top;\n",
       "    }\n",
       "\n",
       "    .dataframe thead th {\n",
       "        text-align: right;\n",
       "    }\n",
       "</style>\n",
       "<table border=\"1\" class=\"dataframe\">\n",
       "  <thead>\n",
       "    <tr style=\"text-align: right;\">\n",
       "      <th></th>\n",
       "      <th>Sno</th>\n",
       "      <th>State / Union Territory</th>\n",
       "      <th>Population</th>\n",
       "      <th>Rural population</th>\n",
       "      <th>Urban population</th>\n",
       "      <th>Area</th>\n",
       "      <th>Density</th>\n",
       "      <th>Gender Ratio</th>\n",
       "    </tr>\n",
       "  </thead>\n",
       "  <tbody>\n",
       "    <tr>\n",
       "      <th>0</th>\n",
       "      <td>1</td>\n",
       "      <td>Uttar Pradesh</td>\n",
       "      <td>199812341</td>\n",
       "      <td>155317278</td>\n",
       "      <td>44495063</td>\n",
       "      <td>240,928 km2 (93,023 sq mi)</td>\n",
       "      <td>828/km2 (2,140/sq mi)</td>\n",
       "      <td>912</td>\n",
       "    </tr>\n",
       "    <tr>\n",
       "      <th>1</th>\n",
       "      <td>2</td>\n",
       "      <td>Maharashtra</td>\n",
       "      <td>112374333</td>\n",
       "      <td>61556074</td>\n",
       "      <td>50818259</td>\n",
       "      <td>307,713 km2 (118,809 sq mi)</td>\n",
       "      <td>365/km2 (950/sq mi)</td>\n",
       "      <td>929</td>\n",
       "    </tr>\n",
       "    <tr>\n",
       "      <th>2</th>\n",
       "      <td>3</td>\n",
       "      <td>Bihar</td>\n",
       "      <td>104099452</td>\n",
       "      <td>92341436</td>\n",
       "      <td>11758016</td>\n",
       "      <td>94,163 km2 (36,357 sq mi)</td>\n",
       "      <td>1,102/km2 (2,850/sq mi)</td>\n",
       "      <td>918</td>\n",
       "    </tr>\n",
       "    <tr>\n",
       "      <th>3</th>\n",
       "      <td>4</td>\n",
       "      <td>West Bengal</td>\n",
       "      <td>91276115</td>\n",
       "      <td>62183113</td>\n",
       "      <td>29093002</td>\n",
       "      <td>88,752 km2 (34,267 sq mi)</td>\n",
       "      <td>1,029/km2 (2,670/sq mi)</td>\n",
       "      <td>953</td>\n",
       "    </tr>\n",
       "    <tr>\n",
       "      <th>4</th>\n",
       "      <td>5</td>\n",
       "      <td>Madhya Pradesh</td>\n",
       "      <td>72626809</td>\n",
       "      <td>52557404</td>\n",
       "      <td>20069405</td>\n",
       "      <td>308,245 km2 (119,014 sq mi)</td>\n",
       "      <td>236/km2 (610/sq mi)</td>\n",
       "      <td>931</td>\n",
       "    </tr>\n",
       "  </tbody>\n",
       "</table>\n",
       "</div>"
      ],
      "text/plain": [
       "   Sno State / Union Territory  Population  Rural population  \\\n",
       "0    1           Uttar Pradesh   199812341         155317278   \n",
       "1    2             Maharashtra   112374333          61556074   \n",
       "2    3                   Bihar   104099452          92341436   \n",
       "3    4             West Bengal    91276115          62183113   \n",
       "4    5          Madhya Pradesh    72626809          52557404   \n",
       "\n",
       "   Urban population                         Area                  Density  \\\n",
       "0          44495063   240,928 km2 (93,023 sq mi)    828/km2 (2,140/sq mi)   \n",
       "1          50818259  307,713 km2 (118,809 sq mi)      365/km2 (950/sq mi)   \n",
       "2          11758016    94,163 km2 (36,357 sq mi)  1,102/km2 (2,850/sq mi)   \n",
       "3          29093002    88,752 km2 (34,267 sq mi)  1,029/km2 (2,670/sq mi)   \n",
       "4          20069405  308,245 km2 (119,014 sq mi)      236/km2 (610/sq mi)   \n",
       "\n",
       "   Gender Ratio  \n",
       "0           912  \n",
       "1           929  \n",
       "2           918  \n",
       "3           953  \n",
       "4           931  "
      ]
     },
     "execution_count": 19,
     "metadata": {},
     "output_type": "execute_result"
    }
   ],
   "source": [
    "Population_india_census2011.head()"
   ]
  },
  {
   "cell_type": "markdown",
   "metadata": {},
   "source": [
    "I have visualized the data of Covid - 19 in from of tables, pie charts, tremaps, bar graphs etc.to give everyone in the country an idea about the coronavirus disease. "
   ]
  },
  {
   "cell_type": "code",
   "execution_count": 20,
   "metadata": {},
   "outputs": [
    {
     "data": {
      "text/html": [
       "<div>\n",
       "<style scoped>\n",
       "    .dataframe tbody tr th:only-of-type {\n",
       "        vertical-align: middle;\n",
       "    }\n",
       "\n",
       "    .dataframe tbody tr th {\n",
       "        vertical-align: top;\n",
       "    }\n",
       "\n",
       "    .dataframe thead th {\n",
       "        text-align: right;\n",
       "    }\n",
       "</style>\n",
       "<table border=\"1\" class=\"dataframe\">\n",
       "  <thead>\n",
       "    <tr style=\"text-align: right;\">\n",
       "      <th></th>\n",
       "      <th>Sno</th>\n",
       "      <th>AgeGroup</th>\n",
       "      <th>TotalCases</th>\n",
       "      <th>Percentage</th>\n",
       "    </tr>\n",
       "  </thead>\n",
       "  <tbody>\n",
       "    <tr>\n",
       "      <th>0</th>\n",
       "      <td>1</td>\n",
       "      <td>0-9</td>\n",
       "      <td>22</td>\n",
       "      <td>3.18%</td>\n",
       "    </tr>\n",
       "    <tr>\n",
       "      <th>1</th>\n",
       "      <td>2</td>\n",
       "      <td>10-19</td>\n",
       "      <td>27</td>\n",
       "      <td>3.90%</td>\n",
       "    </tr>\n",
       "  </tbody>\n",
       "</table>\n",
       "</div>"
      ],
      "text/plain": [
       "   Sno AgeGroup  TotalCases Percentage\n",
       "0    1      0-9          22      3.18%\n",
       "1    2    10-19          27      3.90%"
      ]
     },
     "execution_count": 20,
     "metadata": {},
     "output_type": "execute_result"
    }
   ],
   "source": [
    "Age_Group_Details.head(2)"
   ]
  },
  {
   "cell_type": "code",
   "execution_count": 21,
   "metadata": {},
   "outputs": [
    {
     "data": {
      "text/html": [
       "<div>\n",
       "<style scoped>\n",
       "    .dataframe tbody tr th:only-of-type {\n",
       "        vertical-align: middle;\n",
       "    }\n",
       "\n",
       "    .dataframe tbody tr th {\n",
       "        vertical-align: top;\n",
       "    }\n",
       "\n",
       "    .dataframe thead th {\n",
       "        text-align: right;\n",
       "    }\n",
       "</style>\n",
       "<table border=\"1\" class=\"dataframe\">\n",
       "  <thead>\n",
       "    <tr style=\"text-align: right;\">\n",
       "      <th></th>\n",
       "      <th>Sno</th>\n",
       "      <th>TotalCases</th>\n",
       "    </tr>\n",
       "    <tr>\n",
       "      <th>AgeGroup</th>\n",
       "      <th></th>\n",
       "      <th></th>\n",
       "    </tr>\n",
       "  </thead>\n",
       "  <tbody>\n",
       "    <tr>\n",
       "      <th>0-9</th>\n",
       "      <td>1</td>\n",
       "      <td>22</td>\n",
       "    </tr>\n",
       "    <tr>\n",
       "      <th>10-19</th>\n",
       "      <td>2</td>\n",
       "      <td>27</td>\n",
       "    </tr>\n",
       "    <tr>\n",
       "      <th>20-29</th>\n",
       "      <td>3</td>\n",
       "      <td>172</td>\n",
       "    </tr>\n",
       "    <tr>\n",
       "      <th>30-39</th>\n",
       "      <td>4</td>\n",
       "      <td>146</td>\n",
       "    </tr>\n",
       "    <tr>\n",
       "      <th>40-49</th>\n",
       "      <td>5</td>\n",
       "      <td>112</td>\n",
       "    </tr>\n",
       "    <tr>\n",
       "      <th>50-59</th>\n",
       "      <td>6</td>\n",
       "      <td>77</td>\n",
       "    </tr>\n",
       "    <tr>\n",
       "      <th>60-69</th>\n",
       "      <td>7</td>\n",
       "      <td>89</td>\n",
       "    </tr>\n",
       "    <tr>\n",
       "      <th>70-79</th>\n",
       "      <td>8</td>\n",
       "      <td>28</td>\n",
       "    </tr>\n",
       "    <tr>\n",
       "      <th>&gt;=80</th>\n",
       "      <td>9</td>\n",
       "      <td>10</td>\n",
       "    </tr>\n",
       "    <tr>\n",
       "      <th>Missing</th>\n",
       "      <td>10</td>\n",
       "      <td>9</td>\n",
       "    </tr>\n",
       "  </tbody>\n",
       "</table>\n",
       "</div>"
      ],
      "text/plain": [
       "          Sno  TotalCases\n",
       "AgeGroup                 \n",
       "0-9         1          22\n",
       "10-19       2          27\n",
       "20-29       3         172\n",
       "30-39       4         146\n",
       "40-49       5         112\n",
       "50-59       6          77\n",
       "60-69       7          89\n",
       "70-79       8          28\n",
       ">=80        9          10\n",
       "Missing    10           9"
      ]
     },
     "execution_count": 21,
     "metadata": {},
     "output_type": "execute_result"
    }
   ],
   "source": [
    "# Age_continents_cases = Age_Group_Details.groupby([\"AgeGroup\"]).sum()\n",
    "# Age_group_visual = pd.DataFrame(pd.to_numeric(Age_continents_cases.sum()),dtype=np.float64).transpose()\n",
    "Age_group_visual = Age_Group_Details.groupby([\"AgeGroup\"]).sum()\n",
    "Age_group_visual"
   ]
  },
  {
   "cell_type": "markdown",
   "metadata": {},
   "source": [
    "People of all ages can be infected by the new coronavirus (COVID-19). Poeple age of 20-29 and 30-39 are infected more with this virus. WHO advises people of all ages to take steps to protect themselves from the virus, for example by following good hand hygiene and good respiratory hygiene."
   ]
  },
  {
   "cell_type": "code",
   "execution_count": 22,
   "metadata": {},
   "outputs": [
    {
     "data": {
      "application/vnd.plotly.v1+json": {
       "config": {
        "plotlyServerURL": "https://plot.ly"
       },
       "data": [
        {
         "hovertemplate": "Case=TotalCases<br>AgeGroup=%{x}<br>Count=%{y}<extra></extra>",
         "legendgroup": "TotalCases",
         "marker": {
          "color": "#636efa",
          "symbol": "circle"
         },
         "mode": "markers",
         "name": "TotalCases",
         "showlegend": true,
         "type": "scatter",
         "x": [
          "0-9",
          "10-19",
          "20-29",
          "30-39",
          "40-49",
          "50-59",
          "60-69",
          "70-79",
          ">=80",
          "Missing"
         ],
         "xaxis": "x",
         "y": [
          22,
          27,
          172,
          146,
          112,
          77,
          89,
          28,
          10,
          9
         ],
         "yaxis": "y"
        },
        {
         "alignmentgroup": "True",
         "hovertemplate": "Case=TotalCases<br>AgeGroup=%{x}<extra></extra>",
         "legendgroup": "TotalCases",
         "marker": {
          "color": "#636efa",
          "symbol": "circle"
         },
         "name": "TotalCases",
         "notched": true,
         "offsetgroup": "TotalCases",
         "showlegend": false,
         "type": "box",
         "x": [
          "0-9",
          "10-19",
          "20-29",
          "30-39",
          "40-49",
          "50-59",
          "60-69",
          "70-79",
          ">=80",
          "Missing"
         ],
         "xaxis": "x3",
         "yaxis": "y3"
        },
        {
         "alignmentgroup": "True",
         "hovertemplate": "Case=TotalCases<br>Count=%{y}<extra></extra>",
         "legendgroup": "TotalCases",
         "marker": {
          "color": "#636efa",
          "symbol": "circle"
         },
         "name": "TotalCases",
         "offsetgroup": "TotalCases",
         "scalegroup": "y",
         "showlegend": false,
         "type": "violin",
         "xaxis": "x2",
         "y": [
          22,
          27,
          172,
          146,
          112,
          77,
          89,
          28,
          10,
          9
         ],
         "yaxis": "y2"
        }
       ],
       "layout": {
        "height": 600,
        "legend": {
         "title": {
          "text": "Case"
         },
         "tracegroupgap": 0
        },
        "template": {
         "data": {
          "bar": [
           {
            "error_x": {
             "color": "#2a3f5f"
            },
            "error_y": {
             "color": "#2a3f5f"
            },
            "marker": {
             "line": {
              "color": "#E5ECF6",
              "width": 0.5
             }
            },
            "type": "bar"
           }
          ],
          "barpolar": [
           {
            "marker": {
             "line": {
              "color": "#E5ECF6",
              "width": 0.5
             }
            },
            "type": "barpolar"
           }
          ],
          "carpet": [
           {
            "aaxis": {
             "endlinecolor": "#2a3f5f",
             "gridcolor": "white",
             "linecolor": "white",
             "minorgridcolor": "white",
             "startlinecolor": "#2a3f5f"
            },
            "baxis": {
             "endlinecolor": "#2a3f5f",
             "gridcolor": "white",
             "linecolor": "white",
             "minorgridcolor": "white",
             "startlinecolor": "#2a3f5f"
            },
            "type": "carpet"
           }
          ],
          "choropleth": [
           {
            "colorbar": {
             "outlinewidth": 0,
             "ticks": ""
            },
            "type": "choropleth"
           }
          ],
          "contour": [
           {
            "colorbar": {
             "outlinewidth": 0,
             "ticks": ""
            },
            "colorscale": [
             [
              0,
              "#0d0887"
             ],
             [
              0.1111111111111111,
              "#46039f"
             ],
             [
              0.2222222222222222,
              "#7201a8"
             ],
             [
              0.3333333333333333,
              "#9c179e"
             ],
             [
              0.4444444444444444,
              "#bd3786"
             ],
             [
              0.5555555555555556,
              "#d8576b"
             ],
             [
              0.6666666666666666,
              "#ed7953"
             ],
             [
              0.7777777777777778,
              "#fb9f3a"
             ],
             [
              0.8888888888888888,
              "#fdca26"
             ],
             [
              1,
              "#f0f921"
             ]
            ],
            "type": "contour"
           }
          ],
          "contourcarpet": [
           {
            "colorbar": {
             "outlinewidth": 0,
             "ticks": ""
            },
            "type": "contourcarpet"
           }
          ],
          "heatmap": [
           {
            "colorbar": {
             "outlinewidth": 0,
             "ticks": ""
            },
            "colorscale": [
             [
              0,
              "#0d0887"
             ],
             [
              0.1111111111111111,
              "#46039f"
             ],
             [
              0.2222222222222222,
              "#7201a8"
             ],
             [
              0.3333333333333333,
              "#9c179e"
             ],
             [
              0.4444444444444444,
              "#bd3786"
             ],
             [
              0.5555555555555556,
              "#d8576b"
             ],
             [
              0.6666666666666666,
              "#ed7953"
             ],
             [
              0.7777777777777778,
              "#fb9f3a"
             ],
             [
              0.8888888888888888,
              "#fdca26"
             ],
             [
              1,
              "#f0f921"
             ]
            ],
            "type": "heatmap"
           }
          ],
          "heatmapgl": [
           {
            "colorbar": {
             "outlinewidth": 0,
             "ticks": ""
            },
            "colorscale": [
             [
              0,
              "#0d0887"
             ],
             [
              0.1111111111111111,
              "#46039f"
             ],
             [
              0.2222222222222222,
              "#7201a8"
             ],
             [
              0.3333333333333333,
              "#9c179e"
             ],
             [
              0.4444444444444444,
              "#bd3786"
             ],
             [
              0.5555555555555556,
              "#d8576b"
             ],
             [
              0.6666666666666666,
              "#ed7953"
             ],
             [
              0.7777777777777778,
              "#fb9f3a"
             ],
             [
              0.8888888888888888,
              "#fdca26"
             ],
             [
              1,
              "#f0f921"
             ]
            ],
            "type": "heatmapgl"
           }
          ],
          "histogram": [
           {
            "marker": {
             "colorbar": {
              "outlinewidth": 0,
              "ticks": ""
             }
            },
            "type": "histogram"
           }
          ],
          "histogram2d": [
           {
            "colorbar": {
             "outlinewidth": 0,
             "ticks": ""
            },
            "colorscale": [
             [
              0,
              "#0d0887"
             ],
             [
              0.1111111111111111,
              "#46039f"
             ],
             [
              0.2222222222222222,
              "#7201a8"
             ],
             [
              0.3333333333333333,
              "#9c179e"
             ],
             [
              0.4444444444444444,
              "#bd3786"
             ],
             [
              0.5555555555555556,
              "#d8576b"
             ],
             [
              0.6666666666666666,
              "#ed7953"
             ],
             [
              0.7777777777777778,
              "#fb9f3a"
             ],
             [
              0.8888888888888888,
              "#fdca26"
             ],
             [
              1,
              "#f0f921"
             ]
            ],
            "type": "histogram2d"
           }
          ],
          "histogram2dcontour": [
           {
            "colorbar": {
             "outlinewidth": 0,
             "ticks": ""
            },
            "colorscale": [
             [
              0,
              "#0d0887"
             ],
             [
              0.1111111111111111,
              "#46039f"
             ],
             [
              0.2222222222222222,
              "#7201a8"
             ],
             [
              0.3333333333333333,
              "#9c179e"
             ],
             [
              0.4444444444444444,
              "#bd3786"
             ],
             [
              0.5555555555555556,
              "#d8576b"
             ],
             [
              0.6666666666666666,
              "#ed7953"
             ],
             [
              0.7777777777777778,
              "#fb9f3a"
             ],
             [
              0.8888888888888888,
              "#fdca26"
             ],
             [
              1,
              "#f0f921"
             ]
            ],
            "type": "histogram2dcontour"
           }
          ],
          "mesh3d": [
           {
            "colorbar": {
             "outlinewidth": 0,
             "ticks": ""
            },
            "type": "mesh3d"
           }
          ],
          "parcoords": [
           {
            "line": {
             "colorbar": {
              "outlinewidth": 0,
              "ticks": ""
             }
            },
            "type": "parcoords"
           }
          ],
          "pie": [
           {
            "automargin": true,
            "type": "pie"
           }
          ],
          "scatter": [
           {
            "marker": {
             "colorbar": {
              "outlinewidth": 0,
              "ticks": ""
             }
            },
            "type": "scatter"
           }
          ],
          "scatter3d": [
           {
            "line": {
             "colorbar": {
              "outlinewidth": 0,
              "ticks": ""
             }
            },
            "marker": {
             "colorbar": {
              "outlinewidth": 0,
              "ticks": ""
             }
            },
            "type": "scatter3d"
           }
          ],
          "scattercarpet": [
           {
            "marker": {
             "colorbar": {
              "outlinewidth": 0,
              "ticks": ""
             }
            },
            "type": "scattercarpet"
           }
          ],
          "scattergeo": [
           {
            "marker": {
             "colorbar": {
              "outlinewidth": 0,
              "ticks": ""
             }
            },
            "type": "scattergeo"
           }
          ],
          "scattergl": [
           {
            "marker": {
             "colorbar": {
              "outlinewidth": 0,
              "ticks": ""
             }
            },
            "type": "scattergl"
           }
          ],
          "scattermapbox": [
           {
            "marker": {
             "colorbar": {
              "outlinewidth": 0,
              "ticks": ""
             }
            },
            "type": "scattermapbox"
           }
          ],
          "scatterpolar": [
           {
            "marker": {
             "colorbar": {
              "outlinewidth": 0,
              "ticks": ""
             }
            },
            "type": "scatterpolar"
           }
          ],
          "scatterpolargl": [
           {
            "marker": {
             "colorbar": {
              "outlinewidth": 0,
              "ticks": ""
             }
            },
            "type": "scatterpolargl"
           }
          ],
          "scatterternary": [
           {
            "marker": {
             "colorbar": {
              "outlinewidth": 0,
              "ticks": ""
             }
            },
            "type": "scatterternary"
           }
          ],
          "surface": [
           {
            "colorbar": {
             "outlinewidth": 0,
             "ticks": ""
            },
            "colorscale": [
             [
              0,
              "#0d0887"
             ],
             [
              0.1111111111111111,
              "#46039f"
             ],
             [
              0.2222222222222222,
              "#7201a8"
             ],
             [
              0.3333333333333333,
              "#9c179e"
             ],
             [
              0.4444444444444444,
              "#bd3786"
             ],
             [
              0.5555555555555556,
              "#d8576b"
             ],
             [
              0.6666666666666666,
              "#ed7953"
             ],
             [
              0.7777777777777778,
              "#fb9f3a"
             ],
             [
              0.8888888888888888,
              "#fdca26"
             ],
             [
              1,
              "#f0f921"
             ]
            ],
            "type": "surface"
           }
          ],
          "table": [
           {
            "cells": {
             "fill": {
              "color": "#EBF0F8"
             },
             "line": {
              "color": "white"
             }
            },
            "header": {
             "fill": {
              "color": "#C8D4E3"
             },
             "line": {
              "color": "white"
             }
            },
            "type": "table"
           }
          ]
         },
         "layout": {
          "annotationdefaults": {
           "arrowcolor": "#2a3f5f",
           "arrowhead": 0,
           "arrowwidth": 1
          },
          "coloraxis": {
           "colorbar": {
            "outlinewidth": 0,
            "ticks": ""
           }
          },
          "colorscale": {
           "diverging": [
            [
             0,
             "#8e0152"
            ],
            [
             0.1,
             "#c51b7d"
            ],
            [
             0.2,
             "#de77ae"
            ],
            [
             0.3,
             "#f1b6da"
            ],
            [
             0.4,
             "#fde0ef"
            ],
            [
             0.5,
             "#f7f7f7"
            ],
            [
             0.6,
             "#e6f5d0"
            ],
            [
             0.7,
             "#b8e186"
            ],
            [
             0.8,
             "#7fbc41"
            ],
            [
             0.9,
             "#4d9221"
            ],
            [
             1,
             "#276419"
            ]
           ],
           "sequential": [
            [
             0,
             "#0d0887"
            ],
            [
             0.1111111111111111,
             "#46039f"
            ],
            [
             0.2222222222222222,
             "#7201a8"
            ],
            [
             0.3333333333333333,
             "#9c179e"
            ],
            [
             0.4444444444444444,
             "#bd3786"
            ],
            [
             0.5555555555555556,
             "#d8576b"
            ],
            [
             0.6666666666666666,
             "#ed7953"
            ],
            [
             0.7777777777777778,
             "#fb9f3a"
            ],
            [
             0.8888888888888888,
             "#fdca26"
            ],
            [
             1,
             "#f0f921"
            ]
           ],
           "sequentialminus": [
            [
             0,
             "#0d0887"
            ],
            [
             0.1111111111111111,
             "#46039f"
            ],
            [
             0.2222222222222222,
             "#7201a8"
            ],
            [
             0.3333333333333333,
             "#9c179e"
            ],
            [
             0.4444444444444444,
             "#bd3786"
            ],
            [
             0.5555555555555556,
             "#d8576b"
            ],
            [
             0.6666666666666666,
             "#ed7953"
            ],
            [
             0.7777777777777778,
             "#fb9f3a"
            ],
            [
             0.8888888888888888,
             "#fdca26"
            ],
            [
             1,
             "#f0f921"
            ]
           ]
          },
          "colorway": [
           "#636efa",
           "#EF553B",
           "#00cc96",
           "#ab63fa",
           "#FFA15A",
           "#19d3f3",
           "#FF6692",
           "#B6E880",
           "#FF97FF",
           "#FECB52"
          ],
          "font": {
           "color": "#2a3f5f"
          },
          "geo": {
           "bgcolor": "white",
           "lakecolor": "white",
           "landcolor": "#E5ECF6",
           "showlakes": true,
           "showland": true,
           "subunitcolor": "white"
          },
          "hoverlabel": {
           "align": "left"
          },
          "hovermode": "closest",
          "mapbox": {
           "style": "light"
          },
          "paper_bgcolor": "white",
          "plot_bgcolor": "#E5ECF6",
          "polar": {
           "angularaxis": {
            "gridcolor": "white",
            "linecolor": "white",
            "ticks": ""
           },
           "bgcolor": "#E5ECF6",
           "radialaxis": {
            "gridcolor": "white",
            "linecolor": "white",
            "ticks": ""
           }
          },
          "scene": {
           "xaxis": {
            "backgroundcolor": "#E5ECF6",
            "gridcolor": "white",
            "gridwidth": 2,
            "linecolor": "white",
            "showbackground": true,
            "ticks": "",
            "zerolinecolor": "white"
           },
           "yaxis": {
            "backgroundcolor": "#E5ECF6",
            "gridcolor": "white",
            "gridwidth": 2,
            "linecolor": "white",
            "showbackground": true,
            "ticks": "",
            "zerolinecolor": "white"
           },
           "zaxis": {
            "backgroundcolor": "#E5ECF6",
            "gridcolor": "white",
            "gridwidth": 2,
            "linecolor": "white",
            "showbackground": true,
            "ticks": "",
            "zerolinecolor": "white"
           }
          },
          "shapedefaults": {
           "line": {
            "color": "#2a3f5f"
           }
          },
          "ternary": {
           "aaxis": {
            "gridcolor": "white",
            "linecolor": "white",
            "ticks": ""
           },
           "baxis": {
            "gridcolor": "white",
            "linecolor": "white",
            "ticks": ""
           },
           "bgcolor": "#E5ECF6",
           "caxis": {
            "gridcolor": "white",
            "linecolor": "white",
            "ticks": ""
           }
          },
          "title": {
           "x": 0.05
          },
          "xaxis": {
           "automargin": true,
           "gridcolor": "white",
           "linecolor": "white",
           "ticks": "",
           "title": {
            "standoff": 15
           },
           "zerolinecolor": "white",
           "zerolinewidth": 2
          },
          "yaxis": {
           "automargin": true,
           "gridcolor": "white",
           "linecolor": "white",
           "ticks": "",
           "title": {
            "standoff": 15
           },
           "zerolinecolor": "white",
           "zerolinewidth": 2
          }
         }
        },
        "title": {
         "text": "Cases over time"
        },
        "xaxis": {
         "anchor": "y",
         "domain": [
          0,
          0.7363
         ],
         "title": {
          "text": "AgeGroup"
         }
        },
        "xaxis2": {
         "anchor": "y2",
         "domain": [
          0.7413,
          1
         ],
         "matches": "x2",
         "showgrid": false,
         "showline": false,
         "showticklabels": false,
         "ticks": ""
        },
        "xaxis3": {
         "anchor": "y3",
         "domain": [
          0,
          0.7363
         ],
         "matches": "x",
         "showgrid": true,
         "showticklabels": false
        },
        "xaxis4": {
         "anchor": "y4",
         "domain": [
          0.7413,
          1
         ],
         "matches": "x2",
         "showgrid": false,
         "showline": false,
         "showticklabels": false,
         "ticks": ""
        },
        "yaxis": {
         "anchor": "x",
         "domain": [
          0,
          0.7326
         ],
         "title": {
          "text": "Count"
         }
        },
        "yaxis2": {
         "anchor": "x2",
         "domain": [
          0,
          0.7326
         ],
         "matches": "y",
         "showgrid": true,
         "showticklabels": false
        },
        "yaxis3": {
         "anchor": "x3",
         "domain": [
          0.7426,
          1
         ],
         "matches": "y3",
         "showgrid": false,
         "showline": false,
         "showticklabels": false,
         "ticks": ""
        },
        "yaxis4": {
         "anchor": "x4",
         "domain": [
          0.7426,
          1
         ],
         "matches": "y3",
         "showgrid": true,
         "showline": false,
         "showticklabels": false,
         "ticks": ""
        }
       }
      },
      "text/html": [
       "<div>\n",
       "        \n",
       "        \n",
       "            <div id=\"6f7a362b-709d-4bf1-9fee-2ca07c63104f\" class=\"plotly-graph-div\" style=\"height:600px; width:100%;\"></div>\n",
       "            <script type=\"text/javascript\">\n",
       "                require([\"plotly\"], function(Plotly) {\n",
       "                    window.PLOTLYENV=window.PLOTLYENV || {};\n",
       "                    \n",
       "                if (document.getElementById(\"6f7a362b-709d-4bf1-9fee-2ca07c63104f\")) {\n",
       "                    Plotly.newPlot(\n",
       "                        '6f7a362b-709d-4bf1-9fee-2ca07c63104f',\n",
       "                        [{\"hovertemplate\": \"Case=TotalCases<br>AgeGroup=%{x}<br>Count=%{y}<extra></extra>\", \"legendgroup\": \"TotalCases\", \"marker\": {\"color\": \"#636efa\", \"symbol\": \"circle\"}, \"mode\": \"markers\", \"name\": \"TotalCases\", \"showlegend\": true, \"type\": \"scatter\", \"x\": [\"0-9\", \"10-19\", \"20-29\", \"30-39\", \"40-49\", \"50-59\", \"60-69\", \"70-79\", \">=80\", \"Missing\"], \"xaxis\": \"x\", \"y\": [22, 27, 172, 146, 112, 77, 89, 28, 10, 9], \"yaxis\": \"y\"}, {\"alignmentgroup\": \"True\", \"hovertemplate\": \"Case=TotalCases<br>AgeGroup=%{x}<extra></extra>\", \"legendgroup\": \"TotalCases\", \"marker\": {\"color\": \"#636efa\", \"symbol\": \"circle\"}, \"name\": \"TotalCases\", \"notched\": true, \"offsetgroup\": \"TotalCases\", \"showlegend\": false, \"type\": \"box\", \"x\": [\"0-9\", \"10-19\", \"20-29\", \"30-39\", \"40-49\", \"50-59\", \"60-69\", \"70-79\", \">=80\", \"Missing\"], \"xaxis\": \"x3\", \"yaxis\": \"y3\"}, {\"alignmentgroup\": \"True\", \"hovertemplate\": \"Case=TotalCases<br>Count=%{y}<extra></extra>\", \"legendgroup\": \"TotalCases\", \"marker\": {\"color\": \"#636efa\", \"symbol\": \"circle\"}, \"name\": \"TotalCases\", \"offsetgroup\": \"TotalCases\", \"scalegroup\": \"y\", \"showlegend\": false, \"type\": \"violin\", \"xaxis\": \"x2\", \"y\": [22, 27, 172, 146, 112, 77, 89, 28, 10, 9], \"yaxis\": \"y2\"}],\n",
       "                        {\"height\": 600, \"legend\": {\"title\": {\"text\": \"Case\"}, \"tracegroupgap\": 0}, \"template\": {\"data\": {\"bar\": [{\"error_x\": {\"color\": \"#2a3f5f\"}, \"error_y\": {\"color\": \"#2a3f5f\"}, \"marker\": {\"line\": {\"color\": \"#E5ECF6\", \"width\": 0.5}}, \"type\": \"bar\"}], \"barpolar\": [{\"marker\": {\"line\": {\"color\": \"#E5ECF6\", \"width\": 0.5}}, \"type\": \"barpolar\"}], \"carpet\": [{\"aaxis\": {\"endlinecolor\": \"#2a3f5f\", \"gridcolor\": \"white\", \"linecolor\": \"white\", \"minorgridcolor\": \"white\", \"startlinecolor\": \"#2a3f5f\"}, \"baxis\": {\"endlinecolor\": \"#2a3f5f\", \"gridcolor\": \"white\", \"linecolor\": \"white\", \"minorgridcolor\": \"white\", \"startlinecolor\": \"#2a3f5f\"}, \"type\": \"carpet\"}], \"choropleth\": [{\"colorbar\": {\"outlinewidth\": 0, \"ticks\": \"\"}, \"type\": \"choropleth\"}], \"contour\": [{\"colorbar\": {\"outlinewidth\": 0, \"ticks\": \"\"}, \"colorscale\": [[0.0, \"#0d0887\"], [0.1111111111111111, \"#46039f\"], [0.2222222222222222, \"#7201a8\"], [0.3333333333333333, \"#9c179e\"], [0.4444444444444444, \"#bd3786\"], [0.5555555555555556, \"#d8576b\"], [0.6666666666666666, \"#ed7953\"], [0.7777777777777778, \"#fb9f3a\"], [0.8888888888888888, \"#fdca26\"], [1.0, \"#f0f921\"]], \"type\": \"contour\"}], \"contourcarpet\": [{\"colorbar\": {\"outlinewidth\": 0, \"ticks\": \"\"}, \"type\": \"contourcarpet\"}], \"heatmap\": [{\"colorbar\": {\"outlinewidth\": 0, \"ticks\": \"\"}, \"colorscale\": [[0.0, \"#0d0887\"], [0.1111111111111111, \"#46039f\"], [0.2222222222222222, \"#7201a8\"], [0.3333333333333333, \"#9c179e\"], [0.4444444444444444, \"#bd3786\"], [0.5555555555555556, \"#d8576b\"], [0.6666666666666666, \"#ed7953\"], [0.7777777777777778, \"#fb9f3a\"], [0.8888888888888888, \"#fdca26\"], [1.0, \"#f0f921\"]], \"type\": \"heatmap\"}], \"heatmapgl\": [{\"colorbar\": {\"outlinewidth\": 0, \"ticks\": \"\"}, \"colorscale\": [[0.0, \"#0d0887\"], [0.1111111111111111, \"#46039f\"], [0.2222222222222222, \"#7201a8\"], [0.3333333333333333, \"#9c179e\"], [0.4444444444444444, \"#bd3786\"], [0.5555555555555556, \"#d8576b\"], [0.6666666666666666, \"#ed7953\"], [0.7777777777777778, \"#fb9f3a\"], [0.8888888888888888, \"#fdca26\"], [1.0, \"#f0f921\"]], \"type\": \"heatmapgl\"}], \"histogram\": [{\"marker\": {\"colorbar\": {\"outlinewidth\": 0, \"ticks\": \"\"}}, \"type\": \"histogram\"}], \"histogram2d\": [{\"colorbar\": {\"outlinewidth\": 0, \"ticks\": \"\"}, \"colorscale\": [[0.0, \"#0d0887\"], [0.1111111111111111, \"#46039f\"], [0.2222222222222222, \"#7201a8\"], [0.3333333333333333, \"#9c179e\"], [0.4444444444444444, \"#bd3786\"], [0.5555555555555556, \"#d8576b\"], [0.6666666666666666, \"#ed7953\"], [0.7777777777777778, \"#fb9f3a\"], [0.8888888888888888, \"#fdca26\"], [1.0, \"#f0f921\"]], \"type\": \"histogram2d\"}], \"histogram2dcontour\": [{\"colorbar\": {\"outlinewidth\": 0, \"ticks\": \"\"}, \"colorscale\": [[0.0, \"#0d0887\"], [0.1111111111111111, \"#46039f\"], [0.2222222222222222, \"#7201a8\"], [0.3333333333333333, \"#9c179e\"], [0.4444444444444444, \"#bd3786\"], [0.5555555555555556, \"#d8576b\"], [0.6666666666666666, \"#ed7953\"], [0.7777777777777778, \"#fb9f3a\"], [0.8888888888888888, \"#fdca26\"], [1.0, \"#f0f921\"]], \"type\": \"histogram2dcontour\"}], \"mesh3d\": [{\"colorbar\": {\"outlinewidth\": 0, \"ticks\": \"\"}, \"type\": \"mesh3d\"}], \"parcoords\": [{\"line\": {\"colorbar\": {\"outlinewidth\": 0, \"ticks\": \"\"}}, \"type\": \"parcoords\"}], \"pie\": [{\"automargin\": true, \"type\": \"pie\"}], \"scatter\": [{\"marker\": {\"colorbar\": {\"outlinewidth\": 0, \"ticks\": \"\"}}, \"type\": \"scatter\"}], \"scatter3d\": [{\"line\": {\"colorbar\": {\"outlinewidth\": 0, \"ticks\": \"\"}}, \"marker\": {\"colorbar\": {\"outlinewidth\": 0, \"ticks\": \"\"}}, \"type\": \"scatter3d\"}], \"scattercarpet\": [{\"marker\": {\"colorbar\": {\"outlinewidth\": 0, \"ticks\": \"\"}}, \"type\": \"scattercarpet\"}], \"scattergeo\": [{\"marker\": {\"colorbar\": {\"outlinewidth\": 0, \"ticks\": \"\"}}, \"type\": \"scattergeo\"}], \"scattergl\": [{\"marker\": {\"colorbar\": {\"outlinewidth\": 0, \"ticks\": \"\"}}, \"type\": \"scattergl\"}], \"scattermapbox\": [{\"marker\": {\"colorbar\": {\"outlinewidth\": 0, \"ticks\": \"\"}}, \"type\": \"scattermapbox\"}], \"scatterpolar\": [{\"marker\": {\"colorbar\": {\"outlinewidth\": 0, \"ticks\": \"\"}}, \"type\": \"scatterpolar\"}], \"scatterpolargl\": [{\"marker\": {\"colorbar\": {\"outlinewidth\": 0, \"ticks\": \"\"}}, \"type\": \"scatterpolargl\"}], \"scatterternary\": [{\"marker\": {\"colorbar\": {\"outlinewidth\": 0, \"ticks\": \"\"}}, \"type\": \"scatterternary\"}], \"surface\": [{\"colorbar\": {\"outlinewidth\": 0, \"ticks\": \"\"}, \"colorscale\": [[0.0, \"#0d0887\"], [0.1111111111111111, \"#46039f\"], [0.2222222222222222, \"#7201a8\"], [0.3333333333333333, \"#9c179e\"], [0.4444444444444444, \"#bd3786\"], [0.5555555555555556, \"#d8576b\"], [0.6666666666666666, \"#ed7953\"], [0.7777777777777778, \"#fb9f3a\"], [0.8888888888888888, \"#fdca26\"], [1.0, \"#f0f921\"]], \"type\": \"surface\"}], \"table\": [{\"cells\": {\"fill\": {\"color\": \"#EBF0F8\"}, \"line\": {\"color\": \"white\"}}, \"header\": {\"fill\": {\"color\": \"#C8D4E3\"}, \"line\": {\"color\": \"white\"}}, \"type\": \"table\"}]}, \"layout\": {\"annotationdefaults\": {\"arrowcolor\": \"#2a3f5f\", \"arrowhead\": 0, \"arrowwidth\": 1}, \"coloraxis\": {\"colorbar\": {\"outlinewidth\": 0, \"ticks\": \"\"}}, \"colorscale\": {\"diverging\": [[0, \"#8e0152\"], [0.1, \"#c51b7d\"], [0.2, \"#de77ae\"], [0.3, \"#f1b6da\"], [0.4, \"#fde0ef\"], [0.5, \"#f7f7f7\"], [0.6, \"#e6f5d0\"], [0.7, \"#b8e186\"], [0.8, \"#7fbc41\"], [0.9, \"#4d9221\"], [1, \"#276419\"]], \"sequential\": [[0.0, \"#0d0887\"], [0.1111111111111111, \"#46039f\"], [0.2222222222222222, \"#7201a8\"], [0.3333333333333333, \"#9c179e\"], [0.4444444444444444, \"#bd3786\"], [0.5555555555555556, \"#d8576b\"], [0.6666666666666666, \"#ed7953\"], [0.7777777777777778, \"#fb9f3a\"], [0.8888888888888888, \"#fdca26\"], [1.0, \"#f0f921\"]], \"sequentialminus\": [[0.0, \"#0d0887\"], [0.1111111111111111, \"#46039f\"], [0.2222222222222222, \"#7201a8\"], [0.3333333333333333, \"#9c179e\"], [0.4444444444444444, \"#bd3786\"], [0.5555555555555556, \"#d8576b\"], [0.6666666666666666, \"#ed7953\"], [0.7777777777777778, \"#fb9f3a\"], [0.8888888888888888, \"#fdca26\"], [1.0, \"#f0f921\"]]}, \"colorway\": [\"#636efa\", \"#EF553B\", \"#00cc96\", \"#ab63fa\", \"#FFA15A\", \"#19d3f3\", \"#FF6692\", \"#B6E880\", \"#FF97FF\", \"#FECB52\"], \"font\": {\"color\": \"#2a3f5f\"}, \"geo\": {\"bgcolor\": \"white\", \"lakecolor\": \"white\", \"landcolor\": \"#E5ECF6\", \"showlakes\": true, \"showland\": true, \"subunitcolor\": \"white\"}, \"hoverlabel\": {\"align\": \"left\"}, \"hovermode\": \"closest\", \"mapbox\": {\"style\": \"light\"}, \"paper_bgcolor\": \"white\", \"plot_bgcolor\": \"#E5ECF6\", \"polar\": {\"angularaxis\": {\"gridcolor\": \"white\", \"linecolor\": \"white\", \"ticks\": \"\"}, \"bgcolor\": \"#E5ECF6\", \"radialaxis\": {\"gridcolor\": \"white\", \"linecolor\": \"white\", \"ticks\": \"\"}}, \"scene\": {\"xaxis\": {\"backgroundcolor\": \"#E5ECF6\", \"gridcolor\": \"white\", \"gridwidth\": 2, \"linecolor\": \"white\", \"showbackground\": true, \"ticks\": \"\", \"zerolinecolor\": \"white\"}, \"yaxis\": {\"backgroundcolor\": \"#E5ECF6\", \"gridcolor\": \"white\", \"gridwidth\": 2, \"linecolor\": \"white\", \"showbackground\": true, \"ticks\": \"\", \"zerolinecolor\": \"white\"}, \"zaxis\": {\"backgroundcolor\": \"#E5ECF6\", \"gridcolor\": \"white\", \"gridwidth\": 2, \"linecolor\": \"white\", \"showbackground\": true, \"ticks\": \"\", \"zerolinecolor\": \"white\"}}, \"shapedefaults\": {\"line\": {\"color\": \"#2a3f5f\"}}, \"ternary\": {\"aaxis\": {\"gridcolor\": \"white\", \"linecolor\": \"white\", \"ticks\": \"\"}, \"baxis\": {\"gridcolor\": \"white\", \"linecolor\": \"white\", \"ticks\": \"\"}, \"bgcolor\": \"#E5ECF6\", \"caxis\": {\"gridcolor\": \"white\", \"linecolor\": \"white\", \"ticks\": \"\"}}, \"title\": {\"x\": 0.05}, \"xaxis\": {\"automargin\": true, \"gridcolor\": \"white\", \"linecolor\": \"white\", \"ticks\": \"\", \"title\": {\"standoff\": 15}, \"zerolinecolor\": \"white\", \"zerolinewidth\": 2}, \"yaxis\": {\"automargin\": true, \"gridcolor\": \"white\", \"linecolor\": \"white\", \"ticks\": \"\", \"title\": {\"standoff\": 15}, \"zerolinecolor\": \"white\", \"zerolinewidth\": 2}}}, \"title\": {\"text\": \"Cases over time\"}, \"xaxis\": {\"anchor\": \"y\", \"domain\": [0.0, 0.7363], \"title\": {\"text\": \"AgeGroup\"}}, \"xaxis2\": {\"anchor\": \"y2\", \"domain\": [0.7413, 1.0], \"matches\": \"x2\", \"showgrid\": false, \"showline\": false, \"showticklabels\": false, \"ticks\": \"\"}, \"xaxis3\": {\"anchor\": \"y3\", \"domain\": [0.0, 0.7363], \"matches\": \"x\", \"showgrid\": true, \"showticklabels\": false}, \"xaxis4\": {\"anchor\": \"y4\", \"domain\": [0.7413, 1.0], \"matches\": \"x2\", \"showgrid\": false, \"showline\": false, \"showticklabels\": false, \"ticks\": \"\"}, \"yaxis\": {\"anchor\": \"x\", \"domain\": [0.0, 0.7326], \"title\": {\"text\": \"Count\"}}, \"yaxis2\": {\"anchor\": \"x2\", \"domain\": [0.0, 0.7326], \"matches\": \"y\", \"showgrid\": true, \"showticklabels\": false}, \"yaxis3\": {\"anchor\": \"x3\", \"domain\": [0.7426, 1.0], \"matches\": \"y3\", \"showgrid\": false, \"showline\": false, \"showticklabels\": false, \"ticks\": \"\"}, \"yaxis4\": {\"anchor\": \"x4\", \"domain\": [0.7426, 1.0], \"matches\": \"y3\", \"showgrid\": true, \"showline\": false, \"showticklabels\": false, \"ticks\": \"\"}},\n",
       "                        {\"responsive\": true}\n",
       "                    ).then(function(){\n",
       "                            \n",
       "var gd = document.getElementById('6f7a362b-709d-4bf1-9fee-2ca07c63104f');\n",
       "var x = new MutationObserver(function (mutations, observer) {{\n",
       "        var display = window.getComputedStyle(gd).display;\n",
       "        if (!display || display === 'none') {{\n",
       "            console.log([gd, 'removed!']);\n",
       "            Plotly.purge(gd);\n",
       "            observer.disconnect();\n",
       "        }}\n",
       "}});\n",
       "\n",
       "// Listen for the removal of the full notebook cells\n",
       "var notebookContainer = gd.closest('#notebook-container');\n",
       "if (notebookContainer) {{\n",
       "    x.observe(notebookContainer, {childList: true});\n",
       "}}\n",
       "\n",
       "// Listen for the clearing of the current output cell\n",
       "var outputEl = gd.closest('.output');\n",
       "if (outputEl) {{\n",
       "    x.observe(outputEl, {childList: true});\n",
       "}}\n",
       "\n",
       "                        })\n",
       "                };\n",
       "                });\n",
       "            </script>\n",
       "        </div>"
      ]
     },
     "metadata": {},
     "output_type": "display_data"
    }
   ],
   "source": [
    "# Age_group = Age_Group_Details.groupby('AgeGroup')['TotalCases'].sum().reset_index()\n",
    "Age_group = Age_Group_Details.melt(id_vars=\"AgeGroup\", value_vars=['TotalCases'],\n",
    "                 var_name='Case', value_name='Count')\n",
    "\n",
    "fig = px.scatter(Age_group, x=\"AgeGroup\", y=\"Count\", color='Case', height=600,\n",
    "             title='Cases over time', marginal_y=\"violin\",marginal_x=\"box\")\n",
    "# fig.update_layout(xaxis_rangeslider_visible=True)\n",
    "fig.show()\n",
    "# import plotly.express as px\n",
    "# print(px.data.iris.__doc__)\n",
    "# px.data.iris().head()"
   ]
  },
  {
   "cell_type": "markdown",
   "metadata": {},
   "source": [
    "# Total Cases of Corona Virus are age of 20-29, 30-39 respectively."
   ]
  },
  {
   "cell_type": "code",
   "execution_count": 23,
   "metadata": {},
   "outputs": [
    {
     "data": {
      "text/html": [
       "<div>\n",
       "<style scoped>\n",
       "    .dataframe tbody tr th:only-of-type {\n",
       "        vertical-align: middle;\n",
       "    }\n",
       "\n",
       "    .dataframe tbody tr th {\n",
       "        vertical-align: top;\n",
       "    }\n",
       "\n",
       "    .dataframe thead th {\n",
       "        text-align: right;\n",
       "    }\n",
       "</style>\n",
       "<table border=\"1\" class=\"dataframe\">\n",
       "  <thead>\n",
       "    <tr style=\"text-align: right;\">\n",
       "      <th></th>\n",
       "      <th>Sno</th>\n",
       "      <th>Date</th>\n",
       "      <th>Time</th>\n",
       "      <th>State/UnionTerritory</th>\n",
       "      <th>ConfirmedIndianNational</th>\n",
       "      <th>ConfirmedForeignNational</th>\n",
       "      <th>Cured</th>\n",
       "      <th>Deaths</th>\n",
       "      <th>Confirmed</th>\n",
       "      <th>date</th>\n",
       "    </tr>\n",
       "  </thead>\n",
       "  <tbody>\n",
       "    <tr>\n",
       "      <th>0</th>\n",
       "      <td>1</td>\n",
       "      <td>30/01/20</td>\n",
       "      <td>6:00 PM</td>\n",
       "      <td>Kerala</td>\n",
       "      <td>1</td>\n",
       "      <td>0</td>\n",
       "      <td>0</td>\n",
       "      <td>0</td>\n",
       "      <td>1</td>\n",
       "      <td>2020-01-30</td>\n",
       "    </tr>\n",
       "    <tr>\n",
       "      <th>1</th>\n",
       "      <td>2</td>\n",
       "      <td>31/01/20</td>\n",
       "      <td>6:00 PM</td>\n",
       "      <td>Kerala</td>\n",
       "      <td>1</td>\n",
       "      <td>0</td>\n",
       "      <td>0</td>\n",
       "      <td>0</td>\n",
       "      <td>1</td>\n",
       "      <td>2020-01-31</td>\n",
       "    </tr>\n",
       "  </tbody>\n",
       "</table>\n",
       "</div>"
      ],
      "text/plain": [
       "   Sno      Date     Time State/UnionTerritory ConfirmedIndianNational  \\\n",
       "0    1  30/01/20  6:00 PM               Kerala                       1   \n",
       "1    2  31/01/20  6:00 PM               Kerala                       1   \n",
       "\n",
       "  ConfirmedForeignNational  Cured  Deaths  Confirmed       date  \n",
       "0                        0      0       0          1 2020-01-30  \n",
       "1                        0      0       0          1 2020-01-31  "
      ]
     },
     "execution_count": 23,
     "metadata": {},
     "output_type": "execute_result"
    }
   ],
   "source": [
    "covid_19_india.head(200)\n",
    "covid_19_india['date'] = pd.to_datetime(covid_19_india['Date'], errors='coerce')\n",
    "covid_19_india.head(2)"
   ]
  },
  {
   "cell_type": "markdown",
   "metadata": {},
   "source": [
    "Kerala: First state to get a case Maharashtra, Tamil Nadu, Delhi: Top-3 states with most cases found in India"
   ]
  },
  {
   "cell_type": "code",
   "execution_count": 13,
   "metadata": {},
   "outputs": [],
   "source": [
    "# df = pd.read_csv('/Users/poojapatel/Downloads/covid19-in-india/covid_19_india.csv', parse_dates=['Date'])\n",
    "# df['date'] = pd.to_datetime(df['Date'], errors='coerce')\n",
    "# df['dates'] = df.Date.apply(lambda x: x.strftime('%m-%d-%Y'))\n",
    "# df.set_index('date', inplace=True)\n",
    "# df.drop(['Date'], axis =1)\n",
    "# # df1 = df.groupby([\"dates\"]).sum()\n",
    "# plt.figure(figsize=(16,10), dpi= 80)\n",
    "# calmap.calendarplot(df['2020']['Confirmed'], fig_kws={'figsize': (16,10)}, yearlabel_kws={'color':'black', 'fontsize':14}, subplot_kws={'title':'Yahoo Stock Prices'})\n",
    "# plt.show()\n",
    "\n",
    "\n",
    "# fig = px.choropleth(covid_19_india, locations=\"State/UnionTerritory\",\n",
    "#                     color=\"Deaths\", hover_name=\"Date\", title='Confirmed Cases', \n",
    "#                     color_continuous_scale=\"Sunset\")\n",
    "# fig.update(layout_coloraxis_showscale=False)\n",
    "# fig.show()"
   ]
  },
  {
   "cell_type": "code",
   "execution_count": 24,
   "metadata": {},
   "outputs": [
    {
     "data": {
      "text/html": [
       "<div>\n",
       "<style scoped>\n",
       "    .dataframe tbody tr th:only-of-type {\n",
       "        vertical-align: middle;\n",
       "    }\n",
       "\n",
       "    .dataframe tbody tr th {\n",
       "        vertical-align: top;\n",
       "    }\n",
       "\n",
       "    .dataframe thead th {\n",
       "        text-align: right;\n",
       "    }\n",
       "</style>\n",
       "<table border=\"1\" class=\"dataframe\">\n",
       "  <thead>\n",
       "    <tr style=\"text-align: right;\">\n",
       "      <th></th>\n",
       "      <th>Sno</th>\n",
       "      <th>Cured</th>\n",
       "      <th>Deaths</th>\n",
       "      <th>Confirmed</th>\n",
       "    </tr>\n",
       "    <tr>\n",
       "      <th>State/UnionTerritory</th>\n",
       "      <th></th>\n",
       "      <th></th>\n",
       "      <th></th>\n",
       "      <th></th>\n",
       "    </tr>\n",
       "  </thead>\n",
       "  <tbody>\n",
       "    <tr>\n",
       "      <th>Andaman and Nicobar Islands</th>\n",
       "      <td>6236</td>\n",
       "      <td>0</td>\n",
       "      <td>0</td>\n",
       "      <td>96</td>\n",
       "    </tr>\n",
       "    <tr>\n",
       "      <th>Andhra Pradesh</th>\n",
       "      <td>9227</td>\n",
       "      <td>13</td>\n",
       "      <td>7</td>\n",
       "      <td>1041</td>\n",
       "    </tr>\n",
       "  </tbody>\n",
       "</table>\n",
       "</div>"
      ],
      "text/plain": [
       "                              Sno  Cured  Deaths  Confirmed\n",
       "State/UnionTerritory                                       \n",
       "Andaman and Nicobar Islands  6236      0       0         96\n",
       "Andhra Pradesh               9227     13       7       1041"
      ]
     },
     "execution_count": 24,
     "metadata": {},
     "output_type": "execute_result"
    }
   ],
   "source": [
    "covid_19_india_state = covid_19_india.groupby([\"State/UnionTerritory\"]).sum()\n",
    "covid_19_india_state.head(2)"
   ]
  },
  {
   "cell_type": "code",
   "execution_count": 109,
   "metadata": {},
   "outputs": [
    {
     "data": {
      "text/html": [
       "<div>\n",
       "<style scoped>\n",
       "    .dataframe tbody tr th:only-of-type {\n",
       "        vertical-align: middle;\n",
       "    }\n",
       "\n",
       "    .dataframe tbody tr th {\n",
       "        vertical-align: top;\n",
       "    }\n",
       "\n",
       "    .dataframe thead th {\n",
       "        text-align: right;\n",
       "    }\n",
       "</style>\n",
       "<table border=\"1\" class=\"dataframe\">\n",
       "  <thead>\n",
       "    <tr style=\"text-align: right;\">\n",
       "      <th></th>\n",
       "      <th>Sno</th>\n",
       "      <th>Date</th>\n",
       "      <th>Time</th>\n",
       "      <th>State/UnionTerritory</th>\n",
       "      <th>ConfirmedIndianNational</th>\n",
       "      <th>ConfirmedForeignNational</th>\n",
       "      <th>Cured</th>\n",
       "      <th>Deaths</th>\n",
       "      <th>Confirmed</th>\n",
       "    </tr>\n",
       "  </thead>\n",
       "  <tbody>\n",
       "    <tr>\n",
       "      <th>0</th>\n",
       "      <td>1</td>\n",
       "      <td>30/01/20</td>\n",
       "      <td>6:00 PM</td>\n",
       "      <td>Kerala</td>\n",
       "      <td>1</td>\n",
       "      <td>0</td>\n",
       "      <td>0</td>\n",
       "      <td>0</td>\n",
       "      <td>1</td>\n",
       "    </tr>\n",
       "    <tr>\n",
       "      <th>1</th>\n",
       "      <td>2</td>\n",
       "      <td>31/01/20</td>\n",
       "      <td>6:00 PM</td>\n",
       "      <td>Kerala</td>\n",
       "      <td>1</td>\n",
       "      <td>0</td>\n",
       "      <td>0</td>\n",
       "      <td>0</td>\n",
       "      <td>1</td>\n",
       "    </tr>\n",
       "    <tr>\n",
       "      <th>2</th>\n",
       "      <td>3</td>\n",
       "      <td>01/02/20</td>\n",
       "      <td>6:00 PM</td>\n",
       "      <td>Kerala</td>\n",
       "      <td>2</td>\n",
       "      <td>0</td>\n",
       "      <td>0</td>\n",
       "      <td>0</td>\n",
       "      <td>2</td>\n",
       "    </tr>\n",
       "    <tr>\n",
       "      <th>3</th>\n",
       "      <td>4</td>\n",
       "      <td>02/02/20</td>\n",
       "      <td>6:00 PM</td>\n",
       "      <td>Kerala</td>\n",
       "      <td>3</td>\n",
       "      <td>0</td>\n",
       "      <td>0</td>\n",
       "      <td>0</td>\n",
       "      <td>3</td>\n",
       "    </tr>\n",
       "    <tr>\n",
       "      <th>4</th>\n",
       "      <td>5</td>\n",
       "      <td>03/02/20</td>\n",
       "      <td>6:00 PM</td>\n",
       "      <td>Kerala</td>\n",
       "      <td>3</td>\n",
       "      <td>0</td>\n",
       "      <td>0</td>\n",
       "      <td>0</td>\n",
       "      <td>3</td>\n",
       "    </tr>\n",
       "  </tbody>\n",
       "</table>\n",
       "</div>"
      ],
      "text/plain": [
       "   Sno      Date     Time State/UnionTerritory ConfirmedIndianNational  \\\n",
       "0    1  30/01/20  6:00 PM               Kerala                       1   \n",
       "1    2  31/01/20  6:00 PM               Kerala                       1   \n",
       "2    3  01/02/20  6:00 PM               Kerala                       2   \n",
       "3    4  02/02/20  6:00 PM               Kerala                       3   \n",
       "4    5  03/02/20  6:00 PM               Kerala                       3   \n",
       "\n",
       "  ConfirmedForeignNational  Cured  Deaths  Confirmed  \n",
       "0                        0      0       0          1  \n",
       "1                        0      0       0          1  \n",
       "2                        0      0       0          2  \n",
       "3                        0      0       0          3  \n",
       "4                        0      0       0          3  "
      ]
     },
     "execution_count": 109,
     "metadata": {},
     "output_type": "execute_result"
    }
   ],
   "source": [
    "covid_19_india.head()"
   ]
  },
  {
   "cell_type": "code",
   "execution_count": 25,
   "metadata": {},
   "outputs": [
    {
     "data": {
      "text/html": [
       "<style  type=\"text/css\" >\n",
       "    #T_4cbc9a8c_7aa0_11ea_b930_acbc32877967row0_col0 {\n",
       "            background-color:  #67000d;\n",
       "            color:  #f1f1f1;\n",
       "        }    #T_4cbc9a8c_7aa0_11ea_b930_acbc32877967row0_col1 {\n",
       "            background-color:  #fff5f0;\n",
       "            color:  #000000;\n",
       "        }    #T_4cbc9a8c_7aa0_11ea_b930_acbc32877967row0_col2 {\n",
       "            background-color:  #fee1d3;\n",
       "            color:  #000000;\n",
       "        }    #T_4cbc9a8c_7aa0_11ea_b930_acbc32877967row1_col0 {\n",
       "            background-color:  #fff5f0;\n",
       "            color:  #000000;\n",
       "        }    #T_4cbc9a8c_7aa0_11ea_b930_acbc32877967row1_col1 {\n",
       "            background-color:  #67000d;\n",
       "            color:  #f1f1f1;\n",
       "        }    #T_4cbc9a8c_7aa0_11ea_b930_acbc32877967row1_col2 {\n",
       "            background-color:  #fff5f0;\n",
       "            color:  #000000;\n",
       "        }    #T_4cbc9a8c_7aa0_11ea_b930_acbc32877967row2_col0 {\n",
       "            background-color:  #fc997a;\n",
       "            color:  #000000;\n",
       "        }    #T_4cbc9a8c_7aa0_11ea_b930_acbc32877967row2_col1 {\n",
       "            background-color:  #fcb79c;\n",
       "            color:  #000000;\n",
       "        }    #T_4cbc9a8c_7aa0_11ea_b930_acbc32877967row2_col2 {\n",
       "            background-color:  #67000d;\n",
       "            color:  #f1f1f1;\n",
       "        }</style><table id=\"T_4cbc9a8c_7aa0_11ea_b930_acbc32877967\" ><thead>    <tr>        <th class=\"blank level0\" ></th>        <th class=\"col_heading level0 col0\" >Cured</th>        <th class=\"col_heading level0 col1\" >Deaths</th>        <th class=\"col_heading level0 col2\" >Confirmed</th>    </tr></thead><tbody>\n",
       "                <tr>\n",
       "                        <th id=\"T_4cbc9a8c_7aa0_11ea_b930_acbc32877967level0_row0\" class=\"row_heading level0 row0\" >Cured</th>\n",
       "                        <td id=\"T_4cbc9a8c_7aa0_11ea_b930_acbc32877967row0_col0\" class=\"data row0 col0\" >1</td>\n",
       "                        <td id=\"T_4cbc9a8c_7aa0_11ea_b930_acbc32877967row0_col1\" class=\"data row0 col1\" >0.603154</td>\n",
       "                        <td id=\"T_4cbc9a8c_7aa0_11ea_b930_acbc32877967row0_col2\" class=\"data row0 col2\" >0.74303</td>\n",
       "            </tr>\n",
       "            <tr>\n",
       "                        <th id=\"T_4cbc9a8c_7aa0_11ea_b930_acbc32877967level0_row1\" class=\"row_heading level0 row1\" >Deaths</th>\n",
       "                        <td id=\"T_4cbc9a8c_7aa0_11ea_b930_acbc32877967row1_col0\" class=\"data row1 col0\" >0.603154</td>\n",
       "                        <td id=\"T_4cbc9a8c_7aa0_11ea_b930_acbc32877967row1_col1\" class=\"data row1 col1\" >1</td>\n",
       "                        <td id=\"T_4cbc9a8c_7aa0_11ea_b930_acbc32877967row1_col2\" class=\"data row1 col2\" >0.707418</td>\n",
       "            </tr>\n",
       "            <tr>\n",
       "                        <th id=\"T_4cbc9a8c_7aa0_11ea_b930_acbc32877967level0_row2\" class=\"row_heading level0 row2\" >Confirmed</th>\n",
       "                        <td id=\"T_4cbc9a8c_7aa0_11ea_b930_acbc32877967row2_col0\" class=\"data row2 col0\" >0.74303</td>\n",
       "                        <td id=\"T_4cbc9a8c_7aa0_11ea_b930_acbc32877967row2_col1\" class=\"data row2 col1\" >0.707418</td>\n",
       "                        <td id=\"T_4cbc9a8c_7aa0_11ea_b930_acbc32877967row2_col2\" class=\"data row2 col2\" >1</td>\n",
       "            </tr>\n",
       "    </tbody></table>"
      ],
      "text/plain": [
       "<pandas.io.formats.style.Styler at 0x1c27a69e48>"
      ]
     },
     "execution_count": 25,
     "metadata": {},
     "output_type": "execute_result"
    }
   ],
   "source": [
    "covid_19_india.iloc[:,1:].corr().style.background_gradient(cmap='Reds')"
   ]
  },
  {
   "cell_type": "code",
   "execution_count": 26,
   "metadata": {},
   "outputs": [
    {
     "data": {
      "application/vnd.plotly.v1+json": {
       "config": {
        "plotlyServerURL": "https://plot.ly"
       },
       "data": [
        {
         "branchvalues": "total",
         "domain": {
          "x": [
           0,
           1
          ],
          "y": [
           0,
           1
          ]
         },
         "hovertemplate": "labels=%{label}<br>Confirmed=%{value}<br>parent=%{parent}<br>id=%{id}<extra></extra>",
         "ids": [
          "Andaman and Nicobar Islands",
          "Andhra Pradesh",
          "Arunachal Pradesh",
          "Assam",
          "Bihar",
          "Chandigarh",
          "Chhattisgarh",
          "Delhi",
          "Goa",
          "Gujarat",
          "Haryana",
          "Himachal Pradesh",
          "Jammu and Kashmir",
          "Jharkhand",
          "Karnataka",
          "Kerala",
          "Ladakh",
          "Madhya Pradesh",
          "Maharashtra",
          "Manipur",
          "Mizoram",
          "Odisha",
          "Puducherry",
          "Punjab",
          "Rajasthan",
          "Tamil Nadu",
          "Telengana",
          "Unassigned",
          "Uttar Pradesh",
          "Uttarakhand",
          "West Bengal"
         ],
         "labels": [
          "Andaman and Nicobar Islands",
          "Andhra Pradesh",
          "Arunachal Pradesh",
          "Assam",
          "Bihar",
          "Chandigarh",
          "Chhattisgarh",
          "Delhi",
          "Goa",
          "Gujarat",
          "Haryana",
          "Himachal Pradesh",
          "Jammu and Kashmir",
          "Jharkhand",
          "Karnataka",
          "Kerala",
          "Ladakh",
          "Madhya Pradesh",
          "Maharashtra",
          "Manipur",
          "Mizoram",
          "Odisha",
          "Puducherry",
          "Punjab",
          "Rajasthan",
          "Tamil Nadu",
          "Telengana",
          "Unassigned",
          "Uttar Pradesh",
          "Uttarakhand",
          "West Bengal"
         ],
         "name": "",
         "parents": [
          "",
          "",
          "",
          "",
          "",
          "",
          "",
          "",
          "",
          "",
          "",
          "",
          "",
          "",
          "",
          "",
          "",
          "",
          "",
          "",
          "",
          "",
          "",
          "",
          "",
          "",
          "",
          "",
          "",
          "",
          ""
         ],
         "textinfo": "label+text+value",
         "type": "treemap",
         "values": [
          96,
          1041,
          4,
          98,
          241,
          183,
          102,
          2657,
          61,
          1096,
          813,
          67,
          717,
          13,
          1405,
          3485,
          283,
          932,
          4447,
          18,
          13,
          91,
          40,
          674,
          1661,
          2598,
          1669,
          161,
          1821,
          149,
          519
         ]
        }
       ],
       "layout": {
        "height": 500,
        "legend": {
         "tracegroupgap": 0
        },
        "template": {
         "data": {
          "bar": [
           {
            "error_x": {
             "color": "#2a3f5f"
            },
            "error_y": {
             "color": "#2a3f5f"
            },
            "marker": {
             "line": {
              "color": "#E5ECF6",
              "width": 0.5
             }
            },
            "type": "bar"
           }
          ],
          "barpolar": [
           {
            "marker": {
             "line": {
              "color": "#E5ECF6",
              "width": 0.5
             }
            },
            "type": "barpolar"
           }
          ],
          "carpet": [
           {
            "aaxis": {
             "endlinecolor": "#2a3f5f",
             "gridcolor": "white",
             "linecolor": "white",
             "minorgridcolor": "white",
             "startlinecolor": "#2a3f5f"
            },
            "baxis": {
             "endlinecolor": "#2a3f5f",
             "gridcolor": "white",
             "linecolor": "white",
             "minorgridcolor": "white",
             "startlinecolor": "#2a3f5f"
            },
            "type": "carpet"
           }
          ],
          "choropleth": [
           {
            "colorbar": {
             "outlinewidth": 0,
             "ticks": ""
            },
            "type": "choropleth"
           }
          ],
          "contour": [
           {
            "colorbar": {
             "outlinewidth": 0,
             "ticks": ""
            },
            "colorscale": [
             [
              0,
              "#0d0887"
             ],
             [
              0.1111111111111111,
              "#46039f"
             ],
             [
              0.2222222222222222,
              "#7201a8"
             ],
             [
              0.3333333333333333,
              "#9c179e"
             ],
             [
              0.4444444444444444,
              "#bd3786"
             ],
             [
              0.5555555555555556,
              "#d8576b"
             ],
             [
              0.6666666666666666,
              "#ed7953"
             ],
             [
              0.7777777777777778,
              "#fb9f3a"
             ],
             [
              0.8888888888888888,
              "#fdca26"
             ],
             [
              1,
              "#f0f921"
             ]
            ],
            "type": "contour"
           }
          ],
          "contourcarpet": [
           {
            "colorbar": {
             "outlinewidth": 0,
             "ticks": ""
            },
            "type": "contourcarpet"
           }
          ],
          "heatmap": [
           {
            "colorbar": {
             "outlinewidth": 0,
             "ticks": ""
            },
            "colorscale": [
             [
              0,
              "#0d0887"
             ],
             [
              0.1111111111111111,
              "#46039f"
             ],
             [
              0.2222222222222222,
              "#7201a8"
             ],
             [
              0.3333333333333333,
              "#9c179e"
             ],
             [
              0.4444444444444444,
              "#bd3786"
             ],
             [
              0.5555555555555556,
              "#d8576b"
             ],
             [
              0.6666666666666666,
              "#ed7953"
             ],
             [
              0.7777777777777778,
              "#fb9f3a"
             ],
             [
              0.8888888888888888,
              "#fdca26"
             ],
             [
              1,
              "#f0f921"
             ]
            ],
            "type": "heatmap"
           }
          ],
          "heatmapgl": [
           {
            "colorbar": {
             "outlinewidth": 0,
             "ticks": ""
            },
            "colorscale": [
             [
              0,
              "#0d0887"
             ],
             [
              0.1111111111111111,
              "#46039f"
             ],
             [
              0.2222222222222222,
              "#7201a8"
             ],
             [
              0.3333333333333333,
              "#9c179e"
             ],
             [
              0.4444444444444444,
              "#bd3786"
             ],
             [
              0.5555555555555556,
              "#d8576b"
             ],
             [
              0.6666666666666666,
              "#ed7953"
             ],
             [
              0.7777777777777778,
              "#fb9f3a"
             ],
             [
              0.8888888888888888,
              "#fdca26"
             ],
             [
              1,
              "#f0f921"
             ]
            ],
            "type": "heatmapgl"
           }
          ],
          "histogram": [
           {
            "marker": {
             "colorbar": {
              "outlinewidth": 0,
              "ticks": ""
             }
            },
            "type": "histogram"
           }
          ],
          "histogram2d": [
           {
            "colorbar": {
             "outlinewidth": 0,
             "ticks": ""
            },
            "colorscale": [
             [
              0,
              "#0d0887"
             ],
             [
              0.1111111111111111,
              "#46039f"
             ],
             [
              0.2222222222222222,
              "#7201a8"
             ],
             [
              0.3333333333333333,
              "#9c179e"
             ],
             [
              0.4444444444444444,
              "#bd3786"
             ],
             [
              0.5555555555555556,
              "#d8576b"
             ],
             [
              0.6666666666666666,
              "#ed7953"
             ],
             [
              0.7777777777777778,
              "#fb9f3a"
             ],
             [
              0.8888888888888888,
              "#fdca26"
             ],
             [
              1,
              "#f0f921"
             ]
            ],
            "type": "histogram2d"
           }
          ],
          "histogram2dcontour": [
           {
            "colorbar": {
             "outlinewidth": 0,
             "ticks": ""
            },
            "colorscale": [
             [
              0,
              "#0d0887"
             ],
             [
              0.1111111111111111,
              "#46039f"
             ],
             [
              0.2222222222222222,
              "#7201a8"
             ],
             [
              0.3333333333333333,
              "#9c179e"
             ],
             [
              0.4444444444444444,
              "#bd3786"
             ],
             [
              0.5555555555555556,
              "#d8576b"
             ],
             [
              0.6666666666666666,
              "#ed7953"
             ],
             [
              0.7777777777777778,
              "#fb9f3a"
             ],
             [
              0.8888888888888888,
              "#fdca26"
             ],
             [
              1,
              "#f0f921"
             ]
            ],
            "type": "histogram2dcontour"
           }
          ],
          "mesh3d": [
           {
            "colorbar": {
             "outlinewidth": 0,
             "ticks": ""
            },
            "type": "mesh3d"
           }
          ],
          "parcoords": [
           {
            "line": {
             "colorbar": {
              "outlinewidth": 0,
              "ticks": ""
             }
            },
            "type": "parcoords"
           }
          ],
          "pie": [
           {
            "automargin": true,
            "type": "pie"
           }
          ],
          "scatter": [
           {
            "marker": {
             "colorbar": {
              "outlinewidth": 0,
              "ticks": ""
             }
            },
            "type": "scatter"
           }
          ],
          "scatter3d": [
           {
            "line": {
             "colorbar": {
              "outlinewidth": 0,
              "ticks": ""
             }
            },
            "marker": {
             "colorbar": {
              "outlinewidth": 0,
              "ticks": ""
             }
            },
            "type": "scatter3d"
           }
          ],
          "scattercarpet": [
           {
            "marker": {
             "colorbar": {
              "outlinewidth": 0,
              "ticks": ""
             }
            },
            "type": "scattercarpet"
           }
          ],
          "scattergeo": [
           {
            "marker": {
             "colorbar": {
              "outlinewidth": 0,
              "ticks": ""
             }
            },
            "type": "scattergeo"
           }
          ],
          "scattergl": [
           {
            "marker": {
             "colorbar": {
              "outlinewidth": 0,
              "ticks": ""
             }
            },
            "type": "scattergl"
           }
          ],
          "scattermapbox": [
           {
            "marker": {
             "colorbar": {
              "outlinewidth": 0,
              "ticks": ""
             }
            },
            "type": "scattermapbox"
           }
          ],
          "scatterpolar": [
           {
            "marker": {
             "colorbar": {
              "outlinewidth": 0,
              "ticks": ""
             }
            },
            "type": "scatterpolar"
           }
          ],
          "scatterpolargl": [
           {
            "marker": {
             "colorbar": {
              "outlinewidth": 0,
              "ticks": ""
             }
            },
            "type": "scatterpolargl"
           }
          ],
          "scatterternary": [
           {
            "marker": {
             "colorbar": {
              "outlinewidth": 0,
              "ticks": ""
             }
            },
            "type": "scatterternary"
           }
          ],
          "surface": [
           {
            "colorbar": {
             "outlinewidth": 0,
             "ticks": ""
            },
            "colorscale": [
             [
              0,
              "#0d0887"
             ],
             [
              0.1111111111111111,
              "#46039f"
             ],
             [
              0.2222222222222222,
              "#7201a8"
             ],
             [
              0.3333333333333333,
              "#9c179e"
             ],
             [
              0.4444444444444444,
              "#bd3786"
             ],
             [
              0.5555555555555556,
              "#d8576b"
             ],
             [
              0.6666666666666666,
              "#ed7953"
             ],
             [
              0.7777777777777778,
              "#fb9f3a"
             ],
             [
              0.8888888888888888,
              "#fdca26"
             ],
             [
              1,
              "#f0f921"
             ]
            ],
            "type": "surface"
           }
          ],
          "table": [
           {
            "cells": {
             "fill": {
              "color": "#EBF0F8"
             },
             "line": {
              "color": "white"
             }
            },
            "header": {
             "fill": {
              "color": "#C8D4E3"
             },
             "line": {
              "color": "white"
             }
            },
            "type": "table"
           }
          ]
         },
         "layout": {
          "annotationdefaults": {
           "arrowcolor": "#2a3f5f",
           "arrowhead": 0,
           "arrowwidth": 1
          },
          "coloraxis": {
           "colorbar": {
            "outlinewidth": 0,
            "ticks": ""
           }
          },
          "colorscale": {
           "diverging": [
            [
             0,
             "#8e0152"
            ],
            [
             0.1,
             "#c51b7d"
            ],
            [
             0.2,
             "#de77ae"
            ],
            [
             0.3,
             "#f1b6da"
            ],
            [
             0.4,
             "#fde0ef"
            ],
            [
             0.5,
             "#f7f7f7"
            ],
            [
             0.6,
             "#e6f5d0"
            ],
            [
             0.7,
             "#b8e186"
            ],
            [
             0.8,
             "#7fbc41"
            ],
            [
             0.9,
             "#4d9221"
            ],
            [
             1,
             "#276419"
            ]
           ],
           "sequential": [
            [
             0,
             "#0d0887"
            ],
            [
             0.1111111111111111,
             "#46039f"
            ],
            [
             0.2222222222222222,
             "#7201a8"
            ],
            [
             0.3333333333333333,
             "#9c179e"
            ],
            [
             0.4444444444444444,
             "#bd3786"
            ],
            [
             0.5555555555555556,
             "#d8576b"
            ],
            [
             0.6666666666666666,
             "#ed7953"
            ],
            [
             0.7777777777777778,
             "#fb9f3a"
            ],
            [
             0.8888888888888888,
             "#fdca26"
            ],
            [
             1,
             "#f0f921"
            ]
           ],
           "sequentialminus": [
            [
             0,
             "#0d0887"
            ],
            [
             0.1111111111111111,
             "#46039f"
            ],
            [
             0.2222222222222222,
             "#7201a8"
            ],
            [
             0.3333333333333333,
             "#9c179e"
            ],
            [
             0.4444444444444444,
             "#bd3786"
            ],
            [
             0.5555555555555556,
             "#d8576b"
            ],
            [
             0.6666666666666666,
             "#ed7953"
            ],
            [
             0.7777777777777778,
             "#fb9f3a"
            ],
            [
             0.8888888888888888,
             "#fdca26"
            ],
            [
             1,
             "#f0f921"
            ]
           ]
          },
          "colorway": [
           "#636efa",
           "#EF553B",
           "#00cc96",
           "#ab63fa",
           "#FFA15A",
           "#19d3f3",
           "#FF6692",
           "#B6E880",
           "#FF97FF",
           "#FECB52"
          ],
          "font": {
           "color": "#2a3f5f"
          },
          "geo": {
           "bgcolor": "white",
           "lakecolor": "white",
           "landcolor": "#E5ECF6",
           "showlakes": true,
           "showland": true,
           "subunitcolor": "white"
          },
          "hoverlabel": {
           "align": "left"
          },
          "hovermode": "closest",
          "mapbox": {
           "style": "light"
          },
          "paper_bgcolor": "white",
          "plot_bgcolor": "#E5ECF6",
          "polar": {
           "angularaxis": {
            "gridcolor": "white",
            "linecolor": "white",
            "ticks": ""
           },
           "bgcolor": "#E5ECF6",
           "radialaxis": {
            "gridcolor": "white",
            "linecolor": "white",
            "ticks": ""
           }
          },
          "scene": {
           "xaxis": {
            "backgroundcolor": "#E5ECF6",
            "gridcolor": "white",
            "gridwidth": 2,
            "linecolor": "white",
            "showbackground": true,
            "ticks": "",
            "zerolinecolor": "white"
           },
           "yaxis": {
            "backgroundcolor": "#E5ECF6",
            "gridcolor": "white",
            "gridwidth": 2,
            "linecolor": "white",
            "showbackground": true,
            "ticks": "",
            "zerolinecolor": "white"
           },
           "zaxis": {
            "backgroundcolor": "#E5ECF6",
            "gridcolor": "white",
            "gridwidth": 2,
            "linecolor": "white",
            "showbackground": true,
            "ticks": "",
            "zerolinecolor": "white"
           }
          },
          "shapedefaults": {
           "line": {
            "color": "#2a3f5f"
           }
          },
          "ternary": {
           "aaxis": {
            "gridcolor": "white",
            "linecolor": "white",
            "ticks": ""
           },
           "baxis": {
            "gridcolor": "white",
            "linecolor": "white",
            "ticks": ""
           },
           "bgcolor": "#E5ECF6",
           "caxis": {
            "gridcolor": "white",
            "linecolor": "white",
            "ticks": ""
           }
          },
          "title": {
           "x": 0.05
          },
          "xaxis": {
           "automargin": true,
           "gridcolor": "white",
           "linecolor": "white",
           "ticks": "",
           "title": {
            "standoff": 15
           },
           "zerolinecolor": "white",
           "zerolinewidth": 2
          },
          "yaxis": {
           "automargin": true,
           "gridcolor": "white",
           "linecolor": "white",
           "ticks": "",
           "title": {
            "standoff": 15
           },
           "zerolinecolor": "white",
           "zerolinewidth": 2
          }
         }
        },
        "title": {
         "text": "Number of Confirmed Cases"
        },
        "treemapcolorway": [
         "rgb(27,158,119)",
         "rgb(217,95,2)",
         "rgb(117,112,179)",
         "rgb(231,41,138)",
         "rgb(102,166,30)",
         "rgb(230,171,2)",
         "rgb(166,118,29)",
         "rgb(102,102,102)"
        ]
       }
      },
      "text/html": [
       "<div>\n",
       "        \n",
       "        \n",
       "            <div id=\"c243bb9a-c36e-49e5-9652-364e0b30d94a\" class=\"plotly-graph-div\" style=\"height:500px; width:100%;\"></div>\n",
       "            <script type=\"text/javascript\">\n",
       "                require([\"plotly\"], function(Plotly) {\n",
       "                    window.PLOTLYENV=window.PLOTLYENV || {};\n",
       "                    \n",
       "                if (document.getElementById(\"c243bb9a-c36e-49e5-9652-364e0b30d94a\")) {\n",
       "                    Plotly.newPlot(\n",
       "                        'c243bb9a-c36e-49e5-9652-364e0b30d94a',\n",
       "                        [{\"branchvalues\": \"total\", \"domain\": {\"x\": [0.0, 1.0], \"y\": [0.0, 1.0]}, \"hovertemplate\": \"labels=%{label}<br>Confirmed=%{value}<br>parent=%{parent}<br>id=%{id}<extra></extra>\", \"ids\": [\"Andaman and Nicobar Islands\", \"Andhra Pradesh\", \"Arunachal Pradesh\", \"Assam\", \"Bihar\", \"Chandigarh\", \"Chhattisgarh\", \"Delhi\", \"Goa\", \"Gujarat\", \"Haryana\", \"Himachal Pradesh\", \"Jammu and Kashmir\", \"Jharkhand\", \"Karnataka\", \"Kerala\", \"Ladakh\", \"Madhya Pradesh\", \"Maharashtra\", \"Manipur\", \"Mizoram\", \"Odisha\", \"Puducherry\", \"Punjab\", \"Rajasthan\", \"Tamil Nadu\", \"Telengana\", \"Unassigned\", \"Uttar Pradesh\", \"Uttarakhand\", \"West Bengal\"], \"labels\": [\"Andaman and Nicobar Islands\", \"Andhra Pradesh\", \"Arunachal Pradesh\", \"Assam\", \"Bihar\", \"Chandigarh\", \"Chhattisgarh\", \"Delhi\", \"Goa\", \"Gujarat\", \"Haryana\", \"Himachal Pradesh\", \"Jammu and Kashmir\", \"Jharkhand\", \"Karnataka\", \"Kerala\", \"Ladakh\", \"Madhya Pradesh\", \"Maharashtra\", \"Manipur\", \"Mizoram\", \"Odisha\", \"Puducherry\", \"Punjab\", \"Rajasthan\", \"Tamil Nadu\", \"Telengana\", \"Unassigned\", \"Uttar Pradesh\", \"Uttarakhand\", \"West Bengal\"], \"name\": \"\", \"parents\": [\"\", \"\", \"\", \"\", \"\", \"\", \"\", \"\", \"\", \"\", \"\", \"\", \"\", \"\", \"\", \"\", \"\", \"\", \"\", \"\", \"\", \"\", \"\", \"\", \"\", \"\", \"\", \"\", \"\", \"\", \"\"], \"textinfo\": \"label+text+value\", \"type\": \"treemap\", \"values\": [96, 1041, 4, 98, 241, 183, 102, 2657, 61, 1096, 813, 67, 717, 13, 1405, 3485, 283, 932, 4447, 18, 13, 91, 40, 674, 1661, 2598, 1669, 161, 1821, 149, 519]}],\n",
       "                        {\"height\": 500, \"legend\": {\"tracegroupgap\": 0}, \"template\": {\"data\": {\"bar\": [{\"error_x\": {\"color\": \"#2a3f5f\"}, \"error_y\": {\"color\": \"#2a3f5f\"}, \"marker\": {\"line\": {\"color\": \"#E5ECF6\", \"width\": 0.5}}, \"type\": \"bar\"}], \"barpolar\": [{\"marker\": {\"line\": {\"color\": \"#E5ECF6\", \"width\": 0.5}}, \"type\": \"barpolar\"}], \"carpet\": [{\"aaxis\": {\"endlinecolor\": \"#2a3f5f\", \"gridcolor\": \"white\", \"linecolor\": \"white\", \"minorgridcolor\": \"white\", \"startlinecolor\": \"#2a3f5f\"}, \"baxis\": {\"endlinecolor\": \"#2a3f5f\", \"gridcolor\": \"white\", \"linecolor\": \"white\", \"minorgridcolor\": \"white\", \"startlinecolor\": \"#2a3f5f\"}, \"type\": \"carpet\"}], \"choropleth\": [{\"colorbar\": {\"outlinewidth\": 0, \"ticks\": \"\"}, \"type\": \"choropleth\"}], \"contour\": [{\"colorbar\": {\"outlinewidth\": 0, \"ticks\": \"\"}, \"colorscale\": [[0.0, \"#0d0887\"], [0.1111111111111111, \"#46039f\"], [0.2222222222222222, \"#7201a8\"], [0.3333333333333333, \"#9c179e\"], [0.4444444444444444, \"#bd3786\"], [0.5555555555555556, \"#d8576b\"], [0.6666666666666666, \"#ed7953\"], [0.7777777777777778, \"#fb9f3a\"], [0.8888888888888888, \"#fdca26\"], [1.0, \"#f0f921\"]], \"type\": \"contour\"}], \"contourcarpet\": [{\"colorbar\": {\"outlinewidth\": 0, \"ticks\": \"\"}, \"type\": \"contourcarpet\"}], \"heatmap\": [{\"colorbar\": {\"outlinewidth\": 0, \"ticks\": \"\"}, \"colorscale\": [[0.0, \"#0d0887\"], [0.1111111111111111, \"#46039f\"], [0.2222222222222222, \"#7201a8\"], [0.3333333333333333, \"#9c179e\"], [0.4444444444444444, \"#bd3786\"], [0.5555555555555556, \"#d8576b\"], [0.6666666666666666, \"#ed7953\"], [0.7777777777777778, \"#fb9f3a\"], [0.8888888888888888, \"#fdca26\"], [1.0, \"#f0f921\"]], \"type\": \"heatmap\"}], \"heatmapgl\": [{\"colorbar\": {\"outlinewidth\": 0, \"ticks\": \"\"}, \"colorscale\": [[0.0, \"#0d0887\"], [0.1111111111111111, \"#46039f\"], [0.2222222222222222, \"#7201a8\"], [0.3333333333333333, \"#9c179e\"], [0.4444444444444444, \"#bd3786\"], [0.5555555555555556, \"#d8576b\"], [0.6666666666666666, \"#ed7953\"], [0.7777777777777778, \"#fb9f3a\"], [0.8888888888888888, \"#fdca26\"], [1.0, \"#f0f921\"]], \"type\": \"heatmapgl\"}], \"histogram\": [{\"marker\": {\"colorbar\": {\"outlinewidth\": 0, \"ticks\": \"\"}}, \"type\": \"histogram\"}], \"histogram2d\": [{\"colorbar\": {\"outlinewidth\": 0, \"ticks\": \"\"}, \"colorscale\": [[0.0, \"#0d0887\"], [0.1111111111111111, \"#46039f\"], [0.2222222222222222, \"#7201a8\"], [0.3333333333333333, \"#9c179e\"], [0.4444444444444444, \"#bd3786\"], [0.5555555555555556, \"#d8576b\"], [0.6666666666666666, \"#ed7953\"], [0.7777777777777778, \"#fb9f3a\"], [0.8888888888888888, \"#fdca26\"], [1.0, \"#f0f921\"]], \"type\": \"histogram2d\"}], \"histogram2dcontour\": [{\"colorbar\": {\"outlinewidth\": 0, \"ticks\": \"\"}, \"colorscale\": [[0.0, \"#0d0887\"], [0.1111111111111111, \"#46039f\"], [0.2222222222222222, \"#7201a8\"], [0.3333333333333333, \"#9c179e\"], [0.4444444444444444, \"#bd3786\"], [0.5555555555555556, \"#d8576b\"], [0.6666666666666666, \"#ed7953\"], [0.7777777777777778, \"#fb9f3a\"], [0.8888888888888888, \"#fdca26\"], [1.0, \"#f0f921\"]], \"type\": \"histogram2dcontour\"}], \"mesh3d\": [{\"colorbar\": {\"outlinewidth\": 0, \"ticks\": \"\"}, \"type\": \"mesh3d\"}], \"parcoords\": [{\"line\": {\"colorbar\": {\"outlinewidth\": 0, \"ticks\": \"\"}}, \"type\": \"parcoords\"}], \"pie\": [{\"automargin\": true, \"type\": \"pie\"}], \"scatter\": [{\"marker\": {\"colorbar\": {\"outlinewidth\": 0, \"ticks\": \"\"}}, \"type\": \"scatter\"}], \"scatter3d\": [{\"line\": {\"colorbar\": {\"outlinewidth\": 0, \"ticks\": \"\"}}, \"marker\": {\"colorbar\": {\"outlinewidth\": 0, \"ticks\": \"\"}}, \"type\": \"scatter3d\"}], \"scattercarpet\": [{\"marker\": {\"colorbar\": {\"outlinewidth\": 0, \"ticks\": \"\"}}, \"type\": \"scattercarpet\"}], \"scattergeo\": [{\"marker\": {\"colorbar\": {\"outlinewidth\": 0, \"ticks\": \"\"}}, \"type\": \"scattergeo\"}], \"scattergl\": [{\"marker\": {\"colorbar\": {\"outlinewidth\": 0, \"ticks\": \"\"}}, \"type\": \"scattergl\"}], \"scattermapbox\": [{\"marker\": {\"colorbar\": {\"outlinewidth\": 0, \"ticks\": \"\"}}, \"type\": \"scattermapbox\"}], \"scatterpolar\": [{\"marker\": {\"colorbar\": {\"outlinewidth\": 0, \"ticks\": \"\"}}, \"type\": \"scatterpolar\"}], \"scatterpolargl\": [{\"marker\": {\"colorbar\": {\"outlinewidth\": 0, \"ticks\": \"\"}}, \"type\": \"scatterpolargl\"}], \"scatterternary\": [{\"marker\": {\"colorbar\": {\"outlinewidth\": 0, \"ticks\": \"\"}}, \"type\": \"scatterternary\"}], \"surface\": [{\"colorbar\": {\"outlinewidth\": 0, \"ticks\": \"\"}, \"colorscale\": [[0.0, \"#0d0887\"], [0.1111111111111111, \"#46039f\"], [0.2222222222222222, \"#7201a8\"], [0.3333333333333333, \"#9c179e\"], [0.4444444444444444, \"#bd3786\"], [0.5555555555555556, \"#d8576b\"], [0.6666666666666666, \"#ed7953\"], [0.7777777777777778, \"#fb9f3a\"], [0.8888888888888888, \"#fdca26\"], [1.0, \"#f0f921\"]], \"type\": \"surface\"}], \"table\": [{\"cells\": {\"fill\": {\"color\": \"#EBF0F8\"}, \"line\": {\"color\": \"white\"}}, \"header\": {\"fill\": {\"color\": \"#C8D4E3\"}, \"line\": {\"color\": \"white\"}}, \"type\": \"table\"}]}, \"layout\": {\"annotationdefaults\": {\"arrowcolor\": \"#2a3f5f\", \"arrowhead\": 0, \"arrowwidth\": 1}, \"coloraxis\": {\"colorbar\": {\"outlinewidth\": 0, \"ticks\": \"\"}}, \"colorscale\": {\"diverging\": [[0, \"#8e0152\"], [0.1, \"#c51b7d\"], [0.2, \"#de77ae\"], [0.3, \"#f1b6da\"], [0.4, \"#fde0ef\"], [0.5, \"#f7f7f7\"], [0.6, \"#e6f5d0\"], [0.7, \"#b8e186\"], [0.8, \"#7fbc41\"], [0.9, \"#4d9221\"], [1, \"#276419\"]], \"sequential\": [[0.0, \"#0d0887\"], [0.1111111111111111, \"#46039f\"], [0.2222222222222222, \"#7201a8\"], [0.3333333333333333, \"#9c179e\"], [0.4444444444444444, \"#bd3786\"], [0.5555555555555556, \"#d8576b\"], [0.6666666666666666, \"#ed7953\"], [0.7777777777777778, \"#fb9f3a\"], [0.8888888888888888, \"#fdca26\"], [1.0, \"#f0f921\"]], \"sequentialminus\": [[0.0, \"#0d0887\"], [0.1111111111111111, \"#46039f\"], [0.2222222222222222, \"#7201a8\"], [0.3333333333333333, \"#9c179e\"], [0.4444444444444444, \"#bd3786\"], [0.5555555555555556, \"#d8576b\"], [0.6666666666666666, \"#ed7953\"], [0.7777777777777778, \"#fb9f3a\"], [0.8888888888888888, \"#fdca26\"], [1.0, \"#f0f921\"]]}, \"colorway\": [\"#636efa\", \"#EF553B\", \"#00cc96\", \"#ab63fa\", \"#FFA15A\", \"#19d3f3\", \"#FF6692\", \"#B6E880\", \"#FF97FF\", \"#FECB52\"], \"font\": {\"color\": \"#2a3f5f\"}, \"geo\": {\"bgcolor\": \"white\", \"lakecolor\": \"white\", \"landcolor\": \"#E5ECF6\", \"showlakes\": true, \"showland\": true, \"subunitcolor\": \"white\"}, \"hoverlabel\": {\"align\": \"left\"}, \"hovermode\": \"closest\", \"mapbox\": {\"style\": \"light\"}, \"paper_bgcolor\": \"white\", \"plot_bgcolor\": \"#E5ECF6\", \"polar\": {\"angularaxis\": {\"gridcolor\": \"white\", \"linecolor\": \"white\", \"ticks\": \"\"}, \"bgcolor\": \"#E5ECF6\", \"radialaxis\": {\"gridcolor\": \"white\", \"linecolor\": \"white\", \"ticks\": \"\"}}, \"scene\": {\"xaxis\": {\"backgroundcolor\": \"#E5ECF6\", \"gridcolor\": \"white\", \"gridwidth\": 2, \"linecolor\": \"white\", \"showbackground\": true, \"ticks\": \"\", \"zerolinecolor\": \"white\"}, \"yaxis\": {\"backgroundcolor\": \"#E5ECF6\", \"gridcolor\": \"white\", \"gridwidth\": 2, \"linecolor\": \"white\", \"showbackground\": true, \"ticks\": \"\", \"zerolinecolor\": \"white\"}, \"zaxis\": {\"backgroundcolor\": \"#E5ECF6\", \"gridcolor\": \"white\", \"gridwidth\": 2, \"linecolor\": \"white\", \"showbackground\": true, \"ticks\": \"\", \"zerolinecolor\": \"white\"}}, \"shapedefaults\": {\"line\": {\"color\": \"#2a3f5f\"}}, \"ternary\": {\"aaxis\": {\"gridcolor\": \"white\", \"linecolor\": \"white\", \"ticks\": \"\"}, \"baxis\": {\"gridcolor\": \"white\", \"linecolor\": \"white\", \"ticks\": \"\"}, \"bgcolor\": \"#E5ECF6\", \"caxis\": {\"gridcolor\": \"white\", \"linecolor\": \"white\", \"ticks\": \"\"}}, \"title\": {\"x\": 0.05}, \"xaxis\": {\"automargin\": true, \"gridcolor\": \"white\", \"linecolor\": \"white\", \"ticks\": \"\", \"title\": {\"standoff\": 15}, \"zerolinecolor\": \"white\", \"zerolinewidth\": 2}, \"yaxis\": {\"automargin\": true, \"gridcolor\": \"white\", \"linecolor\": \"white\", \"ticks\": \"\", \"title\": {\"standoff\": 15}, \"zerolinecolor\": \"white\", \"zerolinewidth\": 2}}}, \"title\": {\"text\": \"Number of Confirmed Cases\"}, \"treemapcolorway\": [\"rgb(27,158,119)\", \"rgb(217,95,2)\", \"rgb(117,112,179)\", \"rgb(231,41,138)\", \"rgb(102,166,30)\", \"rgb(230,171,2)\", \"rgb(166,118,29)\", \"rgb(102,102,102)\"]},\n",
       "                        {\"responsive\": true}\n",
       "                    ).then(function(){\n",
       "                            \n",
       "var gd = document.getElementById('c243bb9a-c36e-49e5-9652-364e0b30d94a');\n",
       "var x = new MutationObserver(function (mutations, observer) {{\n",
       "        var display = window.getComputedStyle(gd).display;\n",
       "        if (!display || display === 'none') {{\n",
       "            console.log([gd, 'removed!']);\n",
       "            Plotly.purge(gd);\n",
       "            observer.disconnect();\n",
       "        }}\n",
       "}});\n",
       "\n",
       "// Listen for the removal of the full notebook cells\n",
       "var notebookContainer = gd.closest('#notebook-container');\n",
       "if (notebookContainer) {{\n",
       "    x.observe(notebookContainer, {childList: true});\n",
       "}}\n",
       "\n",
       "// Listen for the clearing of the current output cell\n",
       "var outputEl = gd.closest('.output');\n",
       "if (outputEl) {{\n",
       "    x.observe(outputEl, {childList: true});\n",
       "}}\n",
       "\n",
       "                        })\n",
       "                };\n",
       "                });\n",
       "            </script>\n",
       "        </div>"
      ]
     },
     "metadata": {},
     "output_type": "display_data"
    },
    {
     "data": {
      "application/vnd.plotly.v1+json": {
       "config": {
        "plotlyServerURL": "https://plot.ly"
       },
       "data": [
        {
         "branchvalues": "total",
         "domain": {
          "x": [
           0,
           1
          ],
          "y": [
           0,
           1
          ]
         },
         "hovertemplate": "labels=%{label}<br>Deaths=%{value}<br>parent=%{parent}<br>id=%{id}<extra></extra>",
         "ids": [
          "Andaman and Nicobar Islands",
          "Andhra Pradesh",
          "Arunachal Pradesh",
          "Assam",
          "Bihar",
          "Chandigarh",
          "Chhattisgarh",
          "Delhi",
          "Goa",
          "Gujarat",
          "Haryana",
          "Himachal Pradesh",
          "Jammu and Kashmir",
          "Jharkhand",
          "Karnataka",
          "Kerala",
          "Ladakh",
          "Madhya Pradesh",
          "Maharashtra",
          "Manipur",
          "Mizoram",
          "Odisha",
          "Puducherry",
          "Punjab",
          "Rajasthan",
          "Tamil Nadu",
          "Telengana",
          "Unassigned",
          "Uttar Pradesh",
          "Uttarakhand",
          "West Bengal"
         ],
         "labels": [
          "Andaman and Nicobar Islands",
          "Andhra Pradesh",
          "Arunachal Pradesh",
          "Assam",
          "Bihar",
          "Chandigarh",
          "Chhattisgarh",
          "Delhi",
          "Goa",
          "Gujarat",
          "Haryana",
          "Himachal Pradesh",
          "Jammu and Kashmir",
          "Jharkhand",
          "Karnataka",
          "Kerala",
          "Ladakh",
          "Madhya Pradesh",
          "Maharashtra",
          "Manipur",
          "Mizoram",
          "Odisha",
          "Puducherry",
          "Punjab",
          "Rajasthan",
          "Tamil Nadu",
          "Telengana",
          "Unassigned",
          "Uttar Pradesh",
          "Uttarakhand",
          "West Bengal"
         ],
         "name": "",
         "parents": [
          "",
          "",
          "",
          "",
          "",
          "",
          "",
          "",
          "",
          "",
          "",
          "",
          "",
          "",
          "",
          "",
          "",
          "",
          "",
          "",
          "",
          "",
          "",
          "",
          "",
          "",
          "",
          "",
          "",
          "",
          ""
         ],
         "textinfo": "label+text+value",
         "type": "treemap",
         "values": [
          0,
          7,
          0,
          0,
          16,
          0,
          0,
          51,
          0,
          84,
          2,
          14,
          20,
          0,
          48,
          15,
          0,
          51,
          180,
          0,
          0,
          0,
          0,
          43,
          0,
          19,
          37,
          0,
          13,
          0,
          27
         ]
        }
       ],
       "layout": {
        "height": 500,
        "legend": {
         "tracegroupgap": 0
        },
        "template": {
         "data": {
          "bar": [
           {
            "error_x": {
             "color": "#2a3f5f"
            },
            "error_y": {
             "color": "#2a3f5f"
            },
            "marker": {
             "line": {
              "color": "#E5ECF6",
              "width": 0.5
             }
            },
            "type": "bar"
           }
          ],
          "barpolar": [
           {
            "marker": {
             "line": {
              "color": "#E5ECF6",
              "width": 0.5
             }
            },
            "type": "barpolar"
           }
          ],
          "carpet": [
           {
            "aaxis": {
             "endlinecolor": "#2a3f5f",
             "gridcolor": "white",
             "linecolor": "white",
             "minorgridcolor": "white",
             "startlinecolor": "#2a3f5f"
            },
            "baxis": {
             "endlinecolor": "#2a3f5f",
             "gridcolor": "white",
             "linecolor": "white",
             "minorgridcolor": "white",
             "startlinecolor": "#2a3f5f"
            },
            "type": "carpet"
           }
          ],
          "choropleth": [
           {
            "colorbar": {
             "outlinewidth": 0,
             "ticks": ""
            },
            "type": "choropleth"
           }
          ],
          "contour": [
           {
            "colorbar": {
             "outlinewidth": 0,
             "ticks": ""
            },
            "colorscale": [
             [
              0,
              "#0d0887"
             ],
             [
              0.1111111111111111,
              "#46039f"
             ],
             [
              0.2222222222222222,
              "#7201a8"
             ],
             [
              0.3333333333333333,
              "#9c179e"
             ],
             [
              0.4444444444444444,
              "#bd3786"
             ],
             [
              0.5555555555555556,
              "#d8576b"
             ],
             [
              0.6666666666666666,
              "#ed7953"
             ],
             [
              0.7777777777777778,
              "#fb9f3a"
             ],
             [
              0.8888888888888888,
              "#fdca26"
             ],
             [
              1,
              "#f0f921"
             ]
            ],
            "type": "contour"
           }
          ],
          "contourcarpet": [
           {
            "colorbar": {
             "outlinewidth": 0,
             "ticks": ""
            },
            "type": "contourcarpet"
           }
          ],
          "heatmap": [
           {
            "colorbar": {
             "outlinewidth": 0,
             "ticks": ""
            },
            "colorscale": [
             [
              0,
              "#0d0887"
             ],
             [
              0.1111111111111111,
              "#46039f"
             ],
             [
              0.2222222222222222,
              "#7201a8"
             ],
             [
              0.3333333333333333,
              "#9c179e"
             ],
             [
              0.4444444444444444,
              "#bd3786"
             ],
             [
              0.5555555555555556,
              "#d8576b"
             ],
             [
              0.6666666666666666,
              "#ed7953"
             ],
             [
              0.7777777777777778,
              "#fb9f3a"
             ],
             [
              0.8888888888888888,
              "#fdca26"
             ],
             [
              1,
              "#f0f921"
             ]
            ],
            "type": "heatmap"
           }
          ],
          "heatmapgl": [
           {
            "colorbar": {
             "outlinewidth": 0,
             "ticks": ""
            },
            "colorscale": [
             [
              0,
              "#0d0887"
             ],
             [
              0.1111111111111111,
              "#46039f"
             ],
             [
              0.2222222222222222,
              "#7201a8"
             ],
             [
              0.3333333333333333,
              "#9c179e"
             ],
             [
              0.4444444444444444,
              "#bd3786"
             ],
             [
              0.5555555555555556,
              "#d8576b"
             ],
             [
              0.6666666666666666,
              "#ed7953"
             ],
             [
              0.7777777777777778,
              "#fb9f3a"
             ],
             [
              0.8888888888888888,
              "#fdca26"
             ],
             [
              1,
              "#f0f921"
             ]
            ],
            "type": "heatmapgl"
           }
          ],
          "histogram": [
           {
            "marker": {
             "colorbar": {
              "outlinewidth": 0,
              "ticks": ""
             }
            },
            "type": "histogram"
           }
          ],
          "histogram2d": [
           {
            "colorbar": {
             "outlinewidth": 0,
             "ticks": ""
            },
            "colorscale": [
             [
              0,
              "#0d0887"
             ],
             [
              0.1111111111111111,
              "#46039f"
             ],
             [
              0.2222222222222222,
              "#7201a8"
             ],
             [
              0.3333333333333333,
              "#9c179e"
             ],
             [
              0.4444444444444444,
              "#bd3786"
             ],
             [
              0.5555555555555556,
              "#d8576b"
             ],
             [
              0.6666666666666666,
              "#ed7953"
             ],
             [
              0.7777777777777778,
              "#fb9f3a"
             ],
             [
              0.8888888888888888,
              "#fdca26"
             ],
             [
              1,
              "#f0f921"
             ]
            ],
            "type": "histogram2d"
           }
          ],
          "histogram2dcontour": [
           {
            "colorbar": {
             "outlinewidth": 0,
             "ticks": ""
            },
            "colorscale": [
             [
              0,
              "#0d0887"
             ],
             [
              0.1111111111111111,
              "#46039f"
             ],
             [
              0.2222222222222222,
              "#7201a8"
             ],
             [
              0.3333333333333333,
              "#9c179e"
             ],
             [
              0.4444444444444444,
              "#bd3786"
             ],
             [
              0.5555555555555556,
              "#d8576b"
             ],
             [
              0.6666666666666666,
              "#ed7953"
             ],
             [
              0.7777777777777778,
              "#fb9f3a"
             ],
             [
              0.8888888888888888,
              "#fdca26"
             ],
             [
              1,
              "#f0f921"
             ]
            ],
            "type": "histogram2dcontour"
           }
          ],
          "mesh3d": [
           {
            "colorbar": {
             "outlinewidth": 0,
             "ticks": ""
            },
            "type": "mesh3d"
           }
          ],
          "parcoords": [
           {
            "line": {
             "colorbar": {
              "outlinewidth": 0,
              "ticks": ""
             }
            },
            "type": "parcoords"
           }
          ],
          "pie": [
           {
            "automargin": true,
            "type": "pie"
           }
          ],
          "scatter": [
           {
            "marker": {
             "colorbar": {
              "outlinewidth": 0,
              "ticks": ""
             }
            },
            "type": "scatter"
           }
          ],
          "scatter3d": [
           {
            "line": {
             "colorbar": {
              "outlinewidth": 0,
              "ticks": ""
             }
            },
            "marker": {
             "colorbar": {
              "outlinewidth": 0,
              "ticks": ""
             }
            },
            "type": "scatter3d"
           }
          ],
          "scattercarpet": [
           {
            "marker": {
             "colorbar": {
              "outlinewidth": 0,
              "ticks": ""
             }
            },
            "type": "scattercarpet"
           }
          ],
          "scattergeo": [
           {
            "marker": {
             "colorbar": {
              "outlinewidth": 0,
              "ticks": ""
             }
            },
            "type": "scattergeo"
           }
          ],
          "scattergl": [
           {
            "marker": {
             "colorbar": {
              "outlinewidth": 0,
              "ticks": ""
             }
            },
            "type": "scattergl"
           }
          ],
          "scattermapbox": [
           {
            "marker": {
             "colorbar": {
              "outlinewidth": 0,
              "ticks": ""
             }
            },
            "type": "scattermapbox"
           }
          ],
          "scatterpolar": [
           {
            "marker": {
             "colorbar": {
              "outlinewidth": 0,
              "ticks": ""
             }
            },
            "type": "scatterpolar"
           }
          ],
          "scatterpolargl": [
           {
            "marker": {
             "colorbar": {
              "outlinewidth": 0,
              "ticks": ""
             }
            },
            "type": "scatterpolargl"
           }
          ],
          "scatterternary": [
           {
            "marker": {
             "colorbar": {
              "outlinewidth": 0,
              "ticks": ""
             }
            },
            "type": "scatterternary"
           }
          ],
          "surface": [
           {
            "colorbar": {
             "outlinewidth": 0,
             "ticks": ""
            },
            "colorscale": [
             [
              0,
              "#0d0887"
             ],
             [
              0.1111111111111111,
              "#46039f"
             ],
             [
              0.2222222222222222,
              "#7201a8"
             ],
             [
              0.3333333333333333,
              "#9c179e"
             ],
             [
              0.4444444444444444,
              "#bd3786"
             ],
             [
              0.5555555555555556,
              "#d8576b"
             ],
             [
              0.6666666666666666,
              "#ed7953"
             ],
             [
              0.7777777777777778,
              "#fb9f3a"
             ],
             [
              0.8888888888888888,
              "#fdca26"
             ],
             [
              1,
              "#f0f921"
             ]
            ],
            "type": "surface"
           }
          ],
          "table": [
           {
            "cells": {
             "fill": {
              "color": "#EBF0F8"
             },
             "line": {
              "color": "white"
             }
            },
            "header": {
             "fill": {
              "color": "#C8D4E3"
             },
             "line": {
              "color": "white"
             }
            },
            "type": "table"
           }
          ]
         },
         "layout": {
          "annotationdefaults": {
           "arrowcolor": "#2a3f5f",
           "arrowhead": 0,
           "arrowwidth": 1
          },
          "coloraxis": {
           "colorbar": {
            "outlinewidth": 0,
            "ticks": ""
           }
          },
          "colorscale": {
           "diverging": [
            [
             0,
             "#8e0152"
            ],
            [
             0.1,
             "#c51b7d"
            ],
            [
             0.2,
             "#de77ae"
            ],
            [
             0.3,
             "#f1b6da"
            ],
            [
             0.4,
             "#fde0ef"
            ],
            [
             0.5,
             "#f7f7f7"
            ],
            [
             0.6,
             "#e6f5d0"
            ],
            [
             0.7,
             "#b8e186"
            ],
            [
             0.8,
             "#7fbc41"
            ],
            [
             0.9,
             "#4d9221"
            ],
            [
             1,
             "#276419"
            ]
           ],
           "sequential": [
            [
             0,
             "#0d0887"
            ],
            [
             0.1111111111111111,
             "#46039f"
            ],
            [
             0.2222222222222222,
             "#7201a8"
            ],
            [
             0.3333333333333333,
             "#9c179e"
            ],
            [
             0.4444444444444444,
             "#bd3786"
            ],
            [
             0.5555555555555556,
             "#d8576b"
            ],
            [
             0.6666666666666666,
             "#ed7953"
            ],
            [
             0.7777777777777778,
             "#fb9f3a"
            ],
            [
             0.8888888888888888,
             "#fdca26"
            ],
            [
             1,
             "#f0f921"
            ]
           ],
           "sequentialminus": [
            [
             0,
             "#0d0887"
            ],
            [
             0.1111111111111111,
             "#46039f"
            ],
            [
             0.2222222222222222,
             "#7201a8"
            ],
            [
             0.3333333333333333,
             "#9c179e"
            ],
            [
             0.4444444444444444,
             "#bd3786"
            ],
            [
             0.5555555555555556,
             "#d8576b"
            ],
            [
             0.6666666666666666,
             "#ed7953"
            ],
            [
             0.7777777777777778,
             "#fb9f3a"
            ],
            [
             0.8888888888888888,
             "#fdca26"
            ],
            [
             1,
             "#f0f921"
            ]
           ]
          },
          "colorway": [
           "#636efa",
           "#EF553B",
           "#00cc96",
           "#ab63fa",
           "#FFA15A",
           "#19d3f3",
           "#FF6692",
           "#B6E880",
           "#FF97FF",
           "#FECB52"
          ],
          "font": {
           "color": "#2a3f5f"
          },
          "geo": {
           "bgcolor": "white",
           "lakecolor": "white",
           "landcolor": "#E5ECF6",
           "showlakes": true,
           "showland": true,
           "subunitcolor": "white"
          },
          "hoverlabel": {
           "align": "left"
          },
          "hovermode": "closest",
          "mapbox": {
           "style": "light"
          },
          "paper_bgcolor": "white",
          "plot_bgcolor": "#E5ECF6",
          "polar": {
           "angularaxis": {
            "gridcolor": "white",
            "linecolor": "white",
            "ticks": ""
           },
           "bgcolor": "#E5ECF6",
           "radialaxis": {
            "gridcolor": "white",
            "linecolor": "white",
            "ticks": ""
           }
          },
          "scene": {
           "xaxis": {
            "backgroundcolor": "#E5ECF6",
            "gridcolor": "white",
            "gridwidth": 2,
            "linecolor": "white",
            "showbackground": true,
            "ticks": "",
            "zerolinecolor": "white"
           },
           "yaxis": {
            "backgroundcolor": "#E5ECF6",
            "gridcolor": "white",
            "gridwidth": 2,
            "linecolor": "white",
            "showbackground": true,
            "ticks": "",
            "zerolinecolor": "white"
           },
           "zaxis": {
            "backgroundcolor": "#E5ECF6",
            "gridcolor": "white",
            "gridwidth": 2,
            "linecolor": "white",
            "showbackground": true,
            "ticks": "",
            "zerolinecolor": "white"
           }
          },
          "shapedefaults": {
           "line": {
            "color": "#2a3f5f"
           }
          },
          "ternary": {
           "aaxis": {
            "gridcolor": "white",
            "linecolor": "white",
            "ticks": ""
           },
           "baxis": {
            "gridcolor": "white",
            "linecolor": "white",
            "ticks": ""
           },
           "bgcolor": "#E5ECF6",
           "caxis": {
            "gridcolor": "white",
            "linecolor": "white",
            "ticks": ""
           }
          },
          "title": {
           "x": 0.05
          },
          "xaxis": {
           "automargin": true,
           "gridcolor": "white",
           "linecolor": "white",
           "ticks": "",
           "title": {
            "standoff": 15
           },
           "zerolinecolor": "white",
           "zerolinewidth": 2
          },
          "yaxis": {
           "automargin": true,
           "gridcolor": "white",
           "linecolor": "white",
           "ticks": "",
           "title": {
            "standoff": 15
           },
           "zerolinecolor": "white",
           "zerolinewidth": 2
          }
         }
        },
        "title": {
         "text": "Number of Deaths reported"
        },
        "treemapcolorway": [
         "rgb(27,158,119)",
         "rgb(217,95,2)",
         "rgb(117,112,179)",
         "rgb(231,41,138)",
         "rgb(102,166,30)",
         "rgb(230,171,2)",
         "rgb(166,118,29)",
         "rgb(102,102,102)"
        ]
       }
      },
      "text/html": [
       "<div>\n",
       "        \n",
       "        \n",
       "            <div id=\"d9128998-5873-4590-9b10-cce074abfc6d\" class=\"plotly-graph-div\" style=\"height:500px; width:100%;\"></div>\n",
       "            <script type=\"text/javascript\">\n",
       "                require([\"plotly\"], function(Plotly) {\n",
       "                    window.PLOTLYENV=window.PLOTLYENV || {};\n",
       "                    \n",
       "                if (document.getElementById(\"d9128998-5873-4590-9b10-cce074abfc6d\")) {\n",
       "                    Plotly.newPlot(\n",
       "                        'd9128998-5873-4590-9b10-cce074abfc6d',\n",
       "                        [{\"branchvalues\": \"total\", \"domain\": {\"x\": [0.0, 1.0], \"y\": [0.0, 1.0]}, \"hovertemplate\": \"labels=%{label}<br>Deaths=%{value}<br>parent=%{parent}<br>id=%{id}<extra></extra>\", \"ids\": [\"Andaman and Nicobar Islands\", \"Andhra Pradesh\", \"Arunachal Pradesh\", \"Assam\", \"Bihar\", \"Chandigarh\", \"Chhattisgarh\", \"Delhi\", \"Goa\", \"Gujarat\", \"Haryana\", \"Himachal Pradesh\", \"Jammu and Kashmir\", \"Jharkhand\", \"Karnataka\", \"Kerala\", \"Ladakh\", \"Madhya Pradesh\", \"Maharashtra\", \"Manipur\", \"Mizoram\", \"Odisha\", \"Puducherry\", \"Punjab\", \"Rajasthan\", \"Tamil Nadu\", \"Telengana\", \"Unassigned\", \"Uttar Pradesh\", \"Uttarakhand\", \"West Bengal\"], \"labels\": [\"Andaman and Nicobar Islands\", \"Andhra Pradesh\", \"Arunachal Pradesh\", \"Assam\", \"Bihar\", \"Chandigarh\", \"Chhattisgarh\", \"Delhi\", \"Goa\", \"Gujarat\", \"Haryana\", \"Himachal Pradesh\", \"Jammu and Kashmir\", \"Jharkhand\", \"Karnataka\", \"Kerala\", \"Ladakh\", \"Madhya Pradesh\", \"Maharashtra\", \"Manipur\", \"Mizoram\", \"Odisha\", \"Puducherry\", \"Punjab\", \"Rajasthan\", \"Tamil Nadu\", \"Telengana\", \"Unassigned\", \"Uttar Pradesh\", \"Uttarakhand\", \"West Bengal\"], \"name\": \"\", \"parents\": [\"\", \"\", \"\", \"\", \"\", \"\", \"\", \"\", \"\", \"\", \"\", \"\", \"\", \"\", \"\", \"\", \"\", \"\", \"\", \"\", \"\", \"\", \"\", \"\", \"\", \"\", \"\", \"\", \"\", \"\", \"\"], \"textinfo\": \"label+text+value\", \"type\": \"treemap\", \"values\": [0, 7, 0, 0, 16, 0, 0, 51, 0, 84, 2, 14, 20, 0, 48, 15, 0, 51, 180, 0, 0, 0, 0, 43, 0, 19, 37, 0, 13, 0, 27]}],\n",
       "                        {\"height\": 500, \"legend\": {\"tracegroupgap\": 0}, \"template\": {\"data\": {\"bar\": [{\"error_x\": {\"color\": \"#2a3f5f\"}, \"error_y\": {\"color\": \"#2a3f5f\"}, \"marker\": {\"line\": {\"color\": \"#E5ECF6\", \"width\": 0.5}}, \"type\": \"bar\"}], \"barpolar\": [{\"marker\": {\"line\": {\"color\": \"#E5ECF6\", \"width\": 0.5}}, \"type\": \"barpolar\"}], \"carpet\": [{\"aaxis\": {\"endlinecolor\": \"#2a3f5f\", \"gridcolor\": \"white\", \"linecolor\": \"white\", \"minorgridcolor\": \"white\", \"startlinecolor\": \"#2a3f5f\"}, \"baxis\": {\"endlinecolor\": \"#2a3f5f\", \"gridcolor\": \"white\", \"linecolor\": \"white\", \"minorgridcolor\": \"white\", \"startlinecolor\": \"#2a3f5f\"}, \"type\": \"carpet\"}], \"choropleth\": [{\"colorbar\": {\"outlinewidth\": 0, \"ticks\": \"\"}, \"type\": \"choropleth\"}], \"contour\": [{\"colorbar\": {\"outlinewidth\": 0, \"ticks\": \"\"}, \"colorscale\": [[0.0, \"#0d0887\"], [0.1111111111111111, \"#46039f\"], [0.2222222222222222, \"#7201a8\"], [0.3333333333333333, \"#9c179e\"], [0.4444444444444444, \"#bd3786\"], [0.5555555555555556, \"#d8576b\"], [0.6666666666666666, \"#ed7953\"], [0.7777777777777778, \"#fb9f3a\"], [0.8888888888888888, \"#fdca26\"], [1.0, \"#f0f921\"]], \"type\": \"contour\"}], \"contourcarpet\": [{\"colorbar\": {\"outlinewidth\": 0, \"ticks\": \"\"}, \"type\": \"contourcarpet\"}], \"heatmap\": [{\"colorbar\": {\"outlinewidth\": 0, \"ticks\": \"\"}, \"colorscale\": [[0.0, \"#0d0887\"], [0.1111111111111111, \"#46039f\"], [0.2222222222222222, \"#7201a8\"], [0.3333333333333333, \"#9c179e\"], [0.4444444444444444, \"#bd3786\"], [0.5555555555555556, \"#d8576b\"], [0.6666666666666666, \"#ed7953\"], [0.7777777777777778, \"#fb9f3a\"], [0.8888888888888888, \"#fdca26\"], [1.0, \"#f0f921\"]], \"type\": \"heatmap\"}], \"heatmapgl\": [{\"colorbar\": {\"outlinewidth\": 0, \"ticks\": \"\"}, \"colorscale\": [[0.0, \"#0d0887\"], [0.1111111111111111, \"#46039f\"], [0.2222222222222222, \"#7201a8\"], [0.3333333333333333, \"#9c179e\"], [0.4444444444444444, \"#bd3786\"], [0.5555555555555556, \"#d8576b\"], [0.6666666666666666, \"#ed7953\"], [0.7777777777777778, \"#fb9f3a\"], [0.8888888888888888, \"#fdca26\"], [1.0, \"#f0f921\"]], \"type\": \"heatmapgl\"}], \"histogram\": [{\"marker\": {\"colorbar\": {\"outlinewidth\": 0, \"ticks\": \"\"}}, \"type\": \"histogram\"}], \"histogram2d\": [{\"colorbar\": {\"outlinewidth\": 0, \"ticks\": \"\"}, \"colorscale\": [[0.0, \"#0d0887\"], [0.1111111111111111, \"#46039f\"], [0.2222222222222222, \"#7201a8\"], [0.3333333333333333, \"#9c179e\"], [0.4444444444444444, \"#bd3786\"], [0.5555555555555556, \"#d8576b\"], [0.6666666666666666, \"#ed7953\"], [0.7777777777777778, \"#fb9f3a\"], [0.8888888888888888, \"#fdca26\"], [1.0, \"#f0f921\"]], \"type\": \"histogram2d\"}], \"histogram2dcontour\": [{\"colorbar\": {\"outlinewidth\": 0, \"ticks\": \"\"}, \"colorscale\": [[0.0, \"#0d0887\"], [0.1111111111111111, \"#46039f\"], [0.2222222222222222, \"#7201a8\"], [0.3333333333333333, \"#9c179e\"], [0.4444444444444444, \"#bd3786\"], [0.5555555555555556, \"#d8576b\"], [0.6666666666666666, \"#ed7953\"], [0.7777777777777778, \"#fb9f3a\"], [0.8888888888888888, \"#fdca26\"], [1.0, \"#f0f921\"]], \"type\": \"histogram2dcontour\"}], \"mesh3d\": [{\"colorbar\": {\"outlinewidth\": 0, \"ticks\": \"\"}, \"type\": \"mesh3d\"}], \"parcoords\": [{\"line\": {\"colorbar\": {\"outlinewidth\": 0, \"ticks\": \"\"}}, \"type\": \"parcoords\"}], \"pie\": [{\"automargin\": true, \"type\": \"pie\"}], \"scatter\": [{\"marker\": {\"colorbar\": {\"outlinewidth\": 0, \"ticks\": \"\"}}, \"type\": \"scatter\"}], \"scatter3d\": [{\"line\": {\"colorbar\": {\"outlinewidth\": 0, \"ticks\": \"\"}}, \"marker\": {\"colorbar\": {\"outlinewidth\": 0, \"ticks\": \"\"}}, \"type\": \"scatter3d\"}], \"scattercarpet\": [{\"marker\": {\"colorbar\": {\"outlinewidth\": 0, \"ticks\": \"\"}}, \"type\": \"scattercarpet\"}], \"scattergeo\": [{\"marker\": {\"colorbar\": {\"outlinewidth\": 0, \"ticks\": \"\"}}, \"type\": \"scattergeo\"}], \"scattergl\": [{\"marker\": {\"colorbar\": {\"outlinewidth\": 0, \"ticks\": \"\"}}, \"type\": \"scattergl\"}], \"scattermapbox\": [{\"marker\": {\"colorbar\": {\"outlinewidth\": 0, \"ticks\": \"\"}}, \"type\": \"scattermapbox\"}], \"scatterpolar\": [{\"marker\": {\"colorbar\": {\"outlinewidth\": 0, \"ticks\": \"\"}}, \"type\": \"scatterpolar\"}], \"scatterpolargl\": [{\"marker\": {\"colorbar\": {\"outlinewidth\": 0, \"ticks\": \"\"}}, \"type\": \"scatterpolargl\"}], \"scatterternary\": [{\"marker\": {\"colorbar\": {\"outlinewidth\": 0, \"ticks\": \"\"}}, \"type\": \"scatterternary\"}], \"surface\": [{\"colorbar\": {\"outlinewidth\": 0, \"ticks\": \"\"}, \"colorscale\": [[0.0, \"#0d0887\"], [0.1111111111111111, \"#46039f\"], [0.2222222222222222, \"#7201a8\"], [0.3333333333333333, \"#9c179e\"], [0.4444444444444444, \"#bd3786\"], [0.5555555555555556, \"#d8576b\"], [0.6666666666666666, \"#ed7953\"], [0.7777777777777778, \"#fb9f3a\"], [0.8888888888888888, \"#fdca26\"], [1.0, \"#f0f921\"]], \"type\": \"surface\"}], \"table\": [{\"cells\": {\"fill\": {\"color\": \"#EBF0F8\"}, \"line\": {\"color\": \"white\"}}, \"header\": {\"fill\": {\"color\": \"#C8D4E3\"}, \"line\": {\"color\": \"white\"}}, \"type\": \"table\"}]}, \"layout\": {\"annotationdefaults\": {\"arrowcolor\": \"#2a3f5f\", \"arrowhead\": 0, \"arrowwidth\": 1}, \"coloraxis\": {\"colorbar\": {\"outlinewidth\": 0, \"ticks\": \"\"}}, \"colorscale\": {\"diverging\": [[0, \"#8e0152\"], [0.1, \"#c51b7d\"], [0.2, \"#de77ae\"], [0.3, \"#f1b6da\"], [0.4, \"#fde0ef\"], [0.5, \"#f7f7f7\"], [0.6, \"#e6f5d0\"], [0.7, \"#b8e186\"], [0.8, \"#7fbc41\"], [0.9, \"#4d9221\"], [1, \"#276419\"]], \"sequential\": [[0.0, \"#0d0887\"], [0.1111111111111111, \"#46039f\"], [0.2222222222222222, \"#7201a8\"], [0.3333333333333333, \"#9c179e\"], [0.4444444444444444, \"#bd3786\"], [0.5555555555555556, \"#d8576b\"], [0.6666666666666666, \"#ed7953\"], [0.7777777777777778, \"#fb9f3a\"], [0.8888888888888888, \"#fdca26\"], [1.0, \"#f0f921\"]], \"sequentialminus\": [[0.0, \"#0d0887\"], [0.1111111111111111, \"#46039f\"], [0.2222222222222222, \"#7201a8\"], [0.3333333333333333, \"#9c179e\"], [0.4444444444444444, \"#bd3786\"], [0.5555555555555556, \"#d8576b\"], [0.6666666666666666, \"#ed7953\"], [0.7777777777777778, \"#fb9f3a\"], [0.8888888888888888, \"#fdca26\"], [1.0, \"#f0f921\"]]}, \"colorway\": [\"#636efa\", \"#EF553B\", \"#00cc96\", \"#ab63fa\", \"#FFA15A\", \"#19d3f3\", \"#FF6692\", \"#B6E880\", \"#FF97FF\", \"#FECB52\"], \"font\": {\"color\": \"#2a3f5f\"}, \"geo\": {\"bgcolor\": \"white\", \"lakecolor\": \"white\", \"landcolor\": \"#E5ECF6\", \"showlakes\": true, \"showland\": true, \"subunitcolor\": \"white\"}, \"hoverlabel\": {\"align\": \"left\"}, \"hovermode\": \"closest\", \"mapbox\": {\"style\": \"light\"}, \"paper_bgcolor\": \"white\", \"plot_bgcolor\": \"#E5ECF6\", \"polar\": {\"angularaxis\": {\"gridcolor\": \"white\", \"linecolor\": \"white\", \"ticks\": \"\"}, \"bgcolor\": \"#E5ECF6\", \"radialaxis\": {\"gridcolor\": \"white\", \"linecolor\": \"white\", \"ticks\": \"\"}}, \"scene\": {\"xaxis\": {\"backgroundcolor\": \"#E5ECF6\", \"gridcolor\": \"white\", \"gridwidth\": 2, \"linecolor\": \"white\", \"showbackground\": true, \"ticks\": \"\", \"zerolinecolor\": \"white\"}, \"yaxis\": {\"backgroundcolor\": \"#E5ECF6\", \"gridcolor\": \"white\", \"gridwidth\": 2, \"linecolor\": \"white\", \"showbackground\": true, \"ticks\": \"\", \"zerolinecolor\": \"white\"}, \"zaxis\": {\"backgroundcolor\": \"#E5ECF6\", \"gridcolor\": \"white\", \"gridwidth\": 2, \"linecolor\": \"white\", \"showbackground\": true, \"ticks\": \"\", \"zerolinecolor\": \"white\"}}, \"shapedefaults\": {\"line\": {\"color\": \"#2a3f5f\"}}, \"ternary\": {\"aaxis\": {\"gridcolor\": \"white\", \"linecolor\": \"white\", \"ticks\": \"\"}, \"baxis\": {\"gridcolor\": \"white\", \"linecolor\": \"white\", \"ticks\": \"\"}, \"bgcolor\": \"#E5ECF6\", \"caxis\": {\"gridcolor\": \"white\", \"linecolor\": \"white\", \"ticks\": \"\"}}, \"title\": {\"x\": 0.05}, \"xaxis\": {\"automargin\": true, \"gridcolor\": \"white\", \"linecolor\": \"white\", \"ticks\": \"\", \"title\": {\"standoff\": 15}, \"zerolinecolor\": \"white\", \"zerolinewidth\": 2}, \"yaxis\": {\"automargin\": true, \"gridcolor\": \"white\", \"linecolor\": \"white\", \"ticks\": \"\", \"title\": {\"standoff\": 15}, \"zerolinecolor\": \"white\", \"zerolinewidth\": 2}}}, \"title\": {\"text\": \"Number of Deaths reported\"}, \"treemapcolorway\": [\"rgb(27,158,119)\", \"rgb(217,95,2)\", \"rgb(117,112,179)\", \"rgb(231,41,138)\", \"rgb(102,166,30)\", \"rgb(230,171,2)\", \"rgb(166,118,29)\", \"rgb(102,102,102)\"]},\n",
       "                        {\"responsive\": true}\n",
       "                    ).then(function(){\n",
       "                            \n",
       "var gd = document.getElementById('d9128998-5873-4590-9b10-cce074abfc6d');\n",
       "var x = new MutationObserver(function (mutations, observer) {{\n",
       "        var display = window.getComputedStyle(gd).display;\n",
       "        if (!display || display === 'none') {{\n",
       "            console.log([gd, 'removed!']);\n",
       "            Plotly.purge(gd);\n",
       "            observer.disconnect();\n",
       "        }}\n",
       "}});\n",
       "\n",
       "// Listen for the removal of the full notebook cells\n",
       "var notebookContainer = gd.closest('#notebook-container');\n",
       "if (notebookContainer) {{\n",
       "    x.observe(notebookContainer, {childList: true});\n",
       "}}\n",
       "\n",
       "// Listen for the clearing of the current output cell\n",
       "var outputEl = gd.closest('.output');\n",
       "if (outputEl) {{\n",
       "    x.observe(outputEl, {childList: true});\n",
       "}}\n",
       "\n",
       "                        })\n",
       "                };\n",
       "                });\n",
       "            </script>\n",
       "        </div>"
      ]
     },
     "metadata": {},
     "output_type": "display_data"
    }
   ],
   "source": [
    "fig = px.treemap(covid_19_india.sort_values\n",
    "                 (by='Confirmed', ascending=False).reset_index(drop=True), \n",
    "                 path=[\"State/UnionTerritory\"], values=\"Confirmed\", height=500,\n",
    "                 title='Number of Confirmed Cases',\n",
    "                 color_discrete_sequence = px.colors.qualitative.Dark2)\n",
    "fig.data[0].textinfo = 'label+text+value'\n",
    "fig.show()\n",
    "\n",
    "fig = px.treemap(covid_19_india.sort_values\n",
    "                 (by='Deaths', ascending=False).reset_index(drop=True), \n",
    "                 path=[\"State/UnionTerritory\"], values=\"Deaths\", height=500,\n",
    "                 title='Number of Deaths reported',\n",
    "                 color_discrete_sequence = px.colors.qualitative.Dark2)\n",
    "fig.data[0].textinfo = 'label+text+value'\n",
    "fig.show()"
   ]
  },
  {
   "cell_type": "code",
   "execution_count": 83,
   "metadata": {},
   "outputs": [],
   "source": [
    "# covid_19_india = pd.read_csv('/Users/poojapatel/Downloads/covid19-in-india/covid_19_india.csv')\n",
    "\n",
    "# # Prepare Data\n",
    "# df = covid_19_india.groupby('Date').size().reset_index(name='counts')\n",
    "# n_categories = df.shape[0]\n",
    "# colors = [plt.cm.inferno_r(i/float(n_categories)) for i in range(n_categories)]\n",
    "\n",
    "# # Draw Plot and Decorate\n",
    "# fig = plt.figure(\n",
    "#     FigureClass=Waffle,\n",
    "#     plots={\n",
    "#         '111': {\n",
    "#             'values': df['counts'],\n",
    "#             'labels': [\"{0} ({1})\".format(n[0], n[1]) for n in df[['Date', 'counts']].itertuples()],\n",
    "#             'legend': {'loc': 'upper left', 'bbox_to_anchor': (1.05, 1), 'fontsize': 12},\n",
    "#             'title': {'label': '# Vehicles by Class', 'loc': 'center', 'fontsize':18}\n",
    "#         },\n",
    "#     },\n",
    "#     rows=7,\n",
    "#     colors=colors,\n",
    "#     figsize=(16, 9)\n",
    "# )"
   ]
  },
  {
   "cell_type": "code",
   "execution_count": 83,
   "metadata": {},
   "outputs": [
    {
     "data": {
      "image/png": "[encoded data removed]",
      "text/plain": [
       "<Figure size 720x360 with 1 Axes>"
      ]
     },
     "metadata": {
      "needs_background": "light"
     },
     "output_type": "display_data"
    }
   ],
   "source": [
    "f = plt.figure(figsize=(10,5))\n",
    "# f.add_subplot(111)\n",
    "# plt.axes(axisbelow=True)\n",
    "plt.barh(covid_19_india_state.sort_values('Cured')[\"Cured\"].index[-20:],covid_19_india_state.sort_values('Cured')[\"Cured\"].values[-20:],color=\"darkcyan\")\n",
    "plt.tick_params(size=5,labelsize = 13)\n",
    "plt.xlabel(\"CURED Cases\",fontsize=18)\n",
    "plt.title(\"Top 20 Countries (CURED Cases)\",fontsize=20)\n",
    "plt.grid(alpha=0.3)\n",
    "# plt.savefig('Top 10 Countries (Cured Cases).png')"
   ]
  },
  {
   "cell_type": "code",
   "execution_count": 82,
   "metadata": {
    "scrolled": true
   },
   "outputs": [
    {
     "data": {
      "image/png": "[encoded data removed]",
      "text/plain": [
       "<Figure size 720x360 with 1 Axes>"
      ]
     },
     "metadata": {
      "needs_background": "light"
     },
     "output_type": "display_data"
    }
   ],
   "source": [
    "f = plt.figure(figsize=(10,5))\n",
    "f.add_subplot(111)\n",
    "\n",
    "plt.axes(axisbelow=True)\n",
    "plt.barh(covid_19_india_state.sort_values('Deaths')[\"Deaths\"].index[-16:],covid_19_india_state.sort_values('Deaths')[\"Deaths\"].values[-16:],color=\"cyan\")\n",
    "plt.tick_params(size=5,labelsize = 13)\n",
    "plt.xlabel(\"Deaths Cases\",fontsize=18)\n",
    "plt.title(\"Top 16 Countries (Deaths Cases)\",fontsize=20)\n",
    "plt.grid(alpha=0.3)"
   ]
  },
  {
   "cell_type": "code",
   "execution_count": 75,
   "metadata": {},
   "outputs": [
    {
     "data": {
      "image/png": "[encoded data removed]",
      "text/plain": [
       "<Figure size 864x432 with 1 Axes>"
      ]
     },
     "metadata": {
      "needs_background": "light"
     },
     "output_type": "display_data"
    }
   ],
   "source": [
    "f = plt.figure(figsize=(12,6))\n",
    "f.add_subplot(111)\n",
    "\n",
    "plt.axes(axisbelow=True)\n",
    "plt.barh(covid_19_india_state.sort_values('Confirmed')[\"Confirmed\"].index[-25:],covid_19_india_state.sort_values('Confirmed')[\"Confirmed\"].values[-25:],color=\"green\")\n",
    "plt.tick_params(size=5,labelsize = 13)\n",
    "plt.xlabel(\"Confirmed Cases\",fontsize=18)\n",
    "plt.title(\"Top 25 Countries (Confirmed Cases)\",fontsize=20)\n",
    "plt.grid(alpha=0.4)"
   ]
  },
  {
   "cell_type": "markdown",
   "metadata": {},
   "source": [
    "# Maharashtra Have Higher case for death, cured and confirmed. "
   ]
  },
  {
   "cell_type": "code",
   "execution_count": 27,
   "metadata": {},
   "outputs": [
    {
     "data": {
      "text/html": [
       "<div>\n",
       "<style scoped>\n",
       "    .dataframe tbody tr th:only-of-type {\n",
       "        vertical-align: middle;\n",
       "    }\n",
       "\n",
       "    .dataframe tbody tr th {\n",
       "        vertical-align: top;\n",
       "    }\n",
       "\n",
       "    .dataframe thead th {\n",
       "        text-align: right;\n",
       "    }\n",
       "</style>\n",
       "<table border=\"1\" class=\"dataframe\">\n",
       "  <thead>\n",
       "    <tr style=\"text-align: right;\">\n",
       "      <th></th>\n",
       "      <th>Sno</th>\n",
       "      <th>State/UT</th>\n",
       "      <th>NumPrimaryHealthCenters_HMIS</th>\n",
       "      <th>NumCommunityHealthCenters_HMIS</th>\n",
       "      <th>NumSubDistrictHospitals_HMIS</th>\n",
       "      <th>NumDistrictHospitals_HMIS</th>\n",
       "      <th>TotalPublicHealthFacilities_HMIS</th>\n",
       "      <th>NumPublicBeds_HMIS</th>\n",
       "      <th>NumRuralHospitals_NHP18</th>\n",
       "      <th>NumRuralBeds_NHP18</th>\n",
       "      <th>NumUrbanHospitals_NHP18</th>\n",
       "      <th>NumUrbanBeds_NHP18</th>\n",
       "      <th>Unnamed: 12</th>\n",
       "      <th>Unnamed: 13</th>\n",
       "    </tr>\n",
       "  </thead>\n",
       "  <tbody>\n",
       "    <tr>\n",
       "      <th>0</th>\n",
       "      <td>1.0</td>\n",
       "      <td>Andaman &amp; Nicobar Islands</td>\n",
       "      <td>27</td>\n",
       "      <td>4</td>\n",
       "      <td>NaN</td>\n",
       "      <td>3</td>\n",
       "      <td>34</td>\n",
       "      <td>1246</td>\n",
       "      <td>27.0</td>\n",
       "      <td>575.0</td>\n",
       "      <td>3.0</td>\n",
       "      <td>500.0</td>\n",
       "      <td>NaN</td>\n",
       "      <td>NaN</td>\n",
       "    </tr>\n",
       "    <tr>\n",
       "      <th>1</th>\n",
       "      <td>2.0</td>\n",
       "      <td>Andhra Pradesh</td>\n",
       "      <td>1417</td>\n",
       "      <td>198</td>\n",
       "      <td>31</td>\n",
       "      <td>20</td>\n",
       "      <td>1666</td>\n",
       "      <td>60799</td>\n",
       "      <td>193.0</td>\n",
       "      <td>6480.0</td>\n",
       "      <td>65.0</td>\n",
       "      <td>16658.0</td>\n",
       "      <td>NaN</td>\n",
       "      <td>NaN</td>\n",
       "    </tr>\n",
       "  </tbody>\n",
       "</table>\n",
       "</div>"
      ],
      "text/plain": [
       "   Sno                   State/UT NumPrimaryHealthCenters_HMIS  \\\n",
       "0  1.0  Andaman & Nicobar Islands                           27   \n",
       "1  2.0             Andhra Pradesh                         1417   \n",
       "\n",
       "  NumCommunityHealthCenters_HMIS NumSubDistrictHospitals_HMIS  \\\n",
       "0                              4                          NaN   \n",
       "1                            198                           31   \n",
       "\n",
       "  NumDistrictHospitals_HMIS TotalPublicHealthFacilities_HMIS  \\\n",
       "0                         3                               34   \n",
       "1                        20                             1666   \n",
       "\n",
       "  NumPublicBeds_HMIS  NumRuralHospitals_NHP18  NumRuralBeds_NHP18  \\\n",
       "0               1246                     27.0               575.0   \n",
       "1              60799                    193.0              6480.0   \n",
       "\n",
       "   NumUrbanHospitals_NHP18  NumUrbanBeds_NHP18  Unnamed: 12  Unnamed: 13  \n",
       "0                      3.0               500.0          NaN          NaN  \n",
       "1                     65.0             16658.0          NaN          NaN  "
      ]
     },
     "execution_count": 27,
     "metadata": {},
     "output_type": "execute_result"
    }
   ],
   "source": [
    "HospitalBedsIndia.head(2)"
   ]
  },
  {
   "cell_type": "code",
   "execution_count": 28,
   "metadata": {},
   "outputs": [
    {
     "data": {
      "text/html": [
       "<div>\n",
       "<style scoped>\n",
       "    .dataframe tbody tr th:only-of-type {\n",
       "        vertical-align: middle;\n",
       "    }\n",
       "\n",
       "    .dataframe tbody tr th {\n",
       "        vertical-align: top;\n",
       "    }\n",
       "\n",
       "    .dataframe thead th {\n",
       "        text-align: right;\n",
       "    }\n",
       "</style>\n",
       "<table border=\"1\" class=\"dataframe\">\n",
       "  <thead>\n",
       "    <tr style=\"text-align: right;\">\n",
       "      <th></th>\n",
       "      <th>Sno</th>\n",
       "      <th>NumRuralHospitals_NHP18</th>\n",
       "      <th>NumRuralBeds_NHP18</th>\n",
       "      <th>NumUrbanHospitals_NHP18</th>\n",
       "      <th>NumUrbanBeds_NHP18</th>\n",
       "      <th>Unnamed: 12</th>\n",
       "      <th>Unnamed: 13</th>\n",
       "    </tr>\n",
       "    <tr>\n",
       "      <th>State/UT</th>\n",
       "      <th></th>\n",
       "      <th></th>\n",
       "      <th></th>\n",
       "      <th></th>\n",
       "      <th></th>\n",
       "      <th></th>\n",
       "      <th></th>\n",
       "    </tr>\n",
       "  </thead>\n",
       "  <tbody>\n",
       "    <tr>\n",
       "      <th>All India</th>\n",
       "      <td>37.0</td>\n",
       "      <td>19810.0</td>\n",
       "      <td>279588.0</td>\n",
       "      <td>3772.0</td>\n",
       "      <td>431173.0</td>\n",
       "      <td>0.0</td>\n",
       "      <td>0.0</td>\n",
       "    </tr>\n",
       "    <tr>\n",
       "      <th>Andaman &amp; Nicobar Islands</th>\n",
       "      <td>1.0</td>\n",
       "      <td>27.0</td>\n",
       "      <td>575.0</td>\n",
       "      <td>3.0</td>\n",
       "      <td>500.0</td>\n",
       "      <td>0.0</td>\n",
       "      <td>0.0</td>\n",
       "    </tr>\n",
       "  </tbody>\n",
       "</table>\n",
       "</div>"
      ],
      "text/plain": [
       "                            Sno  NumRuralHospitals_NHP18  NumRuralBeds_NHP18  \\\n",
       "State/UT                                                                       \n",
       "All India                  37.0                  19810.0            279588.0   \n",
       "Andaman & Nicobar Islands   1.0                     27.0               575.0   \n",
       "\n",
       "                           NumUrbanHospitals_NHP18  NumUrbanBeds_NHP18  \\\n",
       "State/UT                                                                 \n",
       "All India                                   3772.0            431173.0   \n",
       "Andaman & Nicobar Islands                      3.0               500.0   \n",
       "\n",
       "                           Unnamed: 12  Unnamed: 13  \n",
       "State/UT                                             \n",
       "All India                          0.0          0.0  \n",
       "Andaman & Nicobar Islands          0.0          0.0  "
      ]
     },
     "execution_count": 28,
     "metadata": {},
     "output_type": "execute_result"
    }
   ],
   "source": [
    "HospitalBedsIndia_state = HospitalBedsIndia.groupby([\"State/UT\"]).sum()\n",
    "HospitalBedsIndia_state.head(2)"
   ]
  },
  {
   "cell_type": "code",
   "execution_count": 29,
   "metadata": {},
   "outputs": [
    {
     "data": {
      "text/plain": [
       "Sno          9767\n",
       "Cured         394\n",
       "Deaths        180\n",
       "Confirmed    4447\n",
       "Name: Maharashtra, dtype: int64"
      ]
     },
     "execution_count": 29,
     "metadata": {},
     "output_type": "execute_result"
    }
   ],
   "source": [
    "covid_19_cases = covid_19_india_state.loc['Maharashtra']\n",
    "covid_19_available = HospitalBedsIndia_state.loc['Maharashtra']\n",
    "covid_19_cases"
   ]
  },
  {
   "cell_type": "code",
   "execution_count": 30,
   "metadata": {},
   "outputs": [
    {
     "data": {
      "text/plain": [
       "Sno                           21.0\n",
       "NumRuralHospitals_NHP18      273.0\n",
       "NumRuralBeds_NHP18         12398.0\n",
       "NumUrbanHospitals_NHP18      438.0\n",
       "NumUrbanBeds_NHP18         39048.0\n",
       "Unnamed: 12                    0.0\n",
       "Unnamed: 13                    0.0\n",
       "Name: Maharashtra, dtype: float64"
      ]
     },
     "execution_count": 30,
     "metadata": {},
     "output_type": "execute_result"
    }
   ],
   "source": [
    "covid_19_available"
   ]
  },
  {
   "cell_type": "code",
   "execution_count": 31,
   "metadata": {},
   "outputs": [
    {
     "data": {
      "text/plain": [
       "Sno                         9767.0\n",
       "Cured                        394.0\n",
       "Deaths                       180.0\n",
       "Confirmed                   4447.0\n",
       "Sno                           21.0\n",
       "NumRuralHospitals_NHP18      273.0\n",
       "NumRuralBeds_NHP18         12398.0\n",
       "NumUrbanHospitals_NHP18      438.0\n",
       "NumUrbanBeds_NHP18         39048.0\n",
       "Unnamed: 12                    0.0\n",
       "Unnamed: 13                    0.0\n",
       "Name: Maharashtra, dtype: float64"
      ]
     },
     "execution_count": 31,
     "metadata": {},
     "output_type": "execute_result"
    }
   ],
   "source": [
    "df_merge = pd.concat([covid_19_india_state, HospitalBedsIndia_state], axis=1, sort=False)\n",
    "df_merge = df_merge.loc['Maharashtra']\n",
    "df_merge"
   ]
  },
  {
   "cell_type": "code",
   "execution_count": 34,
   "metadata": {},
   "outputs": [
    {
     "data": {
      "text/plain": [
       "Sno                         9767.000000\n",
       "Cured                        394.000000\n",
       "Deaths                       180.000000\n",
       "Confirmed                   4447.000000\n",
       "Sno                           21.000000\n",
       "NumRuralHospitals_NHP18      273.000000\n",
       "NumRuralBeds_NHP18         12398.000000\n",
       "NumUrbanHospitals_NHP18      438.000000\n",
       "NumUrbanBeds_NHP18         39048.000000\n",
       "Unnamed: 12                    0.000000\n",
       "Unnamed: 13                    0.000000\n",
       "Negative_rate                  4.047673\n",
       "Positive_rate                  8.859906\n",
       "Name: Maharashtra, dtype: float64"
      ]
     },
     "execution_count": 34,
     "metadata": {},
     "output_type": "execute_result"
    }
   ],
   "source": [
    "# (180/4447)*100\n",
    "df_merge['Negative_rate'] = (df_merge['Deaths'] / df_merge['Confirmed'])*100\n",
    "df_merge['Positive_rate'] = (df_merge['Cured'] / df_merge['Confirmed'])*100\n",
    "df_merge"
   ]
  },
  {
   "cell_type": "markdown",
   "metadata": {},
   "source": [
    "4% people death due to covid 19 by confirmed case.\n",
    "Negative_rate = 4.047673 and\n",
    "Positive_rate = 8.859906"
   ]
  },
  {
   "cell_type": "markdown",
   "metadata": {},
   "source": [
    "8.6 % covid patient occupied bed in Maharashtra."
   ]
  },
  {
   "cell_type": "code",
   "execution_count": 53,
   "metadata": {},
   "outputs": [
    {
     "data": {
      "text/html": [
       "<div>\n",
       "<style scoped>\n",
       "    .dataframe tbody tr th:only-of-type {\n",
       "        vertical-align: middle;\n",
       "    }\n",
       "\n",
       "    .dataframe tbody tr th {\n",
       "        vertical-align: top;\n",
       "    }\n",
       "\n",
       "    .dataframe thead th {\n",
       "        text-align: right;\n",
       "    }\n",
       "</style>\n",
       "<table border=\"1\" class=\"dataframe\">\n",
       "  <thead>\n",
       "    <tr style=\"text-align: right;\">\n",
       "      <th></th>\n",
       "      <th>DateTime</th>\n",
       "      <th>TotalSamplesTested</th>\n",
       "      <th>TotalIndividualsTested</th>\n",
       "      <th>TotalPositiveCases</th>\n",
       "    </tr>\n",
       "  </thead>\n",
       "  <tbody>\n",
       "    <tr>\n",
       "      <th>0</th>\n",
       "      <td>13/03/20 0:00</td>\n",
       "      <td>6500</td>\n",
       "      <td>5900</td>\n",
       "      <td>78</td>\n",
       "    </tr>\n",
       "    <tr>\n",
       "      <th>1</th>\n",
       "      <td>18/03/20 18:00</td>\n",
       "      <td>13125</td>\n",
       "      <td>12235</td>\n",
       "      <td>150</td>\n",
       "    </tr>\n",
       "  </tbody>\n",
       "</table>\n",
       "</div>"
      ],
      "text/plain": [
       "         DateTime  TotalSamplesTested  TotalIndividualsTested  \\\n",
       "0   13/03/20 0:00                6500                    5900   \n",
       "1  18/03/20 18:00               13125                   12235   \n",
       "\n",
       "   TotalPositiveCases  \n",
       "0                  78  \n",
       "1                 150  "
      ]
     },
     "execution_count": 53,
     "metadata": {},
     "output_type": "execute_result"
    }
   ],
   "source": [
    "ICMRTestingDetails.head(2)\n",
    "ICMRTestingDetail = ICMRTestingDetails.drop(['SNo'], axis = 1)\n",
    "ICMRTestingDetai = ICMRTestingDetail.drop(['Source'], axis = 1)\n",
    "ICMRTestingDetai.head(2)"
   ]
  },
  {
   "cell_type": "markdown",
   "metadata": {},
   "source": [
    "# STATE WISE TotalSamplesTested, TotalIndividualsTested AND TotalPositiveCases CASES of COVID-19"
   ]
  },
  {
   "cell_type": "code",
   "execution_count": 121,
   "metadata": {},
   "outputs": [
    {
     "data": {
      "text/html": [
       "<style  type=\"text/css\" >\n",
       "    #T_889570cc_7abe_11ea_95b8_acbc32877967row0_col1 {\n",
       "            background-color:  #800026;\n",
       "            color:  #f1f1f1;\n",
       "        }    #T_889570cc_7abe_11ea_95b8_acbc32877967row0_col2 {\n",
       "            background-color:  #800026;\n",
       "            color:  #f1f1f1;\n",
       "        }    #T_889570cc_7abe_11ea_95b8_acbc32877967row0_col3 {\n",
       "            background-color:  #800026;\n",
       "            color:  #f1f1f1;\n",
       "        }    #T_889570cc_7abe_11ea_95b8_acbc32877967row1_col1 {\n",
       "            background-color:  #b90026;\n",
       "            color:  #f1f1f1;\n",
       "        }    #T_889570cc_7abe_11ea_95b8_acbc32877967row1_col2 {\n",
       "            background-color:  #b90026;\n",
       "            color:  #f1f1f1;\n",
       "        }    #T_889570cc_7abe_11ea_95b8_acbc32877967row1_col3 {\n",
       "            background-color:  #a80026;\n",
       "            color:  #f1f1f1;\n",
       "        }    #T_889570cc_7abe_11ea_95b8_acbc32877967row2_col1 {\n",
       "            background-color:  #be0126;\n",
       "            color:  #f1f1f1;\n",
       "        }    #T_889570cc_7abe_11ea_95b8_acbc32877967row2_col2 {\n",
       "            background-color:  #c00225;\n",
       "            color:  #f1f1f1;\n",
       "        }    #T_889570cc_7abe_11ea_95b8_acbc32877967row2_col3 {\n",
       "            background-color:  #aa0026;\n",
       "            color:  #f1f1f1;\n",
       "        }    #T_889570cc_7abe_11ea_95b8_acbc32877967row3_col1 {\n",
       "            background-color:  #dc151e;\n",
       "            color:  #f1f1f1;\n",
       "        }    #T_889570cc_7abe_11ea_95b8_acbc32877967row3_col2 {\n",
       "            background-color:  #dd161d;\n",
       "            color:  #f1f1f1;\n",
       "        }    #T_889570cc_7abe_11ea_95b8_acbc32877967row3_col3 {\n",
       "            background-color:  #d30f20;\n",
       "            color:  #f1f1f1;\n",
       "        }    #T_889570cc_7abe_11ea_95b8_acbc32877967row4_col1 {\n",
       "            background-color:  #df171d;\n",
       "            color:  #f1f1f1;\n",
       "        }    #T_889570cc_7abe_11ea_95b8_acbc32877967row4_col2 {\n",
       "            background-color:  #e0181d;\n",
       "            color:  #f1f1f1;\n",
       "        }    #T_889570cc_7abe_11ea_95b8_acbc32877967row4_col3 {\n",
       "            background-color:  #d9131f;\n",
       "            color:  #f1f1f1;\n",
       "        }    #T_889570cc_7abe_11ea_95b8_acbc32877967row5_col1 {\n",
       "            background-color:  #f94828;\n",
       "            color:  #000000;\n",
       "        }    #T_889570cc_7abe_11ea_95b8_acbc32877967row5_col2 {\n",
       "            background-color:  #fb4b29;\n",
       "            color:  #000000;\n",
       "        }    #T_889570cc_7abe_11ea_95b8_acbc32877967row5_col3 {\n",
       "            background-color:  #f33b25;\n",
       "            color:  #f1f1f1;\n",
       "        }    #T_889570cc_7abe_11ea_95b8_acbc32877967row6_col1 {\n",
       "            background-color:  #fc4f2a;\n",
       "            color:  #000000;\n",
       "        }    #T_889570cc_7abe_11ea_95b8_acbc32877967row6_col2 {\n",
       "            background-color:  #fc512b;\n",
       "            color:  #000000;\n",
       "        }    #T_889570cc_7abe_11ea_95b8_acbc32877967row6_col3 {\n",
       "            background-color:  #fb4b29;\n",
       "            color:  #000000;\n",
       "        }    #T_889570cc_7abe_11ea_95b8_acbc32877967row7_col1 {\n",
       "            background-color:  #fc6c33;\n",
       "            color:  #000000;\n",
       "        }    #T_889570cc_7abe_11ea_95b8_acbc32877967row7_col2 {\n",
       "            background-color:  #fd7034;\n",
       "            color:  #000000;\n",
       "        }    #T_889570cc_7abe_11ea_95b8_acbc32877967row7_col3 {\n",
       "            background-color:  #fd8239;\n",
       "            color:  #000000;\n",
       "        }    #T_889570cc_7abe_11ea_95b8_acbc32877967row8_col1 {\n",
       "            background-color:  #fd7034;\n",
       "            color:  #000000;\n",
       "        }    #T_889570cc_7abe_11ea_95b8_acbc32877967row8_col2 {\n",
       "            background-color:  #fd7234;\n",
       "            color:  #000000;\n",
       "        }    #T_889570cc_7abe_11ea_95b8_acbc32877967row8_col3 {\n",
       "            background-color:  #fd9640;\n",
       "            color:  #000000;\n",
       "        }    #T_889570cc_7abe_11ea_95b8_acbc32877967row9_col1 {\n",
       "            background-color:  #fd8f3d;\n",
       "            color:  #000000;\n",
       "        }    #T_889570cc_7abe_11ea_95b8_acbc32877967row9_col2 {\n",
       "            background-color:  #fd913e;\n",
       "            color:  #000000;\n",
       "        }    #T_889570cc_7abe_11ea_95b8_acbc32877967row9_col3 {\n",
       "            background-color:  #feaf4b;\n",
       "            color:  #000000;\n",
       "        }    #T_889570cc_7abe_11ea_95b8_acbc32877967row10_col1 {\n",
       "            background-color:  #fd933f;\n",
       "            color:  #000000;\n",
       "        }    #T_889570cc_7abe_11ea_95b8_acbc32877967row10_col2 {\n",
       "            background-color:  #fd9640;\n",
       "            color:  #000000;\n",
       "        }    #T_889570cc_7abe_11ea_95b8_acbc32877967row10_col3 {\n",
       "            background-color:  #fec561;\n",
       "            color:  #000000;\n",
       "        }    #T_889570cc_7abe_11ea_95b8_acbc32877967row11_col1 {\n",
       "            background-color:  #fea446;\n",
       "            color:  #000000;\n",
       "        }    #T_889570cc_7abe_11ea_95b8_acbc32877967row11_col2 {\n",
       "            background-color:  #fea747;\n",
       "            color:  #000000;\n",
       "        }    #T_889570cc_7abe_11ea_95b8_acbc32877967row11_col3 {\n",
       "            background-color:  #fed774;\n",
       "            color:  #000000;\n",
       "        }    #T_889570cc_7abe_11ea_95b8_acbc32877967row12_col1 {\n",
       "            background-color:  #fea747;\n",
       "            color:  #000000;\n",
       "        }    #T_889570cc_7abe_11ea_95b8_acbc32877967row12_col2 {\n",
       "            background-color:  #fea948;\n",
       "            color:  #000000;\n",
       "        }    #T_889570cc_7abe_11ea_95b8_acbc32877967row12_col3 {\n",
       "            background-color:  #fee085;\n",
       "            color:  #000000;\n",
       "        }    #T_889570cc_7abe_11ea_95b8_acbc32877967row13_col1 {\n",
       "            background-color:  #feb54f;\n",
       "            color:  #000000;\n",
       "        }    #T_889570cc_7abe_11ea_95b8_acbc32877967row13_col2 {\n",
       "            background-color:  #feb852;\n",
       "            color:  #000000;\n",
       "        }    #T_889570cc_7abe_11ea_95b8_acbc32877967row13_col3 {\n",
       "            background-color:  #ffe58f;\n",
       "            color:  #000000;\n",
       "        }    #T_889570cc_7abe_11ea_95b8_acbc32877967row14_col1 {\n",
       "            background-color:  #feb953;\n",
       "            color:  #000000;\n",
       "        }    #T_889570cc_7abe_11ea_95b8_acbc32877967row14_col2 {\n",
       "            background-color:  #febb56;\n",
       "            color:  #000000;\n",
       "        }    #T_889570cc_7abe_11ea_95b8_acbc32877967row14_col3 {\n",
       "            background-color:  #ffea9b;\n",
       "            color:  #000000;\n",
       "        }    #T_889570cc_7abe_11ea_95b8_acbc32877967row15_col1 {\n",
       "            background-color:  #ffffcc;\n",
       "            color:  #000000;\n",
       "        }    #T_889570cc_7abe_11ea_95b8_acbc32877967row15_col2 {\n",
       "            background-color:  #ffffcc;\n",
       "            color:  #000000;\n",
       "        }    #T_889570cc_7abe_11ea_95b8_acbc32877967row15_col3 {\n",
       "            background-color:  #ffffcc;\n",
       "            color:  #000000;\n",
       "        }</style><table id=\"T_889570cc_7abe_11ea_95b8_acbc32877967\" ><thead>    <tr>        <th class=\"blank level0\" ></th>        <th class=\"col_heading level0 col0\" >DateTime</th>        <th class=\"col_heading level0 col1\" >TotalSamplesTested</th>        <th class=\"col_heading level0 col2\" >TotalIndividualsTested</th>        <th class=\"col_heading level0 col3\" >TotalPositiveCases</th>    </tr></thead><tbody>\n",
       "                <tr>\n",
       "                        <th id=\"T_889570cc_7abe_11ea_95b8_acbc32877967level0_row0\" class=\"row_heading level0 row0\" >15</th>\n",
       "                        <td id=\"T_889570cc_7abe_11ea_95b8_acbc32877967row0_col0\" class=\"data row0 col0\" >25/03/20 20:00</td>\n",
       "                        <td id=\"T_889570cc_7abe_11ea_95b8_acbc32877967row0_col1\" class=\"data row0 col1\" >25144</td>\n",
       "                        <td id=\"T_889570cc_7abe_11ea_95b8_acbc32877967row0_col2\" class=\"data row0 col2\" >24254</td>\n",
       "                        <td id=\"T_889570cc_7abe_11ea_95b8_acbc32877967row0_col3\" class=\"data row0 col3\" >581</td>\n",
       "            </tr>\n",
       "            <tr>\n",
       "                        <th id=\"T_889570cc_7abe_11ea_95b8_acbc32877967level0_row1\" class=\"row_heading level0 row1\" >14</th>\n",
       "                        <td id=\"T_889570cc_7abe_11ea_95b8_acbc32877967row1_col0\" class=\"data row1 col0\" >25/03/20 10:00</td>\n",
       "                        <td id=\"T_889570cc_7abe_11ea_95b8_acbc32877967row1_col1\" class=\"data row1 col1\" >22928</td>\n",
       "                        <td id=\"T_889570cc_7abe_11ea_95b8_acbc32877967row1_col2\" class=\"data row1 col2\" >22038</td>\n",
       "                        <td id=\"T_889570cc_7abe_11ea_95b8_acbc32877967row1_col3\" class=\"data row1 col3\" >539</td>\n",
       "            </tr>\n",
       "            <tr>\n",
       "                        <th id=\"T_889570cc_7abe_11ea_95b8_acbc32877967level0_row2\" class=\"row_heading level0 row2\" >13</th>\n",
       "                        <td id=\"T_889570cc_7abe_11ea_95b8_acbc32877967row2_col0\" class=\"data row2 col0\" >24/03/20 20:00</td>\n",
       "                        <td id=\"T_889570cc_7abe_11ea_95b8_acbc32877967row2_col1\" class=\"data row2 col1\" >22694</td>\n",
       "                        <td id=\"T_889570cc_7abe_11ea_95b8_acbc32877967row2_col2\" class=\"data row2 col2\" >21804</td>\n",
       "                        <td id=\"T_889570cc_7abe_11ea_95b8_acbc32877967row2_col3\" class=\"data row2 col3\" >536</td>\n",
       "            </tr>\n",
       "            <tr>\n",
       "                        <th id=\"T_889570cc_7abe_11ea_95b8_acbc32877967level0_row3\" class=\"row_heading level0 row3\" >12</th>\n",
       "                        <td id=\"T_889570cc_7abe_11ea_95b8_acbc32877967row3_col0\" class=\"data row3 col0\" >24/03/20 10:00</td>\n",
       "                        <td id=\"T_889570cc_7abe_11ea_95b8_acbc32877967row3_col1\" class=\"data row3 col1\" >20864</td>\n",
       "                        <td id=\"T_889570cc_7abe_11ea_95b8_acbc32877967row3_col2\" class=\"data row3 col2\" >19974</td>\n",
       "                        <td id=\"T_889570cc_7abe_11ea_95b8_acbc32877967row3_col3\" class=\"data row3 col3\" >482</td>\n",
       "            </tr>\n",
       "            <tr>\n",
       "                        <th id=\"T_889570cc_7abe_11ea_95b8_acbc32877967level0_row4\" class=\"row_heading level0 row4\" >11</th>\n",
       "                        <td id=\"T_889570cc_7abe_11ea_95b8_acbc32877967row4_col0\" class=\"data row4 col0\" >23/03/20 20:00</td>\n",
       "                        <td id=\"T_889570cc_7abe_11ea_95b8_acbc32877967row4_col1\" class=\"data row4 col1\" >20707</td>\n",
       "                        <td id=\"T_889570cc_7abe_11ea_95b8_acbc32877967row4_col2\" class=\"data row4 col2\" >19817</td>\n",
       "                        <td id=\"T_889570cc_7abe_11ea_95b8_acbc32877967row4_col3\" class=\"data row4 col3\" >471</td>\n",
       "            </tr>\n",
       "            <tr>\n",
       "                        <th id=\"T_889570cc_7abe_11ea_95b8_acbc32877967level0_row5\" class=\"row_heading level0 row5\" >10</th>\n",
       "                        <td id=\"T_889570cc_7abe_11ea_95b8_acbc32877967row5_col0\" class=\"data row5 col0\" >23/03/20 10:00</td>\n",
       "                        <td id=\"T_889570cc_7abe_11ea_95b8_acbc32877967row5_col1\" class=\"data row5 col1\" >18383</td>\n",
       "                        <td id=\"T_889570cc_7abe_11ea_95b8_acbc32877967row5_col2\" class=\"data row5 col2\" >17493</td>\n",
       "                        <td id=\"T_889570cc_7abe_11ea_95b8_acbc32877967row5_col3\" class=\"data row5 col3\" >415</td>\n",
       "            </tr>\n",
       "            <tr>\n",
       "                        <th id=\"T_889570cc_7abe_11ea_95b8_acbc32877967level0_row6\" class=\"row_heading level0 row6\" >9</th>\n",
       "                        <td id=\"T_889570cc_7abe_11ea_95b8_acbc32877967row6_col0\" class=\"data row6 col0\" >22/03/20 18:00</td>\n",
       "                        <td id=\"T_889570cc_7abe_11ea_95b8_acbc32877967row6_col1\" class=\"data row6 col1\" >18127</td>\n",
       "                        <td id=\"T_889570cc_7abe_11ea_95b8_acbc32877967row6_col2\" class=\"data row6 col2\" >17237</td>\n",
       "                        <td id=\"T_889570cc_7abe_11ea_95b8_acbc32877967row6_col3\" class=\"data row6 col3\" >396</td>\n",
       "            </tr>\n",
       "            <tr>\n",
       "                        <th id=\"T_889570cc_7abe_11ea_95b8_acbc32877967level0_row7\" class=\"row_heading level0 row7\" >8</th>\n",
       "                        <td id=\"T_889570cc_7abe_11ea_95b8_acbc32877967row7_col0\" class=\"data row7 col0\" >22/03/20 10:00</td>\n",
       "                        <td id=\"T_889570cc_7abe_11ea_95b8_acbc32877967row7_col1\" class=\"data row7 col1\" >16999</td>\n",
       "                        <td id=\"T_889570cc_7abe_11ea_95b8_acbc32877967row7_col2\" class=\"data row7 col2\" >16109</td>\n",
       "                        <td id=\"T_889570cc_7abe_11ea_95b8_acbc32877967row7_col3\" class=\"data row7 col3\" >341</td>\n",
       "            </tr>\n",
       "            <tr>\n",
       "                        <th id=\"T_889570cc_7abe_11ea_95b8_acbc32877967level0_row8\" class=\"row_heading level0 row8\" >7</th>\n",
       "                        <td id=\"T_889570cc_7abe_11ea_95b8_acbc32877967row8_col0\" class=\"data row8 col0\" >21/03/20 18:00</td>\n",
       "                        <td id=\"T_889570cc_7abe_11ea_95b8_acbc32877967row8_col1\" class=\"data row8 col1\" >16911</td>\n",
       "                        <td id=\"T_889570cc_7abe_11ea_95b8_acbc32877967row8_col2\" class=\"data row8 col2\" >16021</td>\n",
       "                        <td id=\"T_889570cc_7abe_11ea_95b8_acbc32877967row8_col3\" class=\"data row8 col3\" >315</td>\n",
       "            </tr>\n",
       "            <tr>\n",
       "                        <th id=\"T_889570cc_7abe_11ea_95b8_acbc32877967level0_row9\" class=\"row_heading level0 row9\" >6</th>\n",
       "                        <td id=\"T_889570cc_7abe_11ea_95b8_acbc32877967row9_col0\" class=\"data row9 col0\" >21/03/20 10:00</td>\n",
       "                        <td id=\"T_889570cc_7abe_11ea_95b8_acbc32877967row9_col1\" class=\"data row9 col1\" >15701</td>\n",
       "                        <td id=\"T_889570cc_7abe_11ea_95b8_acbc32877967row9_col2\" class=\"data row9 col2\" >14811</td>\n",
       "                        <td id=\"T_889570cc_7abe_11ea_95b8_acbc32877967row9_col3\" class=\"data row9 col3\" >271</td>\n",
       "            </tr>\n",
       "            <tr>\n",
       "                        <th id=\"T_889570cc_7abe_11ea_95b8_acbc32877967level0_row10\" class=\"row_heading level0 row10\" >5</th>\n",
       "                        <td id=\"T_889570cc_7abe_11ea_95b8_acbc32877967row10_col0\" class=\"data row10 col0\" >20/03/20 18:00</td>\n",
       "                        <td id=\"T_889570cc_7abe_11ea_95b8_acbc32877967row10_col1\" class=\"data row10 col1\" >15404</td>\n",
       "                        <td id=\"T_889570cc_7abe_11ea_95b8_acbc32877967row10_col2\" class=\"data row10 col2\" >14514</td>\n",
       "                        <td id=\"T_889570cc_7abe_11ea_95b8_acbc32877967row10_col3\" class=\"data row10 col3\" >236</td>\n",
       "            </tr>\n",
       "            <tr>\n",
       "                        <th id=\"T_889570cc_7abe_11ea_95b8_acbc32877967level0_row11\" class=\"row_heading level0 row11\" >4</th>\n",
       "                        <td id=\"T_889570cc_7abe_11ea_95b8_acbc32877967row11_col0\" class=\"data row11 col0\" >20/03/20 10:00</td>\n",
       "                        <td id=\"T_889570cc_7abe_11ea_95b8_acbc32877967row11_col1\" class=\"data row11 col1\" >14376</td>\n",
       "                        <td id=\"T_889570cc_7abe_11ea_95b8_acbc32877967row11_col2\" class=\"data row11 col2\" >13486</td>\n",
       "                        <td id=\"T_889570cc_7abe_11ea_95b8_acbc32877967row11_col3\" class=\"data row11 col3\" >206</td>\n",
       "            </tr>\n",
       "            <tr>\n",
       "                        <th id=\"T_889570cc_7abe_11ea_95b8_acbc32877967level0_row12\" class=\"row_heading level0 row12\" >3</th>\n",
       "                        <td id=\"T_889570cc_7abe_11ea_95b8_acbc32877967row12_col0\" class=\"data row12 col0\" >19/03/20 18:00</td>\n",
       "                        <td id=\"T_889570cc_7abe_11ea_95b8_acbc32877967row12_col1\" class=\"data row12 col1\" >14175</td>\n",
       "                        <td id=\"T_889570cc_7abe_11ea_95b8_acbc32877967row12_col2\" class=\"data row12 col2\" >13285</td>\n",
       "                        <td id=\"T_889570cc_7abe_11ea_95b8_acbc32877967row12_col3\" class=\"data row12 col3\" >182</td>\n",
       "            </tr>\n",
       "            <tr>\n",
       "                        <th id=\"T_889570cc_7abe_11ea_95b8_acbc32877967level0_row13\" class=\"row_heading level0 row13\" >2</th>\n",
       "                        <td id=\"T_889570cc_7abe_11ea_95b8_acbc32877967row13_col0\" class=\"data row13 col0\" >19/03/20 10:00</td>\n",
       "                        <td id=\"T_889570cc_7abe_11ea_95b8_acbc32877967row13_col1\" class=\"data row13 col1\" >13316</td>\n",
       "                        <td id=\"T_889570cc_7abe_11ea_95b8_acbc32877967row13_col2\" class=\"data row13 col2\" >12426</td>\n",
       "                        <td id=\"T_889570cc_7abe_11ea_95b8_acbc32877967row13_col3\" class=\"data row13 col3\" >168</td>\n",
       "            </tr>\n",
       "            <tr>\n",
       "                        <th id=\"T_889570cc_7abe_11ea_95b8_acbc32877967level0_row14\" class=\"row_heading level0 row14\" >1</th>\n",
       "                        <td id=\"T_889570cc_7abe_11ea_95b8_acbc32877967row14_col0\" class=\"data row14 col0\" >18/03/20 18:00</td>\n",
       "                        <td id=\"T_889570cc_7abe_11ea_95b8_acbc32877967row14_col1\" class=\"data row14 col1\" >13125</td>\n",
       "                        <td id=\"T_889570cc_7abe_11ea_95b8_acbc32877967row14_col2\" class=\"data row14 col2\" >12235</td>\n",
       "                        <td id=\"T_889570cc_7abe_11ea_95b8_acbc32877967row14_col3\" class=\"data row14 col3\" >150</td>\n",
       "            </tr>\n",
       "            <tr>\n",
       "                        <th id=\"T_889570cc_7abe_11ea_95b8_acbc32877967level0_row15\" class=\"row_heading level0 row15\" >0</th>\n",
       "                        <td id=\"T_889570cc_7abe_11ea_95b8_acbc32877967row15_col0\" class=\"data row15 col0\" >13/03/20 0:00</td>\n",
       "                        <td id=\"T_889570cc_7abe_11ea_95b8_acbc32877967row15_col1\" class=\"data row15 col1\" >6500</td>\n",
       "                        <td id=\"T_889570cc_7abe_11ea_95b8_acbc32877967row15_col2\" class=\"data row15 col2\" >5900</td>\n",
       "                        <td id=\"T_889570cc_7abe_11ea_95b8_acbc32877967row15_col3\" class=\"data row15 col3\" >78</td>\n",
       "            </tr>\n",
       "    </tbody></table>"
      ],
      "text/plain": [
       "<pandas.io.formats.style.Styler at 0x1c30487ef0>"
      ]
     },
     "execution_count": 121,
     "metadata": {},
     "output_type": "execute_result"
    }
   ],
   "source": [
    "temp_f = ICMRTestingDetai.sort_values(by='TotalPositiveCases', ascending=False)\n",
    "# temp_f = temp_f.reset_index(drop=True)\n",
    "temp_f.style.background_gradient(cmap='YlOrRd')"
   ]
  },
  {
   "cell_type": "code",
   "execution_count": 55,
   "metadata": {},
   "outputs": [
    {
     "data": {
      "text/html": [
       "<div>\n",
       "<style scoped>\n",
       "    .dataframe tbody tr th:only-of-type {\n",
       "        vertical-align: middle;\n",
       "    }\n",
       "\n",
       "    .dataframe tbody tr th {\n",
       "        vertical-align: top;\n",
       "    }\n",
       "\n",
       "    .dataframe thead th {\n",
       "        text-align: right;\n",
       "    }\n",
       "</style>\n",
       "<table border=\"1\" class=\"dataframe\">\n",
       "  <thead>\n",
       "    <tr style=\"text-align: right;\">\n",
       "      <th></th>\n",
       "      <th>Sno</th>\n",
       "      <th>Date</th>\n",
       "      <th>Time</th>\n",
       "      <th>State/UnionTerritory</th>\n",
       "      <th>ConfirmedIndianNational</th>\n",
       "      <th>ConfirmedForeignNational</th>\n",
       "      <th>Cured</th>\n",
       "      <th>Deaths</th>\n",
       "      <th>Confirmed</th>\n",
       "      <th>date</th>\n",
       "      <th>SNo</th>\n",
       "      <th>DateTime</th>\n",
       "      <th>TotalSamplesTested</th>\n",
       "      <th>TotalIndividualsTested</th>\n",
       "      <th>TotalPositiveCases</th>\n",
       "      <th>Source</th>\n",
       "    </tr>\n",
       "  </thead>\n",
       "  <tbody>\n",
       "    <tr>\n",
       "      <th>0</th>\n",
       "      <td>1</td>\n",
       "      <td>30/01/20</td>\n",
       "      <td>6:00 PM</td>\n",
       "      <td>Kerala</td>\n",
       "      <td>1</td>\n",
       "      <td>0</td>\n",
       "      <td>0</td>\n",
       "      <td>0</td>\n",
       "      <td>1</td>\n",
       "      <td>2020-01-30</td>\n",
       "      <td>1.0</td>\n",
       "      <td>13/03/20 0:00</td>\n",
       "      <td>6500.0</td>\n",
       "      <td>5900.0</td>\n",
       "      <td>78.0</td>\n",
       "      <td>Press_Release_ICMR_13March2020.pdf</td>\n",
       "    </tr>\n",
       "    <tr>\n",
       "      <th>1</th>\n",
       "      <td>2</td>\n",
       "      <td>31/01/20</td>\n",
       "      <td>6:00 PM</td>\n",
       "      <td>Kerala</td>\n",
       "      <td>1</td>\n",
       "      <td>0</td>\n",
       "      <td>0</td>\n",
       "      <td>0</td>\n",
       "      <td>1</td>\n",
       "      <td>2020-01-31</td>\n",
       "      <td>2.0</td>\n",
       "      <td>18/03/20 18:00</td>\n",
       "      <td>13125.0</td>\n",
       "      <td>12235.0</td>\n",
       "      <td>150.0</td>\n",
       "      <td>ICMR_website_update_18March_6PM_IST.pdf</td>\n",
       "    </tr>\n",
       "    <tr>\n",
       "      <th>2</th>\n",
       "      <td>3</td>\n",
       "      <td>01/02/20</td>\n",
       "      <td>6:00 PM</td>\n",
       "      <td>Kerala</td>\n",
       "      <td>2</td>\n",
       "      <td>0</td>\n",
       "      <td>0</td>\n",
       "      <td>0</td>\n",
       "      <td>2</td>\n",
       "      <td>2020-01-02</td>\n",
       "      <td>3.0</td>\n",
       "      <td>19/03/20 10:00</td>\n",
       "      <td>13316.0</td>\n",
       "      <td>12426.0</td>\n",
       "      <td>168.0</td>\n",
       "      <td>ICMR_website_update_19March_10AM_IST_V2.pdf</td>\n",
       "    </tr>\n",
       "    <tr>\n",
       "      <th>3</th>\n",
       "      <td>4</td>\n",
       "      <td>02/02/20</td>\n",
       "      <td>6:00 PM</td>\n",
       "      <td>Kerala</td>\n",
       "      <td>3</td>\n",
       "      <td>0</td>\n",
       "      <td>0</td>\n",
       "      <td>0</td>\n",
       "      <td>3</td>\n",
       "      <td>2020-02-02</td>\n",
       "      <td>4.0</td>\n",
       "      <td>19/03/20 18:00</td>\n",
       "      <td>14175.0</td>\n",
       "      <td>13285.0</td>\n",
       "      <td>182.0</td>\n",
       "      <td>ICMR_website_update_19March_6PM_IST.pdf</td>\n",
       "    </tr>\n",
       "    <tr>\n",
       "      <th>4</th>\n",
       "      <td>5</td>\n",
       "      <td>03/02/20</td>\n",
       "      <td>6:00 PM</td>\n",
       "      <td>Kerala</td>\n",
       "      <td>3</td>\n",
       "      <td>0</td>\n",
       "      <td>0</td>\n",
       "      <td>0</td>\n",
       "      <td>3</td>\n",
       "      <td>2020-03-02</td>\n",
       "      <td>5.0</td>\n",
       "      <td>20/03/20 10:00</td>\n",
       "      <td>14376.0</td>\n",
       "      <td>13486.0</td>\n",
       "      <td>206.0</td>\n",
       "      <td>ICMR_website_update_20March_10AM_IST.pdf</td>\n",
       "    </tr>\n",
       "  </tbody>\n",
       "</table>\n",
       "</div>"
      ],
      "text/plain": [
       "   Sno      Date     Time State/UnionTerritory ConfirmedIndianNational  \\\n",
       "0    1  30/01/20  6:00 PM               Kerala                       1   \n",
       "1    2  31/01/20  6:00 PM               Kerala                       1   \n",
       "2    3  01/02/20  6:00 PM               Kerala                       2   \n",
       "3    4  02/02/20  6:00 PM               Kerala                       3   \n",
       "4    5  03/02/20  6:00 PM               Kerala                       3   \n",
       "\n",
       "  ConfirmedForeignNational  Cured  Deaths  Confirmed       date  SNo  \\\n",
       "0                        0      0       0          1 2020-01-30  1.0   \n",
       "1                        0      0       0          1 2020-01-31  2.0   \n",
       "2                        0      0       0          2 2020-01-02  3.0   \n",
       "3                        0      0       0          3 2020-02-02  4.0   \n",
       "4                        0      0       0          3 2020-03-02  5.0   \n",
       "\n",
       "         DateTime  TotalSamplesTested  TotalIndividualsTested  \\\n",
       "0   13/03/20 0:00              6500.0                  5900.0   \n",
       "1  18/03/20 18:00             13125.0                 12235.0   \n",
       "2  19/03/20 10:00             13316.0                 12426.0   \n",
       "3  19/03/20 18:00             14175.0                 13285.0   \n",
       "4  20/03/20 10:00             14376.0                 13486.0   \n",
       "\n",
       "   TotalPositiveCases                                       Source  \n",
       "0                78.0           Press_Release_ICMR_13March2020.pdf  \n",
       "1               150.0      ICMR_website_update_18March_6PM_IST.pdf  \n",
       "2               168.0  ICMR_website_update_19March_10AM_IST_V2.pdf  \n",
       "3               182.0      ICMR_website_update_19March_6PM_IST.pdf  \n",
       "4               206.0     ICMR_website_update_20March_10AM_IST.pdf  "
      ]
     },
     "execution_count": 55,
     "metadata": {},
     "output_type": "execute_result"
    }
   ],
   "source": [
    "merge_temp_covid = pd.concat([covid_19_india, ICMRTestingDetails], axis=1, sort=False)\n",
    "merge_temp_covid.head(5)"
   ]
  },
  {
   "cell_type": "code",
   "execution_count": 112,
   "metadata": {},
   "outputs": [],
   "source": [
    "# fig = px.choropleth(merge_temp_covid, locations=\"State/UnionTerritory\",locationmode='country names',\n",
    "#                     color=\"TotalPositiveCases\", hover_name=\"Confirmed\", title='Confirmed Positive Cases', \n",
    "#                     range_color=[1,50], color_continuous_scale=\"agsunset\")\n",
    "# fig.update(layout_coloraxis_showscale=False)\n",
    "# fig.update_layout(margin=dict(t=80,l=1,r=1,b=0))\n",
    "# # fig.write_image('covid-eda-1-1.png')\n",
    "# fig.show()\n"
   ]
  },
  {
   "cell_type": "code",
   "execution_count": 122,
   "metadata": {},
   "outputs": [
    {
     "data": {
      "application/vnd.plotly.v1+json": {
       "config": {
        "plotlyServerURL": "https://plot.ly"
       },
       "data": [
        {
         "hovertemplate": "TotalSamplesTested=%{x}<br>TotalPositiveCases=%{marker.color}<br>TotalIndividualsTested=%{marker.size}<extra></extra>",
         "legendgroup": "",
         "marker": {
          "color": [
           78,
           150,
           168,
           182,
           206,
           236,
           271,
           315,
           341,
           396,
           415,
           471,
           482,
           536,
           539,
           581
          ],
          "coloraxis": "coloraxis",
          "size": [
           5900,
           12235,
           12426,
           13285,
           13486,
           14514,
           14811,
           16021,
           16109,
           17237,
           17493,
           19817,
           19974,
           21804,
           22038,
           24254
          ],
          "sizemode": "area",
          "sizeref": 60.635,
          "symbol": "circle"
         },
         "mode": "markers+text",
         "name": "",
         "showlegend": false,
         "text": [
          78,
          150,
          168,
          182,
          206,
          236,
          271,
          315,
          341,
          396,
          415,
          471,
          482,
          536,
          539,
          581
         ],
         "textposition": "top center",
         "type": "scatter",
         "x": [
          6500,
          13125,
          13316,
          14175,
          14376,
          15404,
          15701,
          16911,
          16999,
          18127,
          18383,
          20707,
          20864,
          22694,
          22928,
          25144
         ],
         "xaxis": "x",
         "y": [
          78,
          150,
          168,
          182,
          206,
          236,
          271,
          315,
          341,
          396,
          415,
          471,
          482,
          536,
          539,
          581
         ],
         "yaxis": "y"
        }
       ],
       "layout": {
        "coloraxis": {
         "colorbar": {
          "title": {
           "text": "TotalPositiveCases"
          }
         },
         "colorscale": [
          [
           0,
           "#0d0887"
          ],
          [
           0.1111111111111111,
           "#46039f"
          ],
          [
           0.2222222222222222,
           "#7201a8"
          ],
          [
           0.3333333333333333,
           "#9c179e"
          ],
          [
           0.4444444444444444,
           "#bd3786"
          ],
          [
           0.5555555555555556,
           "#d8576b"
          ],
          [
           0.6666666666666666,
           "#ed7953"
          ],
          [
           0.7777777777777778,
           "#fb9f3a"
          ],
          [
           0.8888888888888888,
           "#fdca26"
          ],
          [
           1,
           "#f0f921"
          ]
         ]
        },
        "height": 1000,
        "legend": {
         "itemsizing": "constant",
         "tracegroupgap": 0
        },
        "showlegend": false,
        "template": {
         "data": {
          "bar": [
           {
            "error_x": {
             "color": "#2a3f5f"
            },
            "error_y": {
             "color": "#2a3f5f"
            },
            "marker": {
             "line": {
              "color": "#E5ECF6",
              "width": 0.5
             }
            },
            "type": "bar"
           }
          ],
          "barpolar": [
           {
            "marker": {
             "line": {
              "color": "#E5ECF6",
              "width": 0.5
             }
            },
            "type": "barpolar"
           }
          ],
          "carpet": [
           {
            "aaxis": {
             "endlinecolor": "#2a3f5f",
             "gridcolor": "white",
             "linecolor": "white",
             "minorgridcolor": "white",
             "startlinecolor": "#2a3f5f"
            },
            "baxis": {
             "endlinecolor": "#2a3f5f",
             "gridcolor": "white",
             "linecolor": "white",
             "minorgridcolor": "white",
             "startlinecolor": "#2a3f5f"
            },
            "type": "carpet"
           }
          ],
          "choropleth": [
           {
            "colorbar": {
             "outlinewidth": 0,
             "ticks": ""
            },
            "type": "choropleth"
           }
          ],
          "contour": [
           {
            "colorbar": {
             "outlinewidth": 0,
             "ticks": ""
            },
            "colorscale": [
             [
              0,
              "#0d0887"
             ],
             [
              0.1111111111111111,
              "#46039f"
             ],
             [
              0.2222222222222222,
              "#7201a8"
             ],
             [
              0.3333333333333333,
              "#9c179e"
             ],
             [
              0.4444444444444444,
              "#bd3786"
             ],
             [
              0.5555555555555556,
              "#d8576b"
             ],
             [
              0.6666666666666666,
              "#ed7953"
             ],
             [
              0.7777777777777778,
              "#fb9f3a"
             ],
             [
              0.8888888888888888,
              "#fdca26"
             ],
             [
              1,
              "#f0f921"
             ]
            ],
            "type": "contour"
           }
          ],
          "contourcarpet": [
           {
            "colorbar": {
             "outlinewidth": 0,
             "ticks": ""
            },
            "type": "contourcarpet"
           }
          ],
          "heatmap": [
           {
            "colorbar": {
             "outlinewidth": 0,
             "ticks": ""
            },
            "colorscale": [
             [
              0,
              "#0d0887"
             ],
             [
              0.1111111111111111,
              "#46039f"
             ],
             [
              0.2222222222222222,
              "#7201a8"
             ],
             [
              0.3333333333333333,
              "#9c179e"
             ],
             [
              0.4444444444444444,
              "#bd3786"
             ],
             [
              0.5555555555555556,
              "#d8576b"
             ],
             [
              0.6666666666666666,
              "#ed7953"
             ],
             [
              0.7777777777777778,
              "#fb9f3a"
             ],
             [
              0.8888888888888888,
              "#fdca26"
             ],
             [
              1,
              "#f0f921"
             ]
            ],
            "type": "heatmap"
           }
          ],
          "heatmapgl": [
           {
            "colorbar": {
             "outlinewidth": 0,
             "ticks": ""
            },
            "colorscale": [
             [
              0,
              "#0d0887"
             ],
             [
              0.1111111111111111,
              "#46039f"
             ],
             [
              0.2222222222222222,
              "#7201a8"
             ],
             [
              0.3333333333333333,
              "#9c179e"
             ],
             [
              0.4444444444444444,
              "#bd3786"
             ],
             [
              0.5555555555555556,
              "#d8576b"
             ],
             [
              0.6666666666666666,
              "#ed7953"
             ],
             [
              0.7777777777777778,
              "#fb9f3a"
             ],
             [
              0.8888888888888888,
              "#fdca26"
             ],
             [
              1,
              "#f0f921"
             ]
            ],
            "type": "heatmapgl"
           }
          ],
          "histogram": [
           {
            "marker": {
             "colorbar": {
              "outlinewidth": 0,
              "ticks": ""
             }
            },
            "type": "histogram"
           }
          ],
          "histogram2d": [
           {
            "colorbar": {
             "outlinewidth": 0,
             "ticks": ""
            },
            "colorscale": [
             [
              0,
              "#0d0887"
             ],
             [
              0.1111111111111111,
              "#46039f"
             ],
             [
              0.2222222222222222,
              "#7201a8"
             ],
             [
              0.3333333333333333,
              "#9c179e"
             ],
             [
              0.4444444444444444,
              "#bd3786"
             ],
             [
              0.5555555555555556,
              "#d8576b"
             ],
             [
              0.6666666666666666,
              "#ed7953"
             ],
             [
              0.7777777777777778,
              "#fb9f3a"
             ],
             [
              0.8888888888888888,
              "#fdca26"
             ],
             [
              1,
              "#f0f921"
             ]
            ],
            "type": "histogram2d"
           }
          ],
          "histogram2dcontour": [
           {
            "colorbar": {
             "outlinewidth": 0,
             "ticks": ""
            },
            "colorscale": [
             [
              0,
              "#0d0887"
             ],
             [
              0.1111111111111111,
              "#46039f"
             ],
             [
              0.2222222222222222,
              "#7201a8"
             ],
             [
              0.3333333333333333,
              "#9c179e"
             ],
             [
              0.4444444444444444,
              "#bd3786"
             ],
             [
              0.5555555555555556,
              "#d8576b"
             ],
             [
              0.6666666666666666,
              "#ed7953"
             ],
             [
              0.7777777777777778,
              "#fb9f3a"
             ],
             [
              0.8888888888888888,
              "#fdca26"
             ],
             [
              1,
              "#f0f921"
             ]
            ],
            "type": "histogram2dcontour"
           }
          ],
          "mesh3d": [
           {
            "colorbar": {
             "outlinewidth": 0,
             "ticks": ""
            },
            "type": "mesh3d"
           }
          ],
          "parcoords": [
           {
            "line": {
             "colorbar": {
              "outlinewidth": 0,
              "ticks": ""
             }
            },
            "type": "parcoords"
           }
          ],
          "pie": [
           {
            "automargin": true,
            "type": "pie"
           }
          ],
          "scatter": [
           {
            "marker": {
             "colorbar": {
              "outlinewidth": 0,
              "ticks": ""
             }
            },
            "type": "scatter"
           }
          ],
          "scatter3d": [
           {
            "line": {
             "colorbar": {
              "outlinewidth": 0,
              "ticks": ""
             }
            },
            "marker": {
             "colorbar": {
              "outlinewidth": 0,
              "ticks": ""
             }
            },
            "type": "scatter3d"
           }
          ],
          "scattercarpet": [
           {
            "marker": {
             "colorbar": {
              "outlinewidth": 0,
              "ticks": ""
             }
            },
            "type": "scattercarpet"
           }
          ],
          "scattergeo": [
           {
            "marker": {
             "colorbar": {
              "outlinewidth": 0,
              "ticks": ""
             }
            },
            "type": "scattergeo"
           }
          ],
          "scattergl": [
           {
            "marker": {
             "colorbar": {
              "outlinewidth": 0,
              "ticks": ""
             }
            },
            "type": "scattergl"
           }
          ],
          "scattermapbox": [
           {
            "marker": {
             "colorbar": {
              "outlinewidth": 0,
              "ticks": ""
             }
            },
            "type": "scattermapbox"
           }
          ],
          "scatterpolar": [
           {
            "marker": {
             "colorbar": {
              "outlinewidth": 0,
              "ticks": ""
             }
            },
            "type": "scatterpolar"
           }
          ],
          "scatterpolargl": [
           {
            "marker": {
             "colorbar": {
              "outlinewidth": 0,
              "ticks": ""
             }
            },
            "type": "scatterpolargl"
           }
          ],
          "scatterternary": [
           {
            "marker": {
             "colorbar": {
              "outlinewidth": 0,
              "ticks": ""
             }
            },
            "type": "scatterternary"
           }
          ],
          "surface": [
           {
            "colorbar": {
             "outlinewidth": 0,
             "ticks": ""
            },
            "colorscale": [
             [
              0,
              "#0d0887"
             ],
             [
              0.1111111111111111,
              "#46039f"
             ],
             [
              0.2222222222222222,
              "#7201a8"
             ],
             [
              0.3333333333333333,
              "#9c179e"
             ],
             [
              0.4444444444444444,
              "#bd3786"
             ],
             [
              0.5555555555555556,
              "#d8576b"
             ],
             [
              0.6666666666666666,
              "#ed7953"
             ],
             [
              0.7777777777777778,
              "#fb9f3a"
             ],
             [
              0.8888888888888888,
              "#fdca26"
             ],
             [
              1,
              "#f0f921"
             ]
            ],
            "type": "surface"
           }
          ],
          "table": [
           {
            "cells": {
             "fill": {
              "color": "#EBF0F8"
             },
             "line": {
              "color": "white"
             }
            },
            "header": {
             "fill": {
              "color": "#C8D4E3"
             },
             "line": {
              "color": "white"
             }
            },
            "type": "table"
           }
          ]
         },
         "layout": {
          "annotationdefaults": {
           "arrowcolor": "#2a3f5f",
           "arrowhead": 0,
           "arrowwidth": 1
          },
          "coloraxis": {
           "colorbar": {
            "outlinewidth": 0,
            "ticks": ""
           }
          },
          "colorscale": {
           "diverging": [
            [
             0,
             "#8e0152"
            ],
            [
             0.1,
             "#c51b7d"
            ],
            [
             0.2,
             "#de77ae"
            ],
            [
             0.3,
             "#f1b6da"
            ],
            [
             0.4,
             "#fde0ef"
            ],
            [
             0.5,
             "#f7f7f7"
            ],
            [
             0.6,
             "#e6f5d0"
            ],
            [
             0.7,
             "#b8e186"
            ],
            [
             0.8,
             "#7fbc41"
            ],
            [
             0.9,
             "#4d9221"
            ],
            [
             1,
             "#276419"
            ]
           ],
           "sequential": [
            [
             0,
             "#0d0887"
            ],
            [
             0.1111111111111111,
             "#46039f"
            ],
            [
             0.2222222222222222,
             "#7201a8"
            ],
            [
             0.3333333333333333,
             "#9c179e"
            ],
            [
             0.4444444444444444,
             "#bd3786"
            ],
            [
             0.5555555555555556,
             "#d8576b"
            ],
            [
             0.6666666666666666,
             "#ed7953"
            ],
            [
             0.7777777777777778,
             "#fb9f3a"
            ],
            [
             0.8888888888888888,
             "#fdca26"
            ],
            [
             1,
             "#f0f921"
            ]
           ],
           "sequentialminus": [
            [
             0,
             "#0d0887"
            ],
            [
             0.1111111111111111,
             "#46039f"
            ],
            [
             0.2222222222222222,
             "#7201a8"
            ],
            [
             0.3333333333333333,
             "#9c179e"
            ],
            [
             0.4444444444444444,
             "#bd3786"
            ],
            [
             0.5555555555555556,
             "#d8576b"
            ],
            [
             0.6666666666666666,
             "#ed7953"
            ],
            [
             0.7777777777777778,
             "#fb9f3a"
            ],
            [
             0.8888888888888888,
             "#fdca26"
            ],
            [
             1,
             "#f0f921"
            ]
           ]
          },
          "colorway": [
           "#636efa",
           "#EF553B",
           "#00cc96",
           "#ab63fa",
           "#FFA15A",
           "#19d3f3",
           "#FF6692",
           "#B6E880",
           "#FF97FF",
           "#FECB52"
          ],
          "font": {
           "color": "#2a3f5f"
          },
          "geo": {
           "bgcolor": "white",
           "lakecolor": "white",
           "landcolor": "#E5ECF6",
           "showlakes": true,
           "showland": true,
           "subunitcolor": "white"
          },
          "hoverlabel": {
           "align": "left"
          },
          "hovermode": "closest",
          "mapbox": {
           "style": "light"
          },
          "paper_bgcolor": "white",
          "plot_bgcolor": "#E5ECF6",
          "polar": {
           "angularaxis": {
            "gridcolor": "white",
            "linecolor": "white",
            "ticks": ""
           },
           "bgcolor": "#E5ECF6",
           "radialaxis": {
            "gridcolor": "white",
            "linecolor": "white",
            "ticks": ""
           }
          },
          "scene": {
           "xaxis": {
            "backgroundcolor": "#E5ECF6",
            "gridcolor": "white",
            "gridwidth": 2,
            "linecolor": "white",
            "showbackground": true,
            "ticks": "",
            "zerolinecolor": "white"
           },
           "yaxis": {
            "backgroundcolor": "#E5ECF6",
            "gridcolor": "white",
            "gridwidth": 2,
            "linecolor": "white",
            "showbackground": true,
            "ticks": "",
            "zerolinecolor": "white"
           },
           "zaxis": {
            "backgroundcolor": "#E5ECF6",
            "gridcolor": "white",
            "gridwidth": 2,
            "linecolor": "white",
            "showbackground": true,
            "ticks": "",
            "zerolinecolor": "white"
           }
          },
          "shapedefaults": {
           "line": {
            "color": "#2a3f5f"
           }
          },
          "ternary": {
           "aaxis": {
            "gridcolor": "white",
            "linecolor": "white",
            "ticks": ""
           },
           "baxis": {
            "gridcolor": "white",
            "linecolor": "white",
            "ticks": ""
           },
           "bgcolor": "#E5ECF6",
           "caxis": {
            "gridcolor": "white",
            "linecolor": "white",
            "ticks": ""
           }
          },
          "title": {
           "x": 0.05
          },
          "xaxis": {
           "automargin": true,
           "gridcolor": "white",
           "linecolor": "white",
           "ticks": "",
           "title": {
            "standoff": 15
           },
           "zerolinecolor": "white",
           "zerolinewidth": 2
          },
          "yaxis": {
           "automargin": true,
           "gridcolor": "white",
           "linecolor": "white",
           "ticks": "",
           "title": {
            "standoff": 15
           },
           "zerolinecolor": "white",
           "zerolinewidth": 2
          }
         }
        },
        "title": {
         "text": "Total Sample Tested vs Total Positive Cases"
        },
        "xaxis": {
         "anchor": "y",
         "domain": [
          0,
          1
         ],
         "title": {
          "text": "TotalSamplesTested"
         }
        },
        "yaxis": {
         "anchor": "x",
         "domain": [
          0,
          1
         ],
         "title": {
          "text": "TotalPositiveCases"
         }
        }
       }
      },
      "text/html": [
       "<div>\n",
       "        \n",
       "        \n",
       "            <div id=\"d5bfb791-f50a-4a35-ad88-0f893d0e3f9b\" class=\"plotly-graph-div\" style=\"height:1000px; width:100%;\"></div>\n",
       "            <script type=\"text/javascript\">\n",
       "                require([\"plotly\"], function(Plotly) {\n",
       "                    window.PLOTLYENV=window.PLOTLYENV || {};\n",
       "                    \n",
       "                if (document.getElementById(\"d5bfb791-f50a-4a35-ad88-0f893d0e3f9b\")) {\n",
       "                    Plotly.newPlot(\n",
       "                        'd5bfb791-f50a-4a35-ad88-0f893d0e3f9b',\n",
       "                        [{\"hovertemplate\": \"TotalSamplesTested=%{x}<br>TotalPositiveCases=%{marker.color}<br>TotalIndividualsTested=%{marker.size}<extra></extra>\", \"legendgroup\": \"\", \"marker\": {\"color\": [78, 150, 168, 182, 206, 236, 271, 315, 341, 396, 415, 471, 482, 536, 539, 581], \"coloraxis\": \"coloraxis\", \"size\": [5900, 12235, 12426, 13285, 13486, 14514, 14811, 16021, 16109, 17237, 17493, 19817, 19974, 21804, 22038, 24254], \"sizemode\": \"area\", \"sizeref\": 60.635, \"symbol\": \"circle\"}, \"mode\": \"markers+text\", \"name\": \"\", \"showlegend\": false, \"text\": [78.0, 150.0, 168.0, 182.0, 206.0, 236.0, 271.0, 315.0, 341.0, 396.0, 415.0, 471.0, 482.0, 536.0, 539.0, 581.0], \"textposition\": \"top center\", \"type\": \"scatter\", \"x\": [6500, 13125, 13316, 14175, 14376, 15404, 15701, 16911, 16999, 18127, 18383, 20707, 20864, 22694, 22928, 25144], \"xaxis\": \"x\", \"y\": [78, 150, 168, 182, 206, 236, 271, 315, 341, 396, 415, 471, 482, 536, 539, 581], \"yaxis\": \"y\"}],\n",
       "                        {\"coloraxis\": {\"colorbar\": {\"title\": {\"text\": \"TotalPositiveCases\"}}, \"colorscale\": [[0.0, \"#0d0887\"], [0.1111111111111111, \"#46039f\"], [0.2222222222222222, \"#7201a8\"], [0.3333333333333333, \"#9c179e\"], [0.4444444444444444, \"#bd3786\"], [0.5555555555555556, \"#d8576b\"], [0.6666666666666666, \"#ed7953\"], [0.7777777777777778, \"#fb9f3a\"], [0.8888888888888888, \"#fdca26\"], [1.0, \"#f0f921\"]]}, \"height\": 1000, \"legend\": {\"itemsizing\": \"constant\", \"tracegroupgap\": 0}, \"showlegend\": false, \"template\": {\"data\": {\"bar\": [{\"error_x\": {\"color\": \"#2a3f5f\"}, \"error_y\": {\"color\": \"#2a3f5f\"}, \"marker\": {\"line\": {\"color\": \"#E5ECF6\", \"width\": 0.5}}, \"type\": \"bar\"}], \"barpolar\": [{\"marker\": {\"line\": {\"color\": \"#E5ECF6\", \"width\": 0.5}}, \"type\": \"barpolar\"}], \"carpet\": [{\"aaxis\": {\"endlinecolor\": \"#2a3f5f\", \"gridcolor\": \"white\", \"linecolor\": \"white\", \"minorgridcolor\": \"white\", \"startlinecolor\": \"#2a3f5f\"}, \"baxis\": {\"endlinecolor\": \"#2a3f5f\", \"gridcolor\": \"white\", \"linecolor\": \"white\", \"minorgridcolor\": \"white\", \"startlinecolor\": \"#2a3f5f\"}, \"type\": \"carpet\"}], \"choropleth\": [{\"colorbar\": {\"outlinewidth\": 0, \"ticks\": \"\"}, \"type\": \"choropleth\"}], \"contour\": [{\"colorbar\": {\"outlinewidth\": 0, \"ticks\": \"\"}, \"colorscale\": [[0.0, \"#0d0887\"], [0.1111111111111111, \"#46039f\"], [0.2222222222222222, \"#7201a8\"], [0.3333333333333333, \"#9c179e\"], [0.4444444444444444, \"#bd3786\"], [0.5555555555555556, \"#d8576b\"], [0.6666666666666666, \"#ed7953\"], [0.7777777777777778, \"#fb9f3a\"], [0.8888888888888888, \"#fdca26\"], [1.0, \"#f0f921\"]], \"type\": \"contour\"}], \"contourcarpet\": [{\"colorbar\": {\"outlinewidth\": 0, \"ticks\": \"\"}, \"type\": \"contourcarpet\"}], \"heatmap\": [{\"colorbar\": {\"outlinewidth\": 0, \"ticks\": \"\"}, \"colorscale\": [[0.0, \"#0d0887\"], [0.1111111111111111, \"#46039f\"], [0.2222222222222222, \"#7201a8\"], [0.3333333333333333, \"#9c179e\"], [0.4444444444444444, \"#bd3786\"], [0.5555555555555556, \"#d8576b\"], [0.6666666666666666, \"#ed7953\"], [0.7777777777777778, \"#fb9f3a\"], [0.8888888888888888, \"#fdca26\"], [1.0, \"#f0f921\"]], \"type\": \"heatmap\"}], \"heatmapgl\": [{\"colorbar\": {\"outlinewidth\": 0, \"ticks\": \"\"}, \"colorscale\": [[0.0, \"#0d0887\"], [0.1111111111111111, \"#46039f\"], [0.2222222222222222, \"#7201a8\"], [0.3333333333333333, \"#9c179e\"], [0.4444444444444444, \"#bd3786\"], [0.5555555555555556, \"#d8576b\"], [0.6666666666666666, \"#ed7953\"], [0.7777777777777778, \"#fb9f3a\"], [0.8888888888888888, \"#fdca26\"], [1.0, \"#f0f921\"]], \"type\": \"heatmapgl\"}], \"histogram\": [{\"marker\": {\"colorbar\": {\"outlinewidth\": 0, \"ticks\": \"\"}}, \"type\": \"histogram\"}], \"histogram2d\": [{\"colorbar\": {\"outlinewidth\": 0, \"ticks\": \"\"}, \"colorscale\": [[0.0, \"#0d0887\"], [0.1111111111111111, \"#46039f\"], [0.2222222222222222, \"#7201a8\"], [0.3333333333333333, \"#9c179e\"], [0.4444444444444444, \"#bd3786\"], [0.5555555555555556, \"#d8576b\"], [0.6666666666666666, \"#ed7953\"], [0.7777777777777778, \"#fb9f3a\"], [0.8888888888888888, \"#fdca26\"], [1.0, \"#f0f921\"]], \"type\": \"histogram2d\"}], \"histogram2dcontour\": [{\"colorbar\": {\"outlinewidth\": 0, \"ticks\": \"\"}, \"colorscale\": [[0.0, \"#0d0887\"], [0.1111111111111111, \"#46039f\"], [0.2222222222222222, \"#7201a8\"], [0.3333333333333333, \"#9c179e\"], [0.4444444444444444, \"#bd3786\"], [0.5555555555555556, \"#d8576b\"], [0.6666666666666666, \"#ed7953\"], [0.7777777777777778, \"#fb9f3a\"], [0.8888888888888888, \"#fdca26\"], [1.0, \"#f0f921\"]], \"type\": \"histogram2dcontour\"}], \"mesh3d\": [{\"colorbar\": {\"outlinewidth\": 0, \"ticks\": \"\"}, \"type\": \"mesh3d\"}], \"parcoords\": [{\"line\": {\"colorbar\": {\"outlinewidth\": 0, \"ticks\": \"\"}}, \"type\": \"parcoords\"}], \"pie\": [{\"automargin\": true, \"type\": \"pie\"}], \"scatter\": [{\"marker\": {\"colorbar\": {\"outlinewidth\": 0, \"ticks\": \"\"}}, \"type\": \"scatter\"}], \"scatter3d\": [{\"line\": {\"colorbar\": {\"outlinewidth\": 0, \"ticks\": \"\"}}, \"marker\": {\"colorbar\": {\"outlinewidth\": 0, \"ticks\": \"\"}}, \"type\": \"scatter3d\"}], \"scattercarpet\": [{\"marker\": {\"colorbar\": {\"outlinewidth\": 0, \"ticks\": \"\"}}, \"type\": \"scattercarpet\"}], \"scattergeo\": [{\"marker\": {\"colorbar\": {\"outlinewidth\": 0, \"ticks\": \"\"}}, \"type\": \"scattergeo\"}], \"scattergl\": [{\"marker\": {\"colorbar\": {\"outlinewidth\": 0, \"ticks\": \"\"}}, \"type\": \"scattergl\"}], \"scattermapbox\": [{\"marker\": {\"colorbar\": {\"outlinewidth\": 0, \"ticks\": \"\"}}, \"type\": \"scattermapbox\"}], \"scatterpolar\": [{\"marker\": {\"colorbar\": {\"outlinewidth\": 0, \"ticks\": \"\"}}, \"type\": \"scatterpolar\"}], \"scatterpolargl\": [{\"marker\": {\"colorbar\": {\"outlinewidth\": 0, \"ticks\": \"\"}}, \"type\": \"scatterpolargl\"}], \"scatterternary\": [{\"marker\": {\"colorbar\": {\"outlinewidth\": 0, \"ticks\": \"\"}}, \"type\": \"scatterternary\"}], \"surface\": [{\"colorbar\": {\"outlinewidth\": 0, \"ticks\": \"\"}, \"colorscale\": [[0.0, \"#0d0887\"], [0.1111111111111111, \"#46039f\"], [0.2222222222222222, \"#7201a8\"], [0.3333333333333333, \"#9c179e\"], [0.4444444444444444, \"#bd3786\"], [0.5555555555555556, \"#d8576b\"], [0.6666666666666666, \"#ed7953\"], [0.7777777777777778, \"#fb9f3a\"], [0.8888888888888888, \"#fdca26\"], [1.0, \"#f0f921\"]], \"type\": \"surface\"}], \"table\": [{\"cells\": {\"fill\": {\"color\": \"#EBF0F8\"}, \"line\": {\"color\": \"white\"}}, \"header\": {\"fill\": {\"color\": \"#C8D4E3\"}, \"line\": {\"color\": \"white\"}}, \"type\": \"table\"}]}, \"layout\": {\"annotationdefaults\": {\"arrowcolor\": \"#2a3f5f\", \"arrowhead\": 0, \"arrowwidth\": 1}, \"coloraxis\": {\"colorbar\": {\"outlinewidth\": 0, \"ticks\": \"\"}}, \"colorscale\": {\"diverging\": [[0, \"#8e0152\"], [0.1, \"#c51b7d\"], [0.2, \"#de77ae\"], [0.3, \"#f1b6da\"], [0.4, \"#fde0ef\"], [0.5, \"#f7f7f7\"], [0.6, \"#e6f5d0\"], [0.7, \"#b8e186\"], [0.8, \"#7fbc41\"], [0.9, \"#4d9221\"], [1, \"#276419\"]], \"sequential\": [[0.0, \"#0d0887\"], [0.1111111111111111, \"#46039f\"], [0.2222222222222222, \"#7201a8\"], [0.3333333333333333, \"#9c179e\"], [0.4444444444444444, \"#bd3786\"], [0.5555555555555556, \"#d8576b\"], [0.6666666666666666, \"#ed7953\"], [0.7777777777777778, \"#fb9f3a\"], [0.8888888888888888, \"#fdca26\"], [1.0, \"#f0f921\"]], \"sequentialminus\": [[0.0, \"#0d0887\"], [0.1111111111111111, \"#46039f\"], [0.2222222222222222, \"#7201a8\"], [0.3333333333333333, \"#9c179e\"], [0.4444444444444444, \"#bd3786\"], [0.5555555555555556, \"#d8576b\"], [0.6666666666666666, \"#ed7953\"], [0.7777777777777778, \"#fb9f3a\"], [0.8888888888888888, \"#fdca26\"], [1.0, \"#f0f921\"]]}, \"colorway\": [\"#636efa\", \"#EF553B\", \"#00cc96\", \"#ab63fa\", \"#FFA15A\", \"#19d3f3\", \"#FF6692\", \"#B6E880\", \"#FF97FF\", \"#FECB52\"], \"font\": {\"color\": \"#2a3f5f\"}, \"geo\": {\"bgcolor\": \"white\", \"lakecolor\": \"white\", \"landcolor\": \"#E5ECF6\", \"showlakes\": true, \"showland\": true, \"subunitcolor\": \"white\"}, \"hoverlabel\": {\"align\": \"left\"}, \"hovermode\": \"closest\", \"mapbox\": {\"style\": \"light\"}, \"paper_bgcolor\": \"white\", \"plot_bgcolor\": \"#E5ECF6\", \"polar\": {\"angularaxis\": {\"gridcolor\": \"white\", \"linecolor\": \"white\", \"ticks\": \"\"}, \"bgcolor\": \"#E5ECF6\", \"radialaxis\": {\"gridcolor\": \"white\", \"linecolor\": \"white\", \"ticks\": \"\"}}, \"scene\": {\"xaxis\": {\"backgroundcolor\": \"#E5ECF6\", \"gridcolor\": \"white\", \"gridwidth\": 2, \"linecolor\": \"white\", \"showbackground\": true, \"ticks\": \"\", \"zerolinecolor\": \"white\"}, \"yaxis\": {\"backgroundcolor\": \"#E5ECF6\", \"gridcolor\": \"white\", \"gridwidth\": 2, \"linecolor\": \"white\", \"showbackground\": true, \"ticks\": \"\", \"zerolinecolor\": \"white\"}, \"zaxis\": {\"backgroundcolor\": \"#E5ECF6\", \"gridcolor\": \"white\", \"gridwidth\": 2, \"linecolor\": \"white\", \"showbackground\": true, \"ticks\": \"\", \"zerolinecolor\": \"white\"}}, \"shapedefaults\": {\"line\": {\"color\": \"#2a3f5f\"}}, \"ternary\": {\"aaxis\": {\"gridcolor\": \"white\", \"linecolor\": \"white\", \"ticks\": \"\"}, \"baxis\": {\"gridcolor\": \"white\", \"linecolor\": \"white\", \"ticks\": \"\"}, \"bgcolor\": \"#E5ECF6\", \"caxis\": {\"gridcolor\": \"white\", \"linecolor\": \"white\", \"ticks\": \"\"}}, \"title\": {\"x\": 0.05}, \"xaxis\": {\"automargin\": true, \"gridcolor\": \"white\", \"linecolor\": \"white\", \"ticks\": \"\", \"title\": {\"standoff\": 15}, \"zerolinecolor\": \"white\", \"zerolinewidth\": 2}, \"yaxis\": {\"automargin\": true, \"gridcolor\": \"white\", \"linecolor\": \"white\", \"ticks\": \"\", \"title\": {\"standoff\": 15}, \"zerolinecolor\": \"white\", \"zerolinewidth\": 2}}}, \"title\": {\"text\": \"Total Sample Tested vs Total Positive Cases\"}, \"xaxis\": {\"anchor\": \"y\", \"domain\": [0.0, 1.0], \"title\": {\"text\": \"TotalSamplesTested\"}}, \"yaxis\": {\"anchor\": \"x\", \"domain\": [0.0, 1.0], \"title\": {\"text\": \"TotalPositiveCases\"}}},\n",
       "                        {\"responsive\": true}\n",
       "                    ).then(function(){\n",
       "                            \n",
       "var gd = document.getElementById('d5bfb791-f50a-4a35-ad88-0f893d0e3f9b');\n",
       "var x = new MutationObserver(function (mutations, observer) {{\n",
       "        var display = window.getComputedStyle(gd).display;\n",
       "        if (!display || display === 'none') {{\n",
       "            console.log([gd, 'removed!']);\n",
       "            Plotly.purge(gd);\n",
       "            observer.disconnect();\n",
       "        }}\n",
       "}});\n",
       "\n",
       "// Listen for the removal of the full notebook cells\n",
       "var notebookContainer = gd.closest('#notebook-container');\n",
       "if (notebookContainer) {{\n",
       "    x.observe(notebookContainer, {childList: true});\n",
       "}}\n",
       "\n",
       "// Listen for the clearing of the current output cell\n",
       "var outputEl = gd.closest('.output');\n",
       "if (outputEl) {{\n",
       "    x.observe(outputEl, {childList: true});\n",
       "}}\n",
       "\n",
       "                        })\n",
       "                };\n",
       "                });\n",
       "            </script>\n",
       "        </div>"
      ]
     },
     "metadata": {},
     "output_type": "display_data"
    }
   ],
   "source": [
    "fig = px.scatter(temp_f.sort_values('TotalSamplesTested', ascending=True).iloc[:, :],\n",
    "                 x='TotalSamplesTested', y='TotalPositiveCases', color='TotalPositiveCases', size='TotalIndividualsTested', height=1000,\n",
    "                 text='TotalPositiveCases', #log_x=True, log_y=True, \n",
    "                 title='Total Sample Tested vs Total Positive Cases')\n",
    "fig.update_traces(textposition='top center')\n",
    "fig.update_layout(showlegend=False)\n",
    "fig.show()"
   ]
  },
  {
   "cell_type": "code",
   "execution_count": 331,
   "metadata": {},
   "outputs": [
    {
     "data": {
      "text/html": [
       "<div>\n",
       "<style scoped>\n",
       "    .dataframe tbody tr th:only-of-type {\n",
       "        vertical-align: middle;\n",
       "    }\n",
       "\n",
       "    .dataframe tbody tr th {\n",
       "        vertical-align: top;\n",
       "    }\n",
       "\n",
       "    .dataframe thead th {\n",
       "        text-align: right;\n",
       "    }\n",
       "</style>\n",
       "<table border=\"1\" class=\"dataframe\">\n",
       "  <thead>\n",
       "    <tr style=\"text-align: right;\">\n",
       "      <th></th>\n",
       "      <th>id</th>\n",
       "      <th>government_id</th>\n",
       "      <th>diagnosed_date</th>\n",
       "      <th>age</th>\n",
       "      <th>gender</th>\n",
       "      <th>detected_city</th>\n",
       "      <th>detected_district</th>\n",
       "      <th>detected_state</th>\n",
       "      <th>nationality</th>\n",
       "      <th>current_status</th>\n",
       "      <th>status_change_date</th>\n",
       "      <th>notes</th>\n",
       "    </tr>\n",
       "  </thead>\n",
       "  <tbody>\n",
       "    <tr>\n",
       "      <th>0</th>\n",
       "      <td>0</td>\n",
       "      <td>KL-TS-P1</td>\n",
       "      <td>30/01/2020</td>\n",
       "      <td>20</td>\n",
       "      <td>F</td>\n",
       "      <td>Thrissur</td>\n",
       "      <td>Thrissur</td>\n",
       "      <td>Kerala</td>\n",
       "      <td>India</td>\n",
       "      <td>Recovered</td>\n",
       "      <td>14/02/2020</td>\n",
       "      <td>Travelled from Wuhan</td>\n",
       "    </tr>\n",
       "    <tr>\n",
       "      <th>1</th>\n",
       "      <td>1</td>\n",
       "      <td>KL-AL-P1</td>\n",
       "      <td>02/02/2020</td>\n",
       "      <td>NaN</td>\n",
       "      <td>NaN</td>\n",
       "      <td>Alappuzha</td>\n",
       "      <td>Alappuzha</td>\n",
       "      <td>Kerala</td>\n",
       "      <td>India</td>\n",
       "      <td>Recovered</td>\n",
       "      <td>14/02/2020</td>\n",
       "      <td>Travelled from Wuhan</td>\n",
       "    </tr>\n",
       "  </tbody>\n",
       "</table>\n",
       "</div>"
      ],
      "text/plain": [
       "   id government_id diagnosed_date  age gender detected_city  \\\n",
       "0   0      KL-TS-P1     30/01/2020   20      F      Thrissur   \n",
       "1   1      KL-AL-P1     02/02/2020  NaN    NaN     Alappuzha   \n",
       "\n",
       "  detected_district detected_state nationality current_status  \\\n",
       "0          Thrissur         Kerala       India      Recovered   \n",
       "1         Alappuzha         Kerala       India      Recovered   \n",
       "\n",
       "  status_change_date                 notes  \n",
       "0         14/02/2020  Travelled from Wuhan  \n",
       "1         14/02/2020  Travelled from Wuhan  "
      ]
     },
     "execution_count": 331,
     "metadata": {},
     "output_type": "execute_result"
    }
   ],
   "source": [
    "IndividualDetails.head(2)"
   ]
  },
  {
   "cell_type": "code",
   "execution_count": 391,
   "metadata": {},
   "outputs": [
    {
     "data": {
      "application/vnd.plotly.v1+json": {
       "config": {
        "plotlyServerURL": "https://plot.ly"
       },
       "data": [
        {
         "hovertemplate": "Reported=detected_state<br>diagnosed_date=%{x}<br>Count=%{y}<extra></extra>",
         "legendgroup": "detected_state",
         "line": {
          "color": "#636efa",
          "dash": "solid"
         },
         "mode": "lines",
         "name": "detected_state",
         "showlegend": true,
         "type": "scatter",
         "x": [
          "01/04/2020",
          "02/02/2020",
          "02/03/2020",
          "02/04/2020",
          "03/02/2020",
          "03/03/2020",
          "03/04/2020",
          "04/03/2020",
          "04/04/2020",
          "05/03/2020",
          "06/03/2020",
          "07/03/2020",
          "08/03/2020",
          "09/03/2020",
          "10/03/2020",
          "11/03/2020",
          "12/03/2020",
          "13/03/2020",
          "14/03/2020",
          "15/03/2020",
          "16/03/2020",
          "17/03/2020",
          "18/03/2020",
          "19/03/2020",
          "20/03/2020",
          "21/03/2020",
          "22/03/2020",
          "23/03/2020",
          "24/03/2020",
          "25/03/2020",
          "26/03/2020",
          "27/03/2020",
          "28/03/2020",
          "29/03/2020",
          "30/01/2020",
          "30/03/2020",
          "31/03/2020"
         ],
         "xaxis": "x",
         "y": [
          "MaharashtraMaharashtraMaharashtraMaharashtraMaharashtraMaharashtraMaharashtraMaharashtraMaharashtraMaharashtraMaharashtraMaharashtraMaharashtraMaharashtraMaharashtraMaharashtraMaharashtraMaharashtraMadhya PradeshMadhya PradeshMadhya PradeshMadhya PradeshMadhya PradeshMadhya PradeshMadhya PradeshMadhya PradeshMadhya PradeshMadhya PradeshMadhya PradeshMadhya PradeshMadhya PradeshMadhya PradeshMadhya PradeshMadhya PradeshMadhya PradeshMadhya PradeshMadhya PradeshMadhya PradeshDelhiPuducherryPuducherryGujaratGujaratGujaratGujaratGujaratGujaratGujaratGujaratAndhra PradeshAndhra PradeshAndhra PradeshAndhra PradeshAndhra PradeshAndhra PradeshAndhra PradeshAndhra PradeshAndhra PradeshAndhra PradeshAndhra PradeshAndhra PradeshAndhra PradeshAndhra PradeshAndhra PradeshAndhra PradeshAndhra PradeshAndhra PradeshAndhra PradeshAndhra PradeshAndhra PradeshAndhra PradeshAndhra PradeshAndhra PradeshAndhra PradeshAndhra PradeshAndhra PradeshAndhra PradeshAndhra PradeshAndhra PradeshAndhra PradeshAndhra PradeshAndhra PradeshAndhra PradeshAndhra PradeshAndhra PradeshAndhra PradeshAndhra PradeshAndhra PradeshAndhra PradeshAndhra PradeshAndhra PradeshAndhra PradeshBiharBiharPunjabKarnatakaKarnatakaKarnatakaKarnatakaPunjabPunjabPunjabAssamAssamAssamAssamRajasthanRajasthanRajasthanRajasthanRajasthanRajasthanRajasthanRajasthanRajasthanRajasthanRajasthanRajasthanRajasthanDelhiDelhiUttar PradeshUttar PradeshUttar PradeshUttar PradeshUttar PradeshUttar PradeshUttar PradeshUttar PradeshUttar PradeshUttar PradeshUttar PradeshUttar PradeshRajasthanRajasthanTamil NaduTamil NaduTamil NaduTamil NaduTamil NaduTamil NaduTamil NaduTamil NaduTamil NaduTamil NaduTamil NaduTamil NaduTamil NaduTamil NaduTamil NaduTamil NaduTamil NaduTamil NaduTamil NaduTamil NaduTamil NaduTamil NaduTamil NaduTamil NaduTamil NaduTamil NaduTamil NaduTamil NaduTamil NaduTamil NaduTamil NaduTamil NaduTamil NaduTamil NaduTamil NaduTamil NaduTamil NaduTamil NaduTamil NaduTamil NaduTamil NaduTamil NaduTamil NaduTamil NaduTamil NaduTamil NaduTamil NaduTamil NaduTamil NaduTamil NaduTamil NaduTamil NaduTamil NaduTamil NaduTamil NaduTamil NaduTamil NaduTamil NaduTamil NaduTamil NaduTamil NaduTamil NaduTamil NaduTamil NaduTamil NaduTamil NaduTamil NaduTamil NaduTamil NaduTamil NaduTamil NaduTamil NaduTamil NaduTamil NaduTamil NaduTamil NaduTamil NaduTamil NaduTamil NaduTamil NaduTamil NaduTamil NaduTamil NaduTamil NaduTamil NaduTamil NaduTamil NaduTamil NaduTamil NaduTamil NaduTamil NaduTamil NaduTamil NaduTamil NaduTamil NaduTamil NaduTamil NaduTamil NaduTamil NaduTamil NaduTamil NaduTamil NaduTamil NaduTamil NaduTamil NaduTamil NaduTamil NaduTamil NaduTamil NaduTamil NaduKeralaKeralaKeralaKeralaKeralaKeralaKeralaKeralaKeralaKeralaKeralaKeralaKeralaKeralaKeralaKeralaKeralaKeralaKeralaKeralaKeralaKeralaKeralaKeralaJammu and KashmirJammu and KashmirJammu and KashmirJammu and KashmirJammu and KashmirJammu and KashmirJammu and KashmirBiharDelhiDelhiDelhiDelhiDelhiDelhiDelhiDelhiDelhiDelhiDelhiDelhiDelhiDelhiDelhiDelhiDelhiDelhiDelhiDelhiDelhiDelhiDelhiDelhiDelhiDelhiDelhiDelhiDelhiGujaratGujaratGujaratGujaratGujaratKarnatakaKarnatakaKarnatakaKarnatakaKarnatakaMaharashtraMaharashtraMaharashtraMaharashtraMaharashtraMaharashtraMaharashtraMaharashtraMaharashtraMaharashtraMaharashtraMaharashtraMaharashtraMaharashtraMaharashtraAssamAssamAssamAssamAssamAssamAssamAssamAndhra PradeshAndhra PradeshAndhra PradeshAndhra PradeshAndhra PradeshAndhra PradeshAndhra PradeshAndhra PradeshAndhra PradeshAndhra PradeshAndhra PradeshAndhra PradeshAndhra PradeshAndhra PradeshAndhra PradeshAndhra PradeshAndhra PradeshAndhra PradeshAndhra PradeshAndhra PradeshAndhra PradeshAndhra PradeshAndhra PradeshAndhra PradeshRajasthanRajasthanRajasthanRajasthanRajasthanRajasthanRajasthanRajasthanRajasthanRajasthanRajasthanRajasthanChandigarhChandigarhOdishaUttar PradeshAssamAssamAssamTelanganaTelanganaTelanganaTelanganaTelanganaTelanganaTelanganaTelanganaTelanganaTelanganaTelanganaTelanganaTelanganaTelanganaTelanganaTelanganaTelanganaTelanganaTelanganaTelanganaTelanganaTelanganaTelanganaTelanganaTelanganaTelanganaTelanganaTelanganaTelanganaTelanganaMadhya PradeshMadhya PradeshMadhya PradeshMadhya PradeshMadhya PradeshMadhya PradeshMadhya PradeshMadhya PradeshMadhya PradeshMadhya PradeshMadhya PradeshMadhya Pradesh",
          "Kerala",
          "DelhiTelangana",
          "ManipurMaharashtraMaharashtraMaharashtraRajasthanRajasthanRajasthanRajasthanRajasthanRajasthanRajasthanRajasthanRajasthanAndhra PradeshAndhra PradeshAndhra PradeshAndhra PradeshAndhra PradeshAndhra PradeshAndhra PradeshAndhra PradeshAndhra PradeshAndhra PradeshAndhra PradeshAndhra PradeshAndhra PradeshAndhra PradeshAndhra PradeshAndhra PradeshAndhra PradeshAndhra PradeshAndhra PradeshAndhra PradeshAndhra PradeshArunachal PradeshMaharashtraRajasthanRajasthanPunjabHaryanaHaryanaHaryanaHaryanaKarnatakaKarnatakaKarnatakaKarnatakaKarnatakaKarnatakaKarnatakaKarnatakaKarnatakaKarnatakaKarnatakaDelhiDelhiDelhiDelhiDelhiDelhiDelhiDelhiDelhiDelhiDelhiDelhiDelhiDelhiDelhiDelhiDelhiDelhiDelhiDelhiDelhiDelhiDelhiDelhiDelhiDelhiDelhiDelhiDelhiDelhiDelhiDelhiDelhiDelhiDelhiDelhiDelhiDelhiDelhiDelhiDelhiDelhiDelhiDelhiDelhiDelhiDelhiDelhiDelhiDelhiDelhiDelhiDelhiDelhiDelhiDelhiDelhiDelhiDelhiDelhiDelhiDelhiDelhiDelhiDelhiDelhiDelhiUttar PradeshUttar PradeshUttar PradeshUttar PradeshJammu and KashmirJammu and KashmirJammu and KashmirJammu and KashmirJammu and KashmirJammu and KashmirJammu and KashmirJammu and KashmirRajasthanRajasthanHaryanaHaryanaAndhra PradeshAndhra PradeshAndhra PradeshKeralaKeralaKeralaKeralaKeralaKeralaKeralaKeralaKeralaKeralaKeralaKeralaKeralaKeralaKeralaKeralaKeralaKeralaKeralaKeralaKeralaTamil NaduTamil NaduTamil NaduTamil NaduTamil NaduTamil NaduTamil NaduTamil NaduTamil NaduTamil NaduTamil NaduTamil NaduTamil NaduTamil NaduTamil NaduTamil NaduTamil NaduTamil NaduTamil NaduTamil NaduTamil NaduTamil NaduTamil NaduTamil NaduTamil NaduTamil NaduTamil NaduTamil NaduTamil NaduTamil NaduTamil NaduTamil NaduTamil NaduTamil NaduTamil NaduTamil NaduTamil NaduTamil NaduTamil NaduTamil NaduTamil NaduTamil NaduTamil NaduTamil NaduTamil NaduTamil NaduTamil NaduTamil NaduTamil NaduTamil NaduTamil NaduTamil NaduTamil NaduTamil NaduTamil NaduTamil NaduTamil NaduTamil NaduTamil NaduTamil NaduTamil NaduTamil NaduTamil NaduTamil NaduTamil NaduTamil NaduTamil NaduTamil NaduTamil NaduTamil NaduTamil NaduTamil NaduTamil NaduTamil NaduTamil NaduMaharashtraMaharashtraMaharashtraMaharashtraMaharashtraMaharashtraMaharashtraMaharashtraMaharashtraMaharashtraMaharashtraMaharashtraMaharashtraMaharashtraMaharashtraMaharashtraMaharashtraMaharashtraMaharashtraMaharashtraMaharashtraMaharashtraMaharashtraMaharashtraMaharashtraMaharashtraMaharashtraMaharashtraMaharashtraMaharashtraMaharashtraMaharashtraMaharashtraMaharashtraMaharashtraMaharashtraMaharashtraMaharashtraMaharashtraMaharashtraMaharashtraMaharashtraMaharashtraMaharashtraMaharashtraMaharashtraMaharashtraMaharashtraMaharashtraMaharashtraMaharashtraMaharashtraMaharashtraMaharashtraMaharashtraMaharashtraMaharashtraMaharashtraMaharashtraMaharashtraMaharashtraMaharashtraMaharashtraMaharashtraMaharashtraMaharashtraMaharashtraMaharashtraMaharashtraMaharashtraMaharashtraMaharashtraMaharashtraMaharashtraMaharashtraMaharashtraMaharashtraWest BengalWest BengalWest BengalWest BengalWest BengalWest BengalWest BengalWest BengalWest BengalWest BengalWest BengalWest BengalWest BengalWest BengalWest BengalWest BengalAndhra PradeshAndhra PradeshAndhra PradeshAndhra PradeshAndhra PradeshAndhra PradeshAndhra PradeshAndhra PradeshChandigarhMadhya PradeshMadhya PradeshJharkhandDelhiDelhiDelhiDelhiDelhiDelhiDelhiDelhiDelhiDelhiDelhiDelhiDelhiDelhiDelhiDelhiDelhiDelhiDelhiDelhiDelhiDelhiDelhiDelhiDelhiDelhiDelhiDelhiDelhiDelhiDelhiDelhiDelhiDelhiDelhiDelhiDelhiDelhiDelhiDelhiDelhiDelhiDelhiDelhiDelhiDelhiDelhiDelhiDelhiDelhiDelhiDelhiDelhiDelhiDelhiDelhiDelhiDelhiDelhiDelhiDelhiDelhiDelhiDelhiDelhiDelhiDelhiDelhiDelhiDelhiDelhiDelhiDelhiDelhiMadhya PradeshMadhya PradeshMadhya PradeshMadhya PradeshMadhya PradeshMadhya PradeshMadhya PradeshKarnatakaKarnatakaKarnatakaTelanganaTelanganaTelanganaTelanganaTelanganaTelanganaTelanganaTelanganaTelanganaTelanganaTelanganaTelanganaTelanganaTelanganaTelanganaTelanganaTelanganaTelanganaTelanganaTelanganaTelanganaTelanganaTelanganaTelanganaTelanganaTelanganaTelanganaGujaratBiharBiharBiharBiharBiharAndhra PradeshAndhra PradeshAndhra PradeshAndhra PradeshAndhra PradeshAndhra PradeshMaharashtraMaharashtraMaharashtraMaharashtraHimachal PradeshHimachal PradeshHimachal PradeshMaharashtraMaharashtraMaharashtraUttarakhandUttarakhandUttarakhandUttar PradeshUttar PradeshUttar PradeshUttar PradeshUttar PradeshPuducherryPuducherryUttar PradeshUttar Pradesh",
          "Kerala",
          "Rajasthan",
          "RajasthanRajasthanRajasthanRajasthanRajasthanRajasthanRajasthanRajasthanRajasthanRajasthanRajasthanRajasthanRajasthanRajasthanRajasthanRajasthanRajasthanRajasthanRajasthanRajasthanRajasthanGoaAndhra PradeshAndhra PradeshAndhra PradeshAndhra PradeshAndhra PradeshAndhra PradeshAndhra PradeshAndhra PradeshAndhra PradeshAndhra PradeshAndhra PradeshAndhra PradeshGujaratGujaratGujaratGujaratGujaratGujaratGujaratKarnatakaUttar PradeshUttar PradeshUttar PradeshUttar PradeshUttar PradeshUttar PradeshUttar PradeshUttar PradeshUttar PradeshUttar PradeshUttar PradeshUttar PradeshUttar PradeshUttar PradeshUttar PradeshUttar PradeshUttar PradeshUttar PradeshUttar PradeshUttar PradeshUttar PradeshUttar PradeshUttar PradeshUttar PradeshUttar PradeshUttar PradeshUttar PradeshUttar PradeshUttar PradeshUttar PradeshUttar PradeshUttar PradeshUttar PradeshUttar PradeshUttar PradeshUttar PradeshUttar PradeshUttar PradeshUttar PradeshUttar PradeshUttar PradeshUttar PradeshUttar PradeshUttar PradeshHaryanaHaryanaHaryanaHaryanaHaryanaHaryanaHaryanaHaryanaOdishaRajasthanRajasthanRajasthanRajasthanRajasthanRajasthanRajasthanRajasthanRajasthanRajasthanRajasthanRajasthanDelhiDelhiDelhiDelhiDelhiDelhiDelhiDelhiDelhiDelhiDelhiDelhiDelhiDelhiDelhiDelhiDelhiDelhiDelhiDelhiDelhiDelhiDelhiDelhiDelhiDelhiDelhiDelhiDelhiDelhiDelhiDelhiDelhiDelhiDelhiDelhiDelhiDelhiDelhiDelhiDelhiDelhiDelhiDelhiDelhiDelhiDelhiDelhiDelhiDelhiDelhiDelhiDelhiDelhiDelhiDelhiDelhiDelhiDelhiDelhiDelhiDelhiDelhiDelhiDelhiDelhiDelhiDelhiDelhiDelhiDelhiDelhiDelhiDelhiDelhiDelhiDelhiDelhiDelhiDelhiDelhiDelhiDelhiDelhiDelhiDelhiDelhiDelhiDelhiDelhiDelhiTamil NaduTamil NaduTamil NaduTamil NaduTamil NaduTamil NaduTamil NaduTamil NaduTamil NaduTamil NaduTamil NaduTamil NaduTamil NaduTamil NaduTamil NaduTamil NaduTamil NaduTamil NaduTamil NaduTamil NaduTamil NaduTamil NaduTamil NaduTamil NaduTamil NaduTamil NaduTamil NaduTamil NaduTamil NaduTamil NaduTamil NaduTamil NaduTamil NaduTamil NaduTamil NaduTamil NaduTamil NaduTamil NaduTamil NaduTamil NaduTamil NaduTamil NaduTamil NaduTamil NaduTamil NaduTamil NaduTamil NaduTamil NaduTamil NaduTamil NaduTamil NaduTamil NaduTamil NaduTamil NaduTamil NaduTamil NaduTamil NaduTamil NaduTamil NaduTamil NaduTamil NaduTamil NaduTamil NaduTamil NaduTamil NaduTamil NaduTamil NaduTamil NaduTamil NaduTamil NaduTamil NaduTamil NaduTamil NaduTamil NaduTamil NaduTamil NaduTamil NaduTamil NaduTamil NaduTamil NaduTamil NaduTamil NaduTamil NaduTamil NaduTamil NaduTamil NaduTamil NaduTamil NaduTamil NaduTamil NaduTamil NaduTamil NaduTamil NaduTamil NaduTamil NaduTamil NaduTamil NaduTamil NaduTamil NaduTamil NaduTamil NaduTamil NaduAssamAssamAssamAssamJammu and KashmirJammu and KashmirJammu and KashmirJammu and KashmirJammu and KashmirPunjabPunjabPunjabPunjabKeralaKeralaKeralaKeralaKeralaKeralaKeralaKeralaKeralaMadhya PradeshMadhya PradeshMadhya PradeshMadhya PradeshMadhya PradeshMadhya PradeshMadhya PradeshMadhya PradeshMadhya PradeshMadhya PradeshMadhya PradeshMadhya PradeshMadhya PradeshMadhya PradeshMadhya PradeshMadhya PradeshMadhya PradeshMadhya PradeshMadhya PradeshMadhya PradeshMadhya PradeshMadhya PradeshKarnatakaKarnatakaKarnatakaOdishaOdishaOdishaRajasthanRajasthanTelanganaTelanganaTelanganaTelanganaTelanganaTelanganaTelanganaTelanganaTelanganaTelanganaTelanganaTelanganaTelanganaTelanganaTelanganaTelanganaTelanganaTelanganaTelanganaTelanganaTelanganaTelanganaTelanganaTelanganaTelanganaTelanganaTelanganaTelanganaTelanganaTelanganaTelanganaTelanganaTelanganaTelanganaTelanganaTelanganaTelanganaTelanganaTelanganaTelanganaTelanganaTelanganaTelanganaTelanganaTelanganaTelanganaTelanganaTelanganaTelanganaTelanganaTelanganaTelanganaTelanganaTelanganaTelanganaTelanganaTelanganaTelanganaTelanganaTelanganaTelanganaTelanganaTelanganaTelanganaTelanganaTelanganaTelanganaTelanganaTelanganaTelanganaTelanganaTelanganaTelanganaTelanganaTelanganaHaryanaBiharPunjabPunjabMaharashtraMaharashtraMaharashtraMaharashtraMaharashtraMaharashtraMaharashtraMaharashtraMaharashtraMaharashtraMaharashtraMaharashtraMaharashtraMaharashtraMaharashtraMaharashtraMaharashtraMaharashtraMaharashtraMaharashtraMaharashtraMaharashtraMaharashtraMaharashtraMaharashtraMaharashtraMaharashtraMaharashtraMaharashtraMaharashtraMaharashtraMaharashtraMaharashtraMaharashtraMaharashtraMaharashtraMaharashtraMaharashtraMaharashtraMaharashtraMaharashtraMaharashtraMaharashtraMaharashtraMaharashtraMaharashtraMaharashtraMaharashtraMaharashtraMaharashtraMaharashtraMaharashtraMaharashtraMaharashtraMaharashtraMaharashtraMaharashtraMaharashtraMaharashtraMaharashtraMaharashtraMaharashtraMaharashtraMaharashtraMaharashtraMaharashtraMaharashtraBiharDelhiDelhiUttarakhandUttarakhandUttarakhandUttarakhandUttarakhandUttarakhandLadakhAndhra PradeshAndhra PradeshAndhra PradeshMadhya PradeshMadhya PradeshMadhya PradeshMadhya PradeshMadhya PradeshMadhya PradeshMadhya PradeshMadhya PradeshMadhya PradeshMadhya PradeshMadhya PradeshMadhya PradeshMadhya PradeshMadhya PradeshMadhya PradeshMadhya PradeshMadhya PradeshMadhya PradeshMadhya PradeshMadhya PradeshRajasthanRajasthanRajasthanRajasthanRajasthanRajasthanRajasthanRajasthanRajasthanRajasthanRajasthanOdishaOdishaOdishaOdishaOdishaOdishaOdishaOdishaOdishaOdishaOdishaMadhya PradeshMadhya PradeshMadhya PradeshMadhya PradeshMadhya PradeshUttar PradeshUttar PradeshAssamAssamAssam",
          "HaryanaHaryanaHaryanaHaryanaHaryanaHaryanaHaryanaHaryanaHaryanaHaryanaHaryanaHaryanaHaryanaHaryanaRajasthanUttar PradeshUttar PradeshUttar PradeshUttar PradeshUttar PradeshUttar PradeshUttar Pradesh",
          "AssamGoaRajasthanRajasthanRajasthanRajasthanRajasthanRajasthanRajasthanRajasthanRajasthanRajasthanRajasthanRajasthanRajasthanRajasthanRajasthanRajasthanRajasthanAndhra PradeshAndhra PradeshAndhra PradeshAndhra PradeshAndhra PradeshAndhra PradeshAndhra PradeshAndhra PradeshAndhra PradeshAndhra PradeshAndhra PradeshAndhra PradeshAndhra PradeshAndhra PradeshAndhra PradeshAndhra PradeshJammu and KashmirJammu and KashmirJammu and KashmirMaharashtraMaharashtraMaharashtraMaharashtraMaharashtraMaharashtraMaharashtraMaharashtraMaharashtraMaharashtraMaharashtraMaharashtraMaharashtraMaharashtraMaharashtraMaharashtraMaharashtraMaharashtraMaharashtraMaharashtraMaharashtraMaharashtraMaharashtraMaharashtraMaharashtraMaharashtraMaharashtraMaharashtraMaharashtraMaharashtraMaharashtraMaharashtraMaharashtraMaharashtraMaharashtraMaharashtraMaharashtraMaharashtraMaharashtraMaharashtraMaharashtraMaharashtraMaharashtraMaharashtraMaharashtraMaharashtraMaharashtraRajasthanRajasthanGujaratGujaratGujaratGujaratGujaratGujaratGujaratGujaratGujaratGujaratPunjabPunjabPunjabPunjabAssamChhattisgarhHaryanaHaryanaHaryanaHaryanaHaryanaHaryanaHaryanaHaryanaHaryanaHaryanaHaryanaHaryanaHaryanaHaryanaHaryanaHaryanaHaryanaHaryanaRajasthanRajasthanKarnatakaKarnatakaKarnatakaKarnatakaKarnatakaKarnatakaKarnatakaKarnatakaKarnatakaKarnatakaKarnatakaKarnatakaKarnatakaKarnatakaKarnatakaKarnatakaDelhiDelhiDelhiDelhiDelhiDelhiDelhiDelhiDelhiDelhiDelhiDelhiDelhiDelhiDelhiDelhiDelhiDelhiDelhiDelhiDelhiDelhiDelhiDelhiDelhiDelhiDelhiDelhiDelhiDelhiDelhiDelhiDelhiDelhiDelhiDelhiDelhiDelhiDelhiDelhiDelhiDelhiDelhiDelhiDelhiDelhiDelhiDelhiDelhiDelhiDelhiDelhiDelhiDelhiDelhiDelhiDelhiDelhiDelhiJammu and KashmirJammu and KashmirJammu and KashmirJammu and KashmirJammu and KashmirJammu and KashmirJammu and KashmirJammu and KashmirJammu and KashmirJammu and KashmirJammu and KashmirJammu and KashmirJammu and KashmirJammu and KashmirUttar PradeshUttar PradeshUttar PradeshUttar PradeshUttar PradeshUttar PradeshUttar PradeshUttar PradeshUttar PradeshUttar PradeshUttar PradeshUttar PradeshUttar PradeshUttar PradeshUttar PradeshUttar PradeshUttar PradeshUttar PradeshUttar PradeshUttar PradeshUttar PradeshUttar PradeshUttar PradeshUttar PradeshUttar PradeshUttar PradeshUttar PradeshUttar PradeshUttar PradeshUttar PradeshUttar PradeshUttar PradeshUttar PradeshUttar PradeshUttar PradeshUttar PradeshUttar PradeshUttar PradeshUttar PradeshUttar PradeshUttar PradeshUttar PradeshUttar PradeshUttar PradeshUttar PradeshUttar PradeshUttar PradeshUttar PradeshUttar PradeshUttar PradeshUttar PradeshUttar PradeshUttar PradeshUttarakhandUttarakhandUttarakhandUttarakhandUttarakhandUttarakhandTamil NaduTamil NaduTamil NaduTamil NaduTamil NaduTamil NaduTamil NaduTamil NaduTamil NaduTamil NaduTamil NaduTamil NaduTamil NaduTamil NaduTamil NaduTamil NaduTamil NaduTamil NaduTamil NaduTamil NaduTamil NaduTamil NaduTamil NaduTamil NaduTamil NaduTamil NaduTamil NaduTamil NaduTamil NaduTamil NaduTamil NaduTamil NaduTamil NaduTamil NaduTamil NaduTamil NaduTamil NaduTamil NaduTamil NaduTamil NaduTamil NaduTamil NaduTamil NaduTamil NaduTamil NaduTamil NaduTamil NaduTamil NaduTamil NaduTamil NaduTamil NaduTamil NaduTamil NaduTamil NaduTamil NaduTamil NaduTamil NaduTamil NaduTamil NaduTamil NaduTamil NaduTamil NaduTamil NaduTamil NaduTamil NaduTamil NaduTamil NaduTamil NaduTamil NaduTamil NaduTamil NaduTamil NaduTamil NaduTamil NaduKeralaKeralaKeralaKeralaKeralaKeralaKeralaKeralaKeralaKeralaKeralaAndhra PradeshAndhra PradeshAndhra PradeshAndhra PradeshAndhra PradeshAndhra PradeshAndhra PradeshAndhra PradeshAndhra PradeshAndhra PradeshHaryanaHaryanaHaryanaHaryanaHaryanaHaryanaHaryanaHaryanaPunjabPunjabPunjabPunjabPunjabPunjabPunjabPunjabBiharGujaratGujaratGujaratUttar PradeshUttar PradeshUttar PradeshUttar PradeshUttar PradeshUttar PradeshUttar PradeshMadhya PradeshMadhya PradeshMadhya PradeshMadhya PradeshMadhya PradeshMadhya PradeshMadhya PradeshMadhya PradeshMadhya PradeshMadhya PradeshMadhya PradeshMadhya PradeshMadhya PradeshMadhya PradeshMadhya PradeshMadhya PradeshMadhya PradeshMadhya PradeshMadhya PradeshMadhya PradeshMadhya PradeshMadhya PradeshMadhya PradeshMadhya PradeshMadhya PradeshTelanganaTelanganaTelanganaTelanganaTelanganaTelanganaTelanganaTelanganaTelanganaTelanganaTelanganaTelanganaTelanganaTelanganaTelanganaTelanganaTelanganaTelanganaTelanganaTelanganaTelanganaTelanganaTelanganaTelanganaTelanganaTelanganaTelanganaTelanganaTelanganaTelanganaTelanganaTelanganaTelanganaTelanganaTelanganaTelanganaTelanganaTelanganaTelanganaTelanganaTelanganaTelanganaTelanganaAndhra PradeshAndhra PradeshAssamOdishaMaharashtraMaharashtraMaharashtraMaharashtraMaharashtraMaharashtraMaharashtraMaharashtraMaharashtraMaharashtraMaharashtraMaharashtraMaharashtraMaharashtraMaharashtraMaharashtraMaharashtraMaharashtraMaharashtraMaharashtraMaharashtraMaharashtraMaharashtraMaharashtraMaharashtraMaharashtraMaharashtraMaharashtraMaharashtraMaharashtraMaharashtraMaharashtraMaharashtraMaharashtraMaharashtraMaharashtraMaharashtraMaharashtraMaharashtraMaharashtraMaharashtraMaharashtraMaharashtraMaharashtraMaharashtraMaharashtraMaharashtraMaharashtraMaharashtraMaharashtraMaharashtraMaharashtraMaharashtraMaharashtraMaharashtraMaharashtraMaharashtraMaharashtraMaharashtraMaharashtraMaharashtraMaharashtraMaharashtraMaharashtraMaharashtraMaharashtraMaharashtraMaharashtraMaharashtraMaharashtraMaharashtraMaharashtraMaharashtraMaharashtraMaharashtraMaharashtraMaharashtraMaharashtraMaharashtraMaharashtraMaharashtraMaharashtraMaharashtraMaharashtraMaharashtraMaharashtraMaharashtraMaharashtraMaharashtraMaharashtraMaharashtraMaharashtraMaharashtraMaharashtraMaharashtraMaharashtraMaharashtraMaharashtra",
          "DelhiUttar Pradesh",
          "Delhi",
          "LadakhLadakhTamil Nadu",
          "KeralaKeralaKeralaKeralaKerala",
          "DelhiJammu and KashmirKarnatakaKeralaMaharashtraMaharashtraPunjabUttar PradeshUttar Pradesh",
          "KeralaKeralaKarnatakaKarnatakaKarnatakaKeralaKeralaKeralaKeralaKeralaKeralaMaharashtraMaharashtraMaharashtraRajasthan",
          "DelhiLadakhMaharashtraMaharashtraMaharashtraMaharashtraMaharashtra",
          "Andhra PradeshDelhiKarnatakaKarnatakaKeralaKeralaMaharashtraMaharashtraMaharashtraMaharashtraUttar PradeshUttar Pradesh",
          "DelhiJammu and KashmirKeralaKeralaKeralaMaharashtraMaharashtraMaharashtraUttar Pradesh",
          "MaharashtraMaharashtraMaharashtraMaharashtraMaharashtraMaharashtraMaharashtraMaharashtraMaharashtraMaharashtraMaharashtraMaharashtraMaharashtraMaharashtraRajasthanTelangana",
          "KeralaKeralaMaharashtraMaharashtraTelanganaUttarakhand",
          "Jammu and KashmirKarnatakaKarnatakaKeralaKeralaKeralaMaharashtraMaharashtraMaharashtraMaharashtraMaharashtraMaharashtraOdishaTelangana",
          "DelhiDelhiDelhiHaryanaLadakhLadakhLadakhKarnatakaKarnatakaKarnatakaMaharashtraMaharashtraPuducherryTelanganaUttar PradeshUttar PradeshWest BengalLadakhLadakh",
          "MaharashtraUttar PradeshTelanganaKarnatakaKarnatakaUttar PradeshHaryanaTamil NaduMaharashtraKarnatakaMaharashtraMaharashtraJammu and KashmirRajasthanRajasthanRajasthanTelanganaTelanganaTelanganaTelanganaTelanganaTelanganaTelanganaHaryanaDelhi",
          "ChandigarhMaharashtraMaharashtraKarnatakaAndhra PradeshChhattisgarhUttar PradeshUttar PradeshUttar PradeshTamil NaduPunjabKeralaGujaratGujaratMaharashtraMaharashtraUttarakhandUttarakhandTelanganaTelanganaTelanganaOdishaRajasthanRajasthanAndhra PradeshDelhiDelhiDelhi",
          "West BengalPunjabLadakhLadakhDelhiDelhiDelhiMaharashtraMaharashtraMaharashtraGujaratGujaratGujaratUttar PradeshUttar PradeshUttar PradeshUttar PradeshRajasthanRajasthanRajasthanTelanganaRajasthanGujaratGujaratChandigarhChandigarhChandigarhChandigarhKeralaKeralaKeralaKeralaKeralaRajasthanRajasthanRajasthanRajasthanHaryanaHaryanaKeralaKeralaKeralaKeralaKeralaKeralaKeralaHimachal PradeshHimachal PradeshMadhya PradeshMadhya PradeshMadhya PradeshMadhya PradeshTelanganaTelanganaDelhiDelhiDelhiMaharashtraMaharashtra",
          "West BengalRajasthanRajasthanRajasthanRajasthanRajasthanRajasthanPunjabPunjabPunjabGujaratMaharashtraMaharashtraMaharashtraMaharashtraMaharashtraMaharashtraMaharashtraMaharashtraMaharashtraDelhiDelhiDelhiDelhiDelhiDelhiKarnatakaUttar PradeshHaryanaLadakhLadakhLadakhGujaratGujaratGujaratGujaratGujaratKarnatakaKarnatakaUttar PradeshTelanganaTelanganaTamil NaduTamil NaduTamil NaduPunjabPunjabPunjabPunjabPunjabPunjabMaharashtraPunjabKeralaKeralaKeralaKeralaKeralaKeralaKeralaKeralaKeralaKeralaKeralaKeralaKarnatakaKarnatakaHaryanaWest BengalRajasthanGujaratAndhra PradeshAndhra PradeshDelhiUttar PradeshUttar Pradesh",
          "ChandigarhKarnatakaMaharashtraMaharashtraMaharashtraMaharashtraMaharashtraMaharashtraMaharashtraMaharashtraMaharashtraMaharashtraTamil NaduBiharBiharTelanganaGujaratGujaratGujaratGujaratPunjabPunjabPunjabPunjabPunjabPunjabPunjabMadhya PradeshKeralaKeralaKeralaKeralaKeralaTelanganaTelanganaTelanganaTelanganaTelanganaKarnatakaKeralaKeralaKeralaKeralaKeralaKeralaKeralaKeralaKarnatakaKarnatakaKarnatakaKarnatakaKeralaKeralaPunjabUttar PradeshUttar PradeshWest BengalWest BengalWest BengalMadhya PradeshTamil NaduTamil NaduAndhra PradeshRajasthanRajasthanRajasthanRajasthanRajasthanDelhi",
          "MaharashtraMaharashtraMaharashtraMaharashtraMaharashtraMaharashtraMaharashtraMaharashtraMaharashtraMaharashtraMaharashtraMaharashtraMaharashtraMaharashtraMaharashtraKarnatakaHaryanaGujaratGujaratGujaratGujaratGujaratGujaratGujaratGujaratGujaratGujaratGujaratDelhiDelhiTelanganaTelanganaTelanganaChandigarhTelanganaTelanganaTelanganaGujaratUttarakhandKeralaKeralaKeralaKeralaKeralaKeralaKeralaKeralaKeralaKeralaKeralaKeralaKeralaKeralaKeralaKeralaKeralaKeralaKeralaKeralaKeralaKeralaKeralaKeralaKeralaKeralaKeralaKeralaKarnatakaKarnatakaKarnatakaKarnatakaKarnatakaKarnatakaMaharashtraMaharashtraMaharashtraMaharashtraMaharashtraMaharashtraMaharashtraMaharashtraUttar PradeshUttar PradeshHimachal PradeshPunjabPunjabRajasthanRajasthanRajasthanAndhra PradeshHaryanaHaryanaHaryanaHaryanaHaryanaHaryanaTamil NaduTamil NaduTamil NaduBiharUttar PradeshUttar Pradesh",
          "ManipurMaharashtraMaharashtraMaharashtraMaharashtraMadhya PradeshKarnatakaKarnatakaKarnatakaKarnatakaKeralaKeralaGujaratGujaratGujaratWest BengalTamil NaduTamil NaduTamil NaduTelanganaTelanganaTelanganaKarnatakaKarnatakaWest BengalJammu and KashmirJammu and KashmirPunjabPunjabPunjabMaharashtraMaharashtraMaharashtraMaharashtraMaharashtraMaharashtraUttar PradeshPunjabPunjabPunjabKeralaKeralaKeralaKeralaKeralaKeralaKeralaKeralaKeralaKeralaKeralaKeralaKarnatakaKarnatakaAndhra PradeshTamil NaduTamil NaduTamil NaduTelanganaHaryanaHaryanaGujaratGujaratGujaratTelanganaTelangana",
          "BiharMadhya PradeshMadhya PradeshMadhya PradeshMadhya PradeshMadhya PradeshMaharashtraMaharashtraMaharashtraMaharashtraMaharashtraGujaratGujaratMadhya PradeshMadhya PradeshMizoramRajasthanRajasthanRajasthanRajasthanMaharashtraMaharashtraMaharashtraMaharashtraTamil NaduTamil NaduTamil NaduTamil NaduTamil NaduKarnatakaHaryanaMadhya PradeshJammu and KashmirJammu and KashmirJammu and KashmirJammu and KashmirJammu and KashmirMaharashtraMaharashtraMaharashtraMaharashtraMaharashtraMaharashtraKeralaKeralaKeralaKeralaKeralaKeralaKeralaKeralaKeralaDelhiDelhiDelhiDelhiDelhiKarnatakaKarnatakaKarnatakaKarnatakaKarnatakaKarnatakaKarnatakaKarnatakaKarnatakaPunjabPunjabUttarakhandChhattisgarhChhattisgarhUttar PradeshUttar PradeshUttar PradeshTelanganaTelanganaRajasthanRajasthanAndhra PradeshTamil NaduTamil NaduTamil NaduAndhra PradeshGoaGoaGoa",
          "West BengalMaharashtraMaharashtraMadhya PradeshMadhya PradeshMadhya PradeshMadhya PradeshMadhya PradeshChhattisgarhChhattisgarhChhattisgarhGujaratGujaratGujaratGujaratGujaratDelhiUttar PradeshUttar PradeshUttar PradeshUttar PradeshBiharBiharAndaman and Nicobar IslandsTelanganaTelanganaTelanganaRajasthanRajasthanPunjabPunjabKarnatakaKarnatakaKarnatakaKarnatakaMaharashtraHaryanaTamil NaduJammu and KashmirJammu and KashmirKeralaKeralaKeralaKeralaKeralaKeralaKeralaKeralaKeralaKeralaKeralaKeralaKeralaKeralaKeralaKeralaKeralaKeralaKeralaTamil NaduTamil NaduBiharAndhra PradeshOdishaJammu and KashmirTelanganaRajasthanRajasthanRajasthanGujaratDelhiDelhiDelhiMaharashtraMaharashtraMaharashtraMaharashtraMaharashtra",
          "Andaman and Nicobar IslandsRajasthanRajasthanBiharBiharMaharashtraMaharashtraMaharashtraMaharashtraMaharashtraAndhra PradeshMadhya PradeshTamil NaduTamil NaduTamil NaduTamil NaduTamil NaduTamil NaduKarnatakaKarnatakaKarnatakaKarnatakaKarnatakaKarnatakaKarnatakaUttar PradeshUttar PradeshUttar PradeshMaharashtraMaharashtraMaharashtraMaharashtraMaharashtraMaharashtraMaharashtraMaharashtraMaharashtraMaharashtraMaharashtraMaharashtraMadhya PradeshMadhya PradeshMadhya PradeshMadhya PradeshMadhya PradeshJammu and KashmirJammu and KashmirJammu and KashmirJammu and KashmirTelanganaTelanganaTelanganaTelanganaTelanganaTelanganaTelanganaTelanganaTelanganaTelanganaTelanganaTelanganaTelanganaTelanganaHaryanaPunjabPunjabPunjabPunjabPunjabKeralaKeralaKeralaKeralaKeralaKeralaKeralaKeralaKeralaKeralaKeralaKeralaKeralaKeralaKeralaKeralaKeralaKeralaKeralaKeralaKeralaKeralaKeralaKeralaKeralaKeralaKeralaKeralaKeralaKeralaKeralaKeralaKeralaKeralaKeralaKeralaKeralaKeralaKeralaMaharashtraMaharashtraMaharashtraMaharashtraMaharashtraMaharashtraMaharashtraMaharashtraMaharashtraAndaman and Nicobar IslandsAndaman and Nicobar IslandsAndaman and Nicobar IslandsAndaman and Nicobar IslandsUttar PradeshUttar PradeshUttar PradeshUttar PradeshKarnatakaKarnatakaWest BengalWest BengalWest BengalWest BengalWest BengalRajasthanRajasthanRajasthanRajasthanRajasthanTamil NaduTamil NaduTamil NaduAndhra PradeshDelhiChandigarhMadhya PradeshMadhya PradeshMadhya PradeshGujaratGujaratGujaratJammu and KashmirJammu and Kashmir",
          "MaharashtraMaharashtraMaharashtraMaharashtraMaharashtraMaharashtraGujaratGujaratGujaratGujaratGujaratGujaratMadhya PradeshMadhya PradeshMadhya PradeshMadhya PradeshTamil NaduTamil NaduUttar PradeshGujaratRajasthanRajasthanKarnatakaKarnatakaKarnatakaKarnatakaKarnatakaKarnatakaKarnatakaKarnatakaKarnatakaKarnatakaRajasthanRajasthanUttarakhandJammu and KashmirJammu and KashmirJammu and KashmirJammu and KashmirJammu and KashmirJammu and KashmirJammu and KashmirUttar PradeshUttar PradeshUttar PradeshUttar PradeshUttar PradeshMaharashtraMaharashtraMaharashtraMaharashtraMaharashtraKeralaKeralaKeralaKeralaKeralaKeralaTamil NaduTelanganaTelanganaTelanganaTelanganaTelanganaTelanganaChhattisgarhTamil NaduKarnatakaKarnatakaAndaman and Nicobar IslandsAndaman and Nicobar IslandsAndaman and Nicobar IslandsJammu and KashmirWest BengalWest BengalMadhya PradeshGujaratHaryanaMaharashtraMaharashtraMaharashtraMaharashtraMaharashtraMaharashtraMaharashtraMaharashtraMaharashtraMaharashtraMaharashtraMaharashtraMaharashtraMaharashtraUttar PradeshUttar PradeshUttar PradeshUttar PradeshUttar PradeshUttar PradeshJammu and KashmirJammu and KashmirJammu and KashmirJammu and KashmirJammu and KashmirMaharashtraMaharashtraMaharashtraMaharashtraMaharashtraDelhiDelhiDelhiDelhiDelhiDelhiDelhiDelhiDelhiAndhra PradeshAndhra PradeshAndhra PradeshAndhra PradeshAndhra PradeshAndhra PradeshTelanganaTelanganaWest BengalKarnatakaKarnatakaKarnatakaKarnatakaKarnatakaUttar PradeshUttar PradeshUttar PradeshUttar PradeshBiharBiharHaryanaMadhya PradeshMadhya PradeshMadhya PradeshMadhya PradeshMadhya Pradesh",
          "MaharashtraMaharashtraMaharashtraMaharashtraMaharashtraMaharashtraMaharashtraRajasthanGujaratGujaratGujaratJammu and KashmirJammu and KashmirJammu and KashmirJammu and KashmirJammu and KashmirRajasthanUttar PradeshUttar PradeshUttar PradeshUttar PradeshMaharashtraMaharashtraMaharashtraGoaGoaKeralaKeralaKeralaKeralaKeralaKeralaKeralaKeralaKeralaKeralaKeralaKeralaKeralaKeralaKeralaKeralaKeralaKeralaKeralaKeralaTamil NaduTamil NaduTamil NaduTamil NaduTamil NaduTamil NaduTamil NaduTamil NaduKarnatakaKarnatakaUttarakhandMaharashtraMaharashtraMaharashtraMaharashtraMaharashtraMaharashtraMaharashtraGujaratGujaratGujaratGujaratGujaratBiharBiharBiharBiharWest BengalWest BengalDelhiDelhiDelhiDelhiDelhiDelhiDelhiDelhiDelhiDelhiDelhiDelhiDelhiDelhiDelhiDelhiDelhiDelhiDelhiDelhiDelhiDelhiDelhiRajasthanRajasthanRajasthanUttar PradeshUttar PradeshUttar PradeshTelanganaTelanganaTelanganaAndhra PradeshAndhra PradeshWest Bengal",
          "Kerala",
          "PunjabMaharashtraMaharashtraMaharashtraMaharashtraMaharashtraMaharashtraMaharashtraMaharashtraMaharashtraMaharashtraMaharashtraMaharashtraRajasthanMadhya PradeshMadhya PradeshMadhya PradeshMadhya PradeshMadhya PradeshMadhya PradeshMadhya PradeshMadhya PradeshGujaratGujaratGujaratGujaratGujaratGujaratJammu and KashmirJammu and KashmirJammu and KashmirAndaman and Nicobar IslandsAndhra PradeshAndhra PradeshTamil NaduTamil NaduTamil NaduTamil NaduTamil NaduTamil NaduTamil NaduTamil NaduTamil NaduTamil NaduTamil NaduTamil NaduTamil NaduTamil NaduTamil NaduTamil NaduTamil NaduWest BengalJammu and KashmirJammu and KashmirJammu and KashmirJammu and KashmirRajasthanRajasthanRajasthanRajasthanRajasthanRajasthanRajasthanRajasthanRajasthanChandigarhChandigarhChandigarhChandigarhChandigarhHaryanaKarnatakaKarnatakaKarnatakaKarnatakaKarnatakaUttar PradeshUttar PradeshUttar PradeshUttar PradeshUttar PradeshUttar PradeshUttar PradeshUttar PradeshUttar PradeshUttar PradeshUttar PradeshUttar PradeshUttar PradeshUttar PradeshUttar PradeshUttar PradeshKeralaKeralaKeralaKeralaKeralaKeralaKeralaKeralaKeralaKeralaKeralaKeralaKeralaKeralaKeralaKeralaKeralaKeralaKeralaKeralaKeralaKeralaKeralaKeralaKeralaKeralaKeralaKeralaKeralaKeralaKeralaKeralaJammu and KashmirJammu and KashmirJammu and KashmirJammu and KashmirGujaratMaharashtraMaharashtraMaharashtraMaharashtraMaharashtraUttar PradeshUttar PradeshUttar PradeshUttar PradeshUttar PradeshUttar PradeshUttar PradeshUttar PradeshDelhiDelhiDelhiDelhiDelhiDelhiDelhiDelhiDelhiDelhiDelhiDelhiDelhiDelhiDelhiDelhiDelhiDelhiDelhiDelhiDelhiDelhiDelhiDelhiDelhiPunjabPunjabTelanganaTelanganaTelanganaTelanganaTelanganaTelanganaTelanganaKarnatakaKarnatakaKarnatakaRajasthanRajasthanRajasthanRajasthanRajasthanRajasthanRajasthanRajasthanRajasthanRajasthanMaharashtraMaharashtraMaharashtraMaharashtraMaharashtraMaharashtraMaharashtraMaharashtraMaharashtraMaharashtraMaharashtraMaharashtraMaharashtraMaharashtraMaharashtraMaharashtraMaharashtraMaharashtraChhattisgarh",
          "MaharashtraMaharashtraMaharashtraMaharashtraMaharashtraRajasthanRajasthanRajasthanRajasthanUttar PradeshUttar PradeshUttar PradeshUttar PradeshUttar PradeshBiharGujaratGujaratGujaratMadhya PradeshMadhya PradeshMadhya PradeshMadhya PradeshMadhya PradeshMadhya PradeshMadhya PradeshMadhya PradeshMadhya PradeshMadhya PradeshMadhya PradeshMadhya PradeshMadhya PradeshMadhya PradeshMadhya PradeshMadhya PradeshMadhya PradeshMadhya PradeshMadhya PradeshWest BengalWest BengalWest BengalWest BengalTamil NaduTamil NaduTamil NaduTamil NaduTamil NaduTamil NaduTamil NaduMaharashtraMaharashtraMaharashtraMaharashtraMaharashtraAndhra PradeshAndhra PradeshAndhra PradeshAndhra PradeshAndhra PradeshAndhra PradeshAndhra PradeshAndhra PradeshAndhra PradeshAndhra PradeshAndhra PradeshAndhra PradeshAndhra PradeshAndhra PradeshAndhra PradeshAndhra PradeshAndhra PradeshKarnatakaKarnatakaKarnatakaKarnatakaKarnatakaKarnatakaKarnatakaJammu and KashmirJammu and KashmirJammu and KashmirJammu and KashmirJammu and KashmirJammu and KashmirRajasthanRajasthanRajasthanRajasthanRajasthanRajasthanRajasthanRajasthanRajasthanRajasthanWest BengalJharkhandHaryanaHaryanaHaryanaKeralaKeralaKeralaKeralaKeralaKeralaKeralaAssamGujaratKarnatakaKarnatakaKarnatakaMaharashtraMaharashtraMaharashtraMaharashtraMaharashtraMaharashtraMaharashtraMaharashtraMaharashtraMaharashtraMaharashtraMaharashtraMaharashtraMaharashtraMaharashtraMaharashtraMaharashtraMaharashtraMaharashtraMaharashtraMaharashtraMaharashtraMaharashtraMaharashtraMaharashtraMaharashtraMaharashtraMaharashtraMaharashtraMaharashtraMaharashtraMaharashtraMaharashtraMaharashtraMaharashtraMaharashtraMaharashtraMaharashtraMaharashtraMaharashtraMaharashtraMaharashtraMaharashtraMaharashtraMaharashtraMaharashtraMaharashtraMaharashtraMaharashtraMaharashtraMaharashtraMaharashtraMaharashtraMaharashtraHaryanaHaryanaHaryanaHaryanaTamil NaduTamil NaduTamil NaduTamil NaduTamil NaduTamil NaduTamil NaduTamil NaduTamil NaduTamil NaduTamil NaduTamil NaduTamil NaduTamil NaduTamil NaduTamil NaduTamil NaduTamil NaduTamil NaduTamil NaduTamil NaduTamil NaduTamil NaduTamil NaduTamil NaduTamil NaduTamil NaduTamil NaduTamil NaduTamil NaduTamil NaduTamil NaduTamil NaduTamil NaduTamil NaduTamil NaduTamil NaduTamil NaduTamil NaduTamil NaduTamil NaduTamil NaduTamil NaduTamil NaduTamil NaduTamil NaduTamil NaduTamil NaduTamil NaduTamil NaduTelanganaTelanganaTelanganaTelanganaTelanganaTelanganaTelanganaTelanganaTelanganaTelanganaTelanganaTelanganaTelanganaTelanganaTelanganaBiharBiharBiharBiharBiharDelhiDelhiDelhiDelhiDelhiDelhiDelhiDelhiDelhiDelhiDelhiDelhiDelhiDelhiDelhiDelhiDelhiDelhiDelhiDelhiDelhiDelhiDelhiChhattisgarhAndhra PradeshAndhra PradeshAndhra PradeshAndhra PradeshOdishaChandigarhChandigarhUttar PradeshUttar PradeshUttar PradeshTelanganaTelanganaTelanganaTelanganaTelanganaPunjabWest BengalWest BengalWest BengalWest BengalWest BengalWest BengalWest BengalWest BengalWest BengalWest Bengal"
         ],
         "yaxis": "y"
        },
        {
         "hovertemplate": "Reported=current_status<br>diagnosed_date=%{x}<br>Count=%{y}<extra></extra>",
         "legendgroup": "current_status",
         "line": {
          "color": "#EF553B",
          "dash": "solid"
         },
         "mode": "lines",
         "name": "current_status",
         "showlegend": true,
         "type": "scatter",
         "x": [
          "01/04/2020",
          "02/02/2020",
          "02/03/2020",
          "02/04/2020",
          "03/02/2020",
          "03/03/2020",
          "03/04/2020",
          "04/03/2020",
          "04/04/2020",
          "05/03/2020",
          "06/03/2020",
          "07/03/2020",
          "08/03/2020",
          "09/03/2020",
          "10/03/2020",
          "11/03/2020",
          "12/03/2020",
          "13/03/2020",
          "14/03/2020",
          "15/03/2020",
          "16/03/2020",
          "17/03/2020",
          "18/03/2020",
          "19/03/2020",
          "20/03/2020",
          "21/03/2020",
          "22/03/2020",
          "23/03/2020",
          "24/03/2020",
          "25/03/2020",
          "26/03/2020",
          "27/03/2020",
          "28/03/2020",
          "29/03/2020",
          "30/01/2020",
          "30/03/2020",
          "31/03/2020"
         ],
         "xaxis": "x2",
         "y": [
          "HospitalizedHospitalizedHospitalizedHospitalizedHospitalizedHospitalizedHospitalizedHospitalizedHospitalizedHospitalizedHospitalizedHospitalizedHospitalizedHospitalizedHospitalizedHospitalizedHospitalizedHospitalizedHospitalizedHospitalizedHospitalizedHospitalizedHospitalizedHospitalizedHospitalizedHospitalizedHospitalizedHospitalizedHospitalizedHospitalizedHospitalizedHospitalizedHospitalizedHospitalizedHospitalizedHospitalizedHospitalizedHospitalizedHospitalizedHospitalizedHospitalizedHospitalizedHospitalizedHospitalizedHospitalizedHospitalizedHospitalizedHospitalizedHospitalizedHospitalizedHospitalizedHospitalizedHospitalizedHospitalizedHospitalizedHospitalizedHospitalizedHospitalizedHospitalizedHospitalizedHospitalizedHospitalizedHospitalizedHospitalizedHospitalizedHospitalizedHospitalizedHospitalizedHospitalizedHospitalizedHospitalizedHospitalizedHospitalizedHospitalizedHospitalizedHospitalizedHospitalizedHospitalizedHospitalizedHospitalizedHospitalizedHospitalizedHospitalizedHospitalizedHospitalizedHospitalizedHospitalizedHospitalizedHospitalizedHospitalizedHospitalizedHospitalizedHospitalizedHospitalizedHospitalizedHospitalizedHospitalizedHospitalizedHospitalizedHospitalizedHospitalizedHospitalizedHospitalizedHospitalizedHospitalizedHospitalizedHospitalizedHospitalizedHospitalizedHospitalizedHospitalizedHospitalizedHospitalizedHospitalizedHospitalizedHospitalizedHospitalizedHospitalizedHospitalizedHospitalizedHospitalizedHospitalizedHospitalizedHospitalizedHospitalizedHospitalizedHospitalizedHospitalizedHospitalizedHospitalizedHospitalizedHospitalizedHospitalizedHospitalizedHospitalizedHospitalizedHospitalizedHospitalizedHospitalizedHospitalizedHospitalizedHospitalizedHospitalizedHospitalizedHospitalizedHospitalizedHospitalizedHospitalizedHospitalizedHospitalizedHospitalizedHospitalizedHospitalizedHospitalizedHospitalizedHospitalizedHospitalizedHospitalizedHospitalizedHospitalizedHospitalizedHospitalizedHospitalizedHospitalizedHospitalizedHospitalizedHospitalizedHospitalizedHospitalizedHospitalizedHospitalizedHospitalizedHospitalizedHospitalizedHospitalizedHospitalizedHospitalizedHospitalizedHospitalizedHospitalizedHospitalizedHospitalizedHospitalizedHospitalizedHospitalizedHospitalizedHospitalizedHospitalizedHospitalizedHospitalizedHospitalizedHospitalizedHospitalizedHospitalizedHospitalizedHospitalizedHospitalizedHospitalizedHospitalizedHospitalizedHospitalizedHospitalizedHospitalizedHospitalizedHospitalizedHospitalizedHospitalizedHospitalizedHospitalizedHospitalizedHospitalizedHospitalizedHospitalizedHospitalizedHospitalizedHospitalizedHospitalizedHospitalizedHospitalizedHospitalizedHospitalizedHospitalizedHospitalizedHospitalizedHospitalizedHospitalizedHospitalizedHospitalizedHospitalizedHospitalizedHospitalizedHospitalizedHospitalizedHospitalizedHospitalizedHospitalizedHospitalizedHospitalizedHospitalizedHospitalizedHospitalizedHospitalizedHospitalizedHospitalizedHospitalizedHospitalizedHospitalizedHospitalizedHospitalizedHospitalizedHospitalizedHospitalizedHospitalizedHospitalizedHospitalizedHospitalizedHospitalizedHospitalizedHospitalizedHospitalizedHospitalizedHospitalizedHospitalizedHospitalizedHospitalizedHospitalizedHospitalizedHospitalizedHospitalizedHospitalizedHospitalizedHospitalizedHospitalizedHospitalizedHospitalizedHospitalizedHospitalizedHospitalizedHospitalizedHospitalizedHospitalizedHospitalizedHospitalizedHospitalizedHospitalizedHospitalizedHospitalizedHospitalizedHospitalizedHospitalizedHospitalizedHospitalizedHospitalizedHospitalizedHospitalizedHospitalizedHospitalizedHospitalizedHospitalizedHospitalizedHospitalizedHospitalizedHospitalizedHospitalizedHospitalizedHospitalizedHospitalizedHospitalizedHospitalizedHospitalizedHospitalizedHospitalizedHospitalizedHospitalizedHospitalizedHospitalizedHospitalizedHospitalizedHospitalizedHospitalizedHospitalizedHospitalizedHospitalizedHospitalizedHospitalizedHospitalizedHospitalizedHospitalizedHospitalizedHospitalizedHospitalizedHospitalizedHospitalizedHospitalizedHospitalizedHospitalizedHospitalizedHospitalizedHospitalizedHospitalizedHospitalizedHospitalizedHospitalizedHospitalizedHospitalizedHospitalizedHospitalizedHospitalizedHospitalizedHospitalizedHospitalizedHospitalizedHospitalizedHospitalizedHospitalizedHospitalizedHospitalizedHospitalizedHospitalizedHospitalizedHospitalizedHospitalizedHospitalizedHospitalizedHospitalizedHospitalizedHospitalizedHospitalizedHospitalizedHospitalizedHospitalizedHospitalizedHospitalizedHospitalizedHospitalizedHospitalizedHospitalizedHospitalizedHospitalizedHospitalizedHospitalizedHospitalizedHospitalizedHospitalizedHospitalizedHospitalizedHospitalizedHospitalizedHospitalizedHospitalizedHospitalizedHospitalizedHospitalizedHospitalizedHospitalizedHospitalizedHospitalizedHospitalizedHospitalizedHospitalizedHospitalizedHospitalizedHospitalizedHospitalizedHospitalizedHospitalizedHospitalizedHospitalizedHospitalizedHospitalizedHospitalizedHospitalizedHospitalizedHospitalizedHospitalizedHospitalizedHospitalizedHospitalizedHospitalizedHospitalizedHospitalizedHospitalizedHospitalizedHospitalized",
          "Recovered",
          "RecoveredRecovered",
          "HospitalizedHospitalizedHospitalizedHospitalizedHospitalizedHospitalizedHospitalizedHospitalizedHospitalizedHospitalizedHospitalizedHospitalizedHospitalizedHospitalizedHospitalizedHospitalizedHospitalizedHospitalizedHospitalizedHospitalizedHospitalizedHospitalizedHospitalizedHospitalizedHospitalizedHospitalizedHospitalizedHospitalizedHospitalizedHospitalizedHospitalizedHospitalizedHospitalizedHospitalizedHospitalizedHospitalizedHospitalizedHospitalizedHospitalizedHospitalizedHospitalizedHospitalizedHospitalizedHospitalizedHospitalizedHospitalizedHospitalizedHospitalizedHospitalizedHospitalizedHospitalizedHospitalizedHospitalizedHospitalizedHospitalizedHospitalizedHospitalizedHospitalizedHospitalizedHospitalizedHospitalizedHospitalizedHospitalizedHospitalizedHospitalizedHospitalizedHospitalizedHospitalizedHospitalizedHospitalizedHospitalizedHospitalizedHospitalizedHospitalizedHospitalizedHospitalizedHospitalizedHospitalizedHospitalizedHospitalizedHospitalizedHospitalizedHospitalizedHospitalizedHospitalizedHospitalizedHospitalizedHospitalizedHospitalizedHospitalizedHospitalizedHospitalizedHospitalizedHospitalizedHospitalizedHospitalizedHospitalizedHospitalizedHospitalizedHospitalizedHospitalizedHospitalizedHospitalizedHospitalizedHospitalizedHospitalizedHospitalizedHospitalizedHospitalizedHospitalizedHospitalizedHospitalizedHospitalizedHospitalizedHospitalizedHospitalizedHospitalizedHospitalizedHospitalizedHospitalizedHospitalizedHospitalizedHospitalizedHospitalizedHospitalizedHospitalizedHospitalizedHospitalizedHospitalizedHospitalizedHospitalizedHospitalizedHospitalizedHospitalizedHospitalizedHospitalizedHospitalizedHospitalizedHospitalizedHospitalizedHospitalizedHospitalizedHospitalizedHospitalizedHospitalizedHospitalizedHospitalizedHospitalizedHospitalizedHospitalizedHospitalizedHospitalizedHospitalizedHospitalizedHospitalizedHospitalizedHospitalizedHospitalizedHospitalizedHospitalizedHospitalizedHospitalizedHospitalizedHospitalizedHospitalizedHospitalizedHospitalizedHospitalizedHospitalizedHospitalizedHospitalizedHospitalizedHospitalizedHospitalizedHospitalizedHospitalizedHospitalizedHospitalizedHospitalizedHospitalizedHospitalizedHospitalizedHospitalizedHospitalizedHospitalizedHospitalizedHospitalizedHospitalizedHospitalizedHospitalizedHospitalizedHospitalizedHospitalizedHospitalizedHospitalizedHospitalizedHospitalizedHospitalizedHospitalizedHospitalizedHospitalizedHospitalizedHospitalizedHospitalizedHospitalizedHospitalizedHospitalizedHospitalizedHospitalizedHospitalizedHospitalizedHospitalizedHospitalizedHospitalizedHospitalizedHospitalizedHospitalizedHospitalizedHospitalizedHospitalizedHospitalizedHospitalizedHospitalizedHospitalizedHospitalizedHospitalizedHospitalizedHospitalizedHospitalizedHospitalizedHospitalizedHospitalizedHospitalizedHospitalizedHospitalizedHospitalizedHospitalizedHospitalizedHospitalizedHospitalizedHospitalizedHospitalizedHospitalizedHospitalizedHospitalizedHospitalizedHospitalizedHospitalizedHospitalizedHospitalizedHospitalizedHospitalizedHospitalizedHospitalizedHospitalizedHospitalizedHospitalizedHospitalizedHospitalizedHospitalizedHospitalizedHospitalizedHospitalizedHospitalizedHospitalizedHospitalizedHospitalizedHospitalizedHospitalizedHospitalizedHospitalizedHospitalizedHospitalizedHospitalizedHospitalizedHospitalizedHospitalizedHospitalizedHospitalizedHospitalizedHospitalizedHospitalizedHospitalizedHospitalizedHospitalizedHospitalizedHospitalizedHospitalizedHospitalizedHospitalizedHospitalizedHospitalizedHospitalizedHospitalizedHospitalizedHospitalizedHospitalizedHospitalizedHospitalizedHospitalizedHospitalizedHospitalizedHospitalizedHospitalizedHospitalizedHospitalizedHospitalizedHospitalizedHospitalizedHospitalizedHospitalizedHospitalizedHospitalizedHospitalizedHospitalizedHospitalizedHospitalizedHospitalizedHospitalizedHospitalizedHospitalizedHospitalizedHospitalizedHospitalizedHospitalizedHospitalizedHospitalizedHospitalizedHospitalizedHospitalizedHospitalizedHospitalizedHospitalizedHospitalizedHospitalizedHospitalizedHospitalizedHospitalizedHospitalizedHospitalizedHospitalizedHospitalizedHospitalizedHospitalizedHospitalizedHospitalizedHospitalizedHospitalizedHospitalizedHospitalizedHospitalizedHospitalizedHospitalizedHospitalizedHospitalizedHospitalizedHospitalizedHospitalizedHospitalizedHospitalizedHospitalizedHospitalizedHospitalizedHospitalizedHospitalizedHospitalizedHospitalizedHospitalizedHospitalizedHospitalizedHospitalizedHospitalizedHospitalizedHospitalizedHospitalizedHospitalizedHospitalizedHospitalizedHospitalizedHospitalizedHospitalizedHospitalizedHospitalizedHospitalizedHospitalizedHospitalizedHospitalizedHospitalizedHospitalizedHospitalizedHospitalizedHospitalizedHospitalizedHospitalizedHospitalizedHospitalizedHospitalizedHospitalizedHospitalizedHospitalizedHospitalizedHospitalizedHospitalizedHospitalizedHospitalizedHospitalizedHospitalizedHospitalizedHospitalizedHospitalizedHospitalizedHospitalizedHospitalizedHospitalizedHospitalizedHospitalizedHospitalizedHospitalizedHospitalizedHospitalizedHospitalizedHospitalizedHospitalizedHospitalizedHospitalizedHospitalizedHospitalizedHospitalizedHospitalizedHospitalizedHospitalizedHospitalizedHospitalizedHospitalizedHospitalizedHospitalizedHospitalizedHospitalizedHospitalizedHospitalizedHospitalizedHospitalizedHospitalizedHospitalizedHospitalizedHospitalizedHospitalizedHospitalizedHospitalizedHospitalizedHospitalizedHospitalizedHospitalizedHospitalizedHospitalizedHospitalizedHospitalizedHospitalizedHospitalizedHospitalizedHospitalizedHospitalizedHospitalizedHospitalizedHospitalizedHospitalizedHospitalizedHospitalizedHospitalizedHospitalizedHospitalizedHospitalizedHospitalizedHospitalizedHospitalizedHospitalizedHospitalizedHospitalizedHospitalizedHospitalizedHospitalizedHospitalizedHospitalizedHospitalizedHospitalizedHospitalized",
          "Recovered",
          "Recovered",
          "HospitalizedHospitalizedHospitalizedHospitalizedHospitalizedHospitalizedHospitalizedHospitalizedHospitalizedHospitalizedHospitalizedHospitalizedHospitalizedHospitalizedHospitalizedHospitalizedHospitalizedHospitalizedHospitalizedHospitalizedHospitalizedHospitalizedHospitalizedHospitalizedHospitalizedHospitalizedHospitalizedHospitalizedHospitalizedHospitalizedHospitalizedHospitalizedHospitalizedHospitalizedHospitalizedHospitalizedHospitalizedHospitalizedHospitalizedHospitalizedHospitalizedDeceasedHospitalizedHospitalizedHospitalizedHospitalizedHospitalizedHospitalizedHospitalizedHospitalizedHospitalizedHospitalizedHospitalizedHospitalizedHospitalizedHospitalizedHospitalizedHospitalizedHospitalizedHospitalizedHospitalizedHospitalizedHospitalizedHospitalizedHospitalizedHospitalizedHospitalizedHospitalizedHospitalizedHospitalizedHospitalizedHospitalizedHospitalizedHospitalizedHospitalizedHospitalizedHospitalizedHospitalizedHospitalizedHospitalizedHospitalizedHospitalizedHospitalizedHospitalizedHospitalizedHospitalizedHospitalizedHospitalizedHospitalizedHospitalizedHospitalizedHospitalizedHospitalizedHospitalizedHospitalizedHospitalizedHospitalizedHospitalizedHospitalizedHospitalizedHospitalizedHospitalizedHospitalizedHospitalizedHospitalizedHospitalizedHospitalizedHospitalizedHospitalizedHospitalizedHospitalizedHospitalizedHospitalizedHospitalizedHospitalizedHospitalizedHospitalizedHospitalizedHospitalizedHospitalizedHospitalizedHospitalizedHospitalizedHospitalizedHospitalizedHospitalizedHospitalizedHospitalizedHospitalizedHospitalizedHospitalizedHospitalizedHospitalizedHospitalizedHospitalizedHospitalizedHospitalizedHospitalizedHospitalizedHospitalizedHospitalizedHospitalizedHospitalizedHospitalizedHospitalizedHospitalizedHospitalizedHospitalizedHospitalizedHospitalizedHospitalizedHospitalizedHospitalizedHospitalizedHospitalizedHospitalizedHospitalizedHospitalizedHospitalizedHospitalizedHospitalizedHospitalizedHospitalizedHospitalizedHospitalizedHospitalizedHospitalizedHospitalizedHospitalizedHospitalizedHospitalizedHospitalizedHospitalizedHospitalizedHospitalizedHospitalizedHospitalizedHospitalizedHospitalizedHospitalizedHospitalizedHospitalizedHospitalizedHospitalizedHospitalizedHospitalizedHospitalizedHospitalizedHospitalizedHospitalizedHospitalizedHospitalizedHospitalizedHospitalizedHospitalizedHospitalizedHospitalizedHospitalizedHospitalizedHospitalizedHospitalizedHospitalizedHospitalizedHospitalizedHospitalizedHospitalizedHospitalizedHospitalizedHospitalizedHospitalizedHospitalizedHospitalizedHospitalizedHospitalizedHospitalizedHospitalizedHospitalizedHospitalizedHospitalizedHospitalizedHospitalizedHospitalizedHospitalizedHospitalizedHospitalizedHospitalizedHospitalizedHospitalizedHospitalizedHospitalizedHospitalizedHospitalizedHospitalizedHospitalizedHospitalizedHospitalizedHospitalizedHospitalizedHospitalizedHospitalizedHospitalizedHospitalizedHospitalizedHospitalizedHospitalizedHospitalizedHospitalizedHospitalizedHospitalizedHospitalizedHospitalizedHospitalizedHospitalizedHospitalizedHospitalizedHospitalizedHospitalizedHospitalizedHospitalizedHospitalizedHospitalizedHospitalizedHospitalizedHospitalizedHospitalizedHospitalizedHospitalizedHospitalizedHospitalizedHospitalizedHospitalizedHospitalizedHospitalizedHospitalizedHospitalizedHospitalizedHospitalizedHospitalizedHospitalizedHospitalizedHospitalizedHospitalizedHospitalizedHospitalizedHospitalizedHospitalizedHospitalizedHospitalizedHospitalizedHospitalizedHospitalizedHospitalizedHospitalizedHospitalizedHospitalizedHospitalizedHospitalizedHospitalizedHospitalizedHospitalizedHospitalizedHospitalizedHospitalizedHospitalizedHospitalizedHospitalizedHospitalizedHospitalizedHospitalizedHospitalizedHospitalizedHospitalizedHospitalizedHospitalizedHospitalizedHospitalizedHospitalizedHospitalizedHospitalizedHospitalizedHospitalizedHospitalizedHospitalizedHospitalizedHospitalizedHospitalizedHospitalizedHospitalizedHospitalizedHospitalizedHospitalizedHospitalizedHospitalizedHospitalizedHospitalizedHospitalizedHospitalizedHospitalizedHospitalizedHospitalizedHospitalizedHospitalizedHospitalizedHospitalizedHospitalizedHospitalizedHospitalizedHospitalizedHospitalizedHospitalizedHospitalizedHospitalizedHospitalizedHospitalizedHospitalizedHospitalizedHospitalizedHospitalizedHospitalizedHospitalizedHospitalizedHospitalizedHospitalizedHospitalizedHospitalizedHospitalizedHospitalizedHospitalizedHospitalizedHospitalizedHospitalizedHospitalizedHospitalizedHospitalizedHospitalizedHospitalizedHospitalizedHospitalizedHospitalizedHospitalizedHospitalizedHospitalizedHospitalizedHospitalizedHospitalizedHospitalizedHospitalizedHospitalizedHospitalizedHospitalizedHospitalizedHospitalizedHospitalizedHospitalizedHospitalizedHospitalizedHospitalizedHospitalizedHospitalizedHospitalizedHospitalizedHospitalizedHospitalizedHospitalizedHospitalizedHospitalizedHospitalizedHospitalizedHospitalizedHospitalizedHospitalizedHospitalizedHospitalizedHospitalizedHospitalizedHospitalizedHospitalizedHospitalizedHospitalizedHospitalizedHospitalizedHospitalizedHospitalizedHospitalizedHospitalizedHospitalizedHospitalizedHospitalizedHospitalizedHospitalizedHospitalizedHospitalizedHospitalizedHospitalizedHospitalizedHospitalizedHospitalizedHospitalizedHospitalizedHospitalizedHospitalizedHospitalizedHospitalizedHospitalizedHospitalizedHospitalizedHospitalizedHospitalizedHospitalizedHospitalizedHospitalizedHospitalizedHospitalizedHospitalizedHospitalizedHospitalizedHospitalizedHospitalizedHospitalizedHospitalizedHospitalizedHospitalizedHospitalizedHospitalizedHospitalizedHospitalizedHospitalizedHospitalizedHospitalizedHospitalizedHospitalizedHospitalizedHospitalizedHospitalizedHospitalizedHospitalizedHospitalizedHospitalizedHospitalizedHospitalizedHospitalizedHospitalizedHospitalizedHospitalizedHospitalizedHospitalizedHospitalizedHospitalizedHospitalizedHospitalizedHospitalizedHospitalizedHospitalizedHospitalizedHospitalizedHospitalizedHospitalizedHospitalizedHospitalizedHospitalizedHospitalizedHospitalizedHospitalizedHospitalizedHospitalizedHospitalizedHospitalizedHospitalizedHospitalizedHospitalizedHospitalizedHospitalizedHospitalizedHospitalizedHospitalizedHospitalizedHospitalizedHospitalizedHospitalizedHospitalizedHospitalizedHospitalizedHospitalizedHospitalizedHospitalizedHospitalizedHospitalizedHospitalizedHospitalizedHospitalizedHospitalizedHospitalizedHospitalizedHospitalizedHospitalizedHospitalizedHospitalizedHospitalizedHospitalizedHospitalizedHospitalizedHospitalizedHospitalizedHospitalizedHospitalizedHospitalizedHospitalizedHospitalizedHospitalizedHospitalizedHospitalizedHospitalizedHospitalizedHospitalizedHospitalizedHospitalizedHospitalizedHospitalizedHospitalizedHospitalizedHospitalizedHospitalizedHospitalized",
          "RecoveredRecoveredRecoveredRecoveredRecoveredRecoveredRecoveredRecoveredRecoveredRecoveredRecoveredRecoveredHospitalizedHospitalizedRecoveredHospitalizedRecoveredRecoveredRecoveredRecoveredHospitalizedHospitalized",
          "HospitalizedHospitalizedHospitalizedHospitalizedHospitalizedHospitalizedHospitalizedHospitalizedHospitalizedHospitalizedHospitalizedHospitalizedHospitalizedHospitalizedHospitalizedHospitalizedHospitalizedHospitalizedHospitalizedHospitalizedHospitalizedHospitalizedHospitalizedHospitalizedHospitalizedHospitalizedHospitalizedHospitalizedHospitalizedHospitalizedHospitalizedHospitalizedHospitalizedHospitalizedHospitalizedHospitalizedHospitalizedHospitalizedHospitalizedHospitalizedHospitalizedHospitalizedHospitalizedHospitalizedHospitalizedHospitalizedHospitalizedHospitalizedHospitalizedHospitalizedHospitalizedHospitalizedHospitalizedHospitalizedHospitalizedHospitalizedHospitalizedHospitalizedHospitalizedHospitalizedHospitalizedHospitalizedHospitalizedHospitalizedHospitalizedHospitalizedHospitalizedHospitalizedHospitalizedHospitalizedHospitalizedHospitalizedHospitalizedHospitalizedHospitalizedHospitalizedHospitalizedHospitalizedHospitalizedHospitalizedHospitalizedHospitalizedHospitalizedHospitalizedHospitalizedHospitalizedHospitalizedHospitalizedHospitalizedHospitalizedHospitalizedHospitalizedHospitalizedHospitalizedHospitalizedHospitalizedHospitalizedHospitalizedHospitalizedHospitalizedHospitalizedHospitalizedHospitalizedHospitalizedHospitalizedHospitalizedHospitalizedHospitalizedHospitalizedHospitalizedHospitalizedHospitalizedHospitalizedHospitalizedHospitalizedHospitalizedHospitalizedHospitalizedHospitalizedHospitalizedHospitalizedHospitalizedHospitalizedHospitalizedHospitalizedHospitalizedHospitalizedHospitalizedHospitalizedHospitalizedHospitalizedHospitalizedHospitalizedHospitalizedHospitalizedHospitalizedHospitalizedHospitalizedHospitalizedHospitalizedHospitalizedHospitalizedHospitalizedHospitalizedHospitalizedHospitalizedHospitalizedHospitalizedHospitalizedHospitalizedHospitalizedHospitalizedHospitalizedHospitalizedHospitalizedHospitalizedHospitalizedHospitalizedHospitalizedHospitalizedHospitalizedHospitalizedHospitalizedHospitalizedHospitalizedHospitalizedHospitalizedHospitalizedHospitalizedHospitalizedHospitalizedHospitalizedHospitalizedHospitalizedHospitalizedHospitalizedHospitalizedHospitalizedHospitalizedHospitalizedHospitalizedHospitalizedHospitalizedHospitalizedHospitalizedHospitalizedHospitalizedHospitalizedHospitalizedHospitalizedHospitalizedHospitalizedHospitalizedHospitalizedHospitalizedHospitalizedHospitalizedHospitalizedHospitalizedHospitalizedHospitalizedHospitalizedHospitalizedHospitalizedHospitalizedHospitalizedHospitalizedHospitalizedHospitalizedHospitalizedHospitalizedHospitalizedHospitalizedHospitalizedHospitalizedHospitalizedHospitalizedHospitalizedHospitalizedHospitalizedHospitalizedHospitalizedHospitalizedHospitalizedHospitalizedHospitalizedHospitalizedHospitalizedHospitalizedHospitalizedHospitalizedHospitalizedHospitalizedHospitalizedHospitalizedHospitalizedHospitalizedHospitalizedHospitalizedHospitalizedHospitalizedHospitalizedHospitalizedHospitalizedHospitalizedHospitalizedHospitalizedHospitalizedHospitalizedHospitalizedHospitalizedHospitalizedHospitalizedHospitalizedHospitalizedHospitalizedHospitalizedHospitalizedHospitalizedHospitalizedHospitalizedHospitalizedHospitalizedHospitalizedHospitalizedHospitalizedHospitalizedHospitalizedHospitalizedHospitalizedHospitalizedHospitalizedHospitalizedHospitalizedHospitalizedHospitalizedHospitalizedHospitalizedHospitalizedHospitalizedHospitalizedHospitalizedHospitalizedHospitalizedHospitalizedHospitalizedHospitalizedHospitalizedHospitalizedHospitalizedHospitalizedHospitalizedHospitalizedHospitalizedHospitalizedHospitalizedHospitalizedHospitalizedHospitalizedHospitalizedHospitalizedHospitalizedHospitalizedHospitalizedHospitalizedHospitalizedHospitalizedHospitalizedHospitalizedHospitalizedHospitalizedHospitalizedHospitalizedHospitalizedHospitalizedHospitalizedHospitalizedHospitalizedHospitalizedHospitalizedHospitalizedHospitalizedHospitalizedHospitalizedHospitalizedHospitalizedHospitalizedHospitalizedHospitalizedHospitalizedHospitalizedHospitalizedHospitalizedHospitalizedHospitalizedHospitalizedHospitalizedHospitalizedHospitalizedHospitalizedHospitalizedHospitalizedHospitalizedHospitalizedHospitalizedHospitalizedHospitalizedHospitalizedHospitalizedHospitalizedHospitalizedHospitalizedHospitalizedHospitalizedHospitalizedHospitalizedHospitalizedHospitalizedHospitalizedHospitalizedHospitalizedHospitalizedHospitalizedHospitalizedHospitalizedHospitalizedHospitalizedHospitalizedHospitalizedHospitalizedHospitalizedHospitalizedHospitalizedHospitalizedHospitalizedHospitalizedHospitalizedHospitalizedHospitalizedHospitalizedHospitalizedHospitalizedHospitalizedHospitalizedHospitalizedHospitalizedHospitalizedHospitalizedHospitalizedHospitalizedHospitalizedHospitalizedHospitalizedHospitalizedHospitalizedHospitalizedHospitalizedHospitalizedHospitalizedHospitalizedHospitalizedHospitalizedHospitalizedHospitalizedHospitalizedHospitalizedHospitalizedHospitalizedHospitalizedHospitalizedHospitalizedHospitalizedHospitalizedHospitalizedHospitalizedHospitalizedHospitalizedHospitalizedHospitalizedHospitalizedHospitalizedHospitalizedHospitalizedHospitalizedHospitalizedHospitalizedHospitalizedHospitalizedHospitalizedHospitalizedHospitalizedHospitalizedHospitalizedHospitalizedHospitalizedHospitalizedHospitalizedHospitalizedHospitalizedHospitalizedHospitalizedHospitalizedHospitalizedHospitalizedHospitalizedHospitalizedHospitalizedHospitalizedHospitalizedHospitalizedHospitalizedHospitalizedHospitalizedHospitalizedHospitalizedHospitalizedHospitalizedHospitalizedHospitalizedHospitalizedHospitalizedHospitalizedHospitalizedHospitalizedHospitalizedHospitalizedHospitalizedHospitalizedHospitalizedHospitalizedHospitalizedHospitalizedHospitalizedHospitalizedHospitalizedHospitalizedHospitalizedHospitalizedHospitalizedHospitalizedHospitalizedHospitalizedHospitalizedHospitalizedHospitalizedHospitalizedHospitalizedHospitalizedHospitalizedHospitalizedHospitalizedHospitalizedHospitalizedHospitalizedHospitalizedHospitalizedHospitalizedHospitalizedHospitalizedHospitalizedHospitalizedHospitalizedHospitalizedHospitalizedHospitalizedHospitalizedHospitalizedHospitalizedHospitalizedHospitalizedHospitalizedHospitalizedHospitalizedHospitalizedHospitalizedHospitalizedHospitalizedHospitalizedHospitalizedHospitalizedHospitalizedHospitalizedHospitalizedHospitalizedHospitalizedHospitalizedHospitalizedHospitalizedHospitalizedHospitalizedHospitalizedHospitalizedHospitalizedHospitalizedHospitalizedHospitalizedHospitalizedHospitalizedHospitalizedHospitalizedHospitalizedHospitalizedHospitalizedHospitalizedHospitalizedHospitalizedHospitalizedHospitalizedHospitalizedHospitalizedHospitalizedHospitalizedHospitalizedHospitalizedHospitalizedHospitalizedHospitalizedHospitalizedHospitalizedHospitalizedHospitalizedHospitalizedHospitalized",
          "HospitalizedRecovered",
          "Recovered",
          "HospitalizedHospitalizedRecovered",
          "RecoveredRecoveredRecoveredRecoveredRecovered",
          "HospitalizedHospitalizedRecoveredRecoveredRecoveredRecoveredHospitalizedRecoveredHospitalized",
          "RecoveredHospitalizedRecoveredRecoveredRecoveredRecoveredRecoveredRecoveredRecoveredRecoveredRecoveredHospitalizedHospitalizedHospitalizedRecovered",
          "HospitalizedHospitalizedHospitalizedHospitalizedHospitalizedHospitalizedHospitalized",
          "RecoveredDeceasedRecoveredDeceasedRecoveredRecoveredDeceasedHospitalizedHospitalizedHospitalizedHospitalizedHospitalized",
          "HospitalizedHospitalizedRecoveredRecoveredRecoveredHospitalizedHospitalizedHospitalizedHospitalized",
          "HospitalizedHospitalizedHospitalizedHospitalizedHospitalizedHospitalizedHospitalizedHospitalizedHospitalizedHospitalizedHospitalizedHospitalizedHospitalizedHospitalizedHospitalizedHospitalized",
          "RecoveredRecoveredHospitalizedHospitalizedHospitalizedHospitalized",
          "HospitalizedRecoveredRecoveredHospitalizedRecoveredHospitalizedHospitalizedHospitalizedHospitalizedHospitalizedHospitalizedHospitalizedHospitalizedHospitalized",
          "HospitalizedHospitalizedMigratedHospitalizedHospitalizedHospitalizedHospitalizedRecoveredRecoveredRecoveredHospitalizedHospitalizedHospitalizedHospitalizedHospitalizedHospitalizedRecoveredHospitalizedHospitalized",
          "HospitalizedHospitalizedHospitalizedHospitalizedRecoveredHospitalizedHospitalizedHospitalizedHospitalizedHospitalizedHospitalizedHospitalizedHospitalizedHospitalizedHospitalizedHospitalizedHospitalizedHospitalizedHospitalizedHospitalizedHospitalizedHospitalizedHospitalizedHospitalizedHospitalized",
          "HospitalizedHospitalizedHospitalizedHospitalizedHospitalizedHospitalizedHospitalizedHospitalizedHospitalizedRecoveredDeceasedHospitalizedHospitalizedHospitalizedHospitalizedHospitalizedRecoveredHospitalizedHospitalizedHospitalizedHospitalizedHospitalizedHospitalizedHospitalizedRecoveredHospitalizedHospitalizedHospitalized",
          "HospitalizedHospitalizedHospitalizedHospitalizedHospitalizedHospitalizedHospitalizedHospitalizedHospitalizedHospitalizedHospitalizedRecoveredHospitalizedHospitalizedHospitalizedHospitalizedHospitalizedHospitalizedHospitalizedHospitalizedHospitalizedHospitalizedHospitalizedHospitalizedHospitalizedHospitalizedHospitalizedHospitalizedHospitalizedRecoveredRecoveredHospitalizedHospitalizedHospitalizedHospitalizedHospitalizedHospitalizedHospitalizedHospitalizedHospitalizedHospitalizedHospitalizedHospitalizedHospitalizedHospitalizedHospitalizedHospitalizedRecoveredHospitalizedHospitalizedHospitalizedHospitalizedHospitalizedHospitalizedHospitalizedHospitalizedHospitalizedHospitalizedHospitalized",
          "RecoveredHospitalizedHospitalizedHospitalizedHospitalizedHospitalizedHospitalizedHospitalizedHospitalizedHospitalizedHospitalizedDeceasedHospitalizedHospitalizedHospitalizedHospitalizedHospitalizedHospitalizedHospitalizedHospitalizedHospitalizedHospitalizedHospitalizedHospitalizedHospitalizedHospitalizedHospitalizedHospitalizedHospitalizedHospitalizedHospitalizedHospitalizedHospitalizedHospitalizedHospitalizedDeceasedHospitalizedHospitalizedHospitalizedHospitalizedHospitalizedHospitalizedHospitalizedHospitalizedHospitalizedHospitalizedHospitalizedHospitalizedHospitalizedHospitalizedHospitalizedHospitalizedHospitalizedRecoveredRecoveredHospitalizedHospitalizedHospitalizedHospitalizedHospitalizedHospitalizedRecoveredHospitalizedHospitalizedHospitalizedHospitalizedHospitalizedHospitalizedDeceasedHospitalizedHospitalizedHospitalizedHospitalizedHospitalizedHospitalizedHospitalized",
          "HospitalizedHospitalizedHospitalizedHospitalizedHospitalizedHospitalizedHospitalizedHospitalizedHospitalizedHospitalizedHospitalizedHospitalizedHospitalizedDeceasedHospitalizedHospitalizedHospitalizedHospitalizedHospitalizedHospitalizedHospitalizedHospitalizedHospitalizedHospitalizedHospitalizedHospitalizedHospitalizedHospitalizedHospitalizedHospitalizedHospitalizedHospitalizedHospitalizedHospitalizedHospitalizedHospitalizedHospitalizedHospitalizedHospitalizedHospitalizedHospitalizedHospitalizedHospitalizedHospitalizedRecoveredDeceasedHospitalizedHospitalizedHospitalizedHospitalizedHospitalizedHospitalizedHospitalizedHospitalizedHospitalizedHospitalizedRecoveredHospitalizedHospitalizedHospitalizedHospitalizedHospitalizedHospitalizedHospitalizedHospitalizedHospitalizedHospitalizedHospitalizedHospitalized",
          "HospitalizedHospitalizedHospitalizedHospitalizedHospitalizedHospitalizedHospitalizedHospitalizedHospitalizedHospitalizedHospitalizedHospitalizedHospitalizedHospitalizedHospitalizedHospitalizedHospitalizedHospitalizedHospitalizedHospitalizedHospitalizedHospitalizedHospitalizedHospitalizedHospitalizedHospitalizedHospitalizedDeceasedHospitalizedHospitalizedHospitalizedHospitalizedHospitalizedHospitalizedHospitalizedHospitalizedHospitalizedHospitalizedHospitalizedHospitalizedHospitalizedHospitalizedHospitalizedHospitalizedHospitalizedHospitalizedHospitalizedHospitalizedRecoveredHospitalizedHospitalizedHospitalizedHospitalizedHospitalizedHospitalizedHospitalizedHospitalizedHospitalizedRecoveredRecoveredHospitalizedHospitalizedHospitalizedHospitalizedHospitalizedHospitalizedHospitalizedHospitalizedHospitalizedHospitalizedHospitalizedHospitalizedHospitalizedHospitalizedHospitalizedHospitalizedHospitalizedHospitalizedHospitalizedHospitalizedHospitalizedHospitalizedHospitalizedDeceasedHospitalizedHospitalizedHospitalizedHospitalizedHospitalizedHospitalizedHospitalizedHospitalizedHospitalizedHospitalizedHospitalizedHospitalizedHospitalizedHospitalizedDeceasedHospitalizedHospitalizedHospitalized",
          "HospitalizedHospitalizedHospitalizedHospitalizedHospitalizedHospitalizedHospitalizedHospitalizedHospitalizedHospitalizedHospitalizedHospitalizedHospitalizedHospitalizedHospitalizedHospitalizedHospitalizedHospitalizedHospitalizedHospitalizedHospitalizedHospitalizedHospitalizedHospitalizedHospitalizedDeceasedHospitalizedHospitalizedHospitalizedHospitalizedHospitalizedHospitalizedHospitalizedHospitalizedHospitalizedHospitalizedHospitalizedHospitalizedHospitalizedHospitalizedHospitalizedHospitalizedHospitalizedHospitalizedHospitalizedHospitalizedHospitalizedHospitalizedHospitalizedRecoveredHospitalizedHospitalizedHospitalizedHospitalizedHospitalizedHospitalizedHospitalizedHospitalizedHospitalizedHospitalizedHospitalizedHospitalizedHospitalizedHospitalizedHospitalizedHospitalized",
          "HospitalizedHospitalizedHospitalizedHospitalizedHospitalizedDeceasedHospitalizedHospitalizedHospitalizedHospitalizedHospitalizedHospitalizedHospitalizedHospitalizedHospitalizedHospitalizedHospitalizedHospitalizedHospitalizedHospitalizedHospitalizedHospitalizedHospitalizedHospitalizedHospitalizedHospitalizedHospitalizedHospitalizedHospitalizedHospitalizedHospitalizedHospitalizedHospitalizedHospitalizedHospitalizedHospitalizedHospitalizedHospitalizedHospitalizedHospitalizedHospitalizedHospitalizedHospitalizedHospitalizedHospitalizedHospitalizedHospitalizedHospitalizedRecoveredHospitalizedHospitalizedHospitalizedHospitalizedHospitalizedHospitalizedHospitalizedHospitalizedHospitalizedHospitalizedHospitalizedHospitalizedHospitalizedHospitalizedHospitalizedHospitalizedHospitalizedHospitalizedHospitalizedHospitalizedHospitalizedHospitalizedHospitalizedHospitalizedHospitalizedHospitalizedHospitalizedHospitalizedHospitalizedHospitalizedHospitalizedHospitalizedHospitalizedHospitalizedHospitalizedHospitalizedHospitalized",
          "HospitalizedHospitalizedHospitalizedHospitalizedHospitalizedHospitalizedHospitalizedHospitalizedHospitalizedHospitalizedHospitalizedHospitalizedHospitalizedHospitalizedHospitalizedHospitalizedHospitalizedHospitalizedHospitalizedHospitalizedHospitalizedHospitalizedHospitalizedHospitalizedHospitalizedHospitalizedHospitalizedHospitalizedHospitalizedHospitalizedHospitalizedHospitalizedDeceasedHospitalizedHospitalizedHospitalizedHospitalizedHospitalizedHospitalizedHospitalizedRecoveredRecoveredRecoveredHospitalizedHospitalizedHospitalizedHospitalizedHospitalizedHospitalizedHospitalizedHospitalizedRecoveredHospitalizedHospitalizedHospitalizedRecoveredHospitalizedHospitalizedHospitalizedHospitalizedHospitalizedHospitalizedHospitalizedHospitalizedHospitalizedHospitalizedHospitalizedHospitalizedDeceasedHospitalizedHospitalizedHospitalizedHospitalizedHospitalizedHospitalizedHospitalizedHospitalizedHospitalized",
          "HospitalizedHospitalizedHospitalizedHospitalizedHospitalizedHospitalizedHospitalizedHospitalizedHospitalizedHospitalizedHospitalizedDeceasedHospitalizedHospitalizedHospitalizedHospitalizedHospitalizedHospitalizedHospitalizedHospitalizedHospitalizedHospitalizedDeceasedHospitalizedHospitalizedHospitalizedHospitalizedHospitalizedHospitalizedHospitalizedHospitalizedHospitalizedHospitalizedHospitalizedHospitalizedHospitalizedHospitalizedHospitalizedHospitalizedHospitalizedHospitalizedHospitalizedHospitalizedHospitalizedHospitalizedHospitalizedHospitalizedHospitalizedHospitalizedHospitalizedHospitalizedHospitalizedHospitalizedHospitalizedHospitalizedHospitalizedHospitalizedHospitalizedHospitalizedHospitalizedHospitalizedHospitalizedHospitalizedHospitalizedHospitalizedHospitalizedHospitalizedHospitalizedHospitalizedHospitalizedHospitalizedHospitalizedRecoveredHospitalizedRecoveredHospitalizedHospitalizedHospitalizedHospitalizedHospitalizedHospitalizedHospitalizedHospitalizedHospitalizedHospitalizedHospitalizedHospitalizedHospitalizedHospitalizedHospitalizedHospitalizedHospitalizedHospitalizedHospitalizedHospitalizedHospitalizedHospitalizedHospitalizedHospitalizedHospitalizedHospitalizedHospitalizedHospitalizedHospitalizedHospitalizedHospitalizedHospitalizedHospitalizedHospitalizedHospitalizedHospitalizedHospitalizedHospitalizedHospitalizedHospitalizedHospitalizedHospitalizedHospitalizedHospitalizedHospitalizedHospitalizedHospitalizedHospitalizedHospitalizedHospitalizedHospitalizedHospitalizedHospitalizedHospitalizedHospitalizedHospitalizedHospitalizedHospitalizedHospitalizedHospitalizedHospitalizedHospitalizedHospitalizedHospitalizedHospitalizedHospitalizedHospitalizedHospitalizedHospitalizedHospitalizedHospitalizedHospitalizedHospitalizedHospitalizedHospitalizedHospitalized",
          "HospitalizedHospitalizedHospitalizedHospitalizedHospitalizedHospitalizedHospitalizedHospitalizedHospitalizedHospitalizedHospitalizedHospitalizedHospitalizedHospitalizedHospitalizedHospitalizedHospitalizedHospitalizedHospitalizedHospitalizedHospitalizedHospitalizedHospitalizedHospitalizedHospitalizedHospitalizedHospitalizedHospitalizedHospitalizedHospitalizedHospitalizedHospitalizedHospitalizedHospitalizedHospitalizedHospitalizedHospitalizedHospitalizedHospitalizedHospitalizedHospitalizedHospitalizedHospitalizedHospitalizedHospitalizedHospitalizedHospitalizedHospitalizedHospitalizedHospitalizedHospitalizedHospitalizedHospitalizedHospitalizedHospitalizedHospitalizedHospitalizedHospitalizedHospitalizedDeceasedHospitalizedHospitalizedHospitalizedHospitalizedHospitalizedHospitalizedHospitalizedHospitalizedHospitalizedHospitalizedHospitalizedHospitalizedHospitalizedHospitalizedHospitalizedHospitalizedHospitalizedHospitalizedHospitalizedHospitalizedHospitalizedHospitalizedHospitalizedHospitalizedHospitalizedHospitalizedHospitalizedHospitalizedHospitalizedHospitalizedHospitalizedHospitalizedHospitalizedHospitalizedHospitalizedHospitalizedHospitalizedHospitalizedHospitalizedHospitalizedHospitalizedHospitalizedHospitalizedHospitalizedHospitalizedHospitalizedHospitalizedHospitalizedHospitalizedHospitalizedHospitalizedHospitalizedHospitalizedHospitalizedHospitalizedHospitalizedHospitalizedHospitalizedHospitalizedHospitalizedHospitalizedHospitalizedHospitalizedHospitalizedHospitalizedDeceasedHospitalizedHospitalizedHospitalizedHospitalizedHospitalizedHospitalizedHospitalizedHospitalizedHospitalizedHospitalizedHospitalizedHospitalizedHospitalizedHospitalizedHospitalizedHospitalizedHospitalized",
          "HospitalizedHospitalizedHospitalizedHospitalizedHospitalizedHospitalizedHospitalizedHospitalizedHospitalizedHospitalizedHospitalizedHospitalizedHospitalizedHospitalizedHospitalizedHospitalizedHospitalizedHospitalizedHospitalizedHospitalizedHospitalizedHospitalizedHospitalizedHospitalizedHospitalizedHospitalizedHospitalizedHospitalizedHospitalizedHospitalizedHospitalizedHospitalizedHospitalizedHospitalizedHospitalizedHospitalizedHospitalizedHospitalizedHospitalizedHospitalizedHospitalizedHospitalizedHospitalizedHospitalizedDeceasedHospitalizedHospitalizedHospitalizedHospitalizedHospitalizedHospitalizedHospitalizedHospitalizedHospitalizedHospitalizedHospitalizedHospitalizedHospitalizedHospitalizedHospitalizedHospitalizedHospitalizedHospitalizedHospitalizedHospitalizedHospitalizedHospitalizedHospitalizedHospitalizedHospitalizedHospitalizedHospitalizedHospitalizedHospitalizedHospitalizedHospitalizedHospitalizedHospitalizedHospitalizedHospitalizedHospitalizedHospitalizedHospitalizedHospitalizedHospitalizedHospitalizedHospitalizedHospitalizedHospitalizedHospitalizedHospitalizedHospitalizedHospitalizedHospitalizedHospitalizedHospitalizedHospitalizedHospitalizedHospitalizedHospitalizedHospitalizedHospitalizedHospitalizedHospitalizedHospitalizedHospitalizedHospitalizedHospitalizedHospitalizedHospitalized",
          "Recovered",
          "HospitalizedHospitalizedHospitalizedHospitalizedHospitalizedHospitalizedHospitalizedHospitalizedHospitalizedHospitalizedHospitalizedHospitalizedHospitalizedHospitalizedHospitalizedHospitalizedHospitalizedHospitalizedHospitalizedHospitalizedHospitalizedHospitalizedHospitalizedHospitalizedHospitalizedHospitalizedDeceasedHospitalizedHospitalizedHospitalizedHospitalizedHospitalizedHospitalizedHospitalizedHospitalizedHospitalizedHospitalizedHospitalizedHospitalizedHospitalizedHospitalizedHospitalizedHospitalizedHospitalizedHospitalizedHospitalizedHospitalizedHospitalizedHospitalizedHospitalizedHospitalizedHospitalizedHospitalizedHospitalizedHospitalizedHospitalizedHospitalizedHospitalizedHospitalizedHospitalizedHospitalizedHospitalizedHospitalizedHospitalizedHospitalizedHospitalizedHospitalizedHospitalizedHospitalizedHospitalizedHospitalizedHospitalizedHospitalizedHospitalizedHospitalizedHospitalizedHospitalizedHospitalizedHospitalizedHospitalizedHospitalizedHospitalizedHospitalizedHospitalizedHospitalizedHospitalizedHospitalizedHospitalizedHospitalizedHospitalizedHospitalizedHospitalizedHospitalizedHospitalizedHospitalizedHospitalizedHospitalizedHospitalizedHospitalizedHospitalizedHospitalizedHospitalizedHospitalizedHospitalizedHospitalizedHospitalizedHospitalizedHospitalizedHospitalizedHospitalizedHospitalizedHospitalizedHospitalizedHospitalizedHospitalizedHospitalizedHospitalizedHospitalizedHospitalizedHospitalizedHospitalizedHospitalizedHospitalizedHospitalizedHospitalizedHospitalizedHospitalizedHospitalizedHospitalizedHospitalizedHospitalizedHospitalizedHospitalizedHospitalizedHospitalizedHospitalizedHospitalizedHospitalizedHospitalizedHospitalizedHospitalizedHospitalizedHospitalizedHospitalizedHospitalizedHospitalizedHospitalizedHospitalizedHospitalizedHospitalizedHospitalizedHospitalizedHospitalizedHospitalizedHospitalizedHospitalizedHospitalizedHospitalizedHospitalizedHospitalizedHospitalizedHospitalizedHospitalizedHospitalizedHospitalizedHospitalizedHospitalizedHospitalizedHospitalizedHospitalizedHospitalizedHospitalizedHospitalizedHospitalizedHospitalizedHospitalizedHospitalizedHospitalizedHospitalizedHospitalizedHospitalizedHospitalizedHospitalizedHospitalizedHospitalizedHospitalizedHospitalizedHospitalizedHospitalizedHospitalizedHospitalizedHospitalizedHospitalizedHospitalizedHospitalizedHospitalizedHospitalizedHospitalizedHospitalizedHospitalizedHospitalizedHospitalizedHospitalizedHospitalizedHospitalizedHospitalizedHospitalizedHospitalized",
          "HospitalizedHospitalizedHospitalizedHospitalizedHospitalizedHospitalizedHospitalizedHospitalizedHospitalizedHospitalizedHospitalizedHospitalizedHospitalizedHospitalizedHospitalizedHospitalizedHospitalizedHospitalizedHospitalizedHospitalizedHospitalizedHospitalizedHospitalizedHospitalizedHospitalizedHospitalizedHospitalizedHospitalizedHospitalizedHospitalizedHospitalizedHospitalizedHospitalizedHospitalizedHospitalizedHospitalizedHospitalizedDeceasedHospitalizedHospitalizedHospitalizedHospitalizedHospitalizedHospitalizedHospitalizedHospitalizedHospitalizedHospitalizedHospitalizedHospitalizedHospitalizedHospitalizedHospitalizedHospitalizedHospitalizedHospitalizedHospitalizedHospitalizedHospitalizedHospitalizedHospitalizedHospitalizedHospitalizedHospitalizedHospitalizedHospitalizedHospitalizedHospitalizedHospitalizedHospitalizedHospitalizedHospitalizedHospitalizedHospitalizedHospitalizedHospitalizedHospitalizedHospitalizedHospitalizedHospitalizedHospitalizedHospitalizedHospitalizedHospitalizedHospitalizedHospitalizedHospitalizedHospitalizedHospitalizedHospitalizedHospitalizedHospitalizedHospitalizedHospitalizedHospitalizedHospitalizedHospitalizedHospitalizedHospitalizedHospitalizedHospitalizedHospitalizedHospitalizedHospitalizedHospitalizedHospitalizedHospitalizedHospitalizedHospitalizedHospitalizedHospitalizedHospitalizedHospitalizedHospitalizedHospitalizedHospitalizedHospitalizedHospitalizedHospitalizedHospitalizedHospitalizedHospitalizedHospitalizedHospitalizedHospitalizedHospitalizedHospitalizedHospitalizedHospitalizedHospitalizedHospitalizedHospitalizedHospitalizedHospitalizedHospitalizedHospitalizedHospitalizedHospitalizedHospitalizedHospitalizedHospitalizedHospitalizedHospitalizedHospitalizedHospitalizedHospitalizedHospitalizedHospitalizedHospitalizedHospitalizedHospitalizedHospitalizedHospitalizedHospitalizedHospitalizedHospitalizedHospitalizedHospitalizedHospitalizedHospitalizedHospitalizedHospitalizedHospitalizedHospitalizedHospitalizedHospitalizedHospitalizedHospitalizedHospitalizedHospitalizedHospitalizedHospitalizedHospitalizedHospitalizedHospitalizedHospitalizedHospitalizedHospitalizedHospitalizedHospitalizedHospitalizedHospitalizedHospitalizedHospitalizedHospitalizedHospitalizedHospitalizedHospitalizedHospitalizedHospitalizedHospitalizedHospitalizedHospitalizedHospitalizedHospitalizedHospitalizedHospitalizedHospitalizedHospitalizedHospitalizedHospitalizedHospitalizedHospitalizedHospitalizedHospitalizedHospitalizedHospitalizedHospitalizedHospitalizedHospitalizedHospitalizedHospitalizedHospitalizedHospitalizedHospitalizedHospitalizedHospitalizedHospitalizedHospitalizedHospitalizedHospitalizedHospitalizedHospitalizedHospitalizedHospitalizedHospitalizedHospitalizedHospitalizedHospitalizedHospitalizedHospitalizedHospitalizedHospitalizedHospitalizedHospitalizedHospitalizedHospitalizedHospitalizedHospitalizedHospitalizedHospitalizedHospitalizedHospitalizedHospitalizedHospitalizedHospitalizedHospitalizedHospitalizedHospitalizedHospitalizedHospitalizedHospitalizedHospitalizedHospitalizedHospitalizedHospitalizedHospitalizedHospitalizedHospitalizedHospitalizedHospitalizedHospitalizedHospitalizedHospitalizedHospitalizedHospitalizedHospitalizedHospitalizedHospitalizedHospitalizedHospitalizedHospitalizedHospitalizedHospitalizedHospitalizedHospitalizedHospitalizedHospitalizedHospitalizedHospitalizedHospitalizedHospitalizedHospitalizedHospitalizedHospitalizedHospitalizedHospitalizedHospitalized"
         ],
         "yaxis": "y2"
        }
       ],
       "layout": {
        "annotations": [
         {
          "font": {},
          "showarrow": false,
          "text": "Reported=detected_state",
          "x": 0.245,
          "xanchor": "center",
          "xref": "paper",
          "y": 1,
          "yanchor": "bottom",
          "yref": "paper"
         },
         {
          "font": {},
          "showarrow": false,
          "text": "Reported=current_status",
          "x": 0.755,
          "xanchor": "center",
          "xref": "paper",
          "y": 1,
          "yanchor": "bottom",
          "yref": "paper"
         }
        ],
        "legend": {
         "title": {
          "text": "Reported"
         },
         "tracegroupgap": 0
        },
        "template": {
         "data": {
          "bar": [
           {
            "error_x": {
             "color": "#2a3f5f"
            },
            "error_y": {
             "color": "#2a3f5f"
            },
            "marker": {
             "line": {
              "color": "#E5ECF6",
              "width": 0.5
             }
            },
            "type": "bar"
           }
          ],
          "barpolar": [
           {
            "marker": {
             "line": {
              "color": "#E5ECF6",
              "width": 0.5
             }
            },
            "type": "barpolar"
           }
          ],
          "carpet": [
           {
            "aaxis": {
             "endlinecolor": "#2a3f5f",
             "gridcolor": "white",
             "linecolor": "white",
             "minorgridcolor": "white",
             "startlinecolor": "#2a3f5f"
            },
            "baxis": {
             "endlinecolor": "#2a3f5f",
             "gridcolor": "white",
             "linecolor": "white",
             "minorgridcolor": "white",
             "startlinecolor": "#2a3f5f"
            },
            "type": "carpet"
           }
          ],
          "choropleth": [
           {
            "colorbar": {
             "outlinewidth": 0,
             "ticks": ""
            },
            "type": "choropleth"
           }
          ],
          "contour": [
           {
            "colorbar": {
             "outlinewidth": 0,
             "ticks": ""
            },
            "colorscale": [
             [
              0,
              "#0d0887"
             ],
             [
              0.1111111111111111,
              "#46039f"
             ],
             [
              0.2222222222222222,
              "#7201a8"
             ],
             [
              0.3333333333333333,
              "#9c179e"
             ],
             [
              0.4444444444444444,
              "#bd3786"
             ],
             [
              0.5555555555555556,
              "#d8576b"
             ],
             [
              0.6666666666666666,
              "#ed7953"
             ],
             [
              0.7777777777777778,
              "#fb9f3a"
             ],
             [
              0.8888888888888888,
              "#fdca26"
             ],
             [
              1,
              "#f0f921"
             ]
            ],
            "type": "contour"
           }
          ],
          "contourcarpet": [
           {
            "colorbar": {
             "outlinewidth": 0,
             "ticks": ""
            },
            "type": "contourcarpet"
           }
          ],
          "heatmap": [
           {
            "colorbar": {
             "outlinewidth": 0,
             "ticks": ""
            },
            "colorscale": [
             [
              0,
              "#0d0887"
             ],
             [
              0.1111111111111111,
              "#46039f"
             ],
             [
              0.2222222222222222,
              "#7201a8"
             ],
             [
              0.3333333333333333,
              "#9c179e"
             ],
             [
              0.4444444444444444,
              "#bd3786"
             ],
             [
              0.5555555555555556,
              "#d8576b"
             ],
             [
              0.6666666666666666,
              "#ed7953"
             ],
             [
              0.7777777777777778,
              "#fb9f3a"
             ],
             [
              0.8888888888888888,
              "#fdca26"
             ],
             [
              1,
              "#f0f921"
             ]
            ],
            "type": "heatmap"
           }
          ],
          "heatmapgl": [
           {
            "colorbar": {
             "outlinewidth": 0,
             "ticks": ""
            },
            "colorscale": [
             [
              0,
              "#0d0887"
             ],
             [
              0.1111111111111111,
              "#46039f"
             ],
             [
              0.2222222222222222,
              "#7201a8"
             ],
             [
              0.3333333333333333,
              "#9c179e"
             ],
             [
              0.4444444444444444,
              "#bd3786"
             ],
             [
              0.5555555555555556,
              "#d8576b"
             ],
             [
              0.6666666666666666,
              "#ed7953"
             ],
             [
              0.7777777777777778,
              "#fb9f3a"
             ],
             [
              0.8888888888888888,
              "#fdca26"
             ],
             [
              1,
              "#f0f921"
             ]
            ],
            "type": "heatmapgl"
           }
          ],
          "histogram": [
           {
            "marker": {
             "colorbar": {
              "outlinewidth": 0,
              "ticks": ""
             }
            },
            "type": "histogram"
           }
          ],
          "histogram2d": [
           {
            "colorbar": {
             "outlinewidth": 0,
             "ticks": ""
            },
            "colorscale": [
             [
              0,
              "#0d0887"
             ],
             [
              0.1111111111111111,
              "#46039f"
             ],
             [
              0.2222222222222222,
              "#7201a8"
             ],
             [
              0.3333333333333333,
              "#9c179e"
             ],
             [
              0.4444444444444444,
              "#bd3786"
             ],
             [
              0.5555555555555556,
              "#d8576b"
             ],
             [
              0.6666666666666666,
              "#ed7953"
             ],
             [
              0.7777777777777778,
              "#fb9f3a"
             ],
             [
              0.8888888888888888,
              "#fdca26"
             ],
             [
              1,
              "#f0f921"
             ]
            ],
            "type": "histogram2d"
           }
          ],
          "histogram2dcontour": [
           {
            "colorbar": {
             "outlinewidth": 0,
             "ticks": ""
            },
            "colorscale": [
             [
              0,
              "#0d0887"
             ],
             [
              0.1111111111111111,
              "#46039f"
             ],
             [
              0.2222222222222222,
              "#7201a8"
             ],
             [
              0.3333333333333333,
              "#9c179e"
             ],
             [
              0.4444444444444444,
              "#bd3786"
             ],
             [
              0.5555555555555556,
              "#d8576b"
             ],
             [
              0.6666666666666666,
              "#ed7953"
             ],
             [
              0.7777777777777778,
              "#fb9f3a"
             ],
             [
              0.8888888888888888,
              "#fdca26"
             ],
             [
              1,
              "#f0f921"
             ]
            ],
            "type": "histogram2dcontour"
           }
          ],
          "mesh3d": [
           {
            "colorbar": {
             "outlinewidth": 0,
             "ticks": ""
            },
            "type": "mesh3d"
           }
          ],
          "parcoords": [
           {
            "line": {
             "colorbar": {
              "outlinewidth": 0,
              "ticks": ""
             }
            },
            "type": "parcoords"
           }
          ],
          "pie": [
           {
            "automargin": true,
            "type": "pie"
           }
          ],
          "scatter": [
           {
            "marker": {
             "colorbar": {
              "outlinewidth": 0,
              "ticks": ""
             }
            },
            "type": "scatter"
           }
          ],
          "scatter3d": [
           {
            "line": {
             "colorbar": {
              "outlinewidth": 0,
              "ticks": ""
             }
            },
            "marker": {
             "colorbar": {
              "outlinewidth": 0,
              "ticks": ""
             }
            },
            "type": "scatter3d"
           }
          ],
          "scattercarpet": [
           {
            "marker": {
             "colorbar": {
              "outlinewidth": 0,
              "ticks": ""
             }
            },
            "type": "scattercarpet"
           }
          ],
          "scattergeo": [
           {
            "marker": {
             "colorbar": {
              "outlinewidth": 0,
              "ticks": ""
             }
            },
            "type": "scattergeo"
           }
          ],
          "scattergl": [
           {
            "marker": {
             "colorbar": {
              "outlinewidth": 0,
              "ticks": ""
             }
            },
            "type": "scattergl"
           }
          ],
          "scattermapbox": [
           {
            "marker": {
             "colorbar": {
              "outlinewidth": 0,
              "ticks": ""
             }
            },
            "type": "scattermapbox"
           }
          ],
          "scatterpolar": [
           {
            "marker": {
             "colorbar": {
              "outlinewidth": 0,
              "ticks": ""
             }
            },
            "type": "scatterpolar"
           }
          ],
          "scatterpolargl": [
           {
            "marker": {
             "colorbar": {
              "outlinewidth": 0,
              "ticks": ""
             }
            },
            "type": "scatterpolargl"
           }
          ],
          "scatterternary": [
           {
            "marker": {
             "colorbar": {
              "outlinewidth": 0,
              "ticks": ""
             }
            },
            "type": "scatterternary"
           }
          ],
          "surface": [
           {
            "colorbar": {
             "outlinewidth": 0,
             "ticks": ""
            },
            "colorscale": [
             [
              0,
              "#0d0887"
             ],
             [
              0.1111111111111111,
              "#46039f"
             ],
             [
              0.2222222222222222,
              "#7201a8"
             ],
             [
              0.3333333333333333,
              "#9c179e"
             ],
             [
              0.4444444444444444,
              "#bd3786"
             ],
             [
              0.5555555555555556,
              "#d8576b"
             ],
             [
              0.6666666666666666,
              "#ed7953"
             ],
             [
              0.7777777777777778,
              "#fb9f3a"
             ],
             [
              0.8888888888888888,
              "#fdca26"
             ],
             [
              1,
              "#f0f921"
             ]
            ],
            "type": "surface"
           }
          ],
          "table": [
           {
            "cells": {
             "fill": {
              "color": "#EBF0F8"
             },
             "line": {
              "color": "white"
             }
            },
            "header": {
             "fill": {
              "color": "#C8D4E3"
             },
             "line": {
              "color": "white"
             }
            },
            "type": "table"
           }
          ]
         },
         "layout": {
          "annotationdefaults": {
           "arrowcolor": "#2a3f5f",
           "arrowhead": 0,
           "arrowwidth": 1
          },
          "coloraxis": {
           "colorbar": {
            "outlinewidth": 0,
            "ticks": ""
           }
          },
          "colorscale": {
           "diverging": [
            [
             0,
             "#8e0152"
            ],
            [
             0.1,
             "#c51b7d"
            ],
            [
             0.2,
             "#de77ae"
            ],
            [
             0.3,
             "#f1b6da"
            ],
            [
             0.4,
             "#fde0ef"
            ],
            [
             0.5,
             "#f7f7f7"
            ],
            [
             0.6,
             "#e6f5d0"
            ],
            [
             0.7,
             "#b8e186"
            ],
            [
             0.8,
             "#7fbc41"
            ],
            [
             0.9,
             "#4d9221"
            ],
            [
             1,
             "#276419"
            ]
           ],
           "sequential": [
            [
             0,
             "#0d0887"
            ],
            [
             0.1111111111111111,
             "#46039f"
            ],
            [
             0.2222222222222222,
             "#7201a8"
            ],
            [
             0.3333333333333333,
             "#9c179e"
            ],
            [
             0.4444444444444444,
             "#bd3786"
            ],
            [
             0.5555555555555556,
             "#d8576b"
            ],
            [
             0.6666666666666666,
             "#ed7953"
            ],
            [
             0.7777777777777778,
             "#fb9f3a"
            ],
            [
             0.8888888888888888,
             "#fdca26"
            ],
            [
             1,
             "#f0f921"
            ]
           ],
           "sequentialminus": [
            [
             0,
             "#0d0887"
            ],
            [
             0.1111111111111111,
             "#46039f"
            ],
            [
             0.2222222222222222,
             "#7201a8"
            ],
            [
             0.3333333333333333,
             "#9c179e"
            ],
            [
             0.4444444444444444,
             "#bd3786"
            ],
            [
             0.5555555555555556,
             "#d8576b"
            ],
            [
             0.6666666666666666,
             "#ed7953"
            ],
            [
             0.7777777777777778,
             "#fb9f3a"
            ],
            [
             0.8888888888888888,
             "#fdca26"
            ],
            [
             1,
             "#f0f921"
            ]
           ]
          },
          "colorway": [
           "#636efa",
           "#EF553B",
           "#00cc96",
           "#ab63fa",
           "#FFA15A",
           "#19d3f3",
           "#FF6692",
           "#B6E880",
           "#FF97FF",
           "#FECB52"
          ],
          "font": {
           "color": "#2a3f5f"
          },
          "geo": {
           "bgcolor": "white",
           "lakecolor": "white",
           "landcolor": "#E5ECF6",
           "showlakes": true,
           "showland": true,
           "subunitcolor": "white"
          },
          "hoverlabel": {
           "align": "left"
          },
          "hovermode": "closest",
          "mapbox": {
           "style": "light"
          },
          "paper_bgcolor": "white",
          "plot_bgcolor": "#E5ECF6",
          "polar": {
           "angularaxis": {
            "gridcolor": "white",
            "linecolor": "white",
            "ticks": ""
           },
           "bgcolor": "#E5ECF6",
           "radialaxis": {
            "gridcolor": "white",
            "linecolor": "white",
            "ticks": ""
           }
          },
          "scene": {
           "xaxis": {
            "backgroundcolor": "#E5ECF6",
            "gridcolor": "white",
            "gridwidth": 2,
            "linecolor": "white",
            "showbackground": true,
            "ticks": "",
            "zerolinecolor": "white"
           },
           "yaxis": {
            "backgroundcolor": "#E5ECF6",
            "gridcolor": "white",
            "gridwidth": 2,
            "linecolor": "white",
            "showbackground": true,
            "ticks": "",
            "zerolinecolor": "white"
           },
           "zaxis": {
            "backgroundcolor": "#E5ECF6",
            "gridcolor": "white",
            "gridwidth": 2,
            "linecolor": "white",
            "showbackground": true,
            "ticks": "",
            "zerolinecolor": "white"
           }
          },
          "shapedefaults": {
           "line": {
            "color": "#2a3f5f"
           }
          },
          "ternary": {
           "aaxis": {
            "gridcolor": "white",
            "linecolor": "white",
            "ticks": ""
           },
           "baxis": {
            "gridcolor": "white",
            "linecolor": "white",
            "ticks": ""
           },
           "bgcolor": "#E5ECF6",
           "caxis": {
            "gridcolor": "white",
            "linecolor": "white",
            "ticks": ""
           }
          },
          "title": {
           "x": 0.05
          },
          "xaxis": {
           "automargin": true,
           "gridcolor": "white",
           "linecolor": "white",
           "ticks": "",
           "title": {
            "standoff": 15
           },
           "zerolinecolor": "white",
           "zerolinewidth": 2
          },
          "yaxis": {
           "automargin": true,
           "gridcolor": "white",
           "linecolor": "white",
           "ticks": "",
           "title": {
            "standoff": 15
           },
           "zerolinecolor": "white",
           "zerolinewidth": 2
          }
         }
        },
        "title": {
         "text": "Number of cases"
        },
        "xaxis": {
         "anchor": "y",
         "domain": [
          0,
          0.49
         ],
         "title": {
          "text": "diagnosed_date"
         }
        },
        "xaxis2": {
         "anchor": "y2",
         "domain": [
          0.51,
          1
         ],
         "matches": "x",
         "title": {
          "text": "diagnosed_date"
         }
        },
        "yaxis": {
         "anchor": "x",
         "domain": [
          0,
          1
         ],
         "title": {
          "text": "Count"
         }
        },
        "yaxis2": {
         "anchor": "x2",
         "domain": [
          0,
          1
         ],
         "matches": "y",
         "showticklabels": false
        }
       }
      },
      "text/html": [
       "<div>\n",
       "        \n",
       "        \n",
       "            <div id=\"10ef952e-c729-4497-8a25-0b2ca99fb29c\" class=\"plotly-graph-div\" style=\"height:525px; width:100%;\"></div>\n",
       "            <script type=\"text/javascript\">\n",
       "                require([\"plotly\"], function(Plotly) {\n",
       "                    window.PLOTLYENV=window.PLOTLYENV || {};\n",
       "                    \n",
       "                if (document.getElementById(\"10ef952e-c729-4497-8a25-0b2ca99fb29c\")) {\n",
       "                    Plotly.newPlot(\n",
       "                        '10ef952e-c729-4497-8a25-0b2ca99fb29c',\n",
       "                        [{\"hovertemplate\": \"Reported=detected_state<br>diagnosed_date=%{x}<br>Count=%{y}<extra></extra>\", \"legendgroup\": \"detected_state\", \"line\": {\"color\": \"#636efa\", \"dash\": \"solid\"}, \"mode\": \"lines\", \"name\": \"detected_state\", \"showlegend\": true, \"type\": \"scatter\", \"x\": [\"01/04/2020\", \"02/02/2020\", \"02/03/2020\", \"02/04/2020\", \"03/02/2020\", \"03/03/2020\", \"03/04/2020\", \"04/03/2020\", \"04/04/2020\", \"05/03/2020\", \"06/03/2020\", \"07/03/2020\", \"08/03/2020\", \"09/03/2020\", \"10/03/2020\", \"11/03/2020\", \"12/03/2020\", \"13/03/2020\", \"14/03/2020\", \"15/03/2020\", \"16/03/2020\", \"17/03/2020\", \"18/03/2020\", \"19/03/2020\", \"20/03/2020\", \"21/03/2020\", \"22/03/2020\", \"23/03/2020\", \"24/03/2020\", \"25/03/2020\", \"26/03/2020\", \"27/03/2020\", \"28/03/2020\", \"29/03/2020\", \"30/01/2020\", \"30/03/2020\", \"31/03/2020\"], \"xaxis\": \"x\", \"y\": [\"MaharashtraMaharashtraMaharashtraMaharashtraMaharashtraMaharashtraMaharashtraMaharashtraMaharashtraMaharashtraMaharashtraMaharashtraMaharashtraMaharashtraMaharashtraMaharashtraMaharashtraMaharashtraMadhya PradeshMadhya PradeshMadhya PradeshMadhya PradeshMadhya PradeshMadhya PradeshMadhya PradeshMadhya PradeshMadhya PradeshMadhya PradeshMadhya PradeshMadhya PradeshMadhya PradeshMadhya PradeshMadhya PradeshMadhya PradeshMadhya PradeshMadhya PradeshMadhya PradeshMadhya PradeshDelhiPuducherryPuducherryGujaratGujaratGujaratGujaratGujaratGujaratGujaratGujaratAndhra PradeshAndhra PradeshAndhra PradeshAndhra PradeshAndhra PradeshAndhra PradeshAndhra PradeshAndhra PradeshAndhra PradeshAndhra PradeshAndhra PradeshAndhra PradeshAndhra PradeshAndhra PradeshAndhra PradeshAndhra PradeshAndhra PradeshAndhra PradeshAndhra PradeshAndhra PradeshAndhra PradeshAndhra PradeshAndhra PradeshAndhra PradeshAndhra PradeshAndhra PradeshAndhra PradeshAndhra PradeshAndhra PradeshAndhra PradeshAndhra PradeshAndhra PradeshAndhra PradeshAndhra PradeshAndhra PradeshAndhra PradeshAndhra PradeshAndhra PradeshAndhra PradeshAndhra PradeshAndhra PradeshAndhra PradeshAndhra PradeshBiharBiharPunjabKarnatakaKarnatakaKarnatakaKarnatakaPunjabPunjabPunjabAssamAssamAssamAssamRajasthanRajasthanRajasthanRajasthanRajasthanRajasthanRajasthanRajasthanRajasthanRajasthanRajasthanRajasthanRajasthanDelhiDelhiUttar PradeshUttar PradeshUttar PradeshUttar PradeshUttar PradeshUttar PradeshUttar PradeshUttar PradeshUttar PradeshUttar PradeshUttar PradeshUttar PradeshRajasthanRajasthanTamil NaduTamil NaduTamil NaduTamil NaduTamil NaduTamil NaduTamil NaduTamil NaduTamil NaduTamil NaduTamil NaduTamil NaduTamil NaduTamil NaduTamil NaduTamil NaduTamil NaduTamil NaduTamil NaduTamil NaduTamil NaduTamil NaduTamil NaduTamil NaduTamil NaduTamil NaduTamil NaduTamil NaduTamil NaduTamil NaduTamil NaduTamil NaduTamil NaduTamil NaduTamil NaduTamil NaduTamil NaduTamil NaduTamil NaduTamil NaduTamil NaduTamil NaduTamil NaduTamil NaduTamil NaduTamil NaduTamil NaduTamil NaduTamil NaduTamil NaduTamil NaduTamil NaduTamil NaduTamil NaduTamil NaduTamil NaduTamil NaduTamil NaduTamil NaduTamil NaduTamil NaduTamil NaduTamil NaduTamil NaduTamil NaduTamil NaduTamil NaduTamil NaduTamil NaduTamil NaduTamil NaduTamil NaduTamil NaduTamil NaduTamil NaduTamil NaduTamil NaduTamil NaduTamil NaduTamil NaduTamil NaduTamil NaduTamil NaduTamil NaduTamil NaduTamil NaduTamil NaduTamil NaduTamil NaduTamil NaduTamil NaduTamil NaduTamil NaduTamil NaduTamil NaduTamil NaduTamil NaduTamil NaduTamil NaduTamil NaduTamil NaduTamil NaduTamil NaduTamil NaduTamil NaduTamil NaduTamil NaduTamil NaduTamil NaduTamil NaduKeralaKeralaKeralaKeralaKeralaKeralaKeralaKeralaKeralaKeralaKeralaKeralaKeralaKeralaKeralaKeralaKeralaKeralaKeralaKeralaKeralaKeralaKeralaKeralaJammu and KashmirJammu and KashmirJammu and KashmirJammu and KashmirJammu and KashmirJammu and KashmirJammu and KashmirBiharDelhiDelhiDelhiDelhiDelhiDelhiDelhiDelhiDelhiDelhiDelhiDelhiDelhiDelhiDelhiDelhiDelhiDelhiDelhiDelhiDelhiDelhiDelhiDelhiDelhiDelhiDelhiDelhiDelhiGujaratGujaratGujaratGujaratGujaratKarnatakaKarnatakaKarnatakaKarnatakaKarnatakaMaharashtraMaharashtraMaharashtraMaharashtraMaharashtraMaharashtraMaharashtraMaharashtraMaharashtraMaharashtraMaharashtraMaharashtraMaharashtraMaharashtraMaharashtraAssamAssamAssamAssamAssamAssamAssamAssamAndhra PradeshAndhra PradeshAndhra PradeshAndhra PradeshAndhra PradeshAndhra PradeshAndhra PradeshAndhra PradeshAndhra PradeshAndhra PradeshAndhra PradeshAndhra PradeshAndhra PradeshAndhra PradeshAndhra PradeshAndhra PradeshAndhra PradeshAndhra PradeshAndhra PradeshAndhra PradeshAndhra PradeshAndhra PradeshAndhra PradeshAndhra PradeshRajasthanRajasthanRajasthanRajasthanRajasthanRajasthanRajasthanRajasthanRajasthanRajasthanRajasthanRajasthanChandigarhChandigarhOdishaUttar PradeshAssamAssamAssamTelanganaTelanganaTelanganaTelanganaTelanganaTelanganaTelanganaTelanganaTelanganaTelanganaTelanganaTelanganaTelanganaTelanganaTelanganaTelanganaTelanganaTelanganaTelanganaTelanganaTelanganaTelanganaTelanganaTelanganaTelanganaTelanganaTelanganaTelanganaTelanganaTelanganaMadhya PradeshMadhya PradeshMadhya PradeshMadhya PradeshMadhya PradeshMadhya PradeshMadhya PradeshMadhya PradeshMadhya PradeshMadhya PradeshMadhya PradeshMadhya Pradesh\", \"Kerala\", \"DelhiTelangana\", \"ManipurMaharashtraMaharashtraMaharashtraRajasthanRajasthanRajasthanRajasthanRajasthanRajasthanRajasthanRajasthanRajasthanAndhra PradeshAndhra PradeshAndhra PradeshAndhra PradeshAndhra PradeshAndhra PradeshAndhra PradeshAndhra PradeshAndhra PradeshAndhra PradeshAndhra PradeshAndhra PradeshAndhra PradeshAndhra PradeshAndhra PradeshAndhra PradeshAndhra PradeshAndhra PradeshAndhra PradeshAndhra PradeshAndhra PradeshArunachal PradeshMaharashtraRajasthanRajasthanPunjabHaryanaHaryanaHaryanaHaryanaKarnatakaKarnatakaKarnatakaKarnatakaKarnatakaKarnatakaKarnatakaKarnatakaKarnatakaKarnatakaKarnatakaDelhiDelhiDelhiDelhiDelhiDelhiDelhiDelhiDelhiDelhiDelhiDelhiDelhiDelhiDelhiDelhiDelhiDelhiDelhiDelhiDelhiDelhiDelhiDelhiDelhiDelhiDelhiDelhiDelhiDelhiDelhiDelhiDelhiDelhiDelhiDelhiDelhiDelhiDelhiDelhiDelhiDelhiDelhiDelhiDelhiDelhiDelhiDelhiDelhiDelhiDelhiDelhiDelhiDelhiDelhiDelhiDelhiDelhiDelhiDelhiDelhiDelhiDelhiDelhiDelhiDelhiDelhiUttar PradeshUttar PradeshUttar PradeshUttar PradeshJammu and KashmirJammu and KashmirJammu and KashmirJammu and KashmirJammu and KashmirJammu and KashmirJammu and KashmirJammu and KashmirRajasthanRajasthanHaryanaHaryanaAndhra PradeshAndhra PradeshAndhra PradeshKeralaKeralaKeralaKeralaKeralaKeralaKeralaKeralaKeralaKeralaKeralaKeralaKeralaKeralaKeralaKeralaKeralaKeralaKeralaKeralaKeralaTamil NaduTamil NaduTamil NaduTamil NaduTamil NaduTamil NaduTamil NaduTamil NaduTamil NaduTamil NaduTamil NaduTamil NaduTamil NaduTamil NaduTamil NaduTamil NaduTamil NaduTamil NaduTamil NaduTamil NaduTamil NaduTamil NaduTamil NaduTamil NaduTamil NaduTamil NaduTamil NaduTamil NaduTamil NaduTamil NaduTamil NaduTamil NaduTamil NaduTamil NaduTamil NaduTamil NaduTamil NaduTamil NaduTamil NaduTamil NaduTamil NaduTamil NaduTamil NaduTamil NaduTamil NaduTamil NaduTamil NaduTamil NaduTamil NaduTamil NaduTamil NaduTamil NaduTamil NaduTamil NaduTamil NaduTamil NaduTamil NaduTamil NaduTamil NaduTamil NaduTamil NaduTamil NaduTamil NaduTamil NaduTamil NaduTamil NaduTamil NaduTamil NaduTamil NaduTamil NaduTamil NaduTamil NaduTamil NaduTamil NaduTamil NaduMaharashtraMaharashtraMaharashtraMaharashtraMaharashtraMaharashtraMaharashtraMaharashtraMaharashtraMaharashtraMaharashtraMaharashtraMaharashtraMaharashtraMaharashtraMaharashtraMaharashtraMaharashtraMaharashtraMaharashtraMaharashtraMaharashtraMaharashtraMaharashtraMaharashtraMaharashtraMaharashtraMaharashtraMaharashtraMaharashtraMaharashtraMaharashtraMaharashtraMaharashtraMaharashtraMaharashtraMaharashtraMaharashtraMaharashtraMaharashtraMaharashtraMaharashtraMaharashtraMaharashtraMaharashtraMaharashtraMaharashtraMaharashtraMaharashtraMaharashtraMaharashtraMaharashtraMaharashtraMaharashtraMaharashtraMaharashtraMaharashtraMaharashtraMaharashtraMaharashtraMaharashtraMaharashtraMaharashtraMaharashtraMaharashtraMaharashtraMaharashtraMaharashtraMaharashtraMaharashtraMaharashtraMaharashtraMaharashtraMaharashtraMaharashtraMaharashtraMaharashtraWest BengalWest BengalWest BengalWest BengalWest BengalWest BengalWest BengalWest BengalWest BengalWest BengalWest BengalWest BengalWest BengalWest BengalWest BengalWest BengalAndhra PradeshAndhra PradeshAndhra PradeshAndhra PradeshAndhra PradeshAndhra PradeshAndhra PradeshAndhra PradeshChandigarhMadhya PradeshMadhya PradeshJharkhandDelhiDelhiDelhiDelhiDelhiDelhiDelhiDelhiDelhiDelhiDelhiDelhiDelhiDelhiDelhiDelhiDelhiDelhiDelhiDelhiDelhiDelhiDelhiDelhiDelhiDelhiDelhiDelhiDelhiDelhiDelhiDelhiDelhiDelhiDelhiDelhiDelhiDelhiDelhiDelhiDelhiDelhiDelhiDelhiDelhiDelhiDelhiDelhiDelhiDelhiDelhiDelhiDelhiDelhiDelhiDelhiDelhiDelhiDelhiDelhiDelhiDelhiDelhiDelhiDelhiDelhiDelhiDelhiDelhiDelhiDelhiDelhiDelhiDelhiMadhya PradeshMadhya PradeshMadhya PradeshMadhya PradeshMadhya PradeshMadhya PradeshMadhya PradeshKarnatakaKarnatakaKarnatakaTelanganaTelanganaTelanganaTelanganaTelanganaTelanganaTelanganaTelanganaTelanganaTelanganaTelanganaTelanganaTelanganaTelanganaTelanganaTelanganaTelanganaTelanganaTelanganaTelanganaTelanganaTelanganaTelanganaTelanganaTelanganaTelanganaTelanganaGujaratBiharBiharBiharBiharBiharAndhra PradeshAndhra PradeshAndhra PradeshAndhra PradeshAndhra PradeshAndhra PradeshMaharashtraMaharashtraMaharashtraMaharashtraHimachal PradeshHimachal PradeshHimachal PradeshMaharashtraMaharashtraMaharashtraUttarakhandUttarakhandUttarakhandUttar PradeshUttar PradeshUttar PradeshUttar PradeshUttar PradeshPuducherryPuducherryUttar PradeshUttar Pradesh\", \"Kerala\", \"Rajasthan\", \"RajasthanRajasthanRajasthanRajasthanRajasthanRajasthanRajasthanRajasthanRajasthanRajasthanRajasthanRajasthanRajasthanRajasthanRajasthanRajasthanRajasthanRajasthanRajasthanRajasthanRajasthanGoaAndhra PradeshAndhra PradeshAndhra PradeshAndhra PradeshAndhra PradeshAndhra PradeshAndhra PradeshAndhra PradeshAndhra PradeshAndhra PradeshAndhra PradeshAndhra PradeshGujaratGujaratGujaratGujaratGujaratGujaratGujaratKarnatakaUttar PradeshUttar PradeshUttar PradeshUttar PradeshUttar PradeshUttar PradeshUttar PradeshUttar PradeshUttar PradeshUttar PradeshUttar PradeshUttar PradeshUttar PradeshUttar PradeshUttar PradeshUttar PradeshUttar PradeshUttar PradeshUttar PradeshUttar PradeshUttar PradeshUttar PradeshUttar PradeshUttar PradeshUttar PradeshUttar PradeshUttar PradeshUttar PradeshUttar PradeshUttar PradeshUttar PradeshUttar PradeshUttar PradeshUttar PradeshUttar PradeshUttar PradeshUttar PradeshUttar PradeshUttar PradeshUttar PradeshUttar PradeshUttar PradeshUttar PradeshUttar PradeshHaryanaHaryanaHaryanaHaryanaHaryanaHaryanaHaryanaHaryanaOdishaRajasthanRajasthanRajasthanRajasthanRajasthanRajasthanRajasthanRajasthanRajasthanRajasthanRajasthanRajasthanDelhiDelhiDelhiDelhiDelhiDelhiDelhiDelhiDelhiDelhiDelhiDelhiDelhiDelhiDelhiDelhiDelhiDelhiDelhiDelhiDelhiDelhiDelhiDelhiDelhiDelhiDelhiDelhiDelhiDelhiDelhiDelhiDelhiDelhiDelhiDelhiDelhiDelhiDelhiDelhiDelhiDelhiDelhiDelhiDelhiDelhiDelhiDelhiDelhiDelhiDelhiDelhiDelhiDelhiDelhiDelhiDelhiDelhiDelhiDelhiDelhiDelhiDelhiDelhiDelhiDelhiDelhiDelhiDelhiDelhiDelhiDelhiDelhiDelhiDelhiDelhiDelhiDelhiDelhiDelhiDelhiDelhiDelhiDelhiDelhiDelhiDelhiDelhiDelhiDelhiDelhiTamil NaduTamil NaduTamil NaduTamil NaduTamil NaduTamil NaduTamil NaduTamil NaduTamil NaduTamil NaduTamil NaduTamil NaduTamil NaduTamil NaduTamil NaduTamil NaduTamil NaduTamil NaduTamil NaduTamil NaduTamil NaduTamil NaduTamil NaduTamil NaduTamil NaduTamil NaduTamil NaduTamil NaduTamil NaduTamil NaduTamil NaduTamil NaduTamil NaduTamil NaduTamil NaduTamil NaduTamil NaduTamil NaduTamil NaduTamil NaduTamil NaduTamil NaduTamil NaduTamil NaduTamil NaduTamil NaduTamil NaduTamil NaduTamil NaduTamil NaduTamil NaduTamil NaduTamil NaduTamil NaduTamil NaduTamil NaduTamil NaduTamil NaduTamil NaduTamil NaduTamil NaduTamil NaduTamil NaduTamil NaduTamil NaduTamil NaduTamil NaduTamil NaduTamil NaduTamil NaduTamil NaduTamil NaduTamil NaduTamil NaduTamil NaduTamil NaduTamil NaduTamil NaduTamil NaduTamil NaduTamil NaduTamil NaduTamil NaduTamil NaduTamil NaduTamil NaduTamil NaduTamil NaduTamil NaduTamil NaduTamil NaduTamil NaduTamil NaduTamil NaduTamil NaduTamil NaduTamil NaduTamil NaduTamil NaduTamil NaduTamil NaduTamil NaduAssamAssamAssamAssamJammu and KashmirJammu and KashmirJammu and KashmirJammu and KashmirJammu and KashmirPunjabPunjabPunjabPunjabKeralaKeralaKeralaKeralaKeralaKeralaKeralaKeralaKeralaMadhya PradeshMadhya PradeshMadhya PradeshMadhya PradeshMadhya PradeshMadhya PradeshMadhya PradeshMadhya PradeshMadhya PradeshMadhya PradeshMadhya PradeshMadhya PradeshMadhya PradeshMadhya PradeshMadhya PradeshMadhya PradeshMadhya PradeshMadhya PradeshMadhya PradeshMadhya PradeshMadhya PradeshMadhya PradeshKarnatakaKarnatakaKarnatakaOdishaOdishaOdishaRajasthanRajasthanTelanganaTelanganaTelanganaTelanganaTelanganaTelanganaTelanganaTelanganaTelanganaTelanganaTelanganaTelanganaTelanganaTelanganaTelanganaTelanganaTelanganaTelanganaTelanganaTelanganaTelanganaTelanganaTelanganaTelanganaTelanganaTelanganaTelanganaTelanganaTelanganaTelanganaTelanganaTelanganaTelanganaTelanganaTelanganaTelanganaTelanganaTelanganaTelanganaTelanganaTelanganaTelanganaTelanganaTelanganaTelanganaTelanganaTelanganaTelanganaTelanganaTelanganaTelanganaTelanganaTelanganaTelanganaTelanganaTelanganaTelanganaTelanganaTelanganaTelanganaTelanganaTelanganaTelanganaTelanganaTelanganaTelanganaTelanganaTelanganaTelanganaTelanganaTelanganaTelanganaTelanganaTelanganaTelanganaHaryanaBiharPunjabPunjabMaharashtraMaharashtraMaharashtraMaharashtraMaharashtraMaharashtraMaharashtraMaharashtraMaharashtraMaharashtraMaharashtraMaharashtraMaharashtraMaharashtraMaharashtraMaharashtraMaharashtraMaharashtraMaharashtraMaharashtraMaharashtraMaharashtraMaharashtraMaharashtraMaharashtraMaharashtraMaharashtraMaharashtraMaharashtraMaharashtraMaharashtraMaharashtraMaharashtraMaharashtraMaharashtraMaharashtraMaharashtraMaharashtraMaharashtraMaharashtraMaharashtraMaharashtraMaharashtraMaharashtraMaharashtraMaharashtraMaharashtraMaharashtraMaharashtraMaharashtraMaharashtraMaharashtraMaharashtraMaharashtraMaharashtraMaharashtraMaharashtraMaharashtraMaharashtraMaharashtraMaharashtraMaharashtraMaharashtraMaharashtraMaharashtraMaharashtraMaharashtraBiharDelhiDelhiUttarakhandUttarakhandUttarakhandUttarakhandUttarakhandUttarakhandLadakhAndhra PradeshAndhra PradeshAndhra PradeshMadhya PradeshMadhya PradeshMadhya PradeshMadhya PradeshMadhya PradeshMadhya PradeshMadhya PradeshMadhya PradeshMadhya PradeshMadhya PradeshMadhya PradeshMadhya PradeshMadhya PradeshMadhya PradeshMadhya PradeshMadhya PradeshMadhya PradeshMadhya PradeshMadhya PradeshMadhya PradeshRajasthanRajasthanRajasthanRajasthanRajasthanRajasthanRajasthanRajasthanRajasthanRajasthanRajasthanOdishaOdishaOdishaOdishaOdishaOdishaOdishaOdishaOdishaOdishaOdishaMadhya PradeshMadhya PradeshMadhya PradeshMadhya PradeshMadhya PradeshUttar PradeshUttar PradeshAssamAssamAssam\", \"HaryanaHaryanaHaryanaHaryanaHaryanaHaryanaHaryanaHaryanaHaryanaHaryanaHaryanaHaryanaHaryanaHaryanaRajasthanUttar PradeshUttar PradeshUttar PradeshUttar PradeshUttar PradeshUttar PradeshUttar Pradesh\", \"AssamGoaRajasthanRajasthanRajasthanRajasthanRajasthanRajasthanRajasthanRajasthanRajasthanRajasthanRajasthanRajasthanRajasthanRajasthanRajasthanRajasthanRajasthanAndhra PradeshAndhra PradeshAndhra PradeshAndhra PradeshAndhra PradeshAndhra PradeshAndhra PradeshAndhra PradeshAndhra PradeshAndhra PradeshAndhra PradeshAndhra PradeshAndhra PradeshAndhra PradeshAndhra PradeshAndhra PradeshJammu and KashmirJammu and KashmirJammu and KashmirMaharashtraMaharashtraMaharashtraMaharashtraMaharashtraMaharashtraMaharashtraMaharashtraMaharashtraMaharashtraMaharashtraMaharashtraMaharashtraMaharashtraMaharashtraMaharashtraMaharashtraMaharashtraMaharashtraMaharashtraMaharashtraMaharashtraMaharashtraMaharashtraMaharashtraMaharashtraMaharashtraMaharashtraMaharashtraMaharashtraMaharashtraMaharashtraMaharashtraMaharashtraMaharashtraMaharashtraMaharashtraMaharashtraMaharashtraMaharashtraMaharashtraMaharashtraMaharashtraMaharashtraMaharashtraMaharashtraMaharashtraRajasthanRajasthanGujaratGujaratGujaratGujaratGujaratGujaratGujaratGujaratGujaratGujaratPunjabPunjabPunjabPunjabAssamChhattisgarhHaryanaHaryanaHaryanaHaryanaHaryanaHaryanaHaryanaHaryanaHaryanaHaryanaHaryanaHaryanaHaryanaHaryanaHaryanaHaryanaHaryanaHaryanaRajasthanRajasthanKarnatakaKarnatakaKarnatakaKarnatakaKarnatakaKarnatakaKarnatakaKarnatakaKarnatakaKarnatakaKarnatakaKarnatakaKarnatakaKarnatakaKarnatakaKarnatakaDelhiDelhiDelhiDelhiDelhiDelhiDelhiDelhiDelhiDelhiDelhiDelhiDelhiDelhiDelhiDelhiDelhiDelhiDelhiDelhiDelhiDelhiDelhiDelhiDelhiDelhiDelhiDelhiDelhiDelhiDelhiDelhiDelhiDelhiDelhiDelhiDelhiDelhiDelhiDelhiDelhiDelhiDelhiDelhiDelhiDelhiDelhiDelhiDelhiDelhiDelhiDelhiDelhiDelhiDelhiDelhiDelhiDelhiDelhiJammu and KashmirJammu and KashmirJammu and KashmirJammu and KashmirJammu and KashmirJammu and KashmirJammu and KashmirJammu and KashmirJammu and KashmirJammu and KashmirJammu and KashmirJammu and KashmirJammu and KashmirJammu and KashmirUttar PradeshUttar PradeshUttar PradeshUttar PradeshUttar PradeshUttar PradeshUttar PradeshUttar PradeshUttar PradeshUttar PradeshUttar PradeshUttar PradeshUttar PradeshUttar PradeshUttar PradeshUttar PradeshUttar PradeshUttar PradeshUttar PradeshUttar PradeshUttar PradeshUttar PradeshUttar PradeshUttar PradeshUttar PradeshUttar PradeshUttar PradeshUttar PradeshUttar PradeshUttar PradeshUttar PradeshUttar PradeshUttar PradeshUttar PradeshUttar PradeshUttar PradeshUttar PradeshUttar PradeshUttar PradeshUttar PradeshUttar PradeshUttar PradeshUttar PradeshUttar PradeshUttar PradeshUttar PradeshUttar PradeshUttar PradeshUttar PradeshUttar PradeshUttar PradeshUttar PradeshUttar PradeshUttarakhandUttarakhandUttarakhandUttarakhandUttarakhandUttarakhandTamil NaduTamil NaduTamil NaduTamil NaduTamil NaduTamil NaduTamil NaduTamil NaduTamil NaduTamil NaduTamil NaduTamil NaduTamil NaduTamil NaduTamil NaduTamil NaduTamil NaduTamil NaduTamil NaduTamil NaduTamil NaduTamil NaduTamil NaduTamil NaduTamil NaduTamil NaduTamil NaduTamil NaduTamil NaduTamil NaduTamil NaduTamil NaduTamil NaduTamil NaduTamil NaduTamil NaduTamil NaduTamil NaduTamil NaduTamil NaduTamil NaduTamil NaduTamil NaduTamil NaduTamil NaduTamil NaduTamil NaduTamil NaduTamil NaduTamil NaduTamil NaduTamil NaduTamil NaduTamil NaduTamil NaduTamil NaduTamil NaduTamil NaduTamil NaduTamil NaduTamil NaduTamil NaduTamil NaduTamil NaduTamil NaduTamil NaduTamil NaduTamil NaduTamil NaduTamil NaduTamil NaduTamil NaduTamil NaduTamil NaduKeralaKeralaKeralaKeralaKeralaKeralaKeralaKeralaKeralaKeralaKeralaAndhra PradeshAndhra PradeshAndhra PradeshAndhra PradeshAndhra PradeshAndhra PradeshAndhra PradeshAndhra PradeshAndhra PradeshAndhra PradeshHaryanaHaryanaHaryanaHaryanaHaryanaHaryanaHaryanaHaryanaPunjabPunjabPunjabPunjabPunjabPunjabPunjabPunjabBiharGujaratGujaratGujaratUttar PradeshUttar PradeshUttar PradeshUttar PradeshUttar PradeshUttar PradeshUttar PradeshMadhya PradeshMadhya PradeshMadhya PradeshMadhya PradeshMadhya PradeshMadhya PradeshMadhya PradeshMadhya PradeshMadhya PradeshMadhya PradeshMadhya PradeshMadhya PradeshMadhya PradeshMadhya PradeshMadhya PradeshMadhya PradeshMadhya PradeshMadhya PradeshMadhya PradeshMadhya PradeshMadhya PradeshMadhya PradeshMadhya PradeshMadhya PradeshMadhya PradeshTelanganaTelanganaTelanganaTelanganaTelanganaTelanganaTelanganaTelanganaTelanganaTelanganaTelanganaTelanganaTelanganaTelanganaTelanganaTelanganaTelanganaTelanganaTelanganaTelanganaTelanganaTelanganaTelanganaTelanganaTelanganaTelanganaTelanganaTelanganaTelanganaTelanganaTelanganaTelanganaTelanganaTelanganaTelanganaTelanganaTelanganaTelanganaTelanganaTelanganaTelanganaTelanganaTelanganaAndhra PradeshAndhra PradeshAssamOdishaMaharashtraMaharashtraMaharashtraMaharashtraMaharashtraMaharashtraMaharashtraMaharashtraMaharashtraMaharashtraMaharashtraMaharashtraMaharashtraMaharashtraMaharashtraMaharashtraMaharashtraMaharashtraMaharashtraMaharashtraMaharashtraMaharashtraMaharashtraMaharashtraMaharashtraMaharashtraMaharashtraMaharashtraMaharashtraMaharashtraMaharashtraMaharashtraMaharashtraMaharashtraMaharashtraMaharashtraMaharashtraMaharashtraMaharashtraMaharashtraMaharashtraMaharashtraMaharashtraMaharashtraMaharashtraMaharashtraMaharashtraMaharashtraMaharashtraMaharashtraMaharashtraMaharashtraMaharashtraMaharashtraMaharashtraMaharashtraMaharashtraMaharashtraMaharashtraMaharashtraMaharashtraMaharashtraMaharashtraMaharashtraMaharashtraMaharashtraMaharashtraMaharashtraMaharashtraMaharashtraMaharashtraMaharashtraMaharashtraMaharashtraMaharashtraMaharashtraMaharashtraMaharashtraMaharashtraMaharashtraMaharashtraMaharashtraMaharashtraMaharashtraMaharashtraMaharashtraMaharashtraMaharashtraMaharashtraMaharashtraMaharashtraMaharashtraMaharashtraMaharashtraMaharashtraMaharashtraMaharashtraMaharashtra\", \"DelhiUttar Pradesh\", \"Delhi\", \"LadakhLadakhTamil Nadu\", \"KeralaKeralaKeralaKeralaKerala\", \"DelhiJammu and KashmirKarnatakaKeralaMaharashtraMaharashtraPunjabUttar PradeshUttar Pradesh\", \"KeralaKeralaKarnatakaKarnatakaKarnatakaKeralaKeralaKeralaKeralaKeralaKeralaMaharashtraMaharashtraMaharashtraRajasthan\", \"DelhiLadakhMaharashtraMaharashtraMaharashtraMaharashtraMaharashtra\", \"Andhra PradeshDelhiKarnatakaKarnatakaKeralaKeralaMaharashtraMaharashtraMaharashtraMaharashtraUttar PradeshUttar Pradesh\", \"DelhiJammu and KashmirKeralaKeralaKeralaMaharashtraMaharashtraMaharashtraUttar Pradesh\", \"MaharashtraMaharashtraMaharashtraMaharashtraMaharashtraMaharashtraMaharashtraMaharashtraMaharashtraMaharashtraMaharashtraMaharashtraMaharashtraMaharashtraRajasthanTelangana\", \"KeralaKeralaMaharashtraMaharashtraTelanganaUttarakhand\", \"Jammu and KashmirKarnatakaKarnatakaKeralaKeralaKeralaMaharashtraMaharashtraMaharashtraMaharashtraMaharashtraMaharashtraOdishaTelangana\", \"DelhiDelhiDelhiHaryanaLadakhLadakhLadakhKarnatakaKarnatakaKarnatakaMaharashtraMaharashtraPuducherryTelanganaUttar PradeshUttar PradeshWest BengalLadakhLadakh\", \"MaharashtraUttar PradeshTelanganaKarnatakaKarnatakaUttar PradeshHaryanaTamil NaduMaharashtraKarnatakaMaharashtraMaharashtraJammu and KashmirRajasthanRajasthanRajasthanTelanganaTelanganaTelanganaTelanganaTelanganaTelanganaTelanganaHaryanaDelhi\", \"ChandigarhMaharashtraMaharashtraKarnatakaAndhra PradeshChhattisgarhUttar PradeshUttar PradeshUttar PradeshTamil NaduPunjabKeralaGujaratGujaratMaharashtraMaharashtraUttarakhandUttarakhandTelanganaTelanganaTelanganaOdishaRajasthanRajasthanAndhra PradeshDelhiDelhiDelhi\", \"West BengalPunjabLadakhLadakhDelhiDelhiDelhiMaharashtraMaharashtraMaharashtraGujaratGujaratGujaratUttar PradeshUttar PradeshUttar PradeshUttar PradeshRajasthanRajasthanRajasthanTelanganaRajasthanGujaratGujaratChandigarhChandigarhChandigarhChandigarhKeralaKeralaKeralaKeralaKeralaRajasthanRajasthanRajasthanRajasthanHaryanaHaryanaKeralaKeralaKeralaKeralaKeralaKeralaKeralaHimachal PradeshHimachal PradeshMadhya PradeshMadhya PradeshMadhya PradeshMadhya PradeshTelanganaTelanganaDelhiDelhiDelhiMaharashtraMaharashtra\", \"West BengalRajasthanRajasthanRajasthanRajasthanRajasthanRajasthanPunjabPunjabPunjabGujaratMaharashtraMaharashtraMaharashtraMaharashtraMaharashtraMaharashtraMaharashtraMaharashtraMaharashtraDelhiDelhiDelhiDelhiDelhiDelhiKarnatakaUttar PradeshHaryanaLadakhLadakhLadakhGujaratGujaratGujaratGujaratGujaratKarnatakaKarnatakaUttar PradeshTelanganaTelanganaTamil NaduTamil NaduTamil NaduPunjabPunjabPunjabPunjabPunjabPunjabMaharashtraPunjabKeralaKeralaKeralaKeralaKeralaKeralaKeralaKeralaKeralaKeralaKeralaKeralaKarnatakaKarnatakaHaryanaWest BengalRajasthanGujaratAndhra PradeshAndhra PradeshDelhiUttar PradeshUttar Pradesh\", \"ChandigarhKarnatakaMaharashtraMaharashtraMaharashtraMaharashtraMaharashtraMaharashtraMaharashtraMaharashtraMaharashtraMaharashtraTamil NaduBiharBiharTelanganaGujaratGujaratGujaratGujaratPunjabPunjabPunjabPunjabPunjabPunjabPunjabMadhya PradeshKeralaKeralaKeralaKeralaKeralaTelanganaTelanganaTelanganaTelanganaTelanganaKarnatakaKeralaKeralaKeralaKeralaKeralaKeralaKeralaKeralaKarnatakaKarnatakaKarnatakaKarnatakaKeralaKeralaPunjabUttar PradeshUttar PradeshWest BengalWest BengalWest BengalMadhya PradeshTamil NaduTamil NaduAndhra PradeshRajasthanRajasthanRajasthanRajasthanRajasthanDelhi\", \"MaharashtraMaharashtraMaharashtraMaharashtraMaharashtraMaharashtraMaharashtraMaharashtraMaharashtraMaharashtraMaharashtraMaharashtraMaharashtraMaharashtraMaharashtraKarnatakaHaryanaGujaratGujaratGujaratGujaratGujaratGujaratGujaratGujaratGujaratGujaratGujaratDelhiDelhiTelanganaTelanganaTelanganaChandigarhTelanganaTelanganaTelanganaGujaratUttarakhandKeralaKeralaKeralaKeralaKeralaKeralaKeralaKeralaKeralaKeralaKeralaKeralaKeralaKeralaKeralaKeralaKeralaKeralaKeralaKeralaKeralaKeralaKeralaKeralaKeralaKeralaKeralaKeralaKarnatakaKarnatakaKarnatakaKarnatakaKarnatakaKarnatakaMaharashtraMaharashtraMaharashtraMaharashtraMaharashtraMaharashtraMaharashtraMaharashtraUttar PradeshUttar PradeshHimachal PradeshPunjabPunjabRajasthanRajasthanRajasthanAndhra PradeshHaryanaHaryanaHaryanaHaryanaHaryanaHaryanaTamil NaduTamil NaduTamil NaduBiharUttar PradeshUttar Pradesh\", \"ManipurMaharashtraMaharashtraMaharashtraMaharashtraMadhya PradeshKarnatakaKarnatakaKarnatakaKarnatakaKeralaKeralaGujaratGujaratGujaratWest BengalTamil NaduTamil NaduTamil NaduTelanganaTelanganaTelanganaKarnatakaKarnatakaWest BengalJammu and KashmirJammu and KashmirPunjabPunjabPunjabMaharashtraMaharashtraMaharashtraMaharashtraMaharashtraMaharashtraUttar PradeshPunjabPunjabPunjabKeralaKeralaKeralaKeralaKeralaKeralaKeralaKeralaKeralaKeralaKeralaKeralaKarnatakaKarnatakaAndhra PradeshTamil NaduTamil NaduTamil NaduTelanganaHaryanaHaryanaGujaratGujaratGujaratTelanganaTelangana\", \"BiharMadhya PradeshMadhya PradeshMadhya PradeshMadhya PradeshMadhya PradeshMaharashtraMaharashtraMaharashtraMaharashtraMaharashtraGujaratGujaratMadhya PradeshMadhya PradeshMizoramRajasthanRajasthanRajasthanRajasthanMaharashtraMaharashtraMaharashtraMaharashtraTamil NaduTamil NaduTamil NaduTamil NaduTamil NaduKarnatakaHaryanaMadhya PradeshJammu and KashmirJammu and KashmirJammu and KashmirJammu and KashmirJammu and KashmirMaharashtraMaharashtraMaharashtraMaharashtraMaharashtraMaharashtraKeralaKeralaKeralaKeralaKeralaKeralaKeralaKeralaKeralaDelhiDelhiDelhiDelhiDelhiKarnatakaKarnatakaKarnatakaKarnatakaKarnatakaKarnatakaKarnatakaKarnatakaKarnatakaPunjabPunjabUttarakhandChhattisgarhChhattisgarhUttar PradeshUttar PradeshUttar PradeshTelanganaTelanganaRajasthanRajasthanAndhra PradeshTamil NaduTamil NaduTamil NaduAndhra PradeshGoaGoaGoa\", \"West BengalMaharashtraMaharashtraMadhya PradeshMadhya PradeshMadhya PradeshMadhya PradeshMadhya PradeshChhattisgarhChhattisgarhChhattisgarhGujaratGujaratGujaratGujaratGujaratDelhiUttar PradeshUttar PradeshUttar PradeshUttar PradeshBiharBiharAndaman and Nicobar IslandsTelanganaTelanganaTelanganaRajasthanRajasthanPunjabPunjabKarnatakaKarnatakaKarnatakaKarnatakaMaharashtraHaryanaTamil NaduJammu and KashmirJammu and KashmirKeralaKeralaKeralaKeralaKeralaKeralaKeralaKeralaKeralaKeralaKeralaKeralaKeralaKeralaKeralaKeralaKeralaKeralaKeralaTamil NaduTamil NaduBiharAndhra PradeshOdishaJammu and KashmirTelanganaRajasthanRajasthanRajasthanGujaratDelhiDelhiDelhiMaharashtraMaharashtraMaharashtraMaharashtraMaharashtra\", \"Andaman and Nicobar IslandsRajasthanRajasthanBiharBiharMaharashtraMaharashtraMaharashtraMaharashtraMaharashtraAndhra PradeshMadhya PradeshTamil NaduTamil NaduTamil NaduTamil NaduTamil NaduTamil NaduKarnatakaKarnatakaKarnatakaKarnatakaKarnatakaKarnatakaKarnatakaUttar PradeshUttar PradeshUttar PradeshMaharashtraMaharashtraMaharashtraMaharashtraMaharashtraMaharashtraMaharashtraMaharashtraMaharashtraMaharashtraMaharashtraMaharashtraMadhya PradeshMadhya PradeshMadhya PradeshMadhya PradeshMadhya PradeshJammu and KashmirJammu and KashmirJammu and KashmirJammu and KashmirTelanganaTelanganaTelanganaTelanganaTelanganaTelanganaTelanganaTelanganaTelanganaTelanganaTelanganaTelanganaTelanganaTelanganaHaryanaPunjabPunjabPunjabPunjabPunjabKeralaKeralaKeralaKeralaKeralaKeralaKeralaKeralaKeralaKeralaKeralaKeralaKeralaKeralaKeralaKeralaKeralaKeralaKeralaKeralaKeralaKeralaKeralaKeralaKeralaKeralaKeralaKeralaKeralaKeralaKeralaKeralaKeralaKeralaKeralaKeralaKeralaKeralaKeralaMaharashtraMaharashtraMaharashtraMaharashtraMaharashtraMaharashtraMaharashtraMaharashtraMaharashtraAndaman and Nicobar IslandsAndaman and Nicobar IslandsAndaman and Nicobar IslandsAndaman and Nicobar IslandsUttar PradeshUttar PradeshUttar PradeshUttar PradeshKarnatakaKarnatakaWest BengalWest BengalWest BengalWest BengalWest BengalRajasthanRajasthanRajasthanRajasthanRajasthanTamil NaduTamil NaduTamil NaduAndhra PradeshDelhiChandigarhMadhya PradeshMadhya PradeshMadhya PradeshGujaratGujaratGujaratJammu and KashmirJammu and Kashmir\", \"MaharashtraMaharashtraMaharashtraMaharashtraMaharashtraMaharashtraGujaratGujaratGujaratGujaratGujaratGujaratMadhya PradeshMadhya PradeshMadhya PradeshMadhya PradeshTamil NaduTamil NaduUttar PradeshGujaratRajasthanRajasthanKarnatakaKarnatakaKarnatakaKarnatakaKarnatakaKarnatakaKarnatakaKarnatakaKarnatakaKarnatakaRajasthanRajasthanUttarakhandJammu and KashmirJammu and KashmirJammu and KashmirJammu and KashmirJammu and KashmirJammu and KashmirJammu and KashmirUttar PradeshUttar PradeshUttar PradeshUttar PradeshUttar PradeshMaharashtraMaharashtraMaharashtraMaharashtraMaharashtraKeralaKeralaKeralaKeralaKeralaKeralaTamil NaduTelanganaTelanganaTelanganaTelanganaTelanganaTelanganaChhattisgarhTamil NaduKarnatakaKarnatakaAndaman and Nicobar IslandsAndaman and Nicobar IslandsAndaman and Nicobar IslandsJammu and KashmirWest BengalWest BengalMadhya PradeshGujaratHaryanaMaharashtraMaharashtraMaharashtraMaharashtraMaharashtraMaharashtraMaharashtraMaharashtraMaharashtraMaharashtraMaharashtraMaharashtraMaharashtraMaharashtraUttar PradeshUttar PradeshUttar PradeshUttar PradeshUttar PradeshUttar PradeshJammu and KashmirJammu and KashmirJammu and KashmirJammu and KashmirJammu and KashmirMaharashtraMaharashtraMaharashtraMaharashtraMaharashtraDelhiDelhiDelhiDelhiDelhiDelhiDelhiDelhiDelhiAndhra PradeshAndhra PradeshAndhra PradeshAndhra PradeshAndhra PradeshAndhra PradeshTelanganaTelanganaWest BengalKarnatakaKarnatakaKarnatakaKarnatakaKarnatakaUttar PradeshUttar PradeshUttar PradeshUttar PradeshBiharBiharHaryanaMadhya PradeshMadhya PradeshMadhya PradeshMadhya PradeshMadhya Pradesh\", \"MaharashtraMaharashtraMaharashtraMaharashtraMaharashtraMaharashtraMaharashtraRajasthanGujaratGujaratGujaratJammu and KashmirJammu and KashmirJammu and KashmirJammu and KashmirJammu and KashmirRajasthanUttar PradeshUttar PradeshUttar PradeshUttar PradeshMaharashtraMaharashtraMaharashtraGoaGoaKeralaKeralaKeralaKeralaKeralaKeralaKeralaKeralaKeralaKeralaKeralaKeralaKeralaKeralaKeralaKeralaKeralaKeralaKeralaKeralaTamil NaduTamil NaduTamil NaduTamil NaduTamil NaduTamil NaduTamil NaduTamil NaduKarnatakaKarnatakaUttarakhandMaharashtraMaharashtraMaharashtraMaharashtraMaharashtraMaharashtraMaharashtraGujaratGujaratGujaratGujaratGujaratBiharBiharBiharBiharWest BengalWest BengalDelhiDelhiDelhiDelhiDelhiDelhiDelhiDelhiDelhiDelhiDelhiDelhiDelhiDelhiDelhiDelhiDelhiDelhiDelhiDelhiDelhiDelhiDelhiRajasthanRajasthanRajasthanUttar PradeshUttar PradeshUttar PradeshTelanganaTelanganaTelanganaAndhra PradeshAndhra PradeshWest Bengal\", \"Kerala\", \"PunjabMaharashtraMaharashtraMaharashtraMaharashtraMaharashtraMaharashtraMaharashtraMaharashtraMaharashtraMaharashtraMaharashtraMaharashtraRajasthanMadhya PradeshMadhya PradeshMadhya PradeshMadhya PradeshMadhya PradeshMadhya PradeshMadhya PradeshMadhya PradeshGujaratGujaratGujaratGujaratGujaratGujaratJammu and KashmirJammu and KashmirJammu and KashmirAndaman and Nicobar IslandsAndhra PradeshAndhra PradeshTamil NaduTamil NaduTamil NaduTamil NaduTamil NaduTamil NaduTamil NaduTamil NaduTamil NaduTamil NaduTamil NaduTamil NaduTamil NaduTamil NaduTamil NaduTamil NaduTamil NaduWest BengalJammu and KashmirJammu and KashmirJammu and KashmirJammu and KashmirRajasthanRajasthanRajasthanRajasthanRajasthanRajasthanRajasthanRajasthanRajasthanChandigarhChandigarhChandigarhChandigarhChandigarhHaryanaKarnatakaKarnatakaKarnatakaKarnatakaKarnatakaUttar PradeshUttar PradeshUttar PradeshUttar PradeshUttar PradeshUttar PradeshUttar PradeshUttar PradeshUttar PradeshUttar PradeshUttar PradeshUttar PradeshUttar PradeshUttar PradeshUttar PradeshUttar PradeshKeralaKeralaKeralaKeralaKeralaKeralaKeralaKeralaKeralaKeralaKeralaKeralaKeralaKeralaKeralaKeralaKeralaKeralaKeralaKeralaKeralaKeralaKeralaKeralaKeralaKeralaKeralaKeralaKeralaKeralaKeralaKeralaJammu and KashmirJammu and KashmirJammu and KashmirJammu and KashmirGujaratMaharashtraMaharashtraMaharashtraMaharashtraMaharashtraUttar PradeshUttar PradeshUttar PradeshUttar PradeshUttar PradeshUttar PradeshUttar PradeshUttar PradeshDelhiDelhiDelhiDelhiDelhiDelhiDelhiDelhiDelhiDelhiDelhiDelhiDelhiDelhiDelhiDelhiDelhiDelhiDelhiDelhiDelhiDelhiDelhiDelhiDelhiPunjabPunjabTelanganaTelanganaTelanganaTelanganaTelanganaTelanganaTelanganaKarnatakaKarnatakaKarnatakaRajasthanRajasthanRajasthanRajasthanRajasthanRajasthanRajasthanRajasthanRajasthanRajasthanMaharashtraMaharashtraMaharashtraMaharashtraMaharashtraMaharashtraMaharashtraMaharashtraMaharashtraMaharashtraMaharashtraMaharashtraMaharashtraMaharashtraMaharashtraMaharashtraMaharashtraMaharashtraChhattisgarh\", \"MaharashtraMaharashtraMaharashtraMaharashtraMaharashtraRajasthanRajasthanRajasthanRajasthanUttar PradeshUttar PradeshUttar PradeshUttar PradeshUttar PradeshBiharGujaratGujaratGujaratMadhya PradeshMadhya PradeshMadhya PradeshMadhya PradeshMadhya PradeshMadhya PradeshMadhya PradeshMadhya PradeshMadhya PradeshMadhya PradeshMadhya PradeshMadhya PradeshMadhya PradeshMadhya PradeshMadhya PradeshMadhya PradeshMadhya PradeshMadhya PradeshMadhya PradeshWest BengalWest BengalWest BengalWest BengalTamil NaduTamil NaduTamil NaduTamil NaduTamil NaduTamil NaduTamil NaduMaharashtraMaharashtraMaharashtraMaharashtraMaharashtraAndhra PradeshAndhra PradeshAndhra PradeshAndhra PradeshAndhra PradeshAndhra PradeshAndhra PradeshAndhra PradeshAndhra PradeshAndhra PradeshAndhra PradeshAndhra PradeshAndhra PradeshAndhra PradeshAndhra PradeshAndhra PradeshAndhra PradeshKarnatakaKarnatakaKarnatakaKarnatakaKarnatakaKarnatakaKarnatakaJammu and KashmirJammu and KashmirJammu and KashmirJammu and KashmirJammu and KashmirJammu and KashmirRajasthanRajasthanRajasthanRajasthanRajasthanRajasthanRajasthanRajasthanRajasthanRajasthanWest BengalJharkhandHaryanaHaryanaHaryanaKeralaKeralaKeralaKeralaKeralaKeralaKeralaAssamGujaratKarnatakaKarnatakaKarnatakaMaharashtraMaharashtraMaharashtraMaharashtraMaharashtraMaharashtraMaharashtraMaharashtraMaharashtraMaharashtraMaharashtraMaharashtraMaharashtraMaharashtraMaharashtraMaharashtraMaharashtraMaharashtraMaharashtraMaharashtraMaharashtraMaharashtraMaharashtraMaharashtraMaharashtraMaharashtraMaharashtraMaharashtraMaharashtraMaharashtraMaharashtraMaharashtraMaharashtraMaharashtraMaharashtraMaharashtraMaharashtraMaharashtraMaharashtraMaharashtraMaharashtraMaharashtraMaharashtraMaharashtraMaharashtraMaharashtraMaharashtraMaharashtraMaharashtraMaharashtraMaharashtraMaharashtraMaharashtraMaharashtraHaryanaHaryanaHaryanaHaryanaTamil NaduTamil NaduTamil NaduTamil NaduTamil NaduTamil NaduTamil NaduTamil NaduTamil NaduTamil NaduTamil NaduTamil NaduTamil NaduTamil NaduTamil NaduTamil NaduTamil NaduTamil NaduTamil NaduTamil NaduTamil NaduTamil NaduTamil NaduTamil NaduTamil NaduTamil NaduTamil NaduTamil NaduTamil NaduTamil NaduTamil NaduTamil NaduTamil NaduTamil NaduTamil NaduTamil NaduTamil NaduTamil NaduTamil NaduTamil NaduTamil NaduTamil NaduTamil NaduTamil NaduTamil NaduTamil NaduTamil NaduTamil NaduTamil NaduTamil NaduTelanganaTelanganaTelanganaTelanganaTelanganaTelanganaTelanganaTelanganaTelanganaTelanganaTelanganaTelanganaTelanganaTelanganaTelanganaBiharBiharBiharBiharBiharDelhiDelhiDelhiDelhiDelhiDelhiDelhiDelhiDelhiDelhiDelhiDelhiDelhiDelhiDelhiDelhiDelhiDelhiDelhiDelhiDelhiDelhiDelhiChhattisgarhAndhra PradeshAndhra PradeshAndhra PradeshAndhra PradeshOdishaChandigarhChandigarhUttar PradeshUttar PradeshUttar PradeshTelanganaTelanganaTelanganaTelanganaTelanganaPunjabWest BengalWest BengalWest BengalWest BengalWest BengalWest BengalWest BengalWest BengalWest BengalWest Bengal\"], \"yaxis\": \"y\"}, {\"hovertemplate\": \"Reported=current_status<br>diagnosed_date=%{x}<br>Count=%{y}<extra></extra>\", \"legendgroup\": \"current_status\", \"line\": {\"color\": \"#EF553B\", \"dash\": \"solid\"}, \"mode\": \"lines\", \"name\": \"current_status\", \"showlegend\": true, \"type\": \"scatter\", \"x\": [\"01/04/2020\", \"02/02/2020\", \"02/03/2020\", \"02/04/2020\", \"03/02/2020\", \"03/03/2020\", \"03/04/2020\", \"04/03/2020\", \"04/04/2020\", \"05/03/2020\", \"06/03/2020\", \"07/03/2020\", \"08/03/2020\", \"09/03/2020\", \"10/03/2020\", \"11/03/2020\", \"12/03/2020\", \"13/03/2020\", \"14/03/2020\", \"15/03/2020\", \"16/03/2020\", \"17/03/2020\", \"18/03/2020\", \"19/03/2020\", \"20/03/2020\", \"21/03/2020\", \"22/03/2020\", \"23/03/2020\", \"24/03/2020\", \"25/03/2020\", \"26/03/2020\", \"27/03/2020\", \"28/03/2020\", \"29/03/2020\", \"30/01/2020\", \"30/03/2020\", \"31/03/2020\"], \"xaxis\": \"x2\", \"y\": [\"HospitalizedHospitalizedHospitalizedHospitalizedHospitalizedHospitalizedHospitalizedHospitalizedHospitalizedHospitalizedHospitalizedHospitalizedHospitalizedHospitalizedHospitalizedHospitalizedHospitalizedHospitalizedHospitalizedHospitalizedHospitalizedHospitalizedHospitalizedHospitalizedHospitalizedHospitalizedHospitalizedHospitalizedHospitalizedHospitalizedHospitalizedHospitalizedHospitalizedHospitalizedHospitalizedHospitalizedHospitalizedHospitalizedHospitalizedHospitalizedHospitalizedHospitalizedHospitalizedHospitalizedHospitalizedHospitalizedHospitalizedHospitalizedHospitalizedHospitalizedHospitalizedHospitalizedHospitalizedHospitalizedHospitalizedHospitalizedHospitalizedHospitalizedHospitalizedHospitalizedHospitalizedHospitalizedHospitalizedHospitalizedHospitalizedHospitalizedHospitalizedHospitalizedHospitalizedHospitalizedHospitalizedHospitalizedHospitalizedHospitalizedHospitalizedHospitalizedHospitalizedHospitalizedHospitalizedHospitalizedHospitalizedHospitalizedHospitalizedHospitalizedHospitalizedHospitalizedHospitalizedHospitalizedHospitalizedHospitalizedHospitalizedHospitalizedHospitalizedHospitalizedHospitalizedHospitalizedHospitalizedHospitalizedHospitalizedHospitalizedHospitalizedHospitalizedHospitalizedHospitalizedHospitalizedHospitalizedHospitalizedHospitalizedHospitalizedHospitalizedHospitalizedHospitalizedHospitalizedHospitalizedHospitalizedHospitalizedHospitalizedHospitalizedHospitalizedHospitalizedHospitalizedHospitalizedHospitalizedHospitalizedHospitalizedHospitalizedHospitalizedHospitalizedHospitalizedHospitalizedHospitalizedHospitalizedHospitalizedHospitalizedHospitalizedHospitalizedHospitalizedHospitalizedHospitalizedHospitalizedHospitalizedHospitalizedHospitalizedHospitalizedHospitalizedHospitalizedHospitalizedHospitalizedHospitalizedHospitalizedHospitalizedHospitalizedHospitalizedHospitalizedHospitalizedHospitalizedHospitalizedHospitalizedHospitalizedHospitalizedHospitalizedHospitalizedHospitalizedHospitalizedHospitalizedHospitalizedHospitalizedHospitalizedHospitalizedHospitalizedHospitalizedHospitalizedHospitalizedHospitalizedHospitalizedHospitalizedHospitalizedHospitalizedHospitalizedHospitalizedHospitalizedHospitalizedHospitalizedHospitalizedHospitalizedHospitalizedHospitalizedHospitalizedHospitalizedHospitalizedHospitalizedHospitalizedHospitalizedHospitalizedHospitalizedHospitalizedHospitalizedHospitalizedHospitalizedHospitalizedHospitalizedHospitalizedHospitalizedHospitalizedHospitalizedHospitalizedHospitalizedHospitalizedHospitalizedHospitalizedHospitalizedHospitalizedHospitalizedHospitalizedHospitalizedHospitalizedHospitalizedHospitalizedHospitalizedHospitalizedHospitalizedHospitalizedHospitalizedHospitalizedHospitalizedHospitalizedHospitalizedHospitalizedHospitalizedHospitalizedHospitalizedHospitalizedHospitalizedHospitalizedHospitalizedHospitalizedHospitalizedHospitalizedHospitalizedHospitalizedHospitalizedHospitalizedHospitalizedHospitalizedHospitalizedHospitalizedHospitalizedHospitalizedHospitalizedHospitalizedHospitalizedHospitalizedHospitalizedHospitalizedHospitalizedHospitalizedHospitalizedHospitalizedHospitalizedHospitalizedHospitalizedHospitalizedHospitalizedHospitalizedHospitalizedHospitalizedHospitalizedHospitalizedHospitalizedHospitalizedHospitalizedHospitalizedHospitalizedHospitalizedHospitalizedHospitalizedHospitalizedHospitalizedHospitalizedHospitalizedHospitalizedHospitalizedHospitalizedHospitalizedHospitalizedHospitalizedHospitalizedHospitalizedHospitalizedHospitalizedHospitalizedHospitalizedHospitalizedHospitalizedHospitalizedHospitalizedHospitalizedHospitalizedHospitalizedHospitalizedHospitalizedHospitalizedHospitalizedHospitalizedHospitalizedHospitalizedHospitalizedHospitalizedHospitalizedHospitalizedHospitalizedHospitalizedHospitalizedHospitalizedHospitalizedHospitalizedHospitalizedHospitalizedHospitalizedHospitalizedHospitalizedHospitalizedHospitalizedHospitalizedHospitalizedHospitalizedHospitalizedHospitalizedHospitalizedHospitalizedHospitalizedHospitalizedHospitalizedHospitalizedHospitalizedHospitalizedHospitalizedHospitalizedHospitalizedHospitalizedHospitalizedHospitalizedHospitalizedHospitalizedHospitalizedHospitalizedHospitalizedHospitalizedHospitalizedHospitalizedHospitalizedHospitalizedHospitalizedHospitalizedHospitalizedHospitalizedHospitalizedHospitalizedHospitalizedHospitalizedHospitalizedHospitalizedHospitalizedHospitalizedHospitalizedHospitalizedHospitalizedHospitalizedHospitalizedHospitalizedHospitalizedHospitalizedHospitalizedHospitalizedHospitalizedHospitalizedHospitalizedHospitalizedHospitalizedHospitalizedHospitalizedHospitalizedHospitalizedHospitalizedHospitalizedHospitalizedHospitalizedHospitalizedHospitalizedHospitalizedHospitalizedHospitalizedHospitalizedHospitalizedHospitalizedHospitalizedHospitalizedHospitalizedHospitalizedHospitalizedHospitalizedHospitalizedHospitalizedHospitalizedHospitalizedHospitalizedHospitalizedHospitalizedHospitalizedHospitalizedHospitalizedHospitalizedHospitalizedHospitalizedHospitalizedHospitalizedHospitalizedHospitalizedHospitalizedHospitalizedHospitalizedHospitalizedHospitalizedHospitalized\", \"Recovered\", \"RecoveredRecovered\", \"HospitalizedHospitalizedHospitalizedHospitalizedHospitalizedHospitalizedHospitalizedHospitalizedHospitalizedHospitalizedHospitalizedHospitalizedHospitalizedHospitalizedHospitalizedHospitalizedHospitalizedHospitalizedHospitalizedHospitalizedHospitalizedHospitalizedHospitalizedHospitalizedHospitalizedHospitalizedHospitalizedHospitalizedHospitalizedHospitalizedHospitalizedHospitalizedHospitalizedHospitalizedHospitalizedHospitalizedHospitalizedHospitalizedHospitalizedHospitalizedHospitalizedHospitalizedHospitalizedHospitalizedHospitalizedHospitalizedHospitalizedHospitalizedHospitalizedHospitalizedHospitalizedHospitalizedHospitalizedHospitalizedHospitalizedHospitalizedHospitalizedHospitalizedHospitalizedHospitalizedHospitalizedHospitalizedHospitalizedHospitalizedHospitalizedHospitalizedHospitalizedHospitalizedHospitalizedHospitalizedHospitalizedHospitalizedHospitalizedHospitalizedHospitalizedHospitalizedHospitalizedHospitalizedHospitalizedHospitalizedHospitalizedHospitalizedHospitalizedHospitalizedHospitalizedHospitalizedHospitalizedHospitalizedHospitalizedHospitalizedHospitalizedHospitalizedHospitalizedHospitalizedHospitalizedHospitalizedHospitalizedHospitalizedHospitalizedHospitalizedHospitalizedHospitalizedHospitalizedHospitalizedHospitalizedHospitalizedHospitalizedHospitalizedHospitalizedHospitalizedHospitalizedHospitalizedHospitalizedHospitalizedHospitalizedHospitalizedHospitalizedHospitalizedHospitalizedHospitalizedHospitalizedHospitalizedHospitalizedHospitalizedHospitalizedHospitalizedHospitalizedHospitalizedHospitalizedHospitalizedHospitalizedHospitalizedHospitalizedHospitalizedHospitalizedHospitalizedHospitalizedHospitalizedHospitalizedHospitalizedHospitalizedHospitalizedHospitalizedHospitalizedHospitalizedHospitalizedHospitalizedHospitalizedHospitalizedHospitalizedHospitalizedHospitalizedHospitalizedHospitalizedHospitalizedHospitalizedHospitalizedHospitalizedHospitalizedHospitalizedHospitalizedHospitalizedHospitalizedHospitalizedHospitalizedHospitalizedHospitalizedHospitalizedHospitalizedHospitalizedHospitalizedHospitalizedHospitalizedHospitalizedHospitalizedHospitalizedHospitalizedHospitalizedHospitalizedHospitalizedHospitalizedHospitalizedHospitalizedHospitalizedHospitalizedHospitalizedHospitalizedHospitalizedHospitalizedHospitalizedHospitalizedHospitalizedHospitalizedHospitalizedHospitalizedHospitalizedHospitalizedHospitalizedHospitalizedHospitalizedHospitalizedHospitalizedHospitalizedHospitalizedHospitalizedHospitalizedHospitalizedHospitalizedHospitalizedHospitalizedHospitalizedHospitalizedHospitalizedHospitalizedHospitalizedHospitalizedHospitalizedHospitalizedHospitalizedHospitalizedHospitalizedHospitalizedHospitalizedHospitalizedHospitalizedHospitalizedHospitalizedHospitalizedHospitalizedHospitalizedHospitalizedHospitalizedHospitalizedHospitalizedHospitalizedHospitalizedHospitalizedHospitalizedHospitalizedHospitalizedHospitalizedHospitalizedHospitalizedHospitalizedHospitalizedHospitalizedHospitalizedHospitalizedHospitalizedHospitalizedHospitalizedHospitalizedHospitalizedHospitalizedHospitalizedHospitalizedHospitalizedHospitalizedHospitalizedHospitalizedHospitalizedHospitalizedHospitalizedHospitalizedHospitalizedHospitalizedHospitalizedHospitalizedHospitalizedHospitalizedHospitalizedHospitalizedHospitalizedHospitalizedHospitalizedHospitalizedHospitalizedHospitalizedHospitalizedHospitalizedHospitalizedHospitalizedHospitalizedHospitalizedHospitalizedHospitalizedHospitalizedHospitalizedHospitalizedHospitalizedHospitalizedHospitalizedHospitalizedHospitalizedHospitalizedHospitalizedHospitalizedHospitalizedHospitalizedHospitalizedHospitalizedHospitalizedHospitalizedHospitalizedHospitalizedHospitalizedHospitalizedHospitalizedHospitalizedHospitalizedHospitalizedHospitalizedHospitalizedHospitalizedHospitalizedHospitalizedHospitalizedHospitalizedHospitalizedHospitalizedHospitalizedHospitalizedHospitalizedHospitalizedHospitalizedHospitalizedHospitalizedHospitalizedHospitalizedHospitalizedHospitalizedHospitalizedHospitalizedHospitalizedHospitalizedHospitalizedHospitalizedHospitalizedHospitalizedHospitalizedHospitalizedHospitalizedHospitalizedHospitalizedHospitalizedHospitalizedHospitalizedHospitalizedHospitalizedHospitalizedHospitalizedHospitalizedHospitalizedHospitalizedHospitalizedHospitalizedHospitalizedHospitalizedHospitalizedHospitalizedHospitalizedHospitalizedHospitalizedHospitalizedHospitalizedHospitalizedHospitalizedHospitalizedHospitalizedHospitalizedHospitalizedHospitalizedHospitalizedHospitalizedHospitalizedHospitalizedHospitalizedHospitalizedHospitalizedHospitalizedHospitalizedHospitalizedHospitalizedHospitalizedHospitalizedHospitalizedHospitalizedHospitalizedHospitalizedHospitalizedHospitalizedHospitalizedHospitalizedHospitalizedHospitalizedHospitalizedHospitalizedHospitalizedHospitalizedHospitalizedHospitalizedHospitalizedHospitalizedHospitalizedHospitalizedHospitalizedHospitalizedHospitalizedHospitalizedHospitalizedHospitalizedHospitalizedHospitalizedHospitalizedHospitalizedHospitalizedHospitalizedHospitalizedHospitalizedHospitalizedHospitalizedHospitalizedHospitalizedHospitalizedHospitalizedHospitalizedHospitalizedHospitalizedHospitalizedHospitalizedHospitalizedHospitalizedHospitalizedHospitalizedHospitalizedHospitalizedHospitalizedHospitalizedHospitalizedHospitalizedHospitalizedHospitalizedHospitalizedHospitalizedHospitalizedHospitalizedHospitalizedHospitalizedHospitalizedHospitalizedHospitalizedHospitalizedHospitalizedHospitalizedHospitalizedHospitalizedHospitalizedHospitalizedHospitalizedHospitalizedHospitalizedHospitalizedHospitalizedHospitalizedHospitalizedHospitalizedHospitalizedHospitalizedHospitalizedHospitalizedHospitalizedHospitalizedHospitalizedHospitalizedHospitalizedHospitalizedHospitalizedHospitalizedHospitalizedHospitalizedHospitalizedHospitalizedHospitalizedHospitalizedHospitalizedHospitalized\", \"Recovered\", \"Recovered\", \"HospitalizedHospitalizedHospitalizedHospitalizedHospitalizedHospitalizedHospitalizedHospitalizedHospitalizedHospitalizedHospitalizedHospitalizedHospitalizedHospitalizedHospitalizedHospitalizedHospitalizedHospitalizedHospitalizedHospitalizedHospitalizedHospitalizedHospitalizedHospitalizedHospitalizedHospitalizedHospitalizedHospitalizedHospitalizedHospitalizedHospitalizedHospitalizedHospitalizedHospitalizedHospitalizedHospitalizedHospitalizedHospitalizedHospitalizedHospitalizedHospitalizedDeceasedHospitalizedHospitalizedHospitalizedHospitalizedHospitalizedHospitalizedHospitalizedHospitalizedHospitalizedHospitalizedHospitalizedHospitalizedHospitalizedHospitalizedHospitalizedHospitalizedHospitalizedHospitalizedHospitalizedHospitalizedHospitalizedHospitalizedHospitalizedHospitalizedHospitalizedHospitalizedHospitalizedHospitalizedHospitalizedHospitalizedHospitalizedHospitalizedHospitalizedHospitalizedHospitalizedHospitalizedHospitalizedHospitalizedHospitalizedHospitalizedHospitalizedHospitalizedHospitalizedHospitalizedHospitalizedHospitalizedHospitalizedHospitalizedHospitalizedHospitalizedHospitalizedHospitalizedHospitalizedHospitalizedHospitalizedHospitalizedHospitalizedHospitalizedHospitalizedHospitalizedHospitalizedHospitalizedHospitalizedHospitalizedHospitalizedHospitalizedHospitalizedHospitalizedHospitalizedHospitalizedHospitalizedHospitalizedHospitalizedHospitalizedHospitalizedHospitalizedHospitalizedHospitalizedHospitalizedHospitalizedHospitalizedHospitalizedHospitalizedHospitalizedHospitalizedHospitalizedHospitalizedHospitalizedHospitalizedHospitalizedHospitalizedHospitalizedHospitalizedHospitalizedHospitalizedHospitalizedHospitalizedHospitalizedHospitalizedHospitalizedHospitalizedHospitalizedHospitalizedHospitalizedHospitalizedHospitalizedHospitalizedHospitalizedHospitalizedHospitalizedHospitalizedHospitalizedHospitalizedHospitalizedHospitalizedHospitalizedHospitalizedHospitalizedHospitalizedHospitalizedHospitalizedHospitalizedHospitalizedHospitalizedHospitalizedHospitalizedHospitalizedHospitalizedHospitalizedHospitalizedHospitalizedHospitalizedHospitalizedHospitalizedHospitalizedHospitalizedHospitalizedHospitalizedHospitalizedHospitalizedHospitalizedHospitalizedHospitalizedHospitalizedHospitalizedHospitalizedHospitalizedHospitalizedHospitalizedHospitalizedHospitalizedHospitalizedHospitalizedHospitalizedHospitalizedHospitalizedHospitalizedHospitalizedHospitalizedHospitalizedHospitalizedHospitalizedHospitalizedHospitalizedHospitalizedHospitalizedHospitalizedHospitalizedHospitalizedHospitalizedHospitalizedHospitalizedHospitalizedHospitalizedHospitalizedHospitalizedHospitalizedHospitalizedHospitalizedHospitalizedHospitalizedHospitalizedHospitalizedHospitalizedHospitalizedHospitalizedHospitalizedHospitalizedHospitalizedHospitalizedHospitalizedHospitalizedHospitalizedHospitalizedHospitalizedHospitalizedHospitalizedHospitalizedHospitalizedHospitalizedHospitalizedHospitalizedHospitalizedHospitalizedHospitalizedHospitalizedHospitalizedHospitalizedHospitalizedHospitalizedHospitalizedHospitalizedHospitalizedHospitalizedHospitalizedHospitalizedHospitalizedHospitalizedHospitalizedHospitalizedHospitalizedHospitalizedHospitalizedHospitalizedHospitalizedHospitalizedHospitalizedHospitalizedHospitalizedHospitalizedHospitalizedHospitalizedHospitalizedHospitalizedHospitalizedHospitalizedHospitalizedHospitalizedHospitalizedHospitalizedHospitalizedHospitalizedHospitalizedHospitalizedHospitalizedHospitalizedHospitalizedHospitalizedHospitalizedHospitalizedHospitalizedHospitalizedHospitalizedHospitalizedHospitalizedHospitalizedHospitalizedHospitalizedHospitalizedHospitalizedHospitalizedHospitalizedHospitalizedHospitalizedHospitalizedHospitalizedHospitalizedHospitalizedHospitalizedHospitalizedHospitalizedHospitalizedHospitalizedHospitalizedHospitalizedHospitalizedHospitalizedHospitalizedHospitalizedHospitalizedHospitalizedHospitalizedHospitalizedHospitalizedHospitalizedHospitalizedHospitalizedHospitalizedHospitalizedHospitalizedHospitalizedHospitalizedHospitalizedHospitalizedHospitalizedHospitalizedHospitalizedHospitalizedHospitalizedHospitalizedHospitalizedHospitalizedHospitalizedHospitalizedHospitalizedHospitalizedHospitalizedHospitalizedHospitalizedHospitalizedHospitalizedHospitalizedHospitalizedHospitalizedHospitalizedHospitalizedHospitalizedHospitalizedHospitalizedHospitalizedHospitalizedHospitalizedHospitalizedHospitalizedHospitalizedHospitalizedHospitalizedHospitalizedHospitalizedHospitalizedHospitalizedHospitalizedHospitalizedHospitalizedHospitalizedHospitalizedHospitalizedHospitalizedHospitalizedHospitalizedHospitalizedHospitalizedHospitalizedHospitalizedHospitalizedHospitalizedHospitalizedHospitalizedHospitalizedHospitalizedHospitalizedHospitalizedHospitalizedHospitalizedHospitalizedHospitalizedHospitalizedHospitalizedHospitalizedHospitalizedHospitalizedHospitalizedHospitalizedHospitalizedHospitalizedHospitalizedHospitalizedHospitalizedHospitalizedHospitalizedHospitalizedHospitalizedHospitalizedHospitalizedHospitalizedHospitalizedHospitalizedHospitalizedHospitalizedHospitalizedHospitalizedHospitalizedHospitalizedHospitalizedHospitalizedHospitalizedHospitalizedHospitalizedHospitalizedHospitalizedHospitalizedHospitalizedHospitalizedHospitalizedHospitalizedHospitalizedHospitalizedHospitalizedHospitalizedHospitalizedHospitalizedHospitalizedHospitalizedHospitalizedHospitalizedHospitalizedHospitalizedHospitalizedHospitalizedHospitalizedHospitalizedHospitalizedHospitalizedHospitalizedHospitalizedHospitalizedHospitalizedHospitalizedHospitalizedHospitalizedHospitalizedHospitalizedHospitalizedHospitalizedHospitalizedHospitalizedHospitalizedHospitalizedHospitalizedHospitalizedHospitalizedHospitalizedHospitalizedHospitalizedHospitalizedHospitalizedHospitalizedHospitalizedHospitalizedHospitalizedHospitalizedHospitalizedHospitalizedHospitalizedHospitalizedHospitalizedHospitalizedHospitalizedHospitalizedHospitalizedHospitalizedHospitalizedHospitalizedHospitalizedHospitalizedHospitalizedHospitalizedHospitalizedHospitalizedHospitalizedHospitalizedHospitalizedHospitalizedHospitalizedHospitalizedHospitalizedHospitalizedHospitalizedHospitalizedHospitalizedHospitalizedHospitalizedHospitalizedHospitalizedHospitalizedHospitalizedHospitalizedHospitalizedHospitalizedHospitalizedHospitalizedHospitalizedHospitalizedHospitalizedHospitalizedHospitalizedHospitalizedHospitalizedHospitalizedHospitalizedHospitalizedHospitalizedHospitalizedHospitalizedHospitalizedHospitalizedHospitalizedHospitalizedHospitalizedHospitalizedHospitalizedHospitalizedHospitalizedHospitalizedHospitalizedHospitalizedHospitalizedHospitalizedHospitalizedHospitalizedHospitalizedHospitalizedHospitalizedHospitalizedHospitalizedHospitalizedHospitalizedHospitalizedHospitalizedHospitalizedHospitalized\", \"RecoveredRecoveredRecoveredRecoveredRecoveredRecoveredRecoveredRecoveredRecoveredRecoveredRecoveredRecoveredHospitalizedHospitalizedRecoveredHospitalizedRecoveredRecoveredRecoveredRecoveredHospitalizedHospitalized\", \"HospitalizedHospitalizedHospitalizedHospitalizedHospitalizedHospitalizedHospitalizedHospitalizedHospitalizedHospitalizedHospitalizedHospitalizedHospitalizedHospitalizedHospitalizedHospitalizedHospitalizedHospitalizedHospitalizedHospitalizedHospitalizedHospitalizedHospitalizedHospitalizedHospitalizedHospitalizedHospitalizedHospitalizedHospitalizedHospitalizedHospitalizedHospitalizedHospitalizedHospitalizedHospitalizedHospitalizedHospitalizedHospitalizedHospitalizedHospitalizedHospitalizedHospitalizedHospitalizedHospitalizedHospitalizedHospitalizedHospitalizedHospitalizedHospitalizedHospitalizedHospitalizedHospitalizedHospitalizedHospitalizedHospitalizedHospitalizedHospitalizedHospitalizedHospitalizedHospitalizedHospitalizedHospitalizedHospitalizedHospitalizedHospitalizedHospitalizedHospitalizedHospitalizedHospitalizedHospitalizedHospitalizedHospitalizedHospitalizedHospitalizedHospitalizedHospitalizedHospitalizedHospitalizedHospitalizedHospitalizedHospitalizedHospitalizedHospitalizedHospitalizedHospitalizedHospitalizedHospitalizedHospitalizedHospitalizedHospitalizedHospitalizedHospitalizedHospitalizedHospitalizedHospitalizedHospitalizedHospitalizedHospitalizedHospitalizedHospitalizedHospitalizedHospitalizedHospitalizedHospitalizedHospitalizedHospitalizedHospitalizedHospitalizedHospitalizedHospitalizedHospitalizedHospitalizedHospitalizedHospitalizedHospitalizedHospitalizedHospitalizedHospitalizedHospitalizedHospitalizedHospitalizedHospitalizedHospitalizedHospitalizedHospitalizedHospitalizedHospitalizedHospitalizedHospitalizedHospitalizedHospitalizedHospitalizedHospitalizedHospitalizedHospitalizedHospitalizedHospitalizedHospitalizedHospitalizedHospitalizedHospitalizedHospitalizedHospitalizedHospitalizedHospitalizedHospitalizedHospitalizedHospitalizedHospitalizedHospitalizedHospitalizedHospitalizedHospitalizedHospitalizedHospitalizedHospitalizedHospitalizedHospitalizedHospitalizedHospitalizedHospitalizedHospitalizedHospitalizedHospitalizedHospitalizedHospitalizedHospitalizedHospitalizedHospitalizedHospitalizedHospitalizedHospitalizedHospitalizedHospitalizedHospitalizedHospitalizedHospitalizedHospitalizedHospitalizedHospitalizedHospitalizedHospitalizedHospitalizedHospitalizedHospitalizedHospitalizedHospitalizedHospitalizedHospitalizedHospitalizedHospitalizedHospitalizedHospitalizedHospitalizedHospitalizedHospitalizedHospitalizedHospitalizedHospitalizedHospitalizedHospitalizedHospitalizedHospitalizedHospitalizedHospitalizedHospitalizedHospitalizedHospitalizedHospitalizedHospitalizedHospitalizedHospitalizedHospitalizedHospitalizedHospitalizedHospitalizedHospitalizedHospitalizedHospitalizedHospitalizedHospitalizedHospitalizedHospitalizedHospitalizedHospitalizedHospitalizedHospitalizedHospitalizedHospitalizedHospitalizedHospitalizedHospitalizedHospitalizedHospitalizedHospitalizedHospitalizedHospitalizedHospitalizedHospitalizedHospitalizedHospitalizedHospitalizedHospitalizedHospitalizedHospitalizedHospitalizedHospitalizedHospitalizedHospitalizedHospitalizedHospitalizedHospitalizedHospitalizedHospitalizedHospitalizedHospitalizedHospitalizedHospitalizedHospitalizedHospitalizedHospitalizedHospitalizedHospitalizedHospitalizedHospitalizedHospitalizedHospitalizedHospitalizedHospitalizedHospitalizedHospitalizedHospitalizedHospitalizedHospitalizedHospitalizedHospitalizedHospitalizedHospitalizedHospitalizedHospitalizedHospitalizedHospitalizedHospitalizedHospitalizedHospitalizedHospitalizedHospitalizedHospitalizedHospitalizedHospitalizedHospitalizedHospitalizedHospitalizedHospitalizedHospitalizedHospitalizedHospitalizedHospitalizedHospitalizedHospitalizedHospitalizedHospitalizedHospitalizedHospitalizedHospitalizedHospitalizedHospitalizedHospitalizedHospitalizedHospitalizedHospitalizedHospitalizedHospitalizedHospitalizedHospitalizedHospitalizedHospitalizedHospitalizedHospitalizedHospitalizedHospitalizedHospitalizedHospitalizedHospitalizedHospitalizedHospitalizedHospitalizedHospitalizedHospitalizedHospitalizedHospitalizedHospitalizedHospitalizedHospitalizedHospitalizedHospitalizedHospitalizedHospitalizedHospitalizedHospitalizedHospitalizedHospitalizedHospitalizedHospitalizedHospitalizedHospitalizedHospitalizedHospitalizedHospitalizedHospitalizedHospitalizedHospitalizedHospitalizedHospitalizedHospitalizedHospitalizedHospitalizedHospitalizedHospitalizedHospitalizedHospitalizedHospitalizedHospitalizedHospitalizedHospitalizedHospitalizedHospitalizedHospitalizedHospitalizedHospitalizedHospitalizedHospitalizedHospitalizedHospitalizedHospitalizedHospitalizedHospitalizedHospitalizedHospitalizedHospitalizedHospitalizedHospitalizedHospitalizedHospitalizedHospitalizedHospitalizedHospitalizedHospitalizedHospitalizedHospitalizedHospitalizedHospitalizedHospitalizedHospitalizedHospitalizedHospitalizedHospitalizedHospitalizedHospitalizedHospitalizedHospitalizedHospitalizedHospitalizedHospitalizedHospitalizedHospitalizedHospitalizedHospitalizedHospitalizedHospitalizedHospitalizedHospitalizedHospitalizedHospitalizedHospitalizedHospitalizedHospitalizedHospitalizedHospitalizedHospitalizedHospitalizedHospitalizedHospitalizedHospitalizedHospitalizedHospitalizedHospitalizedHospitalizedHospitalizedHospitalizedHospitalizedHospitalizedHospitalizedHospitalizedHospitalizedHospitalizedHospitalizedHospitalizedHospitalizedHospitalizedHospitalizedHospitalizedHospitalizedHospitalizedHospitalizedHospitalizedHospitalizedHospitalizedHospitalizedHospitalizedHospitalizedHospitalizedHospitalizedHospitalizedHospitalizedHospitalizedHospitalizedHospitalizedHospitalizedHospitalizedHospitalizedHospitalizedHospitalizedHospitalizedHospitalizedHospitalizedHospitalizedHospitalizedHospitalizedHospitalizedHospitalizedHospitalizedHospitalizedHospitalizedHospitalizedHospitalizedHospitalizedHospitalizedHospitalizedHospitalizedHospitalizedHospitalizedHospitalizedHospitalizedHospitalizedHospitalizedHospitalizedHospitalizedHospitalizedHospitalizedHospitalizedHospitalizedHospitalizedHospitalizedHospitalizedHospitalizedHospitalizedHospitalizedHospitalizedHospitalizedHospitalizedHospitalizedHospitalizedHospitalizedHospitalizedHospitalizedHospitalizedHospitalizedHospitalizedHospitalizedHospitalizedHospitalizedHospitalizedHospitalizedHospitalizedHospitalizedHospitalizedHospitalizedHospitalizedHospitalizedHospitalizedHospitalizedHospitalizedHospitalizedHospitalizedHospitalizedHospitalizedHospitalizedHospitalizedHospitalizedHospitalizedHospitalizedHospitalizedHospitalizedHospitalizedHospitalizedHospitalizedHospitalizedHospitalizedHospitalizedHospitalizedHospitalizedHospitalizedHospitalizedHospitalizedHospitalizedHospitalizedHospitalizedHospitalizedHospitalizedHospitalizedHospitalizedHospitalizedHospitalizedHospitalizedHospitalizedHospitalizedHospitalizedHospitalizedHospitalizedHospitalizedHospitalizedHospitalized\", \"HospitalizedRecovered\", \"Recovered\", \"HospitalizedHospitalizedRecovered\", \"RecoveredRecoveredRecoveredRecoveredRecovered\", \"HospitalizedHospitalizedRecoveredRecoveredRecoveredRecoveredHospitalizedRecoveredHospitalized\", \"RecoveredHospitalizedRecoveredRecoveredRecoveredRecoveredRecoveredRecoveredRecoveredRecoveredRecoveredHospitalizedHospitalizedHospitalizedRecovered\", \"HospitalizedHospitalizedHospitalizedHospitalizedHospitalizedHospitalizedHospitalized\", \"RecoveredDeceasedRecoveredDeceasedRecoveredRecoveredDeceasedHospitalizedHospitalizedHospitalizedHospitalizedHospitalized\", \"HospitalizedHospitalizedRecoveredRecoveredRecoveredHospitalizedHospitalizedHospitalizedHospitalized\", \"HospitalizedHospitalizedHospitalizedHospitalizedHospitalizedHospitalizedHospitalizedHospitalizedHospitalizedHospitalizedHospitalizedHospitalizedHospitalizedHospitalizedHospitalizedHospitalized\", \"RecoveredRecoveredHospitalizedHospitalizedHospitalizedHospitalized\", \"HospitalizedRecoveredRecoveredHospitalizedRecoveredHospitalizedHospitalizedHospitalizedHospitalizedHospitalizedHospitalizedHospitalizedHospitalizedHospitalized\", \"HospitalizedHospitalizedMigratedHospitalizedHospitalizedHospitalizedHospitalizedRecoveredRecoveredRecoveredHospitalizedHospitalizedHospitalizedHospitalizedHospitalizedHospitalizedRecoveredHospitalizedHospitalized\", \"HospitalizedHospitalizedHospitalizedHospitalizedRecoveredHospitalizedHospitalizedHospitalizedHospitalizedHospitalizedHospitalizedHospitalizedHospitalizedHospitalizedHospitalizedHospitalizedHospitalizedHospitalizedHospitalizedHospitalizedHospitalizedHospitalizedHospitalizedHospitalizedHospitalized\", \"HospitalizedHospitalizedHospitalizedHospitalizedHospitalizedHospitalizedHospitalizedHospitalizedHospitalizedRecoveredDeceasedHospitalizedHospitalizedHospitalizedHospitalizedHospitalizedRecoveredHospitalizedHospitalizedHospitalizedHospitalizedHospitalizedHospitalizedHospitalizedRecoveredHospitalizedHospitalizedHospitalized\", \"HospitalizedHospitalizedHospitalizedHospitalizedHospitalizedHospitalizedHospitalizedHospitalizedHospitalizedHospitalizedHospitalizedRecoveredHospitalizedHospitalizedHospitalizedHospitalizedHospitalizedHospitalizedHospitalizedHospitalizedHospitalizedHospitalizedHospitalizedHospitalizedHospitalizedHospitalizedHospitalizedHospitalizedHospitalizedRecoveredRecoveredHospitalizedHospitalizedHospitalizedHospitalizedHospitalizedHospitalizedHospitalizedHospitalizedHospitalizedHospitalizedHospitalizedHospitalizedHospitalizedHospitalizedHospitalizedHospitalizedRecoveredHospitalizedHospitalizedHospitalizedHospitalizedHospitalizedHospitalizedHospitalizedHospitalizedHospitalizedHospitalizedHospitalized\", \"RecoveredHospitalizedHospitalizedHospitalizedHospitalizedHospitalizedHospitalizedHospitalizedHospitalizedHospitalizedHospitalizedDeceasedHospitalizedHospitalizedHospitalizedHospitalizedHospitalizedHospitalizedHospitalizedHospitalizedHospitalizedHospitalizedHospitalizedHospitalizedHospitalizedHospitalizedHospitalizedHospitalizedHospitalizedHospitalizedHospitalizedHospitalizedHospitalizedHospitalizedHospitalizedDeceasedHospitalizedHospitalizedHospitalizedHospitalizedHospitalizedHospitalizedHospitalizedHospitalizedHospitalizedHospitalizedHospitalizedHospitalizedHospitalizedHospitalizedHospitalizedHospitalizedHospitalizedRecoveredRecoveredHospitalizedHospitalizedHospitalizedHospitalizedHospitalizedHospitalizedRecoveredHospitalizedHospitalizedHospitalizedHospitalizedHospitalizedHospitalizedDeceasedHospitalizedHospitalizedHospitalizedHospitalizedHospitalizedHospitalizedHospitalized\", \"HospitalizedHospitalizedHospitalizedHospitalizedHospitalizedHospitalizedHospitalizedHospitalizedHospitalizedHospitalizedHospitalizedHospitalizedHospitalizedDeceasedHospitalizedHospitalizedHospitalizedHospitalizedHospitalizedHospitalizedHospitalizedHospitalizedHospitalizedHospitalizedHospitalizedHospitalizedHospitalizedHospitalizedHospitalizedHospitalizedHospitalizedHospitalizedHospitalizedHospitalizedHospitalizedHospitalizedHospitalizedHospitalizedHospitalizedHospitalizedHospitalizedHospitalizedHospitalizedHospitalizedRecoveredDeceasedHospitalizedHospitalizedHospitalizedHospitalizedHospitalizedHospitalizedHospitalizedHospitalizedHospitalizedHospitalizedRecoveredHospitalizedHospitalizedHospitalizedHospitalizedHospitalizedHospitalizedHospitalizedHospitalizedHospitalizedHospitalizedHospitalizedHospitalized\", \"HospitalizedHospitalizedHospitalizedHospitalizedHospitalizedHospitalizedHospitalizedHospitalizedHospitalizedHospitalizedHospitalizedHospitalizedHospitalizedHospitalizedHospitalizedHospitalizedHospitalizedHospitalizedHospitalizedHospitalizedHospitalizedHospitalizedHospitalizedHospitalizedHospitalizedHospitalizedHospitalizedDeceasedHospitalizedHospitalizedHospitalizedHospitalizedHospitalizedHospitalizedHospitalizedHospitalizedHospitalizedHospitalizedHospitalizedHospitalizedHospitalizedHospitalizedHospitalizedHospitalizedHospitalizedHospitalizedHospitalizedHospitalizedRecoveredHospitalizedHospitalizedHospitalizedHospitalizedHospitalizedHospitalizedHospitalizedHospitalizedHospitalizedRecoveredRecoveredHospitalizedHospitalizedHospitalizedHospitalizedHospitalizedHospitalizedHospitalizedHospitalizedHospitalizedHospitalizedHospitalizedHospitalizedHospitalizedHospitalizedHospitalizedHospitalizedHospitalizedHospitalizedHospitalizedHospitalizedHospitalizedHospitalizedHospitalizedDeceasedHospitalizedHospitalizedHospitalizedHospitalizedHospitalizedHospitalizedHospitalizedHospitalizedHospitalizedHospitalizedHospitalizedHospitalizedHospitalizedHospitalizedDeceasedHospitalizedHospitalizedHospitalized\", \"HospitalizedHospitalizedHospitalizedHospitalizedHospitalizedHospitalizedHospitalizedHospitalizedHospitalizedHospitalizedHospitalizedHospitalizedHospitalizedHospitalizedHospitalizedHospitalizedHospitalizedHospitalizedHospitalizedHospitalizedHospitalizedHospitalizedHospitalizedHospitalizedHospitalizedDeceasedHospitalizedHospitalizedHospitalizedHospitalizedHospitalizedHospitalizedHospitalizedHospitalizedHospitalizedHospitalizedHospitalizedHospitalizedHospitalizedHospitalizedHospitalizedHospitalizedHospitalizedHospitalizedHospitalizedHospitalizedHospitalizedHospitalizedHospitalizedRecoveredHospitalizedHospitalizedHospitalizedHospitalizedHospitalizedHospitalizedHospitalizedHospitalizedHospitalizedHospitalizedHospitalizedHospitalizedHospitalizedHospitalizedHospitalizedHospitalized\", \"HospitalizedHospitalizedHospitalizedHospitalizedHospitalizedDeceasedHospitalizedHospitalizedHospitalizedHospitalizedHospitalizedHospitalizedHospitalizedHospitalizedHospitalizedHospitalizedHospitalizedHospitalizedHospitalizedHospitalizedHospitalizedHospitalizedHospitalizedHospitalizedHospitalizedHospitalizedHospitalizedHospitalizedHospitalizedHospitalizedHospitalizedHospitalizedHospitalizedHospitalizedHospitalizedHospitalizedHospitalizedHospitalizedHospitalizedHospitalizedHospitalizedHospitalizedHospitalizedHospitalizedHospitalizedHospitalizedHospitalizedHospitalizedRecoveredHospitalizedHospitalizedHospitalizedHospitalizedHospitalizedHospitalizedHospitalizedHospitalizedHospitalizedHospitalizedHospitalizedHospitalizedHospitalizedHospitalizedHospitalizedHospitalizedHospitalizedHospitalizedHospitalizedHospitalizedHospitalizedHospitalizedHospitalizedHospitalizedHospitalizedHospitalizedHospitalizedHospitalizedHospitalizedHospitalizedHospitalizedHospitalizedHospitalizedHospitalizedHospitalizedHospitalizedHospitalized\", \"HospitalizedHospitalizedHospitalizedHospitalizedHospitalizedHospitalizedHospitalizedHospitalizedHospitalizedHospitalizedHospitalizedHospitalizedHospitalizedHospitalizedHospitalizedHospitalizedHospitalizedHospitalizedHospitalizedHospitalizedHospitalizedHospitalizedHospitalizedHospitalizedHospitalizedHospitalizedHospitalizedHospitalizedHospitalizedHospitalizedHospitalizedHospitalizedDeceasedHospitalizedHospitalizedHospitalizedHospitalizedHospitalizedHospitalizedHospitalizedRecoveredRecoveredRecoveredHospitalizedHospitalizedHospitalizedHospitalizedHospitalizedHospitalizedHospitalizedHospitalizedRecoveredHospitalizedHospitalizedHospitalizedRecoveredHospitalizedHospitalizedHospitalizedHospitalizedHospitalizedHospitalizedHospitalizedHospitalizedHospitalizedHospitalizedHospitalizedHospitalizedDeceasedHospitalizedHospitalizedHospitalizedHospitalizedHospitalizedHospitalizedHospitalizedHospitalizedHospitalized\", \"HospitalizedHospitalizedHospitalizedHospitalizedHospitalizedHospitalizedHospitalizedHospitalizedHospitalizedHospitalizedHospitalizedDeceasedHospitalizedHospitalizedHospitalizedHospitalizedHospitalizedHospitalizedHospitalizedHospitalizedHospitalizedHospitalizedDeceasedHospitalizedHospitalizedHospitalizedHospitalizedHospitalizedHospitalizedHospitalizedHospitalizedHospitalizedHospitalizedHospitalizedHospitalizedHospitalizedHospitalizedHospitalizedHospitalizedHospitalizedHospitalizedHospitalizedHospitalizedHospitalizedHospitalizedHospitalizedHospitalizedHospitalizedHospitalizedHospitalizedHospitalizedHospitalizedHospitalizedHospitalizedHospitalizedHospitalizedHospitalizedHospitalizedHospitalizedHospitalizedHospitalizedHospitalizedHospitalizedHospitalizedHospitalizedHospitalizedHospitalizedHospitalizedHospitalizedHospitalizedHospitalizedHospitalizedRecoveredHospitalizedRecoveredHospitalizedHospitalizedHospitalizedHospitalizedHospitalizedHospitalizedHospitalizedHospitalizedHospitalizedHospitalizedHospitalizedHospitalizedHospitalizedHospitalizedHospitalizedHospitalizedHospitalizedHospitalizedHospitalizedHospitalizedHospitalizedHospitalizedHospitalizedHospitalizedHospitalizedHospitalizedHospitalizedHospitalizedHospitalizedHospitalizedHospitalizedHospitalizedHospitalizedHospitalizedHospitalizedHospitalizedHospitalizedHospitalizedHospitalizedHospitalizedHospitalizedHospitalizedHospitalizedHospitalizedHospitalizedHospitalizedHospitalizedHospitalizedHospitalizedHospitalizedHospitalizedHospitalizedHospitalizedHospitalizedHospitalizedHospitalizedHospitalizedHospitalizedHospitalizedHospitalizedHospitalizedHospitalizedHospitalizedHospitalizedHospitalizedHospitalizedHospitalizedHospitalizedHospitalizedHospitalizedHospitalizedHospitalizedHospitalizedHospitalizedHospitalizedHospitalized\", \"HospitalizedHospitalizedHospitalizedHospitalizedHospitalizedHospitalizedHospitalizedHospitalizedHospitalizedHospitalizedHospitalizedHospitalizedHospitalizedHospitalizedHospitalizedHospitalizedHospitalizedHospitalizedHospitalizedHospitalizedHospitalizedHospitalizedHospitalizedHospitalizedHospitalizedHospitalizedHospitalizedHospitalizedHospitalizedHospitalizedHospitalizedHospitalizedHospitalizedHospitalizedHospitalizedHospitalizedHospitalizedHospitalizedHospitalizedHospitalizedHospitalizedHospitalizedHospitalizedHospitalizedHospitalizedHospitalizedHospitalizedHospitalizedHospitalizedHospitalizedHospitalizedHospitalizedHospitalizedHospitalizedHospitalizedHospitalizedHospitalizedHospitalizedHospitalizedDeceasedHospitalizedHospitalizedHospitalizedHospitalizedHospitalizedHospitalizedHospitalizedHospitalizedHospitalizedHospitalizedHospitalizedHospitalizedHospitalizedHospitalizedHospitalizedHospitalizedHospitalizedHospitalizedHospitalizedHospitalizedHospitalizedHospitalizedHospitalizedHospitalizedHospitalizedHospitalizedHospitalizedHospitalizedHospitalizedHospitalizedHospitalizedHospitalizedHospitalizedHospitalizedHospitalizedHospitalizedHospitalizedHospitalizedHospitalizedHospitalizedHospitalizedHospitalizedHospitalizedHospitalizedHospitalizedHospitalizedHospitalizedHospitalizedHospitalizedHospitalizedHospitalizedHospitalizedHospitalizedHospitalizedHospitalizedHospitalizedHospitalizedHospitalizedHospitalizedHospitalizedHospitalizedHospitalizedHospitalizedHospitalizedHospitalizedDeceasedHospitalizedHospitalizedHospitalizedHospitalizedHospitalizedHospitalizedHospitalizedHospitalizedHospitalizedHospitalizedHospitalizedHospitalizedHospitalizedHospitalizedHospitalizedHospitalizedHospitalized\", \"HospitalizedHospitalizedHospitalizedHospitalizedHospitalizedHospitalizedHospitalizedHospitalizedHospitalizedHospitalizedHospitalizedHospitalizedHospitalizedHospitalizedHospitalizedHospitalizedHospitalizedHospitalizedHospitalizedHospitalizedHospitalizedHospitalizedHospitalizedHospitalizedHospitalizedHospitalizedHospitalizedHospitalizedHospitalizedHospitalizedHospitalizedHospitalizedHospitalizedHospitalizedHospitalizedHospitalizedHospitalizedHospitalizedHospitalizedHospitalizedHospitalizedHospitalizedHospitalizedHospitalizedDeceasedHospitalizedHospitalizedHospitalizedHospitalizedHospitalizedHospitalizedHospitalizedHospitalizedHospitalizedHospitalizedHospitalizedHospitalizedHospitalizedHospitalizedHospitalizedHospitalizedHospitalizedHospitalizedHospitalizedHospitalizedHospitalizedHospitalizedHospitalizedHospitalizedHospitalizedHospitalizedHospitalizedHospitalizedHospitalizedHospitalizedHospitalizedHospitalizedHospitalizedHospitalizedHospitalizedHospitalizedHospitalizedHospitalizedHospitalizedHospitalizedHospitalizedHospitalizedHospitalizedHospitalizedHospitalizedHospitalizedHospitalizedHospitalizedHospitalizedHospitalizedHospitalizedHospitalizedHospitalizedHospitalizedHospitalizedHospitalizedHospitalizedHospitalizedHospitalizedHospitalizedHospitalizedHospitalizedHospitalizedHospitalizedHospitalized\", \"Recovered\", \"HospitalizedHospitalizedHospitalizedHospitalizedHospitalizedHospitalizedHospitalizedHospitalizedHospitalizedHospitalizedHospitalizedHospitalizedHospitalizedHospitalizedHospitalizedHospitalizedHospitalizedHospitalizedHospitalizedHospitalizedHospitalizedHospitalizedHospitalizedHospitalizedHospitalizedHospitalizedDeceasedHospitalizedHospitalizedHospitalizedHospitalizedHospitalizedHospitalizedHospitalizedHospitalizedHospitalizedHospitalizedHospitalizedHospitalizedHospitalizedHospitalizedHospitalizedHospitalizedHospitalizedHospitalizedHospitalizedHospitalizedHospitalizedHospitalizedHospitalizedHospitalizedHospitalizedHospitalizedHospitalizedHospitalizedHospitalizedHospitalizedHospitalizedHospitalizedHospitalizedHospitalizedHospitalizedHospitalizedHospitalizedHospitalizedHospitalizedHospitalizedHospitalizedHospitalizedHospitalizedHospitalizedHospitalizedHospitalizedHospitalizedHospitalizedHospitalizedHospitalizedHospitalizedHospitalizedHospitalizedHospitalizedHospitalizedHospitalizedHospitalizedHospitalizedHospitalizedHospitalizedHospitalizedHospitalizedHospitalizedHospitalizedHospitalizedHospitalizedHospitalizedHospitalizedHospitalizedHospitalizedHospitalizedHospitalizedHospitalizedHospitalizedHospitalizedHospitalizedHospitalizedHospitalizedHospitalizedHospitalizedHospitalizedHospitalizedHospitalizedHospitalizedHospitalizedHospitalizedHospitalizedHospitalizedHospitalizedHospitalizedHospitalizedHospitalizedHospitalizedHospitalizedHospitalizedHospitalizedHospitalizedHospitalizedHospitalizedHospitalizedHospitalizedHospitalizedHospitalizedHospitalizedHospitalizedHospitalizedHospitalizedHospitalizedHospitalizedHospitalizedHospitalizedHospitalizedHospitalizedHospitalizedHospitalizedHospitalizedHospitalizedHospitalizedHospitalizedHospitalizedHospitalizedHospitalizedHospitalizedHospitalizedHospitalizedHospitalizedHospitalizedHospitalizedHospitalizedHospitalizedHospitalizedHospitalizedHospitalizedHospitalizedHospitalizedHospitalizedHospitalizedHospitalizedHospitalizedHospitalizedHospitalizedHospitalizedHospitalizedHospitalizedHospitalizedHospitalizedHospitalizedHospitalizedHospitalizedHospitalizedHospitalizedHospitalizedHospitalizedHospitalizedHospitalizedHospitalizedHospitalizedHospitalizedHospitalizedHospitalizedHospitalizedHospitalizedHospitalizedHospitalizedHospitalizedHospitalizedHospitalizedHospitalizedHospitalizedHospitalizedHospitalizedHospitalizedHospitalizedHospitalizedHospitalizedHospitalizedHospitalizedHospitalizedHospitalizedHospitalizedHospitalized\", \"HospitalizedHospitalizedHospitalizedHospitalizedHospitalizedHospitalizedHospitalizedHospitalizedHospitalizedHospitalizedHospitalizedHospitalizedHospitalizedHospitalizedHospitalizedHospitalizedHospitalizedHospitalizedHospitalizedHospitalizedHospitalizedHospitalizedHospitalizedHospitalizedHospitalizedHospitalizedHospitalizedHospitalizedHospitalizedHospitalizedHospitalizedHospitalizedHospitalizedHospitalizedHospitalizedHospitalizedHospitalizedDeceasedHospitalizedHospitalizedHospitalizedHospitalizedHospitalizedHospitalizedHospitalizedHospitalizedHospitalizedHospitalizedHospitalizedHospitalizedHospitalizedHospitalizedHospitalizedHospitalizedHospitalizedHospitalizedHospitalizedHospitalizedHospitalizedHospitalizedHospitalizedHospitalizedHospitalizedHospitalizedHospitalizedHospitalizedHospitalizedHospitalizedHospitalizedHospitalizedHospitalizedHospitalizedHospitalizedHospitalizedHospitalizedHospitalizedHospitalizedHospitalizedHospitalizedHospitalizedHospitalizedHospitalizedHospitalizedHospitalizedHospitalizedHospitalizedHospitalizedHospitalizedHospitalizedHospitalizedHospitalizedHospitalizedHospitalizedHospitalizedHospitalizedHospitalizedHospitalizedHospitalizedHospitalizedHospitalizedHospitalizedHospitalizedHospitalizedHospitalizedHospitalizedHospitalizedHospitalizedHospitalizedHospitalizedHospitalizedHospitalizedHospitalizedHospitalizedHospitalizedHospitalizedHospitalizedHospitalizedHospitalizedHospitalizedHospitalizedHospitalizedHospitalizedHospitalizedHospitalizedHospitalizedHospitalizedHospitalizedHospitalizedHospitalizedHospitalizedHospitalizedHospitalizedHospitalizedHospitalizedHospitalizedHospitalizedHospitalizedHospitalizedHospitalizedHospitalizedHospitalizedHospitalizedHospitalizedHospitalizedHospitalizedHospitalizedHospitalizedHospitalizedHospitalizedHospitalizedHospitalizedHospitalizedHospitalizedHospitalizedHospitalizedHospitalizedHospitalizedHospitalizedHospitalizedHospitalizedHospitalizedHospitalizedHospitalizedHospitalizedHospitalizedHospitalizedHospitalizedHospitalizedHospitalizedHospitalizedHospitalizedHospitalizedHospitalizedHospitalizedHospitalizedHospitalizedHospitalizedHospitalizedHospitalizedHospitalizedHospitalizedHospitalizedHospitalizedHospitalizedHospitalizedHospitalizedHospitalizedHospitalizedHospitalizedHospitalizedHospitalizedHospitalizedHospitalizedHospitalizedHospitalizedHospitalizedHospitalizedHospitalizedHospitalizedHospitalizedHospitalizedHospitalizedHospitalizedHospitalizedHospitalizedHospitalizedHospitalizedHospitalizedHospitalizedHospitalizedHospitalizedHospitalizedHospitalizedHospitalizedHospitalizedHospitalizedHospitalizedHospitalizedHospitalizedHospitalizedHospitalizedHospitalizedHospitalizedHospitalizedHospitalizedHospitalizedHospitalizedHospitalizedHospitalizedHospitalizedHospitalizedHospitalizedHospitalizedHospitalizedHospitalizedHospitalizedHospitalizedHospitalizedHospitalizedHospitalizedHospitalizedHospitalizedHospitalizedHospitalizedHospitalizedHospitalizedHospitalizedHospitalizedHospitalizedHospitalizedHospitalizedHospitalizedHospitalizedHospitalizedHospitalizedHospitalizedHospitalizedHospitalizedHospitalizedHospitalizedHospitalizedHospitalizedHospitalizedHospitalizedHospitalizedHospitalizedHospitalizedHospitalizedHospitalizedHospitalizedHospitalizedHospitalizedHospitalizedHospitalizedHospitalizedHospitalizedHospitalizedHospitalizedHospitalizedHospitalizedHospitalizedHospitalizedHospitalizedHospitalizedHospitalizedHospitalizedHospitalizedHospitalized\"], \"yaxis\": \"y2\"}],\n",
       "                        {\"annotations\": [{\"font\": {}, \"showarrow\": false, \"text\": \"Reported=detected_state\", \"x\": 0.245, \"xanchor\": \"center\", \"xref\": \"paper\", \"y\": 1.0, \"yanchor\": \"bottom\", \"yref\": \"paper\"}, {\"font\": {}, \"showarrow\": false, \"text\": \"Reported=current_status\", \"x\": 0.755, \"xanchor\": \"center\", \"xref\": \"paper\", \"y\": 1.0, \"yanchor\": \"bottom\", \"yref\": \"paper\"}], \"legend\": {\"title\": {\"text\": \"Reported\"}, \"tracegroupgap\": 0}, \"template\": {\"data\": {\"bar\": [{\"error_x\": {\"color\": \"#2a3f5f\"}, \"error_y\": {\"color\": \"#2a3f5f\"}, \"marker\": {\"line\": {\"color\": \"#E5ECF6\", \"width\": 0.5}}, \"type\": \"bar\"}], \"barpolar\": [{\"marker\": {\"line\": {\"color\": \"#E5ECF6\", \"width\": 0.5}}, \"type\": \"barpolar\"}], \"carpet\": [{\"aaxis\": {\"endlinecolor\": \"#2a3f5f\", \"gridcolor\": \"white\", \"linecolor\": \"white\", \"minorgridcolor\": \"white\", \"startlinecolor\": \"#2a3f5f\"}, \"baxis\": {\"endlinecolor\": \"#2a3f5f\", \"gridcolor\": \"white\", \"linecolor\": \"white\", \"minorgridcolor\": \"white\", \"startlinecolor\": \"#2a3f5f\"}, \"type\": \"carpet\"}], \"choropleth\": [{\"colorbar\": {\"outlinewidth\": 0, \"ticks\": \"\"}, \"type\": \"choropleth\"}], \"contour\": [{\"colorbar\": {\"outlinewidth\": 0, \"ticks\": \"\"}, \"colorscale\": [[0.0, \"#0d0887\"], [0.1111111111111111, \"#46039f\"], [0.2222222222222222, \"#7201a8\"], [0.3333333333333333, \"#9c179e\"], [0.4444444444444444, \"#bd3786\"], [0.5555555555555556, \"#d8576b\"], [0.6666666666666666, \"#ed7953\"], [0.7777777777777778, \"#fb9f3a\"], [0.8888888888888888, \"#fdca26\"], [1.0, \"#f0f921\"]], \"type\": \"contour\"}], \"contourcarpet\": [{\"colorbar\": {\"outlinewidth\": 0, \"ticks\": \"\"}, \"type\": \"contourcarpet\"}], \"heatmap\": [{\"colorbar\": {\"outlinewidth\": 0, \"ticks\": \"\"}, \"colorscale\": [[0.0, \"#0d0887\"], [0.1111111111111111, \"#46039f\"], [0.2222222222222222, \"#7201a8\"], [0.3333333333333333, \"#9c179e\"], [0.4444444444444444, \"#bd3786\"], [0.5555555555555556, \"#d8576b\"], [0.6666666666666666, \"#ed7953\"], [0.7777777777777778, \"#fb9f3a\"], [0.8888888888888888, \"#fdca26\"], [1.0, \"#f0f921\"]], \"type\": \"heatmap\"}], \"heatmapgl\": [{\"colorbar\": {\"outlinewidth\": 0, \"ticks\": \"\"}, \"colorscale\": [[0.0, \"#0d0887\"], [0.1111111111111111, \"#46039f\"], [0.2222222222222222, \"#7201a8\"], [0.3333333333333333, \"#9c179e\"], [0.4444444444444444, \"#bd3786\"], [0.5555555555555556, \"#d8576b\"], [0.6666666666666666, \"#ed7953\"], [0.7777777777777778, \"#fb9f3a\"], [0.8888888888888888, \"#fdca26\"], [1.0, \"#f0f921\"]], \"type\": \"heatmapgl\"}], \"histogram\": [{\"marker\": {\"colorbar\": {\"outlinewidth\": 0, \"ticks\": \"\"}}, \"type\": \"histogram\"}], \"histogram2d\": [{\"colorbar\": {\"outlinewidth\": 0, \"ticks\": \"\"}, \"colorscale\": [[0.0, \"#0d0887\"], [0.1111111111111111, \"#46039f\"], [0.2222222222222222, \"#7201a8\"], [0.3333333333333333, \"#9c179e\"], [0.4444444444444444, \"#bd3786\"], [0.5555555555555556, \"#d8576b\"], [0.6666666666666666, \"#ed7953\"], [0.7777777777777778, \"#fb9f3a\"], [0.8888888888888888, \"#fdca26\"], [1.0, \"#f0f921\"]], \"type\": \"histogram2d\"}], \"histogram2dcontour\": [{\"colorbar\": {\"outlinewidth\": 0, \"ticks\": \"\"}, \"colorscale\": [[0.0, \"#0d0887\"], [0.1111111111111111, \"#46039f\"], [0.2222222222222222, \"#7201a8\"], [0.3333333333333333, \"#9c179e\"], [0.4444444444444444, \"#bd3786\"], [0.5555555555555556, \"#d8576b\"], [0.6666666666666666, \"#ed7953\"], [0.7777777777777778, \"#fb9f3a\"], [0.8888888888888888, \"#fdca26\"], [1.0, \"#f0f921\"]], \"type\": \"histogram2dcontour\"}], \"mesh3d\": [{\"colorbar\": {\"outlinewidth\": 0, \"ticks\": \"\"}, \"type\": \"mesh3d\"}], \"parcoords\": [{\"line\": {\"colorbar\": {\"outlinewidth\": 0, \"ticks\": \"\"}}, \"type\": \"parcoords\"}], \"pie\": [{\"automargin\": true, \"type\": \"pie\"}], \"scatter\": [{\"marker\": {\"colorbar\": {\"outlinewidth\": 0, \"ticks\": \"\"}}, \"type\": \"scatter\"}], \"scatter3d\": [{\"line\": {\"colorbar\": {\"outlinewidth\": 0, \"ticks\": \"\"}}, \"marker\": {\"colorbar\": {\"outlinewidth\": 0, \"ticks\": \"\"}}, \"type\": \"scatter3d\"}], \"scattercarpet\": [{\"marker\": {\"colorbar\": {\"outlinewidth\": 0, \"ticks\": \"\"}}, \"type\": \"scattercarpet\"}], \"scattergeo\": [{\"marker\": {\"colorbar\": {\"outlinewidth\": 0, \"ticks\": \"\"}}, \"type\": \"scattergeo\"}], \"scattergl\": [{\"marker\": {\"colorbar\": {\"outlinewidth\": 0, \"ticks\": \"\"}}, \"type\": \"scattergl\"}], \"scattermapbox\": [{\"marker\": {\"colorbar\": {\"outlinewidth\": 0, \"ticks\": \"\"}}, \"type\": \"scattermapbox\"}], \"scatterpolar\": [{\"marker\": {\"colorbar\": {\"outlinewidth\": 0, \"ticks\": \"\"}}, \"type\": \"scatterpolar\"}], \"scatterpolargl\": [{\"marker\": {\"colorbar\": {\"outlinewidth\": 0, \"ticks\": \"\"}}, \"type\": \"scatterpolargl\"}], \"scatterternary\": [{\"marker\": {\"colorbar\": {\"outlinewidth\": 0, \"ticks\": \"\"}}, \"type\": \"scatterternary\"}], \"surface\": [{\"colorbar\": {\"outlinewidth\": 0, \"ticks\": \"\"}, \"colorscale\": [[0.0, \"#0d0887\"], [0.1111111111111111, \"#46039f\"], [0.2222222222222222, \"#7201a8\"], [0.3333333333333333, \"#9c179e\"], [0.4444444444444444, \"#bd3786\"], [0.5555555555555556, \"#d8576b\"], [0.6666666666666666, \"#ed7953\"], [0.7777777777777778, \"#fb9f3a\"], [0.8888888888888888, \"#fdca26\"], [1.0, \"#f0f921\"]], \"type\": \"surface\"}], \"table\": [{\"cells\": {\"fill\": {\"color\": \"#EBF0F8\"}, \"line\": {\"color\": \"white\"}}, \"header\": {\"fill\": {\"color\": \"#C8D4E3\"}, \"line\": {\"color\": \"white\"}}, \"type\": \"table\"}]}, \"layout\": {\"annotationdefaults\": {\"arrowcolor\": \"#2a3f5f\", \"arrowhead\": 0, \"arrowwidth\": 1}, \"coloraxis\": {\"colorbar\": {\"outlinewidth\": 0, \"ticks\": \"\"}}, \"colorscale\": {\"diverging\": [[0, \"#8e0152\"], [0.1, \"#c51b7d\"], [0.2, \"#de77ae\"], [0.3, \"#f1b6da\"], [0.4, \"#fde0ef\"], [0.5, \"#f7f7f7\"], [0.6, \"#e6f5d0\"], [0.7, \"#b8e186\"], [0.8, \"#7fbc41\"], [0.9, \"#4d9221\"], [1, \"#276419\"]], \"sequential\": [[0.0, \"#0d0887\"], [0.1111111111111111, \"#46039f\"], [0.2222222222222222, \"#7201a8\"], [0.3333333333333333, \"#9c179e\"], [0.4444444444444444, \"#bd3786\"], [0.5555555555555556, \"#d8576b\"], [0.6666666666666666, \"#ed7953\"], [0.7777777777777778, \"#fb9f3a\"], [0.8888888888888888, \"#fdca26\"], [1.0, \"#f0f921\"]], \"sequentialminus\": [[0.0, \"#0d0887\"], [0.1111111111111111, \"#46039f\"], [0.2222222222222222, \"#7201a8\"], [0.3333333333333333, \"#9c179e\"], [0.4444444444444444, \"#bd3786\"], [0.5555555555555556, \"#d8576b\"], [0.6666666666666666, \"#ed7953\"], [0.7777777777777778, \"#fb9f3a\"], [0.8888888888888888, \"#fdca26\"], [1.0, \"#f0f921\"]]}, \"colorway\": [\"#636efa\", \"#EF553B\", \"#00cc96\", \"#ab63fa\", \"#FFA15A\", \"#19d3f3\", \"#FF6692\", \"#B6E880\", \"#FF97FF\", \"#FECB52\"], \"font\": {\"color\": \"#2a3f5f\"}, \"geo\": {\"bgcolor\": \"white\", \"lakecolor\": \"white\", \"landcolor\": \"#E5ECF6\", \"showlakes\": true, \"showland\": true, \"subunitcolor\": \"white\"}, \"hoverlabel\": {\"align\": \"left\"}, \"hovermode\": \"closest\", \"mapbox\": {\"style\": \"light\"}, \"paper_bgcolor\": \"white\", \"plot_bgcolor\": \"#E5ECF6\", \"polar\": {\"angularaxis\": {\"gridcolor\": \"white\", \"linecolor\": \"white\", \"ticks\": \"\"}, \"bgcolor\": \"#E5ECF6\", \"radialaxis\": {\"gridcolor\": \"white\", \"linecolor\": \"white\", \"ticks\": \"\"}}, \"scene\": {\"xaxis\": {\"backgroundcolor\": \"#E5ECF6\", \"gridcolor\": \"white\", \"gridwidth\": 2, \"linecolor\": \"white\", \"showbackground\": true, \"ticks\": \"\", \"zerolinecolor\": \"white\"}, \"yaxis\": {\"backgroundcolor\": \"#E5ECF6\", \"gridcolor\": \"white\", \"gridwidth\": 2, \"linecolor\": \"white\", \"showbackground\": true, \"ticks\": \"\", \"zerolinecolor\": \"white\"}, \"zaxis\": {\"backgroundcolor\": \"#E5ECF6\", \"gridcolor\": \"white\", \"gridwidth\": 2, \"linecolor\": \"white\", \"showbackground\": true, \"ticks\": \"\", \"zerolinecolor\": \"white\"}}, \"shapedefaults\": {\"line\": {\"color\": \"#2a3f5f\"}}, \"ternary\": {\"aaxis\": {\"gridcolor\": \"white\", \"linecolor\": \"white\", \"ticks\": \"\"}, \"baxis\": {\"gridcolor\": \"white\", \"linecolor\": \"white\", \"ticks\": \"\"}, \"bgcolor\": \"#E5ECF6\", \"caxis\": {\"gridcolor\": \"white\", \"linecolor\": \"white\", \"ticks\": \"\"}}, \"title\": {\"x\": 0.05}, \"xaxis\": {\"automargin\": true, \"gridcolor\": \"white\", \"linecolor\": \"white\", \"ticks\": \"\", \"title\": {\"standoff\": 15}, \"zerolinecolor\": \"white\", \"zerolinewidth\": 2}, \"yaxis\": {\"automargin\": true, \"gridcolor\": \"white\", \"linecolor\": \"white\", \"ticks\": \"\", \"title\": {\"standoff\": 15}, \"zerolinecolor\": \"white\", \"zerolinewidth\": 2}}}, \"title\": {\"text\": \"Number of cases\"}, \"xaxis\": {\"anchor\": \"y\", \"domain\": [0.0, 0.49], \"title\": {\"text\": \"diagnosed_date\"}}, \"xaxis2\": {\"anchor\": \"y2\", \"domain\": [0.51, 1.0], \"matches\": \"x\", \"title\": {\"text\": \"diagnosed_date\"}}, \"yaxis\": {\"anchor\": \"x\", \"domain\": [0.0, 1.0], \"title\": {\"text\": \"Count\"}}, \"yaxis2\": {\"anchor\": \"x2\", \"domain\": [0.0, 1.0], \"matches\": \"y\", \"showticklabels\": false}},\n",
       "                        {\"responsive\": true}\n",
       "                    ).then(function(){\n",
       "                            \n",
       "var gd = document.getElementById('10ef952e-c729-4497-8a25-0b2ca99fb29c');\n",
       "var x = new MutationObserver(function (mutations, observer) {{\n",
       "        var display = window.getComputedStyle(gd).display;\n",
       "        if (!display || display === 'none') {{\n",
       "            console.log([gd, 'removed!']);\n",
       "            Plotly.purge(gd);\n",
       "            observer.disconnect();\n",
       "        }}\n",
       "}});\n",
       "\n",
       "// Listen for the removal of the full notebook cells\n",
       "var notebookContainer = gd.closest('#notebook-container');\n",
       "if (notebookContainer) {{\n",
       "    x.observe(notebookContainer, {childList: true});\n",
       "}}\n",
       "\n",
       "// Listen for the clearing of the current output cell\n",
       "var outputEl = gd.closest('.output');\n",
       "if (outputEl) {{\n",
       "    x.observe(outputEl, {childList: true});\n",
       "}}\n",
       "\n",
       "                        })\n",
       "                };\n",
       "                });\n",
       "            </script>\n",
       "        </div>"
      ]
     },
     "metadata": {},
     "output_type": "display_data"
    }
   ],
   "source": [
    "temp = IndividualDetails.groupby('diagnosed_date')['detected_state', 'current_status'].sum()\n",
    "temp = temp.reset_index()\n",
    "temp = temp.melt(id_vars='diagnosed_date', value_vars=['detected_state', 'current_status'],\n",
    "                var_name='Reported', value_name='Count')\n",
    "fig = px.line(temp, x=\"diagnosed_date\", y=\"Count\", color='Reported', facet_col=\"Reported\",\n",
    "              title='Number of cases')\n",
    "fig.show()"
   ]
  },
  {
   "cell_type": "markdown",
   "metadata": {},
   "source": [
    "Identifying how the population impacts Covid-19 will help authorities manage their fighting back processes better. \n",
    "Because Covid-19 is an airborne disease and can easily spread in close contact from human to human, does this place populated areas at greater risk?\n",
    "Would we continue to see higher deaths and cases in urban areas? Such are logical premises."
   ]
  },
  {
   "cell_type": "code",
   "execution_count": 125,
   "metadata": {},
   "outputs": [
    {
     "data": {
      "text/html": [
       "<div>\n",
       "<style scoped>\n",
       "    .dataframe tbody tr th:only-of-type {\n",
       "        vertical-align: middle;\n",
       "    }\n",
       "\n",
       "    .dataframe tbody tr th {\n",
       "        vertical-align: top;\n",
       "    }\n",
       "\n",
       "    .dataframe thead th {\n",
       "        text-align: right;\n",
       "    }\n",
       "</style>\n",
       "<table border=\"1\" class=\"dataframe\">\n",
       "  <thead>\n",
       "    <tr style=\"text-align: right;\">\n",
       "      <th></th>\n",
       "      <th>Sno</th>\n",
       "      <th>Population</th>\n",
       "      <th>Rural population</th>\n",
       "      <th>Urban population</th>\n",
       "      <th>Gender Ratio</th>\n",
       "    </tr>\n",
       "    <tr>\n",
       "      <th>State / Union Territory</th>\n",
       "      <th></th>\n",
       "      <th></th>\n",
       "      <th></th>\n",
       "      <th></th>\n",
       "      <th></th>\n",
       "    </tr>\n",
       "  </thead>\n",
       "  <tbody>\n",
       "    <tr>\n",
       "      <th>Andaman and Nicobar Islands</th>\n",
       "      <td>34</td>\n",
       "      <td>380581</td>\n",
       "      <td>237093</td>\n",
       "      <td>143488</td>\n",
       "      <td>876</td>\n",
       "    </tr>\n",
       "    <tr>\n",
       "      <th>Andhra Pradesh</th>\n",
       "      <td>10</td>\n",
       "      <td>49577103</td>\n",
       "      <td>34966693</td>\n",
       "      <td>14610410</td>\n",
       "      <td>993</td>\n",
       "    </tr>\n",
       "    <tr>\n",
       "      <th>Arunachal Pradesh</th>\n",
       "      <td>26</td>\n",
       "      <td>1383727</td>\n",
       "      <td>1066358</td>\n",
       "      <td>317369</td>\n",
       "      <td>938</td>\n",
       "    </tr>\n",
       "    <tr>\n",
       "      <th>Assam</th>\n",
       "      <td>15</td>\n",
       "      <td>31205576</td>\n",
       "      <td>26807034</td>\n",
       "      <td>4398542</td>\n",
       "      <td>954</td>\n",
       "    </tr>\n",
       "    <tr>\n",
       "      <th>Bihar</th>\n",
       "      <td>3</td>\n",
       "      <td>104099452</td>\n",
       "      <td>92341436</td>\n",
       "      <td>11758016</td>\n",
       "      <td>918</td>\n",
       "    </tr>\n",
       "    <tr>\n",
       "      <th>Chandigarh</th>\n",
       "      <td>32</td>\n",
       "      <td>1055450</td>\n",
       "      <td>28991</td>\n",
       "      <td>1026459</td>\n",
       "      <td>818</td>\n",
       "    </tr>\n",
       "    <tr>\n",
       "      <th>Chhattisgarh</th>\n",
       "      <td>17</td>\n",
       "      <td>25545198</td>\n",
       "      <td>19607961</td>\n",
       "      <td>5937237</td>\n",
       "      <td>991</td>\n",
       "    </tr>\n",
       "    <tr>\n",
       "      <th>Dadra and Nagar Haveli and Daman and Diu</th>\n",
       "      <td>33</td>\n",
       "      <td>585764</td>\n",
       "      <td>243510</td>\n",
       "      <td>342254</td>\n",
       "      <td>711</td>\n",
       "    </tr>\n",
       "    <tr>\n",
       "      <th>Delhi</th>\n",
       "      <td>29</td>\n",
       "      <td>16787941</td>\n",
       "      <td>419042</td>\n",
       "      <td>16368899</td>\n",
       "      <td>868</td>\n",
       "    </tr>\n",
       "    <tr>\n",
       "      <th>Goa</th>\n",
       "      <td>25</td>\n",
       "      <td>1458545</td>\n",
       "      <td>551731</td>\n",
       "      <td>906814</td>\n",
       "      <td>973</td>\n",
       "    </tr>\n",
       "    <tr>\n",
       "      <th>Gujarat</th>\n",
       "      <td>9</td>\n",
       "      <td>60439692</td>\n",
       "      <td>34694609</td>\n",
       "      <td>25745083</td>\n",
       "      <td>919</td>\n",
       "    </tr>\n",
       "    <tr>\n",
       "      <th>Haryana</th>\n",
       "      <td>18</td>\n",
       "      <td>25351462</td>\n",
       "      <td>16509359</td>\n",
       "      <td>8842103</td>\n",
       "      <td>879</td>\n",
       "    </tr>\n",
       "    <tr>\n",
       "      <th>Himachal Pradesh</th>\n",
       "      <td>20</td>\n",
       "      <td>6864602</td>\n",
       "      <td>6176050</td>\n",
       "      <td>688552</td>\n",
       "      <td>972</td>\n",
       "    </tr>\n",
       "    <tr>\n",
       "      <th>Jammu and Kashmir</th>\n",
       "      <td>30</td>\n",
       "      <td>12267032</td>\n",
       "      <td>9064220</td>\n",
       "      <td>3202812</td>\n",
       "      <td>890</td>\n",
       "    </tr>\n",
       "    <tr>\n",
       "      <th>Jharkhand</th>\n",
       "      <td>14</td>\n",
       "      <td>32988134</td>\n",
       "      <td>25055073</td>\n",
       "      <td>7933061</td>\n",
       "      <td>948</td>\n",
       "    </tr>\n",
       "    <tr>\n",
       "      <th>Karnataka</th>\n",
       "      <td>8</td>\n",
       "      <td>61095297</td>\n",
       "      <td>37469335</td>\n",
       "      <td>23625962</td>\n",
       "      <td>973</td>\n",
       "    </tr>\n",
       "    <tr>\n",
       "      <th>Kerala</th>\n",
       "      <td>13</td>\n",
       "      <td>33406061</td>\n",
       "      <td>17471135</td>\n",
       "      <td>15934926</td>\n",
       "      <td>1084</td>\n",
       "    </tr>\n",
       "    <tr>\n",
       "      <th>Ladakh</th>\n",
       "      <td>35</td>\n",
       "      <td>274000</td>\n",
       "      <td>43840</td>\n",
       "      <td>230160</td>\n",
       "      <td>853</td>\n",
       "    </tr>\n",
       "    <tr>\n",
       "      <th>Lakshadweep</th>\n",
       "      <td>36</td>\n",
       "      <td>64473</td>\n",
       "      <td>14141</td>\n",
       "      <td>50332</td>\n",
       "      <td>946</td>\n",
       "    </tr>\n",
       "    <tr>\n",
       "      <th>Madhya Pradesh</th>\n",
       "      <td>5</td>\n",
       "      <td>72626809</td>\n",
       "      <td>52557404</td>\n",
       "      <td>20069405</td>\n",
       "      <td>931</td>\n",
       "    </tr>\n",
       "  </tbody>\n",
       "</table>\n",
       "</div>"
      ],
      "text/plain": [
       "                                          Sno  Population  Rural population  \\\n",
       "State / Union Territory                                                       \n",
       "Andaman and Nicobar Islands                34      380581            237093   \n",
       "Andhra Pradesh                             10    49577103          34966693   \n",
       "Arunachal Pradesh                          26     1383727           1066358   \n",
       "Assam                                      15    31205576          26807034   \n",
       "Bihar                                       3   104099452          92341436   \n",
       "Chandigarh                                 32     1055450             28991   \n",
       "Chhattisgarh                               17    25545198          19607961   \n",
       "Dadra and Nagar Haveli and Daman and Diu   33      585764            243510   \n",
       "Delhi                                      29    16787941            419042   \n",
       "Goa                                        25     1458545            551731   \n",
       "Gujarat                                     9    60439692          34694609   \n",
       "Haryana                                    18    25351462          16509359   \n",
       "Himachal Pradesh                           20     6864602           6176050   \n",
       "Jammu and Kashmir                          30    12267032           9064220   \n",
       "Jharkhand                                  14    32988134          25055073   \n",
       "Karnataka                                   8    61095297          37469335   \n",
       "Kerala                                     13    33406061          17471135   \n",
       "Ladakh                                     35      274000             43840   \n",
       "Lakshadweep                                36       64473             14141   \n",
       "Madhya Pradesh                              5    72626809          52557404   \n",
       "\n",
       "                                          Urban population  Gender Ratio  \n",
       "State / Union Territory                                                   \n",
       "Andaman and Nicobar Islands                         143488           876  \n",
       "Andhra Pradesh                                    14610410           993  \n",
       "Arunachal Pradesh                                   317369           938  \n",
       "Assam                                              4398542           954  \n",
       "Bihar                                             11758016           918  \n",
       "Chandigarh                                         1026459           818  \n",
       "Chhattisgarh                                       5937237           991  \n",
       "Dadra and Nagar Haveli and Daman and Diu            342254           711  \n",
       "Delhi                                             16368899           868  \n",
       "Goa                                                 906814           973  \n",
       "Gujarat                                           25745083           919  \n",
       "Haryana                                            8842103           879  \n",
       "Himachal Pradesh                                    688552           972  \n",
       "Jammu and Kashmir                                  3202812           890  \n",
       "Jharkhand                                          7933061           948  \n",
       "Karnataka                                         23625962           973  \n",
       "Kerala                                            15934926          1084  \n",
       "Ladakh                                              230160           853  \n",
       "Lakshadweep                                          50332           946  \n",
       "Madhya Pradesh                                    20069405           931  "
      ]
     },
     "execution_count": 125,
     "metadata": {},
     "output_type": "execute_result"
    }
   ],
   "source": [
    "Population_india_census = Population_india_census2011.groupby([\"State / Union Territory\"]).sum()\n",
    "Population_india_census.head(20)"
   ]
  },
  {
   "cell_type": "code",
   "execution_count": 124,
   "metadata": {},
   "outputs": [
    {
     "data": {
      "text/html": [
       "<div>\n",
       "<style scoped>\n",
       "    .dataframe tbody tr th:only-of-type {\n",
       "        vertical-align: middle;\n",
       "    }\n",
       "\n",
       "    .dataframe tbody tr th {\n",
       "        vertical-align: top;\n",
       "    }\n",
       "\n",
       "    .dataframe thead th {\n",
       "        text-align: right;\n",
       "    }\n",
       "</style>\n",
       "<table border=\"1\" class=\"dataframe\">\n",
       "  <thead>\n",
       "    <tr style=\"text-align: right;\">\n",
       "      <th></th>\n",
       "      <th>Sno</th>\n",
       "      <th>NumRuralHospitals_NHP18</th>\n",
       "      <th>NumRuralBeds_NHP18</th>\n",
       "      <th>NumUrbanHospitals_NHP18</th>\n",
       "      <th>NumUrbanBeds_NHP18</th>\n",
       "      <th>Unnamed: 12</th>\n",
       "      <th>Unnamed: 13</th>\n",
       "    </tr>\n",
       "    <tr>\n",
       "      <th>State/UT</th>\n",
       "      <th></th>\n",
       "      <th></th>\n",
       "      <th></th>\n",
       "      <th></th>\n",
       "      <th></th>\n",
       "      <th></th>\n",
       "      <th></th>\n",
       "    </tr>\n",
       "  </thead>\n",
       "  <tbody>\n",
       "    <tr>\n",
       "      <th>All India</th>\n",
       "      <td>37.0</td>\n",
       "      <td>19810.0</td>\n",
       "      <td>279588.0</td>\n",
       "      <td>3772.0</td>\n",
       "      <td>431173.0</td>\n",
       "      <td>0.0</td>\n",
       "      <td>0.0</td>\n",
       "    </tr>\n",
       "    <tr>\n",
       "      <th>Andaman &amp; Nicobar Islands</th>\n",
       "      <td>1.0</td>\n",
       "      <td>27.0</td>\n",
       "      <td>575.0</td>\n",
       "      <td>3.0</td>\n",
       "      <td>500.0</td>\n",
       "      <td>0.0</td>\n",
       "      <td>0.0</td>\n",
       "    </tr>\n",
       "    <tr>\n",
       "      <th>Andhra Pradesh</th>\n",
       "      <td>2.0</td>\n",
       "      <td>193.0</td>\n",
       "      <td>6480.0</td>\n",
       "      <td>65.0</td>\n",
       "      <td>16658.0</td>\n",
       "      <td>0.0</td>\n",
       "      <td>0.0</td>\n",
       "    </tr>\n",
       "    <tr>\n",
       "      <th>Arunachal Pradesh</th>\n",
       "      <td>3.0</td>\n",
       "      <td>208.0</td>\n",
       "      <td>2136.0</td>\n",
       "      <td>10.0</td>\n",
       "      <td>268.0</td>\n",
       "      <td>0.0</td>\n",
       "      <td>0.0</td>\n",
       "    </tr>\n",
       "    <tr>\n",
       "      <th>Assam</th>\n",
       "      <td>4.0</td>\n",
       "      <td>1176.0</td>\n",
       "      <td>10944.0</td>\n",
       "      <td>50.0</td>\n",
       "      <td>6198.0</td>\n",
       "      <td>0.0</td>\n",
       "      <td>0.0</td>\n",
       "    </tr>\n",
       "    <tr>\n",
       "      <th>Bihar</th>\n",
       "      <td>5.0</td>\n",
       "      <td>930.0</td>\n",
       "      <td>6083.0</td>\n",
       "      <td>103.0</td>\n",
       "      <td>5936.0</td>\n",
       "      <td>0.0</td>\n",
       "      <td>0.0</td>\n",
       "    </tr>\n",
       "    <tr>\n",
       "      <th>Chandigarh</th>\n",
       "      <td>6.0</td>\n",
       "      <td>0.0</td>\n",
       "      <td>0.0</td>\n",
       "      <td>4.0</td>\n",
       "      <td>778.0</td>\n",
       "      <td>0.0</td>\n",
       "      <td>0.0</td>\n",
       "    </tr>\n",
       "    <tr>\n",
       "      <th>Chhattisgarh</th>\n",
       "      <td>7.0</td>\n",
       "      <td>169.0</td>\n",
       "      <td>5070.0</td>\n",
       "      <td>45.0</td>\n",
       "      <td>4342.0</td>\n",
       "      <td>0.0</td>\n",
       "      <td>0.0</td>\n",
       "    </tr>\n",
       "    <tr>\n",
       "      <th>Dadra &amp; Nagar Haveli</th>\n",
       "      <td>8.0</td>\n",
       "      <td>10.0</td>\n",
       "      <td>273.0</td>\n",
       "      <td>1.0</td>\n",
       "      <td>316.0</td>\n",
       "      <td>0.0</td>\n",
       "      <td>0.0</td>\n",
       "    </tr>\n",
       "    <tr>\n",
       "      <th>Daman &amp; Diu</th>\n",
       "      <td>9.0</td>\n",
       "      <td>5.0</td>\n",
       "      <td>240.0</td>\n",
       "      <td>0.0</td>\n",
       "      <td>0.0</td>\n",
       "      <td>0.0</td>\n",
       "      <td>0.0</td>\n",
       "    </tr>\n",
       "    <tr>\n",
       "      <th>Delhi</th>\n",
       "      <td>10.0</td>\n",
       "      <td>0.0</td>\n",
       "      <td>0.0</td>\n",
       "      <td>109.0</td>\n",
       "      <td>24383.0</td>\n",
       "      <td>0.0</td>\n",
       "      <td>0.0</td>\n",
       "    </tr>\n",
       "    <tr>\n",
       "      <th>Goa</th>\n",
       "      <td>11.0</td>\n",
       "      <td>17.0</td>\n",
       "      <td>1405.0</td>\n",
       "      <td>25.0</td>\n",
       "      <td>1608.0</td>\n",
       "      <td>0.0</td>\n",
       "      <td>0.0</td>\n",
       "    </tr>\n",
       "    <tr>\n",
       "      <th>Gujarat</th>\n",
       "      <td>12.0</td>\n",
       "      <td>364.0</td>\n",
       "      <td>11715.0</td>\n",
       "      <td>122.0</td>\n",
       "      <td>20565.0</td>\n",
       "      <td>0.0</td>\n",
       "      <td>0.0</td>\n",
       "    </tr>\n",
       "    <tr>\n",
       "      <th>Haryana</th>\n",
       "      <td>13.0</td>\n",
       "      <td>609.0</td>\n",
       "      <td>6690.0</td>\n",
       "      <td>59.0</td>\n",
       "      <td>4550.0</td>\n",
       "      <td>0.0</td>\n",
       "      <td>0.0</td>\n",
       "    </tr>\n",
       "    <tr>\n",
       "      <th>Himachal Pradesh</th>\n",
       "      <td>14.0</td>\n",
       "      <td>705.0</td>\n",
       "      <td>5665.0</td>\n",
       "      <td>96.0</td>\n",
       "      <td>6734.0</td>\n",
       "      <td>0.0</td>\n",
       "      <td>0.0</td>\n",
       "    </tr>\n",
       "    <tr>\n",
       "      <th>Jammu &amp; Kashmir</th>\n",
       "      <td>15.0</td>\n",
       "      <td>56.0</td>\n",
       "      <td>7234.0</td>\n",
       "      <td>76.0</td>\n",
       "      <td>4417.0</td>\n",
       "      <td>0.0</td>\n",
       "      <td>0.0</td>\n",
       "    </tr>\n",
       "    <tr>\n",
       "      <th>Jharkhand</th>\n",
       "      <td>16.0</td>\n",
       "      <td>519.0</td>\n",
       "      <td>5842.0</td>\n",
       "      <td>36.0</td>\n",
       "      <td>4942.0</td>\n",
       "      <td>0.0</td>\n",
       "      <td>0.0</td>\n",
       "    </tr>\n",
       "    <tr>\n",
       "      <th>Karnataka</th>\n",
       "      <td>17.0</td>\n",
       "      <td>2471.0</td>\n",
       "      <td>21072.0</td>\n",
       "      <td>374.0</td>\n",
       "      <td>49093.0</td>\n",
       "      <td>0.0</td>\n",
       "      <td>0.0</td>\n",
       "    </tr>\n",
       "    <tr>\n",
       "      <th>Kerala</th>\n",
       "      <td>18.0</td>\n",
       "      <td>981.0</td>\n",
       "      <td>16865.0</td>\n",
       "      <td>299.0</td>\n",
       "      <td>21139.0</td>\n",
       "      <td>0.0</td>\n",
       "      <td>0.0</td>\n",
       "    </tr>\n",
       "    <tr>\n",
       "      <th>Lakshadweep</th>\n",
       "      <td>19.0</td>\n",
       "      <td>9.0</td>\n",
       "      <td>300.0</td>\n",
       "      <td>0.0</td>\n",
       "      <td>0.0</td>\n",
       "      <td>0.0</td>\n",
       "      <td>0.0</td>\n",
       "    </tr>\n",
       "  </tbody>\n",
       "</table>\n",
       "</div>"
      ],
      "text/plain": [
       "                            Sno  NumRuralHospitals_NHP18  NumRuralBeds_NHP18  \\\n",
       "State/UT                                                                       \n",
       "All India                  37.0                  19810.0            279588.0   \n",
       "Andaman & Nicobar Islands   1.0                     27.0               575.0   \n",
       "Andhra Pradesh              2.0                    193.0              6480.0   \n",
       "Arunachal Pradesh           3.0                    208.0              2136.0   \n",
       "Assam                       4.0                   1176.0             10944.0   \n",
       "Bihar                       5.0                    930.0              6083.0   \n",
       "Chandigarh                  6.0                      0.0                 0.0   \n",
       "Chhattisgarh                7.0                    169.0              5070.0   \n",
       "Dadra & Nagar Haveli        8.0                     10.0               273.0   \n",
       "Daman & Diu                 9.0                      5.0               240.0   \n",
       "Delhi                      10.0                      0.0                 0.0   \n",
       "Goa                        11.0                     17.0              1405.0   \n",
       "Gujarat                    12.0                    364.0             11715.0   \n",
       "Haryana                    13.0                    609.0              6690.0   \n",
       "Himachal Pradesh           14.0                    705.0              5665.0   \n",
       "Jammu & Kashmir            15.0                     56.0              7234.0   \n",
       "Jharkhand                  16.0                    519.0              5842.0   \n",
       "Karnataka                  17.0                   2471.0             21072.0   \n",
       "Kerala                     18.0                    981.0             16865.0   \n",
       "Lakshadweep                19.0                      9.0               300.0   \n",
       "\n",
       "                           NumUrbanHospitals_NHP18  NumUrbanBeds_NHP18  \\\n",
       "State/UT                                                                 \n",
       "All India                                   3772.0            431173.0   \n",
       "Andaman & Nicobar Islands                      3.0               500.0   \n",
       "Andhra Pradesh                                65.0             16658.0   \n",
       "Arunachal Pradesh                             10.0               268.0   \n",
       "Assam                                         50.0              6198.0   \n",
       "Bihar                                        103.0              5936.0   \n",
       "Chandigarh                                     4.0               778.0   \n",
       "Chhattisgarh                                  45.0              4342.0   \n",
       "Dadra & Nagar Haveli                           1.0               316.0   \n",
       "Daman & Diu                                    0.0                 0.0   \n",
       "Delhi                                        109.0             24383.0   \n",
       "Goa                                           25.0              1608.0   \n",
       "Gujarat                                      122.0             20565.0   \n",
       "Haryana                                       59.0              4550.0   \n",
       "Himachal Pradesh                              96.0              6734.0   \n",
       "Jammu & Kashmir                               76.0              4417.0   \n",
       "Jharkhand                                     36.0              4942.0   \n",
       "Karnataka                                    374.0             49093.0   \n",
       "Kerala                                       299.0             21139.0   \n",
       "Lakshadweep                                    0.0                 0.0   \n",
       "\n",
       "                           Unnamed: 12  Unnamed: 13  \n",
       "State/UT                                             \n",
       "All India                          0.0          0.0  \n",
       "Andaman & Nicobar Islands          0.0          0.0  \n",
       "Andhra Pradesh                     0.0          0.0  \n",
       "Arunachal Pradesh                  0.0          0.0  \n",
       "Assam                              0.0          0.0  \n",
       "Bihar                              0.0          0.0  \n",
       "Chandigarh                         0.0          0.0  \n",
       "Chhattisgarh                       0.0          0.0  \n",
       "Dadra & Nagar Haveli               0.0          0.0  \n",
       "Daman & Diu                        0.0          0.0  \n",
       "Delhi                              0.0          0.0  \n",
       "Goa                                0.0          0.0  \n",
       "Gujarat                            0.0          0.0  \n",
       "Haryana                            0.0          0.0  \n",
       "Himachal Pradesh                   0.0          0.0  \n",
       "Jammu & Kashmir                    0.0          0.0  \n",
       "Jharkhand                          0.0          0.0  \n",
       "Karnataka                          0.0          0.0  \n",
       "Kerala                             0.0          0.0  \n",
       "Lakshadweep                        0.0          0.0  "
      ]
     },
     "execution_count": 124,
     "metadata": {},
     "output_type": "execute_result"
    }
   ],
   "source": [
    "HospitalBedsIndia_state = HospitalBedsIndia.groupby([\"State/UT\"]).sum()\n",
    "HospitalBedsIndia_state.head(20)"
   ]
  },
  {
   "cell_type": "markdown",
   "metadata": {},
   "source": [
    "In Maharashta COVID-19 cases are higher, Mumbai population is also density and compared to population there will shortage of hospitals an dbed if numbers are continue increase. "
   ]
  },
  {
   "cell_type": "code",
   "execution_count": 123,
   "metadata": {},
   "outputs": [
    {
     "data": {
      "text/html": [
       "<div>\n",
       "<style scoped>\n",
       "    .dataframe tbody tr th:only-of-type {\n",
       "        vertical-align: middle;\n",
       "    }\n",
       "\n",
       "    .dataframe tbody tr th {\n",
       "        vertical-align: top;\n",
       "    }\n",
       "\n",
       "    .dataframe thead th {\n",
       "        text-align: right;\n",
       "    }\n",
       "</style>\n",
       "<table border=\"1\" class=\"dataframe\">\n",
       "  <thead>\n",
       "    <tr style=\"text-align: right;\">\n",
       "      <th></th>\n",
       "      <th>Sno</th>\n",
       "      <th>NumRuralHospitals_NHP18</th>\n",
       "      <th>NumRuralBeds_NHP18</th>\n",
       "      <th>NumUrbanHospitals_NHP18</th>\n",
       "      <th>NumUrbanBeds_NHP18</th>\n",
       "      <th>Unnamed: 12</th>\n",
       "      <th>Unnamed: 13</th>\n",
       "      <th>Sno</th>\n",
       "      <th>Population</th>\n",
       "      <th>Rural population</th>\n",
       "      <th>Urban population</th>\n",
       "      <th>Gender Ratio</th>\n",
       "    </tr>\n",
       "  </thead>\n",
       "  <tbody>\n",
       "    <tr>\n",
       "      <th>All India</th>\n",
       "      <td>37.0</td>\n",
       "      <td>19810.0</td>\n",
       "      <td>279588.0</td>\n",
       "      <td>3772.0</td>\n",
       "      <td>431173.0</td>\n",
       "      <td>0.0</td>\n",
       "      <td>0.0</td>\n",
       "      <td>NaN</td>\n",
       "      <td>NaN</td>\n",
       "      <td>NaN</td>\n",
       "      <td>NaN</td>\n",
       "      <td>NaN</td>\n",
       "    </tr>\n",
       "    <tr>\n",
       "      <th>Andaman &amp; Nicobar Islands</th>\n",
       "      <td>1.0</td>\n",
       "      <td>27.0</td>\n",
       "      <td>575.0</td>\n",
       "      <td>3.0</td>\n",
       "      <td>500.0</td>\n",
       "      <td>0.0</td>\n",
       "      <td>0.0</td>\n",
       "      <td>NaN</td>\n",
       "      <td>NaN</td>\n",
       "      <td>NaN</td>\n",
       "      <td>NaN</td>\n",
       "      <td>NaN</td>\n",
       "    </tr>\n",
       "    <tr>\n",
       "      <th>Andaman and Nicobar Islands</th>\n",
       "      <td>NaN</td>\n",
       "      <td>NaN</td>\n",
       "      <td>NaN</td>\n",
       "      <td>NaN</td>\n",
       "      <td>NaN</td>\n",
       "      <td>NaN</td>\n",
       "      <td>NaN</td>\n",
       "      <td>34.0</td>\n",
       "      <td>380581.0</td>\n",
       "      <td>237093.0</td>\n",
       "      <td>143488.0</td>\n",
       "      <td>876.0</td>\n",
       "    </tr>\n",
       "    <tr>\n",
       "      <th>Andhra Pradesh</th>\n",
       "      <td>2.0</td>\n",
       "      <td>193.0</td>\n",
       "      <td>6480.0</td>\n",
       "      <td>65.0</td>\n",
       "      <td>16658.0</td>\n",
       "      <td>0.0</td>\n",
       "      <td>0.0</td>\n",
       "      <td>10.0</td>\n",
       "      <td>49577103.0</td>\n",
       "      <td>34966693.0</td>\n",
       "      <td>14610410.0</td>\n",
       "      <td>993.0</td>\n",
       "    </tr>\n",
       "    <tr>\n",
       "      <th>Arunachal Pradesh</th>\n",
       "      <td>3.0</td>\n",
       "      <td>208.0</td>\n",
       "      <td>2136.0</td>\n",
       "      <td>10.0</td>\n",
       "      <td>268.0</td>\n",
       "      <td>0.0</td>\n",
       "      <td>0.0</td>\n",
       "      <td>26.0</td>\n",
       "      <td>1383727.0</td>\n",
       "      <td>1066358.0</td>\n",
       "      <td>317369.0</td>\n",
       "      <td>938.0</td>\n",
       "    </tr>\n",
       "  </tbody>\n",
       "</table>\n",
       "</div>"
      ],
      "text/plain": [
       "                              Sno  NumRuralHospitals_NHP18  \\\n",
       "All India                    37.0                  19810.0   \n",
       "Andaman & Nicobar Islands     1.0                     27.0   \n",
       "Andaman and Nicobar Islands   NaN                      NaN   \n",
       "Andhra Pradesh                2.0                    193.0   \n",
       "Arunachal Pradesh             3.0                    208.0   \n",
       "\n",
       "                             NumRuralBeds_NHP18  NumUrbanHospitals_NHP18  \\\n",
       "All India                              279588.0                   3772.0   \n",
       "Andaman & Nicobar Islands                 575.0                      3.0   \n",
       "Andaman and Nicobar Islands                 NaN                      NaN   \n",
       "Andhra Pradesh                           6480.0                     65.0   \n",
       "Arunachal Pradesh                        2136.0                     10.0   \n",
       "\n",
       "                             NumUrbanBeds_NHP18  Unnamed: 12  Unnamed: 13  \\\n",
       "All India                              431173.0          0.0          0.0   \n",
       "Andaman & Nicobar Islands                 500.0          0.0          0.0   \n",
       "Andaman and Nicobar Islands                 NaN          NaN          NaN   \n",
       "Andhra Pradesh                          16658.0          0.0          0.0   \n",
       "Arunachal Pradesh                         268.0          0.0          0.0   \n",
       "\n",
       "                              Sno  Population  Rural population  \\\n",
       "All India                     NaN         NaN               NaN   \n",
       "Andaman & Nicobar Islands     NaN         NaN               NaN   \n",
       "Andaman and Nicobar Islands  34.0    380581.0          237093.0   \n",
       "Andhra Pradesh               10.0  49577103.0        34966693.0   \n",
       "Arunachal Pradesh            26.0   1383727.0         1066358.0   \n",
       "\n",
       "                             Urban population  Gender Ratio  \n",
       "All India                                 NaN           NaN  \n",
       "Andaman & Nicobar Islands                 NaN           NaN  \n",
       "Andaman and Nicobar Islands          143488.0         876.0  \n",
       "Andhra Pradesh                     14610410.0         993.0  \n",
       "Arunachal Pradesh                    317369.0         938.0  "
      ]
     },
     "execution_count": 123,
     "metadata": {},
     "output_type": "execute_result"
    }
   ],
   "source": [
    "merging = pd.concat([HospitalBedsIndia_state,Population_india_census], axis = 1, sort = True)\n",
    "merging.head()"
   ]
  },
  {
   "cell_type": "markdown",
   "metadata": {},
   "source": [
    "I firmly believe in and trust the country and the world's\n",
    "healthcare experts to tackle the virus in the best way possible.\n",
    "There are plenty of analyzes, dashboards, observations, models, predictions provided by the group and we are\n",
    "very grateful to all the organizations that publicly collect and distribute data to promote these analyses. "
   ]
  },
  {
   "cell_type": "markdown",
   "metadata": {},
   "source": [
    "COVID-19 is still an uncertain contagious disease, meaning we can only get specific SEIR after the epidemic ends.\n",
    "The spreads of outbreaks are largely determined by the politics and social responsibility of each nation.\n",
    "Although data transparency within government is important, it is therefore our duty not to spread unverified news and remain calm in this situation. "
   ]
  },
  {
   "cell_type": "code",
   "execution_count": null,
   "metadata": {},
   "outputs": [],
   "source": []
  }
 ],
 "metadata": {
  "kernelspec": {
   "display_name": "Python 3",
   "language": "python",
   "name": "python3"
  },
  "language_info": {
   "codemirror_mode": {
    "name": "ipython",
    "version": 3
   },
   "file_extension": ".py",
   "mimetype": "text/x-python",
   "name": "python",
   "nbconvert_exporter": "python",
   "pygments_lexer": "ipython3",
   "version": "3.6.8"
  }
 },
 "nbformat": 4,
 "nbformat_minor": 2
}
